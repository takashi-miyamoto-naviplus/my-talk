{
 "cells": [
  {
   "cell_type": "markdown",
   "metadata": {},
   "source": [
    "# Chapter 8 階層モデル"
   ]
  },
  {
   "cell_type": "code",
   "execution_count": 1,
   "metadata": {
    "collapsed": false
   },
   "outputs": [
    {
     "name": "stderr",
     "output_type": "stream",
     "text": [
      "/Users/takashi_miyamoto/.pyenv/versions/anaconda3-2.1.0/lib/python3.4/site-packages/matplotlib/__init__.py:913: UserWarning: axes.color_cycle is deprecated and replaced with axes.prop_cycle; please use the latter.\n",
      "  warnings.warn(self.msg_depr % (key, alt_key))\n"
     ]
    }
   ],
   "source": [
    "import pandas as pd\n",
    "import numpy as np\n",
    "import pystan\n",
    "import matplotlib.pyplot as plt\n",
    "import seaborn as sns\n",
    "%matplotlib inline"
   ]
  },
  {
   "cell_type": "markdown",
   "metadata": {},
   "source": [
    "## 8.1 階層モデルの導入\n",
    "### 8.1.2 グループ差を考えない場合"
   ]
  },
  {
   "cell_type": "code",
   "execution_count": 2,
   "metadata": {
    "collapsed": false
   },
   "outputs": [
    {
     "data": {
      "image/png": "[encoded data removed]",
      "text/plain": [
       "<matplotlib.figure.Figure at 0x11a14c898>"
      ]
     },
     "metadata": {},
     "output_type": "display_data"
    }
   ],
   "source": [
    "df_1 = pd.read_csv('input/data-salary-2.txt')\n",
    "syms = ['bp', 'go', 'r^', 'cs', 'mD', 'yv']\n",
    "for i in range(1,5):\n",
    "    df = df_1[df_1['KID']==i]\n",
    "    plt.plot(df['X'], df['Y'], syms[i-1], label='KID='+str(i))\n",
    "plt.legend(loc='best')\n",
    "plt.show()"
   ]
  },
  {
   "cell_type": "code",
   "execution_count": 3,
   "metadata": {
    "collapsed": true
   },
   "outputs": [],
   "source": [
    "data_1 = df_1.to_dict('list')\n",
    "data_1['N'] = len(df_1)\n",
    "data_1['X_new'] = np.linspace(0, 30, 30)\n",
    "data_1['N_new'] = len(data_1['X_new'])"
   ]
  },
  {
   "cell_type": "code",
   "execution_count": 4,
   "metadata": {
    "collapsed": true
   },
   "outputs": [],
   "source": [
    "model_1 = \"\"\"\n",
    "data {\n",
    "  int N;\n",
    "  real X[N];\n",
    "  real Y[N];\n",
    "  int N_new;\n",
    "  real X_new[N_new];\n",
    "}\n",
    "\n",
    "parameters {\n",
    "  real a;\n",
    "  real b;\n",
    "  real<lower=0> s_Y;\n",
    "}\n",
    "\n",
    "model {\n",
    "  for (n in 1:N)\n",
    "    Y[n] ~ normal(a + b*X[n], s_Y);\n",
    "}\n",
    "\n",
    "generated quantities {\n",
    "  real y_new[N_new];\n",
    "  for (n in 1:N_new)\n",
    "    y_new[n] = normal_rng(a + b*X_new[n], s_Y);\n",
    "}\n",
    "\"\"\""
   ]
  },
  {
   "cell_type": "code",
   "execution_count": 5,
   "metadata": {
    "collapsed": false
   },
   "outputs": [
    {
     "name": "stderr",
     "output_type": "stream",
     "text": [
      "INFO:pystan:COMPILING THE C++ CODE FOR MODEL anon_model_ad9b58397a1eb9222b14ffdfb0f693e1 NOW.\n"
     ]
    }
   ],
   "source": [
    "fit_1 = pystan.stan(model_code=model_1, data=data_1, iter=1000, chains=4)\n",
    "#print(fit_1)"
   ]
  },
  {
   "cell_type": "code",
   "execution_count": 6,
   "metadata": {
    "collapsed": true
   },
   "outputs": [],
   "source": [
    "# 信頼区間を書く関数\n",
    "def plot_pred_range(fit, xs, ys_key, percentiles, alpha):\n",
    "    ys = (fit.extract(permuted=True))[ys_key].T\n",
    "    plt.fill_between( \\\n",
    "        xs, \\\n",
    "        [np.percentile(y, percentiles[0]) for y in ys], \\\n",
    "        [np.percentile(y, percentiles[1]) for y in ys], alpha=alpha)"
   ]
  },
  {
   "cell_type": "code",
   "execution_count": 7,
   "metadata": {
    "collapsed": false
   },
   "outputs": [],
   "source": [
    "a = np.average(fit_1.extract(permuted=True)['a'])\n",
    "b = np.average(fit_1.extract(permuted=True)['b'])"
   ]
  },
  {
   "cell_type": "markdown",
   "metadata": {},
   "source": [
    "50%予測区間と、回帰直線をつけてplot"
   ]
  },
  {
   "cell_type": "code",
   "execution_count": 8,
   "metadata": {
    "collapsed": false
   },
   "outputs": [
    {
     "data": {
      "image/png": "[encoded data removed]",
      "text/plain": [
       "<matplotlib.figure.Figure at 0x11e1f34a8>"
      ]
     },
     "metadata": {},
     "output_type": "display_data"
    }
   ],
   "source": [
    "for i in range(1,5):\n",
    "    d = df_1[df_1['KID']==i]\n",
    "    plt.plot(d['X'], d['Y'], syms[i-1], label=str(i))\n",
    "plt.legend(loc='best')\n",
    "plot_pred_range(fit_1, data_1['X_new'], 'y_new', (25, 75), 0.5)\n",
    "plt.plot(data_1['X_new'], a+b*data_1['X_new'], 'k-')\n",
    "plt.show()"
   ]
  },
  {
   "cell_type": "markdown",
   "metadata": {},
   "source": [
    "### 8.1.3 グループごとに切片と傾きを持つ場合"
   ]
  },
  {
   "cell_type": "code",
   "execution_count": 9,
   "metadata": {
    "collapsed": true
   },
   "outputs": [],
   "source": [
    "data_1a = df_1.to_dict('list')\n",
    "data_1a['N'] = len(df_1)\n",
    "data_1a['K'] = 4\n",
    "data_1a['X_new'] = np.linspace(0, 30, 30)\n",
    "data_1a['N_new'] = len(data_1a['X_new'])"
   ]
  },
  {
   "cell_type": "code",
   "execution_count": 10,
   "metadata": {
    "collapsed": true
   },
   "outputs": [],
   "source": [
    "model_1a = \"\"\"\n",
    "data {\n",
    "  int N;\n",
    "  int K;\n",
    "  real X[N];\n",
    "  real Y[N];\n",
    "  int<lower=1, upper=K> KID[N];\n",
    "  int N_new;\n",
    "  real X_new[N_new];\n",
    "}\n",
    "\n",
    "parameters {\n",
    "  real a[K];\n",
    "  real b[K];\n",
    "  real<lower=0> s_Y;\n",
    "}\n",
    "\n",
    "model {\n",
    "  for (n in 1:N)\n",
    "    Y[n] ~ normal(a[KID[n]] + b[KID[n]]*X[n], s_Y);\n",
    "}\n",
    "\n",
    "generated quantities {\n",
    "  real y_new[N_new,K];\n",
    "  for (k in 1:K) {\n",
    "    for (n in 1:N_new) {\n",
    "      y_new[n,k] = normal_rng(a[k] + b[k]*X_new[n], s_Y);\n",
    "    }\n",
    "  }\n",
    "}\n",
    "\"\"\""
   ]
  },
  {
   "cell_type": "code",
   "execution_count": 11,
   "metadata": {
    "collapsed": false
   },
   "outputs": [
    {
     "name": "stderr",
     "output_type": "stream",
     "text": [
      "INFO:pystan:COMPILING THE C++ CODE FOR MODEL anon_model_7473ce4185a3d6c186d043203055b86b NOW.\n"
     ]
    }
   ],
   "source": [
    "fit_1a = pystan.stan(model_code=model_1a, data=data_1a, iter=1000, chains=4)\n",
    "#print(fit_1a)"
   ]
  },
  {
   "cell_type": "markdown",
   "metadata": {},
   "source": [
    "会社ごとの50%予測区間と、回帰直線をつけてplot"
   ]
  },
  {
   "cell_type": "code",
   "execution_count": 12,
   "metadata": {
    "collapsed": false
   },
   "outputs": [],
   "source": [
    "a = [np.average(x) for x in fit_1a.extract(permuted=True)['a'].T]\n",
    "b = [np.average(x) for x in fit_1a.extract(permuted=True)['b'].T]\n",
    "clrs = ['b', 'g', 'r', 'c', 'm', 'y']"
   ]
  },
  {
   "cell_type": "code",
   "execution_count": 13,
   "metadata": {
    "collapsed": false
   },
   "outputs": [
    {
     "data": {
      "image/png": "[encoded data removed]",
      "text/plain": [
       "<matplotlib.figure.Figure at 0x11d9ab080>"
      ]
     },
     "metadata": {},
     "output_type": "display_data"
    }
   ],
   "source": [
    "for i in range(1,5):\n",
    "    d = df_1[df_1['KID']==i]\n",
    "    plt.plot(d['X'], d['Y'], syms[i-1], label=str(i))\n",
    "    plt.plot(data_1['X_new'], a[i-1]+b[i-1]*np.array(data_1['X_new']), clrs[i-1]+'-')\n",
    "    ys = (fit_1a.extract(permuted=True))['y_new'].T[i-1]\n",
    "    plt.fill_between( \\\n",
    "        data_1['X_new'], \\\n",
    "        [np.percentile(y, 25) for y in ys], \\\n",
    "        [np.percentile(y, 75) for y in ys], facecolor=clrs[i-1], alpha=0.15)\n",
    "plt.legend(loc='best')\n",
    "plt.show()"
   ]
  },
  {
   "cell_type": "markdown",
   "metadata": {},
   "source": [
    "### 8.1.4 階層モデル"
   ]
  },
  {
   "cell_type": "code",
   "execution_count": 14,
   "metadata": {
    "collapsed": true
   },
   "outputs": [],
   "source": [
    "data_1b = df_1.to_dict('list')\n",
    "data_1b['N'] = len(df_1)\n",
    "data_1b['K'] = 4\n",
    "data_1b['X_new'] = np.linspace(0, 30, 30)\n",
    "data_1b['N_new'] = len(data_1a['X_new'])"
   ]
  },
  {
   "cell_type": "code",
   "execution_count": 15,
   "metadata": {
    "collapsed": true
   },
   "outputs": [],
   "source": [
    "model_1b = \"\"\"\n",
    "data {\n",
    "  int N;\n",
    "  int K;\n",
    "  real X[N];\n",
    "  real Y[N];\n",
    "  int<lower=1, upper=K> KID[N];\n",
    "  int N_new;\n",
    "  real X_new[N_new];\n",
    "}\n",
    "\n",
    "parameters {\n",
    "  real a0;\n",
    "  real b0;\n",
    "  real ak[K];\n",
    "  real bk[K];\n",
    "  real<lower=0> s_a;\n",
    "  real<lower=0> s_b;\n",
    "  real<lower=0> s_Y;\n",
    "}\n",
    "\n",
    "transformed parameters {\n",
    "  real a[K];\n",
    "  real b[K];\n",
    "  for (k in 1:K) {\n",
    "    a[k] = a0 + ak[k];\n",
    "    b[k] = b0 + bk[k];\n",
    "  }\n",
    "}\n",
    "\n",
    "model {\n",
    "  for (k in 1:K) {\n",
    "    ak[k] ~ normal(0, s_a);\n",
    "    bk[k] ~ normal(0, s_b);\n",
    "  }\n",
    "\n",
    "  for (n in 1:N)\n",
    "    Y[n] ~ normal(a[KID[n]] + b[KID[n]]*X[n], s_Y);\n",
    "}\n",
    "\n",
    "generated quantities {\n",
    "  real y_new[N_new,K];\n",
    "  for (k in 1:K) {\n",
    "    for (n in 1:N_new) {\n",
    "      y_new[n,k] = normal_rng(a[k] + b[k]*X_new[n], s_Y);\n",
    "    }\n",
    "  }\n",
    "}\n",
    "\"\"\""
   ]
  },
  {
   "cell_type": "code",
   "execution_count": 16,
   "metadata": {
    "collapsed": false
   },
   "outputs": [
    {
     "name": "stderr",
     "output_type": "stream",
     "text": [
      "INFO:pystan:COMPILING THE C++ CODE FOR MODEL anon_model_99c9f4a31b6465f1b01b6d98fee3e1a8 NOW.\n"
     ]
    }
   ],
   "source": [
    "fit_1b = pystan.stan(model_code=model_1b, data=data_1b, iter=1000, chains=4)\n",
    "#print(fit_1b)"
   ]
  },
  {
   "cell_type": "code",
   "execution_count": 17,
   "metadata": {
    "collapsed": false
   },
   "outputs": [],
   "source": [
    "a = [np.average(x) for x in fit_1b.extract(permuted=True)['a'].T]\n",
    "b = [np.average(x) for x in fit_1b.extract(permuted=True)['b'].T]"
   ]
  },
  {
   "cell_type": "markdown",
   "metadata": {},
   "source": [
    "会社ごとの50%予測区間と、回帰直線をつけてplot"
   ]
  },
  {
   "cell_type": "code",
   "execution_count": 18,
   "metadata": {
    "collapsed": false
   },
   "outputs": [
    {
     "data": {
      "image/png": "[encoded data removed]",
      "text/plain": [
       "<matplotlib.figure.Figure at 0x11e97da20>"
      ]
     },
     "metadata": {},
     "output_type": "display_data"
    }
   ],
   "source": [
    "for i in range(1,5):\n",
    "    d = df_1[df_1['KID']==i]\n",
    "    plt.plot(d['X'], d['Y'], syms[i-1], label=str(i))\n",
    "    plt.plot(data_1['X_new'], a[i-1]+b[i-1]*np.array(data_1['X_new']), clrs[i-1]+'-')\n",
    "    ys = (fit_1b.extract(permuted=True))['y_new'].T[i-1]\n",
    "    plt.fill_between( \\\n",
    "        data_1['X_new'], \\\n",
    "        [np.percentile(y, 25) for y in ys], \\\n",
    "        [np.percentile(y, 75) for y in ys], facecolor=clrs[i-1], alpha=0.15)\n",
    "plt.legend(loc='best')\n",
    "plt.show()"
   ]
  },
  {
   "cell_type": "markdown",
   "metadata": {},
   "source": [
    "# 8.2 複数の階層を持つ階層モデル"
   ]
  },
  {
   "cell_type": "code",
   "execution_count": 19,
   "metadata": {
    "collapsed": false
   },
   "outputs": [
    {
     "data": {
      "image/png": "[encoded data removed]",
      "text/plain": [
       "<matplotlib.figure.Figure at 0x11e0d13c8>"
      ]
     },
     "metadata": {},
     "output_type": "display_data"
    }
   ],
   "source": [
    "syms = ['bp', 'go', 'r^', 'cs', 'mD', 'yv']\n",
    "df_2 = pd.read_csv('input/data-salary-3.txt')\n",
    "for i in range(1,4):\n",
    "    df = df_2[df_2['GID']==i]\n",
    "    plt.plot(df['X'], df['Y'], syms[i-1], label=str(i))\n",
    "plt.legend(loc='best')\n",
    "plt.show()"
   ]
  },
  {
   "cell_type": "code",
   "execution_count": 20,
   "metadata": {
    "collapsed": false
   },
   "outputs": [
    {
     "data": {
      "image/png": "[encoded data removed]",
      "text/plain": [
       "<matplotlib.figure.Figure at 0x11c62f320>"
      ]
     },
     "metadata": {},
     "output_type": "display_data"
    }
   ],
   "source": [
    "for i in range(1,4):\n",
    "    df0 = df_2[df_2['GID']==i]\n",
    "    a_acc = []\n",
    "    b_acc = []\n",
    "    for j in range(1, 31):\n",
    "        df = df0[df0['KID']==j]\n",
    "        if (len(df)):\n",
    "            p = np.polyfit(df['X'], df['Y'], 1)\n",
    "            a_acc.append(p[1])\n",
    "            b_acc.append(p[0])\n",
    "    plt.subplot(3, 2, i*2-1)\n",
    "    plt.hist(a_acc, bins=20, range=(0,800))\n",
    "    plt.title('a'+str(i))\n",
    "    plt.subplot(3, 2, i*2)\n",
    "    plt.hist(b_acc, bins=20, range=(0, 50))\n",
    "    plt.title('b'+str(i))\n",
    "plt.show()"
   ]
  },
  {
   "cell_type": "code",
   "execution_count": 21,
   "metadata": {
    "collapsed": false
   },
   "outputs": [],
   "source": [
    "data_2 = df_2.to_dict('list')\n",
    "data_2['N'] = len(df_2)\n",
    "data_2['G'] = np.max(df_2['GID'])\n",
    "data_2['K'] = np.max(df_2['KID'])\n",
    "d = dict()\n",
    "for kid,gid in zip(df_2['KID'], df_2['GID']):\n",
    "    d[kid] = gid\n",
    "data_2['K2G'] = [d[k] for k in sorted(list(d.keys()))] "
   ]
  },
  {
   "cell_type": "markdown",
   "metadata": {},
   "source": [
    "### モデル式の想像 --- その(1)"
   ]
  },
  {
   "cell_type": "code",
   "execution_count": 22,
   "metadata": {
    "collapsed": true
   },
   "outputs": [],
   "source": [
    "model_2 = \"\"\"\n",
    "data {\n",
    "  int N;\n",
    "  int G;\n",
    "  int K;\n",
    "  real X[N];\n",
    "  real Y[N];\n",
    "  int<lower=1, upper=K> KID[N];\n",
    "  int<lower=1, upper=G> K2G[K];\n",
    "}\n",
    "\n",
    "parameters {\n",
    "  real a0;\n",
    "  real b0;\n",
    "  real a1[G];\n",
    "  real b1[G];\n",
    "  real a[K];\n",
    "  real b[K];\n",
    "  real<lower=0> s_ag;\n",
    "  real<lower=0> s_bg;\n",
    "  real<lower=0> s_a;\n",
    "  real<lower=0> s_b;\n",
    "  real<lower=0> s_Y;\n",
    "}\n",
    "\n",
    "model {\n",
    "  for (g in 1:G) {\n",
    "    a1[g] ~ normal(a0, s_ag);\n",
    "    b1[g] ~ normal(b0, s_bg);\n",
    "  }\n",
    "\n",
    "  for (k in 1:K) {\n",
    "    a[k] ~ normal(a1[K2G[k]], s_a);\n",
    "    b[k] ~ normal(b1[K2G[k]], s_b);\n",
    "  }\n",
    "\n",
    "  for (n in 1:N)\n",
    "    Y[n] ~ normal(a[KID[n]] + b[KID[n]]*X[n], s_Y);\n",
    "}\n",
    "\"\"\""
   ]
  },
  {
   "cell_type": "code",
   "execution_count": 23,
   "metadata": {
    "collapsed": false
   },
   "outputs": [
    {
     "name": "stderr",
     "output_type": "stream",
     "text": [
      "INFO:pystan:COMPILING THE C++ CODE FOR MODEL anon_model_080869940618b3b78b4f05770d8f1d37 NOW.\n"
     ]
    }
   ],
   "source": [
    "fit_2 = pystan.stan(model_code=model_2, data=data_2, iter=1000, chains=4)\n",
    "#print(fit_2)"
   ]
  },
  {
   "cell_type": "code",
   "execution_count": 24,
   "metadata": {
    "collapsed": false
   },
   "outputs": [],
   "source": [
    "#fit_2.plot(['a0', 'a1', 'b0', 'b1'])"
   ]
  },
  {
   "cell_type": "code",
   "execution_count": 25,
   "metadata": {
    "collapsed": false
   },
   "outputs": [
    {
     "name": "stderr",
     "output_type": "stream",
     "text": [
      "/Users/takashi_miyamoto/.pyenv/versions/anaconda3-2.1.0/lib/python3.4/site-packages/seaborn/categorical.py:1791: UserWarning: The violinplot API has been changed. Attempting to adjust your arguments for the new API (which might not work). Please update your code. See the version 0.6 release notes for more info.\n",
      "  warnings.warn(msg, UserWarning)\n",
      "/Users/takashi_miyamoto/.pyenv/versions/anaconda3-2.1.0/lib/python3.4/site-packages/matplotlib/__init__.py:938: UserWarning: axes.color_cycle is deprecated and replaced with axes.prop_cycle; please use the latter.\n",
      "  warnings.warn(self.msg_depr % (key, alt_key))\n"
     ]
    },
    {
     "data": {
      "image/png": "[encoded data removed]",
      "text/plain": [
       "<matplotlib.figure.Figure at 0x11cd31f28>"
      ]
     },
     "metadata": {},
     "output_type": "display_data"
    },
    {
     "data": {
      "image/png": "[encoded data removed]",
      "text/plain": [
       "<matplotlib.figure.Figure at 0x11cd31710>"
      ]
     },
     "metadata": {},
     "output_type": "display_data"
    }
   ],
   "source": [
    "df_2fa = pd.DataFrame(fit_2.extract(permuted=True)['a1'])\n",
    "df_2fa.columns = ['a1:G=1', 'a1:G=2', 'a1:G=3']\n",
    "sns.violinplot(df_2fa)\n",
    "plt.show()\n",
    "df_2fb = pd.DataFrame(fit_2.extract(permuted=True)['b1'])\n",
    "df_2fb.columns = ['b1:G=1', 'b1:G=2', 'b1:G=3']\n",
    "sns.violinplot(df_2fb)\n",
    "plt.show()"
   ]
  },
  {
   "cell_type": "markdown",
   "metadata": {},
   "source": [
    "### モデル式の想像 --- その(2)"
   ]
  },
  {
   "cell_type": "code",
   "execution_count": 26,
   "metadata": {
    "collapsed": true
   },
   "outputs": [],
   "source": [
    "model_2a = \"\"\"\n",
    "data {\n",
    "  int N;\n",
    "  int G;\n",
    "  int K;\n",
    "  real X[N];\n",
    "  real Y[N];\n",
    "  int<lower=1, upper=K> KID[N];\n",
    "  int<lower=1, upper=G> K2G[K];\n",
    "  int<lower=1, upper=G> GID[N];\n",
    "}\n",
    "\n",
    "parameters {\n",
    "  real a0;\n",
    "  real b0;\n",
    "  real a1[G];\n",
    "  real b1[G];\n",
    "  real a[K];\n",
    "  real b[K];\n",
    "  real<lower=0> s_ag;\n",
    "  real<lower=0> s_bg;\n",
    "  real<lower=0> s_a[G];\n",
    "  real<lower=0> s_b[G];\n",
    "  real<lower=0> s_Y[G];\n",
    "}\n",
    "\n",
    "model {\n",
    "  for (g in 1:G) {\n",
    "    a1[g] ~ normal(a0, s_ag);\n",
    "    b1[g] ~ normal(b0, s_bg);\n",
    "  }\n",
    "\n",
    "  for (k in 1:K) {\n",
    "    a[k] ~ normal(a1[K2G[k]], s_a[K2G[k]]);\n",
    "    b[k] ~ normal(b1[K2G[k]], s_b[K2G[k]]);\n",
    "  }\n",
    "\n",
    "  for (n in 1:N)\n",
    "    Y[n] ~ normal(a[KID[n]] + b[KID[n]]*X[n], s_Y[GID[n]]);\n",
    "}\n",
    "\"\"\""
   ]
  },
  {
   "cell_type": "code",
   "execution_count": 27,
   "metadata": {
    "collapsed": false
   },
   "outputs": [
    {
     "name": "stderr",
     "output_type": "stream",
     "text": [
      "INFO:pystan:COMPILING THE C++ CODE FOR MODEL anon_model_cf8022fc0bb688cb7aee046cab6ea3c9 NOW.\n"
     ]
    }
   ],
   "source": [
    "fit_2a = pystan.stan(model_code=model_2a, data=data_2, iter=2000, chains=4)\n",
    "#print(fit_2a)"
   ]
  },
  {
   "cell_type": "code",
   "execution_count": 28,
   "metadata": {
    "collapsed": false
   },
   "outputs": [
    {
     "name": "stderr",
     "output_type": "stream",
     "text": [
      "/Users/takashi_miyamoto/.pyenv/versions/anaconda3-2.1.0/lib/python3.4/site-packages/seaborn/categorical.py:1791: UserWarning: The violinplot API has been changed. Attempting to adjust your arguments for the new API (which might not work). Please update your code. See the version 0.6 release notes for more info.\n",
      "  warnings.warn(msg, UserWarning)\n",
      "/Users/takashi_miyamoto/.pyenv/versions/anaconda3-2.1.0/lib/python3.4/site-packages/matplotlib/__init__.py:938: UserWarning: axes.color_cycle is deprecated and replaced with axes.prop_cycle; please use the latter.\n",
      "  warnings.warn(self.msg_depr % (key, alt_key))\n"
     ]
    },
    {
     "data": {
      "image/png": "[encoded data removed]",
      "text/plain": [
       "<matplotlib.figure.Figure at 0x11c683160>"
      ]
     },
     "metadata": {},
     "output_type": "display_data"
    },
    {
     "data": {
      "image/png": "[encoded data removed]",
      "text/plain": [
       "<matplotlib.figure.Figure at 0x11ec685f8>"
      ]
     },
     "metadata": {},
     "output_type": "display_data"
    }
   ],
   "source": [
    "df_2fa = pd.DataFrame(fit_2a.extract(permuted=True)['a1'])\n",
    "df_2fa.columns = ['a1:G=1', 'a1:G=2', 'a1:G=3']\n",
    "sns.violinplot(df_2fa)\n",
    "plt.show()\n",
    "df_2fb = pd.DataFrame(fit_2a.extract(permuted=True)['b1'])\n",
    "df_2fb.columns = ['b1:G=1', 'b1:G=2', 'b1:G=3']\n",
    "sns.violinplot(df_2fb)\n",
    "plt.show()"
   ]
  },
  {
   "cell_type": "markdown",
   "metadata": {
    "collapsed": true
   },
   "source": [
    "## 8.3 非線形モデルの階層モデル"
   ]
  },
  {
   "cell_type": "code",
   "execution_count": 29,
   "metadata": {
    "collapsed": false
   },
   "outputs": [
    {
     "data": {
      "text/html": [
       "<div>\n",
       "<table border=\"1\" class=\"dataframe\">\n",
       "  <thead>\n",
       "    <tr style=\"text-align: right;\">\n",
       "      <th></th>\n",
       "      <th>PersonID</th>\n",
       "      <th>Time1</th>\n",
       "      <th>Time2</th>\n",
       "      <th>Time4</th>\n",
       "      <th>Time8</th>\n",
       "      <th>Time12</th>\n",
       "      <th>Time24</th>\n",
       "    </tr>\n",
       "  </thead>\n",
       "  <tbody>\n",
       "    <tr>\n",
       "      <th>0</th>\n",
       "      <td>1</td>\n",
       "      <td>2.4</td>\n",
       "      <td>5.0</td>\n",
       "      <td>7.5</td>\n",
       "      <td>11.9</td>\n",
       "      <td>12.5</td>\n",
       "      <td>12.7</td>\n",
       "    </tr>\n",
       "    <tr>\n",
       "      <th>1</th>\n",
       "      <td>2</td>\n",
       "      <td>1.4</td>\n",
       "      <td>3.9</td>\n",
       "      <td>4.4</td>\n",
       "      <td>7.7</td>\n",
       "      <td>6.4</td>\n",
       "      <td>8.3</td>\n",
       "    </tr>\n",
       "    <tr>\n",
       "      <th>2</th>\n",
       "      <td>3</td>\n",
       "      <td>5.2</td>\n",
       "      <td>9.4</td>\n",
       "      <td>19.4</td>\n",
       "      <td>20.2</td>\n",
       "      <td>22.7</td>\n",
       "      <td>24.9</td>\n",
       "    </tr>\n",
       "    <tr>\n",
       "      <th>3</th>\n",
       "      <td>4</td>\n",
       "      <td>6.7</td>\n",
       "      <td>12.6</td>\n",
       "      <td>19.1</td>\n",
       "      <td>23.4</td>\n",
       "      <td>25.8</td>\n",
       "      <td>26.1</td>\n",
       "    </tr>\n",
       "    <tr>\n",
       "      <th>4</th>\n",
       "      <td>5</td>\n",
       "      <td>0.3</td>\n",
       "      <td>4.7</td>\n",
       "      <td>7.0</td>\n",
       "      <td>10.2</td>\n",
       "      <td>12.9</td>\n",
       "      <td>14.8</td>\n",
       "    </tr>\n",
       "    <tr>\n",
       "      <th>5</th>\n",
       "      <td>6</td>\n",
       "      <td>6.3</td>\n",
       "      <td>3.8</td>\n",
       "      <td>11.8</td>\n",
       "      <td>9.2</td>\n",
       "      <td>13.9</td>\n",
       "      <td>18.2</td>\n",
       "    </tr>\n",
       "    <tr>\n",
       "      <th>6</th>\n",
       "      <td>7</td>\n",
       "      <td>3.0</td>\n",
       "      <td>4.2</td>\n",
       "      <td>8.8</td>\n",
       "      <td>15.4</td>\n",
       "      <td>10.7</td>\n",
       "      <td>16.2</td>\n",
       "    </tr>\n",
       "    <tr>\n",
       "      <th>7</th>\n",
       "      <td>8</td>\n",
       "      <td>6.2</td>\n",
       "      <td>6.8</td>\n",
       "      <td>9.4</td>\n",
       "      <td>11.3</td>\n",
       "      <td>12.4</td>\n",
       "      <td>14.7</td>\n",
       "    </tr>\n",
       "    <tr>\n",
       "      <th>8</th>\n",
       "      <td>9</td>\n",
       "      <td>14.4</td>\n",
       "      <td>17.0</td>\n",
       "      <td>22.7</td>\n",
       "      <td>29.8</td>\n",
       "      <td>33.0</td>\n",
       "      <td>32.2</td>\n",
       "    </tr>\n",
       "    <tr>\n",
       "      <th>9</th>\n",
       "      <td>10</td>\n",
       "      <td>7.7</td>\n",
       "      <td>10.0</td>\n",
       "      <td>14.8</td>\n",
       "      <td>15.3</td>\n",
       "      <td>18.0</td>\n",
       "      <td>18.7</td>\n",
       "    </tr>\n",
       "    <tr>\n",
       "      <th>10</th>\n",
       "      <td>11</td>\n",
       "      <td>8.8</td>\n",
       "      <td>11.3</td>\n",
       "      <td>13.3</td>\n",
       "      <td>19.2</td>\n",
       "      <td>17.4</td>\n",
       "      <td>21.8</td>\n",
       "    </tr>\n",
       "    <tr>\n",
       "      <th>11</th>\n",
       "      <td>12</td>\n",
       "      <td>6.8</td>\n",
       "      <td>12.6</td>\n",
       "      <td>13.4</td>\n",
       "      <td>14.9</td>\n",
       "      <td>16.8</td>\n",
       "      <td>16.0</td>\n",
       "    </tr>\n",
       "    <tr>\n",
       "      <th>12</th>\n",
       "      <td>13</td>\n",
       "      <td>0.7</td>\n",
       "      <td>4.6</td>\n",
       "      <td>5.1</td>\n",
       "      <td>9.9</td>\n",
       "      <td>11.4</td>\n",
       "      <td>11.2</td>\n",
       "    </tr>\n",
       "    <tr>\n",
       "      <th>13</th>\n",
       "      <td>14</td>\n",
       "      <td>5.8</td>\n",
       "      <td>9.4</td>\n",
       "      <td>14.3</td>\n",
       "      <td>23.1</td>\n",
       "      <td>22.9</td>\n",
       "      <td>25.2</td>\n",
       "    </tr>\n",
       "    <tr>\n",
       "      <th>14</th>\n",
       "      <td>15</td>\n",
       "      <td>1.8</td>\n",
       "      <td>7.9</td>\n",
       "      <td>13.2</td>\n",
       "      <td>15.6</td>\n",
       "      <td>16.5</td>\n",
       "      <td>15.9</td>\n",
       "    </tr>\n",
       "    <tr>\n",
       "      <th>15</th>\n",
       "      <td>16</td>\n",
       "      <td>14.3</td>\n",
       "      <td>18.7</td>\n",
       "      <td>29.3</td>\n",
       "      <td>31.9</td>\n",
       "      <td>31.9</td>\n",
       "      <td>30.6</td>\n",
       "    </tr>\n",
       "  </tbody>\n",
       "</table>\n",
       "</div>"
      ],
      "text/plain": [
       "    PersonID  Time1  Time2  Time4  Time8  Time12  Time24\n",
       "0          1    2.4    5.0    7.5   11.9    12.5    12.7\n",
       "1          2    1.4    3.9    4.4    7.7     6.4     8.3\n",
       "2          3    5.2    9.4   19.4   20.2    22.7    24.9\n",
       "3          4    6.7   12.6   19.1   23.4    25.8    26.1\n",
       "4          5    0.3    4.7    7.0   10.2    12.9    14.8\n",
       "5          6    6.3    3.8   11.8    9.2    13.9    18.2\n",
       "6          7    3.0    4.2    8.8   15.4    10.7    16.2\n",
       "7          8    6.2    6.8    9.4   11.3    12.4    14.7\n",
       "8          9   14.4   17.0   22.7   29.8    33.0    32.2\n",
       "9         10    7.7   10.0   14.8   15.3    18.0    18.7\n",
       "10        11    8.8   11.3   13.3   19.2    17.4    21.8\n",
       "11        12    6.8   12.6   13.4   14.9    16.8    16.0\n",
       "12        13    0.7    4.6    5.1    9.9    11.4    11.2\n",
       "13        14    5.8    9.4   14.3   23.1    22.9    25.2\n",
       "14        15    1.8    7.9   13.2   15.6    16.5    15.9\n",
       "15        16   14.3   18.7   29.3   31.9    31.9    30.6"
      ]
     },
     "execution_count": 29,
     "metadata": {},
     "output_type": "execute_result"
    }
   ],
   "source": [
    "df_3 = pd.read_csv('input/data-conc-2.txt')\n",
    "df_3"
   ]
  },
  {
   "cell_type": "code",
   "execution_count": 30,
   "metadata": {
    "collapsed": false
   },
   "outputs": [],
   "source": [
    "times = [1,2,4,8,12,24]\n",
    "cols = ['Time'+str(time) for time in times]\n",
    "ts = np.linspace(0, 24, 60)\n",
    "data_3 = {'N':len(df_3), 'T':len(times), 'Time':times, 'T_new':len(ts), 'Time_new':ts}\n",
    "data_3['Y'] = np.asarray([list(df_3[col]) for col in cols]).T.tolist()"
   ]
  },
  {
   "cell_type": "code",
   "execution_count": 31,
   "metadata": {
    "collapsed": false
   },
   "outputs": [
    {
     "data": {
      "image/png": "[encoded data removed]",
      "text/plain": [
       "<matplotlib.figure.Figure at 0x11def9710>"
      ]
     },
     "metadata": {},
     "output_type": "display_data"
    },
    {
     "data": {
      "image/png": "[encoded data removed]",
      "text/plain": [
       "<matplotlib.figure.Figure at 0x11ff4b8d0>"
      ]
     },
     "metadata": {},
     "output_type": "display_data"
    }
   ],
   "source": [
    "f, axarr = plt.subplots(4, 4, figsize=(16, 12))\n",
    "for i in range(0, 16):\n",
    "    axarr[i//4, i%4].plot(times, data_3['Y'][i], 'o-')\n",
    "    axarr[i//4, i%4].set_xlim((0, 24))\n",
    "    axarr[i//4, i%4].set_ylim((0, 40))\n",
    "plt.show()\n",
    "from scipy import stats\n",
    "plt.hist(df_3['Time24'], bins=20, range=(0,40))\n",
    "density = stats.kde.gaussian_kde(df_3['Time24'])\n",
    "x = np.linspace(0., 40, 40)\n",
    "plt.plot(x, density(x)*32)\n",
    "plt.show()"
   ]
  },
  {
   "cell_type": "code",
   "execution_count": 32,
   "metadata": {
    "collapsed": true
   },
   "outputs": [],
   "source": [
    "model_3 = \"\"\"\n",
    "data {\n",
    "  int N;\n",
    "  int T;\n",
    "  real Time[T];\n",
    "  real Y[N,T];\n",
    "  int T_new;\n",
    "  real Time_new[T_new];\n",
    "}\n",
    "\n",
    "parameters {\n",
    "  real a0;\n",
    "  real b0;\n",
    "  real log_a[N];\n",
    "  real log_b[N];\n",
    "  real<lower=0> s_a;\n",
    "  real<lower=0> s_b;\n",
    "  real<lower=0> s_Y;\n",
    "}\n",
    "\n",
    "transformed parameters {\n",
    "  real a[N];\n",
    "  real b[N];\n",
    "  for (n in 1:N) {\n",
    "    a[n] = exp(log_a[n]);\n",
    "    b[n] = exp(log_b[n]);\n",
    "  }\n",
    "}\n",
    "\n",
    "model {\n",
    "  for (n in 1:N) {\n",
    "    log_a[n] ~ normal(a0, s_a);\n",
    "    log_b[n] ~ normal(b0, s_b);\n",
    "  }\n",
    "  for (n in 1:N)\n",
    "    for (t in 1:T)\n",
    "      Y[n,t] ~ normal(a[n]*(1 - exp(-b[n]*Time[t])), s_Y);\n",
    "}\n",
    "\n",
    "generated quantities {\n",
    "  real y_new[N,T_new];\n",
    "  for (n in 1:N)\n",
    "    for (t in 1:T_new)\n",
    "      y_new[n,t] = normal_rng(a[n]*(1 - exp(-b[n]*Time_new[t])), s_Y);\n",
    "}\n",
    "\"\"\""
   ]
  },
  {
   "cell_type": "code",
   "execution_count": 33,
   "metadata": {
    "collapsed": false
   },
   "outputs": [
    {
     "name": "stderr",
     "output_type": "stream",
     "text": [
      "INFO:pystan:COMPILING THE C++ CODE FOR MODEL anon_model_3ffbbbe2f40607added0626b3d49b1a5 NOW.\n"
     ]
    }
   ],
   "source": [
    "fit_3 = pystan.stan(model_code=model_3, data=data_3, iter=1000, chains=4)\n",
    "#print(fit_3)"
   ]
  },
  {
   "cell_type": "code",
   "execution_count": 34,
   "metadata": {
    "collapsed": false
   },
   "outputs": [
    {
     "data": {
      "image/png": "[encoded data removed]",
      "text/plain": [
       "<matplotlib.figure.Figure at 0x123df3908>"
      ]
     },
     "metadata": {},
     "output_type": "display_data"
    }
   ],
   "source": [
    "yt = fit_3.extract(permuted=True)['y_new'].transpose(1,2,0)\n",
    "f, axarr = plt.subplots(4, 4, figsize=(16, 12))\n",
    "for i in range(0, 16):\n",
    "    yti = yt[i]\n",
    "    yli = [np.percentile(y, 2.5) for y in yti]\n",
    "    yhi = [np.percentile(y, 97.5) for y in yti]\n",
    "    axarr[i//4, i%4].plot(times, data_3['Y'][i], 'o-')\n",
    "    axarr[i//4, i%4].fill_between(data_3['Time_new'], yli, yhi, alpha=0.5)\n",
    "    axarr[i//4, i%4].set_xlim((0, 24))\n",
    "    axarr[i//4, i%4].set_ylim((0, 40))\n",
    "plt.show()"
   ]
  },
  {
   "cell_type": "markdown",
   "metadata": {},
   "source": [
    "## 8.4 ロジスチック回帰の階層モデル"
   ]
  },
  {
   "cell_type": "code",
   "execution_count": 35,
   "metadata": {
    "collapsed": false
   },
   "outputs": [
    {
     "name": "stdout",
     "output_type": "stream",
     "text": [
      "(50, 3)\n"
     ]
    },
    {
     "data": {
      "text/html": [
       "<div>\n",
       "<table border=\"1\" class=\"dataframe\">\n",
       "  <thead>\n",
       "    <tr style=\"text-align: right;\">\n",
       "      <th></th>\n",
       "      <th>PersonID</th>\n",
       "      <th>A</th>\n",
       "      <th>Score</th>\n",
       "    </tr>\n",
       "  </thead>\n",
       "  <tbody>\n",
       "    <tr>\n",
       "      <th>0</th>\n",
       "      <td>1</td>\n",
       "      <td>0</td>\n",
       "      <td>69</td>\n",
       "    </tr>\n",
       "    <tr>\n",
       "      <th>1</th>\n",
       "      <td>2</td>\n",
       "      <td>1</td>\n",
       "      <td>145</td>\n",
       "    </tr>\n",
       "    <tr>\n",
       "      <th>2</th>\n",
       "      <td>3</td>\n",
       "      <td>0</td>\n",
       "      <td>125</td>\n",
       "    </tr>\n",
       "    <tr>\n",
       "      <th>3</th>\n",
       "      <td>4</td>\n",
       "      <td>1</td>\n",
       "      <td>86</td>\n",
       "    </tr>\n",
       "    <tr>\n",
       "      <th>4</th>\n",
       "      <td>5</td>\n",
       "      <td>1</td>\n",
       "      <td>158</td>\n",
       "    </tr>\n",
       "  </tbody>\n",
       "</table>\n",
       "</div>"
      ],
      "text/plain": [
       "   PersonID  A  Score\n",
       "0         1  0     69\n",
       "1         2  1    145\n",
       "2         3  0    125\n",
       "3         4  1     86\n",
       "4         5  1    158"
      ]
     },
     "execution_count": 35,
     "metadata": {},
     "output_type": "execute_result"
    }
   ],
   "source": [
    "df_4_1 = pd.read_csv('input/data-attendance-4-1.txt')\n",
    "df_4_2 = pd.read_csv('input/data-attendance-4-2.txt')\n",
    "print(df_4_1.shape)\n",
    "df_4_1.head()"
   ]
  },
  {
   "cell_type": "code",
   "execution_count": 36,
   "metadata": {
    "collapsed": false
   },
   "outputs": [
    {
     "name": "stdout",
     "output_type": "stream",
     "text": [
      "(2396, 4)\n"
     ]
    },
    {
     "data": {
      "text/html": [
       "<div>\n",
       "<table border=\"1\" class=\"dataframe\">\n",
       "  <thead>\n",
       "    <tr style=\"text-align: right;\">\n",
       "      <th></th>\n",
       "      <th>PersonID</th>\n",
       "      <th>CourseID</th>\n",
       "      <th>Weather</th>\n",
       "      <th>Y</th>\n",
       "    </tr>\n",
       "  </thead>\n",
       "  <tbody>\n",
       "    <tr>\n",
       "      <th>0</th>\n",
       "      <td>1</td>\n",
       "      <td>3</td>\n",
       "      <td>B</td>\n",
       "      <td>1</td>\n",
       "    </tr>\n",
       "    <tr>\n",
       "      <th>1</th>\n",
       "      <td>1</td>\n",
       "      <td>9</td>\n",
       "      <td>A</td>\n",
       "      <td>1</td>\n",
       "    </tr>\n",
       "    <tr>\n",
       "      <th>2</th>\n",
       "      <td>1</td>\n",
       "      <td>1</td>\n",
       "      <td>C</td>\n",
       "      <td>1</td>\n",
       "    </tr>\n",
       "    <tr>\n",
       "      <th>3</th>\n",
       "      <td>1</td>\n",
       "      <td>9</td>\n",
       "      <td>A</td>\n",
       "      <td>1</td>\n",
       "    </tr>\n",
       "    <tr>\n",
       "      <th>4</th>\n",
       "      <td>1</td>\n",
       "      <td>7</td>\n",
       "      <td>B</td>\n",
       "      <td>1</td>\n",
       "    </tr>\n",
       "  </tbody>\n",
       "</table>\n",
       "</div>"
      ],
      "text/plain": [
       "   PersonID  CourseID Weather  Y\n",
       "0         1         3       B  1\n",
       "1         1         9       A  1\n",
       "2         1         1       C  1\n",
       "3         1         9       A  1\n",
       "4         1         7       B  1"
      ]
     },
     "execution_count": 36,
     "metadata": {},
     "output_type": "execute_result"
    }
   ],
   "source": [
    "print(df_4_2.shape)\n",
    "df_4_2.head()"
   ]
  },
  {
   "cell_type": "markdown",
   "metadata": {
    "collapsed": true
   },
   "source": [
    "### 練習問題 (4)"
   ]
  },
  {
   "cell_type": "code",
   "execution_count": 37,
   "metadata": {
    "collapsed": false
   },
   "outputs": [
    {
     "data": {
      "image/png": "[encoded data removed]",
      "text/plain": [
       "<matplotlib.figure.Figure at 0x11cb70550>"
      ]
     },
     "metadata": {},
     "output_type": "display_data"
    }
   ],
   "source": [
    "acc = []\n",
    "for pid in range(1, 51):\n",
    "    df = df_4_2[df_4_2['PersonID']==pid]\n",
    "    r = len(df[df['Y']==1])/len(df)\n",
    "    acc.append(r)\n",
    "plt.hist(acc, bins=20, range=(0,1))\n",
    "plt.xlabel('attendance ratio by student')\n",
    "plt.show()"
   ]
  },
  {
   "cell_type": "code",
   "execution_count": 38,
   "metadata": {
    "collapsed": false
   },
   "outputs": [
    {
     "data": {
      "image/png": "[encoded data removed]",
      "text/plain": [
       "<matplotlib.figure.Figure at 0x1296bd7b8>"
      ]
     },
     "metadata": {},
     "output_type": "display_data"
    }
   ],
   "source": [
    "acc = []\n",
    "for cid in range(1, 11):\n",
    "    df = df_4_2[df_4_2['CourseID']==cid]\n",
    "    r = len(df[df['Y']==1])/len(df)\n",
    "    acc.append(r)\n",
    "plt.hist(acc, bins=20, range=(0,1))\n",
    "plt.xlabel('attendance ratio by cource')\n",
    "plt.show()"
   ]
  },
  {
   "cell_type": "code",
   "execution_count": 39,
   "metadata": {
    "collapsed": false
   },
   "outputs": [],
   "source": [
    "data_4_1 = df_4_1.to_dict('list')\n",
    "data_4_2 = df_4_2.to_dict('list')\n",
    "conv = {'A':0, 'B':0.2, 'C':1}\n",
    "data_4 = {'N':len(df_4_1), 'C':10, 'I':len(df_4_2), 'A':data_4_1['A'], \\\n",
    "          'Score':[x/200 for x in data_4_1['Score']], 'PID':data_4_2['PersonID'], \\\n",
    "          'CID':data_4_2['CourseID'], 'W':[conv[w] for w in data_4_2['Weather']], \\\n",
    "          'Y':data_4_2['Y'] }              "
   ]
  },
  {
   "cell_type": "code",
   "execution_count": 40,
   "metadata": {
    "collapsed": true
   },
   "outputs": [],
   "source": [
    "model_4 = \"\"\"\n",
    "data {\n",
    "  int N;\n",
    "  int C;\n",
    "  int I;\n",
    "  int<lower=0, upper=1> A[N];\n",
    "  real<lower=0, upper=1> Score[N];\n",
    "  int<lower=1, upper=N> PID[I];\n",
    "  int<lower=1, upper=C> CID[I];\n",
    "  real<lower=0, upper=1> W[I];\n",
    "  int<lower=0, upper=1> Y[I];\n",
    "}\n",
    "\n",
    "parameters {\n",
    "  real b[4];\n",
    "  real b_P[N];\n",
    "  real b_C[C];\n",
    "  real<lower=0> s_P;\n",
    "  real<lower=0> s_C;\n",
    "}\n",
    "\n",
    "transformed parameters {\n",
    "  real x_P[N];\n",
    "  real x_C[C];\n",
    "  real x_J[I];\n",
    "  real x[I];\n",
    "  real q[I];\n",
    "  for (n in 1:N)\n",
    "    x_P[n] = b[2]*A[n] + b[3]*Score[n] + b_P[n];\n",
    "  for (c in 1:C)\n",
    "    x_C[c] = b_C[c];\n",
    "  for (i in 1:I) {\n",
    "    x_J[i] = b[4]*W[i];\n",
    "    x[i] = b[1] + x_P[PID[i]] + x_C[CID[i]] + x_J[i];\n",
    "    q[i] = inv_logit(x[i]);\n",
    "  }\n",
    "}\n",
    "\n",
    "model {\n",
    "  for (n in 1:N)\n",
    "    b_P[n] ~ normal(0, s_P);\n",
    "  for (c in 1:C)\n",
    "    b_C[c] ~ normal(0, s_C);\n",
    "  for (i in 1:I)\n",
    "    Y[i] ~ bernoulli(q[i]);\n",
    "}\n",
    "\"\"\""
   ]
  },
  {
   "cell_type": "code",
   "execution_count": 41,
   "metadata": {
    "collapsed": false
   },
   "outputs": [
    {
     "name": "stderr",
     "output_type": "stream",
     "text": [
      "INFO:pystan:COMPILING THE C++ CODE FOR MODEL anon_model_da44ed33feae9ca4787e450f0578f69b NOW.\n"
     ]
    }
   ],
   "source": [
    "fit_4 = pystan.stan(model_code=model_4, data=data_4, iter=1000, chains=4)\n",
    "#print(fit_4)"
   ]
  },
  {
   "cell_type": "code",
   "execution_count": 42,
   "metadata": {
    "collapsed": false
   },
   "outputs": [
    {
     "data": {
      "text/html": [
       "<div>\n",
       "<table border=\"1\" class=\"dataframe\">\n",
       "  <thead>\n",
       "    <tr style=\"text-align: right;\">\n",
       "      <th></th>\n",
       "      <th>b1</th>\n",
       "      <th>b2</th>\n",
       "      <th>b3</th>\n",
       "      <th>b4</th>\n",
       "      <th>sP</th>\n",
       "      <th>sC</th>\n",
       "    </tr>\n",
       "  </thead>\n",
       "  <tbody>\n",
       "    <tr>\n",
       "      <th>0</th>\n",
       "      <td>0.227702</td>\n",
       "      <td>-0.670249</td>\n",
       "      <td>2.470355</td>\n",
       "      <td>-0.827790</td>\n",
       "      <td>0.464942</td>\n",
       "      <td>1.065474</td>\n",
       "    </tr>\n",
       "    <tr>\n",
       "      <th>1</th>\n",
       "      <td>0.319521</td>\n",
       "      <td>-1.037850</td>\n",
       "      <td>3.327787</td>\n",
       "      <td>-0.687461</td>\n",
       "      <td>0.436466</td>\n",
       "      <td>1.822241</td>\n",
       "    </tr>\n",
       "    <tr>\n",
       "      <th>2</th>\n",
       "      <td>0.723291</td>\n",
       "      <td>-0.898543</td>\n",
       "      <td>1.300734</td>\n",
       "      <td>-0.502775</td>\n",
       "      <td>0.113315</td>\n",
       "      <td>0.789299</td>\n",
       "    </tr>\n",
       "    <tr>\n",
       "      <th>3</th>\n",
       "      <td>0.698867</td>\n",
       "      <td>-0.831302</td>\n",
       "      <td>1.859638</td>\n",
       "      <td>-0.781512</td>\n",
       "      <td>0.353230</td>\n",
       "      <td>1.740090</td>\n",
       "    </tr>\n",
       "    <tr>\n",
       "      <th>4</th>\n",
       "      <td>-0.561088</td>\n",
       "      <td>-0.937999</td>\n",
       "      <td>1.957817</td>\n",
       "      <td>-0.700415</td>\n",
       "      <td>0.449091</td>\n",
       "      <td>2.249807</td>\n",
       "    </tr>\n",
       "  </tbody>\n",
       "</table>\n",
       "</div>"
      ],
      "text/plain": [
       "         b1        b2        b3        b4        sP        sC\n",
       "0  0.227702 -0.670249  2.470355 -0.827790  0.464942  1.065474\n",
       "1  0.319521 -1.037850  3.327787 -0.687461  0.436466  1.822241\n",
       "2  0.723291 -0.898543  1.300734 -0.502775  0.113315  0.789299\n",
       "3  0.698867 -0.831302  1.859638 -0.781512  0.353230  1.740090\n",
       "4 -0.561088 -0.937999  1.957817 -0.700415  0.449091  2.249807"
      ]
     },
     "execution_count": 42,
     "metadata": {},
     "output_type": "execute_result"
    }
   ],
   "source": [
    "b = fit_4.extract(permuted=True)['b']\n",
    "df_4f = pd.DataFrame(b)\n",
    "df_4f[4] = fit_4.extract(permuted=True)['s_P']\n",
    "df_4f[5] = fit_4.extract(permuted=True)['s_C']\n",
    "df_4f.columns = ['b1', 'b2', 'b3', 'b4', 'sP', 'sC']\n",
    "df_4f.head()"
   ]
  },
  {
   "cell_type": "code",
   "execution_count": 43,
   "metadata": {
    "collapsed": false
   },
   "outputs": [
    {
     "name": "stderr",
     "output_type": "stream",
     "text": [
      "/Users/takashi_miyamoto/.pyenv/versions/anaconda3-2.1.0/lib/python3.4/site-packages/matplotlib/__init__.py:938: UserWarning: axes.color_cycle is deprecated and replaced with axes.prop_cycle; please use the latter.\n",
      "  warnings.warn(self.msg_depr % (key, alt_key))\n"
     ]
    },
    {
     "data": {
      "text/plain": [
       "<matplotlib.axes._subplots.AxesSubplot at 0x135a8f8d0>"
      ]
     },
     "execution_count": 43,
     "metadata": {},
     "output_type": "execute_result"
    },
    {
     "data": {
      "image/png": "[encoded data removed]",
      "text/plain": [
       "<matplotlib.figure.Figure at 0x125218b38>"
      ]
     },
     "metadata": {},
     "output_type": "display_data"
    }
   ],
   "source": [
    "sns.violinplot(data=df_4f)"
   ]
  },
  {
   "cell_type": "code",
   "execution_count": 44,
   "metadata": {
    "collapsed": false
   },
   "outputs": [
    {
     "data": {
      "image/png": "[encoded data removed]",
      "text/plain": [
       "<matplotlib.figure.Figure at 0x124011128>"
      ]
     },
     "metadata": {},
     "output_type": "display_data"
    }
   ],
   "source": [
    "from scipy import stats\n",
    "bc = fit_4.extract(permuted=True)['b_C'].T\n",
    "for i in range(0, 10):\n",
    "    d = stats.kde.gaussian_kde(bc[i])\n",
    "    x = np.linspace(-4, 4, 80)\n",
    "    plt.plot(x, d(x))\n",
    "plt.show()"
   ]
  },
  {
   "cell_type": "markdown",
   "metadata": {},
   "source": [
    "### 練習問題(5)\n",
    "\n",
    "無情報事前分布でやってみるとなかなか収束しない。"
   ]
  },
  {
   "cell_type": "code",
   "execution_count": 45,
   "metadata": {
    "collapsed": true
   },
   "outputs": [],
   "source": [
    "model_4a = \"\"\"\n",
    "data {\n",
    "  int N;\n",
    "  int C;\n",
    "  int I;\n",
    "  int<lower=0, upper=1> A[N];\n",
    "  real<lower=0, upper=1> Score[N];\n",
    "  int<lower=1, upper=N> PID[I];\n",
    "  int<lower=1, upper=C> CID[I];\n",
    "  real<lower=0, upper=1> W[I];\n",
    "  int<lower=0, upper=1> Y[I];\n",
    "}\n",
    "\n",
    "parameters {\n",
    "  real b[4];\n",
    "  real b_P[N];\n",
    "  real b_C[C];\n",
    "}\n",
    "\n",
    "transformed parameters {\n",
    "  real x_P[N];\n",
    "  real x_C[C];\n",
    "  real x_J[I];\n",
    "  real x[I];\n",
    "  real q[I];\n",
    "  for (n in 1:N)\n",
    "    x_P[n] = b[2]*A[n] + b[3]*Score[n] + b_P[n];\n",
    "  for (c in 1:C)\n",
    "    x_C[c] = b_C[c];\n",
    "  for (i in 1:I) {\n",
    "    x_J[i] = b[4]*W[i];\n",
    "    x[i] = b[1] + x_P[PID[i]] + x_C[CID[i]] + x_J[i];\n",
    "    q[i] = inv_logit(x[i]);\n",
    "  }\n",
    "}\n",
    "\n",
    "model {\n",
    "  for (i in 1:I)\n",
    "    Y[i] ~ bernoulli(q[i]);\n",
    "}\n",
    "\"\"\""
   ]
  },
  {
   "cell_type": "code",
   "execution_count": 46,
   "metadata": {
    "collapsed": false
   },
   "outputs": [
    {
     "name": "stderr",
     "output_type": "stream",
     "text": [
      "INFO:pystan:COMPILING THE C++ CODE FOR MODEL anon_model_ca8aaf80787529811224ea954ae48ec7 NOW.\n"
     ]
    }
   ],
   "source": [
    "fit_4a = pystan.stan(model_code=model_4a, data=data_4, iter=1000, chains=4)\n",
    "#print(fit_4a)"
   ]
  },
  {
   "cell_type": "code",
   "execution_count": 47,
   "metadata": {
    "collapsed": false
   },
   "outputs": [
    {
     "data": {
      "image/png": "[encoded data removed]",
      "text/plain": [
       "<matplotlib.figure.Figure at 0x13d8e0eb8>"
      ]
     },
     "execution_count": 47,
     "metadata": {},
     "output_type": "execute_result"
    },
    {
     "data": {
      "image/png": "[encoded data removed]",
      "text/plain": [
       "<matplotlib.figure.Figure at 0x13d8e0eb8>"
      ]
     },
     "metadata": {},
     "output_type": "display_data"
    }
   ],
   "source": [
    "fit_4a.plot(['b'])"
   ]
  },
  {
   "cell_type": "markdown",
   "metadata": {},
   "source": [
    "## 練習問題(6)"
   ]
  },
  {
   "cell_type": "code",
   "execution_count": 48,
   "metadata": {
    "collapsed": false
   },
   "outputs": [
    {
     "name": "stdout",
     "output_type": "stream",
     "text": [
      "(100, 2)\n"
     ]
    },
    {
     "data": {
      "text/html": [
       "<div>\n",
       "<table border=\"1\" class=\"dataframe\">\n",
       "  <thead>\n",
       "    <tr style=\"text-align: right;\">\n",
       "      <th></th>\n",
       "      <th>id</th>\n",
       "      <th>y</th>\n",
       "    </tr>\n",
       "  </thead>\n",
       "  <tbody>\n",
       "    <tr>\n",
       "      <th>0</th>\n",
       "      <td>1</td>\n",
       "      <td>0</td>\n",
       "    </tr>\n",
       "    <tr>\n",
       "      <th>1</th>\n",
       "      <td>2</td>\n",
       "      <td>2</td>\n",
       "    </tr>\n",
       "    <tr>\n",
       "      <th>2</th>\n",
       "      <td>3</td>\n",
       "      <td>7</td>\n",
       "    </tr>\n",
       "    <tr>\n",
       "      <th>3</th>\n",
       "      <td>4</td>\n",
       "      <td>8</td>\n",
       "    </tr>\n",
       "    <tr>\n",
       "      <th>4</th>\n",
       "      <td>5</td>\n",
       "      <td>1</td>\n",
       "    </tr>\n",
       "  </tbody>\n",
       "</table>\n",
       "</div>"
      ],
      "text/plain": [
       "   id  y\n",
       "0   1  0\n",
       "1   2  2\n",
       "2   3  7\n",
       "3   4  8\n",
       "4   5  1"
      ]
     },
     "execution_count": 48,
     "metadata": {},
     "output_type": "execute_result"
    }
   ],
   "source": [
    "df_6 = pd.read_csv('input/data7a.csv')\n",
    "print(df_6.shape)\n",
    "df_6.head()"
   ]
  },
  {
   "cell_type": "code",
   "execution_count": 49,
   "metadata": {
    "collapsed": false
   },
   "outputs": [
    {
     "data": {
      "text/plain": [
       "(array([ 19.,  15.,  10.,   3.,   6.,   4.,   6.,  37.]),\n",
       " array([ 0.,  1.,  2.,  3.,  4.,  5.,  6.,  7.,  8.]),\n",
       " <a list of 8 Patch objects>)"
      ]
     },
     "execution_count": 49,
     "metadata": {},
     "output_type": "execute_result"
    },
    {
     "data": {
      "image/png": "[encoded data removed]",
      "text/plain": [
       "<matplotlib.figure.Figure at 0x13dee1278>"
      ]
     },
     "metadata": {},
     "output_type": "display_data"
    }
   ],
   "source": [
    "plt.hist(df_6['y'], bins=8, range=(0,8))"
   ]
  },
  {
   "cell_type": "code",
   "execution_count": 50,
   "metadata": {
    "collapsed": false
   },
   "outputs": [],
   "source": [
    "data_6 = df_6.to_dict('list')\n",
    "data_6['N']=len(df_6)"
   ]
  },
  {
   "cell_type": "code",
   "execution_count": 51,
   "metadata": {
    "collapsed": true
   },
   "outputs": [],
   "source": [
    "model_6 = \"\"\"\n",
    "data {\n",
    "  int N;\n",
    "  int<lower=1, upper=N> id[N];\n",
    "  int<lower=0, upper=8> y[N];\n",
    "}\n",
    "parameters {\n",
    "  real b;\n",
    "  real b_I[N];\n",
    "  real<lower=0> s_I;\n",
    "}\n",
    "transformed parameters {\n",
    "  real q[N];\n",
    "  for (n in 1:N)\n",
    "    q[n] = inv_logit(b + b_I[n]);\n",
    "}\n",
    "model {\n",
    "  for (n in 1:N)\n",
    "    b_I[n] ~ normal(0, s_I);\n",
    "  for (n in 1:N)\n",
    "    y[n] ~ binomial(8, q[n]);\n",
    "}\n",
    "\"\"\""
   ]
  },
  {
   "cell_type": "code",
   "execution_count": 52,
   "metadata": {
    "collapsed": false
   },
   "outputs": [
    {
     "name": "stderr",
     "output_type": "stream",
     "text": [
      "INFO:pystan:COMPILING THE C++ CODE FOR MODEL anon_model_e68ad0cf31ce96d305ff626c6a57c672 NOW.\n"
     ]
    },
    {
     "name": "stdout",
     "output_type": "stream",
     "text": [
      "Inference for Stan model: anon_model_e68ad0cf31ce96d305ff626c6a57c672.\n",
      "4 chains, each with iter=2000; warmup=1000; thin=1; \n",
      "post-warmup draws per chain=1000, total post-warmup draws=4000.\n",
      "\n",
      "          mean se_mean     sd   2.5%    25%    50%    75%  97.5%  n_eff   Rhat\n",
      "b         0.03    0.01   0.34  -0.64  -0.19   0.04   0.26   0.72    772    1.0\n",
      "b_I[0]   -3.87    0.03   1.83  -8.18  -4.87  -3.59  -2.58  -1.06   4000    1.0\n",
      "b_I[1]   -1.21    0.01   0.93   -3.2  -1.79  -1.14  -0.56   0.46   4000    1.0\n",
      "b_I[2]    2.03    0.02   1.15   0.03   1.23   1.92   2.73   4.54   4000    1.0\n",
      "b_I[3]    3.78    0.03   1.73   1.02   2.55   3.56   4.78   7.83   4000    1.0\n",
      "b_I[4]   -2.05    0.02   1.08  -4.47  -2.73  -1.97   -1.3  -0.18   4000    1.0\n",
      "b_I[5]    2.02    0.02   1.11   0.08   1.24   1.94   2.68   4.55   4000    1.0\n",
      "b_I[6]    3.83    0.03   1.79   1.09   2.53   3.58   4.82   7.97   4000    1.0\n",
      "b_I[7]    3.81    0.03   1.81   1.03   2.54   3.55   4.79   8.03   4000    1.0\n",
      "b_I[8]   -2.06    0.02   1.11  -4.51  -2.74  -1.96  -1.27  -0.13   4000    1.0\n",
      "b_I[9]   -2.08    0.02    1.1  -4.45  -2.76   -2.0  -1.33  -0.16   4000    1.0\n",
      "b_I[10]  -0.02    0.01   0.79  -1.56  -0.54  -0.02   0.51   1.55   4000    1.0\n",
      "b_I[11]   -3.8    0.03   1.67  -7.51   -4.8  -3.58  -2.59  -1.18   4000    1.0\n",
      "b_I[12]  -2.06    0.02   1.06  -4.45  -2.69  -1.98  -1.31  -0.26   4000    1.0\n",
      "b_I[13]  -0.02    0.01   0.79  -1.58  -0.55  -0.01   0.49   1.53   4000    1.0\n",
      "b_I[14]    2.0    0.02   1.09   0.14   1.25   1.89   2.68   4.34   4000    1.0\n",
      "b_I[15]   3.81    0.03   1.77    1.0   2.53   3.57   4.82   7.95   4000    1.0\n",
      "b_I[16]   2.01    0.02   1.12   0.13   1.23    1.9   2.67    4.5   4000    1.0\n",
      "b_I[17]  -3.85    0.03   1.72  -7.81  -4.85  -3.58  -2.66  -1.11   4000    1.0\n",
      "b_I[18]  -1.18    0.01    0.9  -3.06  -1.74  -1.13  -0.56   0.48   4000    1.0\n",
      "b_I[19]   -1.2    0.01   0.93  -3.19  -1.78  -1.16  -0.57    0.5   4000    1.0\n",
      "b_I[20]  -2.05    0.02   1.07   -4.5  -2.68  -1.96  -1.32  -0.19   4000    1.0\n",
      "b_I[21]  -2.05    0.02   1.06  -4.39   -2.7  -1.96   -1.3  -0.24   4000    1.0\n",
      "b_I[22]    0.5    0.01   0.82  -1.05  -0.03   0.47   1.02   2.22   4000    1.0\n",
      "b_I[23]   1.99    0.02   1.07   0.11   1.25   1.89   2.61    4.4   4000    1.0\n",
      "b_I[24]   3.84    0.03    1.8   1.04   2.58   3.59   4.88    8.0   4000    1.0\n",
      "b_I[25]  -0.57    0.01   0.82  -2.22  -1.12  -0.56  -0.02   1.04   4000    1.0\n",
      "b_I[26]   3.81    0.03   1.75   1.09   2.54   3.56   4.83   7.79   4000    1.0\n",
      "b_I[27]  -0.03    0.01   0.77  -1.57  -0.52  -0.03   0.49   1.45   4000    1.0\n",
      "b_I[28]   1.14    0.01   0.92  -0.51   0.52   1.09   1.72   3.13   4000    1.0\n",
      "b_I[29]  -3.82    0.03   1.76  -7.93  -4.82  -3.57  -2.59   -1.0   4000    1.0\n",
      "b_I[30]   3.77    0.03   1.69   1.02   2.59   3.53   4.72   7.62   4000    1.0\n",
      "b_I[31]    2.0    0.02    1.1   0.11   1.23   1.92   2.67   4.42   4000    1.0\n",
      "b_I[32]   3.82    0.03    1.8    1.0   2.53   3.59   4.84   8.04   4000    1.0\n",
      "b_I[33]  -3.87    0.03   1.83  -8.21  -4.87  -3.64  -2.55  -1.08   4000    1.0\n",
      "b_I[34]  -1.18    0.01   0.92  -3.08  -1.79  -1.12  -0.55    0.5   4000    1.0\n",
      "b_I[35]   1.14    0.01   0.91  -0.53   0.52   1.09   1.72   3.05   4000    1.0\n",
      "b_I[36]    2.0    0.02   1.12   0.05   1.24   1.91   2.68    4.5   4000    1.0\n",
      "b_I[37]   3.83    0.03   1.78   1.04   2.55   3.61   4.84   8.06   4000    1.0\n",
      "b_I[38]   -1.2    0.01   0.91  -3.09  -1.78  -1.15  -0.58   0.46   4000    1.0\n",
      "b_I[39]  -2.05    0.02   1.09  -4.37  -2.67  -1.96   -1.3  -0.15   4000    1.0\n",
      "b_I[40]  -2.05    0.02   1.09  -4.41  -2.72  -1.97   -1.3  -0.13   4000    1.0\n",
      "b_I[41]  -3.85    0.03   1.81  -8.14  -4.89  -3.59  -2.58  -1.05   4000    1.0\n",
      "b_I[42]  -3.85    0.03   1.75  -7.98  -4.87  -3.62   -2.6  -1.12   4000    1.0\n",
      "b_I[43]    2.0    0.02   1.12   0.05   1.24    1.9   2.68   4.53   4000    1.0\n",
      "b_I[44]   3.84    0.03   1.84   1.07   2.57   3.57    4.8   8.08   4000    1.0\n",
      "b_I[45]   0.52    0.01   0.83  -1.11  -0.03   0.51   1.06   2.15   4000    1.0\n",
      "b_I[46]    2.0    0.02    1.1   0.12   1.23   1.93   2.66   4.36   4000    1.0\n",
      "b_I[47]   -1.2    0.01    0.9  -3.07  -1.76  -1.17   -0.6   0.46   4000    1.0\n",
      "b_I[48]   3.82    0.03    1.8   0.99   2.56   3.59   4.83   7.91   4000    1.0\n",
      "b_I[49]  -2.08    0.02   1.13  -4.55  -2.76  -1.99  -1.27  -0.11   4000    1.0\n",
      "b_I[50]    0.5    0.01   0.79  -0.97  -0.03   0.48    1.0   2.14   4000    1.0\n",
      "b_I[51]   1.99    0.02   1.08   0.18   1.26   1.89    2.6   4.44   4000    1.0\n",
      "b_I[52]  -0.57    0.01   0.83  -2.25   -1.1  -0.53  -0.01   1.03   4000    1.0\n",
      "b_I[53]   3.81    0.03   1.79   0.99   2.55   3.57   4.86   7.77   4000    1.0\n",
      "b_I[54]  -3.85    0.03   1.74  -7.79  -4.87  -3.67  -2.57  -1.13   4000    1.0\n",
      "b_I[55]   3.82    0.03    1.8   0.94   2.54   3.59   4.86   7.92   4000    1.0\n",
      "b_I[56]   1.15    0.01   0.92   -0.6   0.54   1.11   1.74    3.1   4000    1.0\n",
      "b_I[57]  -0.56    0.01    0.8  -2.17  -1.08  -0.56  -0.04   0.97   4000    1.0\n",
      "b_I[58]  -1.17    0.01    0.9  -3.08  -1.74  -1.12  -0.54   0.43   4000    1.0\n",
      "b_I[59]  -3.84    0.03   1.77  -7.82  -4.84  -3.59  -2.59  -1.08   4000    1.0\n",
      "b_I[60]  -3.84    0.03   1.78   -8.1  -4.86  -3.59  -2.57  -1.03   4000    1.0\n",
      "b_I[61]  -2.04    0.02    1.1  -4.42  -2.71  -1.96  -1.26  -0.13   4000    1.0\n",
      "b_I[62]   -1.2    0.01   0.87   -3.0  -1.73  -1.16  -0.62    0.4   4000    1.0\n",
      "b_I[63]   3.85    0.03   1.85    1.0   2.56   3.57   4.89   8.21   4000    1.0\n",
      "b_I[64]   2.02    0.02   1.12   0.09   1.24   1.92   2.68   4.62   4000    1.0\n",
      "b_I[65]   2.02    0.02   1.08   0.15   1.26   1.93   2.66   4.36   4000    1.0\n",
      "b_I[66]   2.01    0.02   1.09   0.15   1.24    1.9   2.67   4.43   4000    1.0\n",
      "b_I[67]   3.81    0.03   1.75   1.02   2.55   3.59   4.84   7.68   4000    1.0\n",
      "b_I[68]  -3.81    0.03   1.76   -8.0  -4.79  -3.55  -2.57  -1.08   4000    1.0\n",
      "b_I[69]  -3.82    0.03   1.79  -8.03  -4.84  -3.58  -2.52  -1.06   4000    1.0\n",
      "b_I[70]  -3.87    0.03    1.8  -8.13  -4.87  -3.62  -2.61  -1.05   4000    1.0\n",
      "b_I[71]    0.5    0.01    0.8  -1.08  -0.03   0.49   1.05    2.1   4000    1.0\n",
      "b_I[72]  -2.08    0.02   1.13  -4.53  -2.77  -1.97  -1.28  -0.18   4000    1.0\n",
      "b_I[73]  -3.83    0.03   1.73  -7.83  -4.83  -3.61   -2.6  -1.04   4000    1.0\n",
      "b_I[74]  -3.88    0.03   1.83  -8.15  -4.91  -3.59  -2.58  -1.12   4000    1.0\n",
      "b_I[75]  -3.83    0.03    1.7  -7.62  -4.89  -3.62   -2.6  -1.07   4000    1.0\n",
      "b_I[76]   3.81    0.03    1.8    1.0   2.52   3.57   4.83   7.93   4000    1.0\n",
      "b_I[77]  -2.08    0.02   1.13  -4.56  -2.77  -1.98  -1.32  -0.11   4000    1.0\n",
      "b_I[78]   3.82    0.03   1.79   1.05   2.55   3.59   4.83   8.08   4000    1.0\n",
      "b_I[79]  -0.04    0.01   0.77  -1.57  -0.55  -0.03   0.47   1.45   4000    1.0\n",
      "b_I[80]   2.01    0.02   1.11   0.11   1.25   1.91   2.67   4.53   4000    1.0\n",
      "b_I[81]   -1.2    0.01   0.92  -3.23  -1.78  -1.15  -0.56   0.51   4000    1.0\n",
      "b_I[82]  -2.07    0.02    1.1  -4.49  -2.74  -1.99   -1.3  -0.14   4000    1.0\n",
      "b_I[83]  -0.03    0.01   0.78  -1.57  -0.56  -0.04    0.5   1.52   4000    1.0\n",
      "b_I[84]   2.02    0.02   1.14   0.11   1.24   1.92   2.66   4.51   4000    1.0\n",
      "b_I[85]  -3.88    0.03   1.84  -8.11  -4.92  -3.59  -2.55  -1.09   4000    1.0\n",
      "b_I[86]   3.81    0.03   1.79   1.01   2.54   3.56   4.79   7.91   4000    1.0\n",
      "b_I[87]  -2.07    0.02    1.1  -4.57  -2.71  -1.97   -1.3  -0.23   4000    1.0\n",
      "b_I[88]   3.77    0.03   1.74    1.0   2.49   3.54   4.82   7.78   4000    1.0\n",
      "b_I[89]   1.99    0.02   1.15 6.2e-3    1.2   1.88   2.71   4.51   4000    1.0\n",
      "b_I[90]   1.16    0.01   0.88  -0.47   0.55   1.12   1.71   3.07   4000    1.0\n",
      "b_I[91]  -1.18    0.01   0.87  -2.97  -1.72  -1.15  -0.58   0.46   4000    1.0\n",
      "b_I[92]   3.81    0.03   1.73   1.07    2.6   3.58   4.76   7.81   4000    1.0\n",
      "b_I[93]   1.14    0.01    0.9  -0.54   0.52   1.09   1.71   3.04   4000    1.0\n",
      "b_I[94]   1.14    0.01    0.9  -0.53   0.52    1.1   1.71   3.05   4000    1.0\n",
      "b_I[95]  -2.07    0.02   1.08  -4.42  -2.75  -1.99  -1.31  -0.19   4000    1.0\n",
      "b_I[96]  -3.85    0.03   1.81  -8.08  -4.87   -3.6  -2.57  -1.02   4000    1.0\n",
      "b_I[97]  -0.03    0.01   0.82  -1.64  -0.58  -0.02   0.51   1.55   4000    1.0\n",
      "b_I[98]    2.0    0.02   1.13   0.08   1.22   1.89   2.68   4.63   4000    1.0\n",
      "b_I[99]  -3.82    0.03   1.75  -8.02  -4.82  -3.57  -2.57  -1.05   4000    1.0\n",
      "s_I       3.04    0.01   0.37   2.42   2.78    3.0   3.26   3.86   1120    1.0\n",
      "q[0]      0.05  1.1e-3   0.07 2.6e-4 8.0e-3   0.03   0.07   0.26   4000    1.0\n",
      "q[1]      0.27  2.3e-3   0.15   0.04   0.15   0.25   0.36    0.6   4000    1.0\n",
      "q[2]      0.85  1.9e-3   0.12   0.55   0.79   0.87   0.94   0.99   4000    1.0\n",
      "q[3]      0.95  1.0e-3   0.07   0.75   0.93   0.97   0.99    1.0   4000    1.0\n",
      "q[4]      0.15  1.8e-3   0.11   0.01   0.07   0.13   0.22   0.43   4000    1.0\n",
      "q[5]      0.85  1.8e-3   0.11   0.56   0.79   0.88   0.94   0.99   4000    1.0\n",
      "q[6]      0.95  1.0e-3   0.06   0.77   0.93   0.97   0.99    1.0   4000    1.0\n",
      "q[7]      0.95  1.1e-3   0.07   0.74   0.93   0.97   0.99    1.0   4000    1.0\n",
      "q[8]      0.16  1.8e-3   0.12   0.01   0.06   0.13   0.22   0.44   4000    1.0\n",
      "q[9]      0.15  1.8e-3   0.11   0.01   0.06   0.13   0.21   0.44   4000    1.0\n",
      "q[10]      0.5  2.5e-3   0.16   0.19   0.39    0.5   0.62    0.8   4000    1.0\n",
      "q[11]     0.05  1.0e-3   0.06 5.4e-4 8.8e-3   0.03   0.07   0.23   4000    1.0\n",
      "q[12]     0.15  1.8e-3   0.11   0.01   0.07   0.13   0.21   0.42   4000    1.0\n",
      "q[13]      0.5  2.5e-3   0.16    0.2   0.39    0.5   0.62    0.8   4000    1.0\n",
      "q[14]     0.85  1.8e-3   0.11   0.56   0.79   0.87   0.94   0.99   4000    1.0\n",
      "q[15]     0.95  1.1e-3   0.07   0.75   0.93   0.97   0.99    1.0   4000    1.0\n",
      "q[16]     0.85  1.8e-3   0.12   0.56   0.78   0.87   0.94   0.99   4000    1.0\n",
      "q[17]     0.05  1.0e-3   0.07 4.0e-4 8.0e-3   0.03   0.07   0.25   4000    1.0\n",
      "q[18]     0.27  2.2e-3   0.14   0.05   0.16   0.25   0.36   0.58   4000    1.0\n",
      "q[19]     0.27  2.3e-3   0.15   0.04   0.15   0.25   0.37    0.6   4000    1.0\n",
      "q[20]     0.15  1.7e-3   0.11   0.01   0.07   0.13   0.21   0.43   4000    1.0\n",
      "q[21]     0.15  1.8e-3   0.11   0.01   0.07   0.13   0.21   0.43   4000    1.0\n",
      "q[22]     0.62  2.5e-3   0.16   0.29   0.51   0.63   0.73   0.89   4000    1.0\n",
      "q[23]     0.85  1.7e-3   0.11   0.59   0.79   0.87   0.93   0.99   4000    1.0\n",
      "q[24]     0.95  1.1e-3   0.07   0.76   0.93   0.97   0.99    1.0   4000    1.0\n",
      "q[25]     0.38  2.5e-3   0.16   0.11   0.26   0.38   0.49   0.72   4000    1.0\n",
      "q[26]     0.95  1.0e-3   0.06   0.77   0.93   0.97   0.99    1.0   4000    1.0\n",
      "q[27]      0.5  2.5e-3   0.16   0.21   0.38    0.5   0.62   0.79   4000    1.0\n",
      "q[28]     0.73  2.3e-3   0.15   0.41   0.65   0.75   0.85   0.96   4000    1.0\n",
      "q[29]     0.05  1.1e-3   0.07 3.8e-4 8.3e-3   0.03   0.07   0.26   4000    1.0\n",
      "q[30]     0.95  1.0e-3   0.06   0.77   0.93   0.97   0.99    1.0   4000    1.0\n",
      "q[31]     0.85  1.8e-3   0.12   0.56   0.78   0.88   0.94   0.99   4000    1.0\n",
      "q[32]     0.95  1.1e-3   0.07   0.74   0.93   0.97   0.99    1.0   4000    1.0\n",
      "q[33]     0.05  1.1e-3   0.07 2.7e-4 7.9e-3   0.03   0.07   0.25   4000    1.0\n",
      "q[34]     0.27  2.3e-3   0.15   0.05   0.16   0.25   0.37    0.6   4000    1.0\n",
      "q[35]     0.73  2.3e-3   0.14    0.4   0.65   0.76   0.84   0.95   4000    1.0\n",
      "q[36]     0.85  1.8e-3   0.12   0.56   0.78   0.87   0.93   0.99   4000    1.0\n",
      "q[37]     0.95  1.0e-3   0.07   0.77   0.93   0.97   0.99    1.0   4000    1.0\n",
      "q[38]     0.27  2.3e-3   0.14   0.05   0.15   0.25   0.36   0.59   4000    1.0\n",
      "q[39]     0.15  1.8e-3   0.11   0.01   0.07   0.13   0.21   0.43   4000    1.0\n",
      "q[40]     0.16  1.8e-3   0.12   0.01   0.07   0.13   0.22   0.45   4000    1.0\n",
      "q[41]     0.05  1.1e-3   0.07 3.0e-4 8.2e-3   0.03   0.07   0.26   4000    1.0\n",
      "q[42]     0.05  1.1e-3   0.07 3.8e-4 8.1e-3   0.03   0.07   0.25   4000    1.0\n",
      "q[43]     0.84  1.9e-3   0.12   0.55   0.78   0.87   0.93   0.99   4000    1.0\n",
      "q[44]     0.95  1.0e-3   0.07   0.76   0.93   0.97   0.99    1.0   4000    1.0\n",
      "q[45]     0.62  2.5e-3   0.16    0.3   0.51   0.63   0.74   0.89   4000    1.0\n",
      "q[46]     0.85  1.8e-3   0.12   0.57   0.78   0.87   0.94   0.99   4000    1.0\n",
      "q[47]     0.27  2.3e-3   0.14   0.05   0.16   0.25   0.35   0.58   4000    1.0\n",
      "q[48]     0.95  1.1e-3   0.07   0.74   0.93   0.97   0.99    1.0   4000    1.0\n",
      "q[49]     0.16  1.9e-3   0.12   0.01   0.06   0.13   0.22   0.44   4000    1.0\n",
      "q[50]     0.62  2.4e-3   0.15   0.31   0.51   0.62   0.73   0.89   4000    1.0\n",
      "q[51]     0.85  1.8e-3   0.11   0.58   0.79   0.87   0.93   0.99   4000    1.0\n",
      "q[52]     0.39  2.5e-3   0.16    0.1   0.27   0.37    0.5   0.72   4000    1.0\n",
      "q[53]     0.95  1.1e-3   0.07   0.75   0.93   0.97   0.99    1.0   4000    1.0\n",
      "q[54]     0.05  1.1e-3   0.07 4.0e-4 8.2e-3   0.03   0.07   0.24   4000    1.0\n",
      "q[55]     0.95  1.1e-3   0.07   0.75   0.93   0.97   0.99    1.0   4000    1.0\n",
      "q[56]     0.74  2.3e-3   0.15    0.4   0.64   0.76   0.85   0.95   4000    1.0\n",
      "q[57]     0.38  2.5e-3   0.16   0.12   0.27   0.37   0.49   0.71   4000    1.0\n",
      "q[58]     0.27  2.3e-3   0.14   0.05   0.16   0.25   0.36   0.59   4000    1.0\n",
      "q[59]     0.05  1.1e-3   0.07 4.1e-4 8.0e-3   0.03   0.07   0.26   4000    1.0\n",
      "q[60]     0.05  1.1e-3   0.07 3.0e-4 8.0e-3   0.03   0.07   0.25   4000    1.0\n",
      "q[61]     0.16  1.8e-3   0.12   0.01   0.07   0.13   0.22   0.44   4000    1.0\n",
      "q[62]     0.26  2.2e-3   0.14   0.05   0.16   0.25   0.35   0.57   4000    1.0\n",
      "q[63]     0.95  1.1e-3   0.07   0.75   0.93   0.97   0.99    1.0   4000    1.0\n",
      "q[64]     0.85  1.8e-3   0.12   0.56   0.79   0.88   0.94   0.99   4000    1.0\n",
      "q[65]     0.85  1.8e-3   0.11   0.58   0.79   0.88   0.94   0.99   4000    1.0\n",
      "q[66]     0.85  1.8e-3   0.11   0.57   0.78   0.88   0.93   0.99   4000    1.0\n",
      "q[67]     0.95  1.1e-3   0.07   0.75   0.93   0.97   0.99    1.0   4000    1.0\n",
      "q[68]     0.05  1.1e-3   0.07 3.3e-4 8.7e-3   0.03   0.07   0.24   4000    1.0\n",
      "q[69]     0.06  1.1e-3   0.07 3.4e-4 8.1e-3   0.03   0.08   0.25   4000    1.0\n",
      "q[70]     0.05  1.1e-3   0.07 2.8e-4 8.0e-3   0.03   0.07   0.25   4000    1.0\n",
      "q[71]     0.62  2.5e-3   0.16   0.28   0.51   0.63   0.73   0.89   4000    1.0\n",
      "q[72]     0.15  1.8e-3   0.12   0.01   0.06   0.13   0.22   0.44   4000    1.0\n",
      "q[73]     0.05  1.1e-3   0.07 4.3e-4 8.2e-3   0.03   0.07   0.25   4000    1.0\n",
      "q[74]     0.05  1.1e-3   0.07 3.1e-4 7.8e-3   0.03   0.07   0.25   4000    1.0\n",
      "q[75]     0.05  1.1e-3   0.07 5.0e-4 8.2e-3   0.03   0.07   0.25   4000    1.0\n",
      "q[76]     0.95  1.1e-3   0.07   0.75   0.93   0.97   0.99    1.0   4000    1.0\n",
      "q[77]     0.15  1.9e-3   0.12   0.01   0.06   0.13   0.21   0.45   4000    1.0\n",
      "q[78]     0.95  1.0e-3   0.07   0.76   0.93   0.97   0.99    1.0   4000    1.0\n",
      "q[79]      0.5  2.5e-3   0.16    0.2   0.39    0.5   0.61    0.8   4000    1.0\n",
      "q[80]     0.85  1.8e-3   0.11   0.57   0.78   0.87   0.94   0.99   4000    1.0\n",
      "q[81]     0.27  2.3e-3   0.15   0.04   0.15   0.25   0.36    0.6   4000    1.0\n",
      "q[82]     0.15  1.8e-3   0.11   0.01   0.06   0.13   0.22   0.43   4000    1.0\n",
      "q[83]      0.5  2.5e-3   0.16    0.2   0.38    0.5   0.62   0.81   4000    1.0\n",
      "q[84]     0.85  1.8e-3   0.12   0.55   0.79   0.87   0.93   0.99   4000    1.0\n",
      "q[85]     0.05  1.1e-3   0.07 3.0e-4 7.6e-3   0.03   0.07   0.25   4000    1.0\n",
      "q[86]     0.95  1.0e-3   0.07   0.76   0.93   0.97   0.99    1.0   4000    1.0\n",
      "q[87]     0.15  1.8e-3   0.11   0.01   0.07   0.13   0.21   0.43   4000    1.0\n",
      "q[88]     0.95  1.1e-3   0.07   0.75   0.93   0.97   0.99    1.0   4000    1.0\n",
      "q[89]     0.84  1.9e-3   0.12   0.55   0.78   0.87   0.94   0.99   4000    1.0\n",
      "q[90]     0.74  2.2e-3   0.14   0.42   0.65   0.76   0.85   0.95   4000    1.0\n",
      "q[91]     0.27  2.2e-3   0.14   0.05   0.16   0.25   0.35   0.59   4000    1.0\n",
      "q[92]     0.95  1.0e-3   0.07   0.76   0.93   0.97   0.99    1.0   4000    1.0\n",
      "q[93]     0.73  2.3e-3   0.14   0.41   0.64   0.76   0.84   0.95   4000    1.0\n",
      "q[94]     0.73  2.3e-3   0.14   0.41   0.64   0.75   0.85   0.95   4000    1.0\n",
      "q[95]     0.15  1.8e-3   0.11   0.01   0.07   0.12   0.21   0.43   4000    1.0\n",
      "q[96]     0.05  1.1e-3   0.07 3.4e-4 8.0e-3   0.03   0.07   0.26   4000    1.0\n",
      "q[97]      0.5  2.6e-3   0.17   0.18   0.38    0.5   0.62   0.81   4000    1.0\n",
      "q[98]     0.84  1.9e-3   0.12   0.55   0.78   0.87   0.94   0.99   4000    1.0\n",
      "q[99]     0.05  1.1e-3   0.07 3.3e-4 8.5e-3   0.03   0.07   0.26   4000    1.0\n",
      "lp__    -443.9    0.35   9.62 -464.6 -450.0 -443.3 -437.2 -426.6    740   1.01\n",
      "\n",
      "Samples were drawn using NUTS at Thu Apr 20 13:54:14 2017.\n",
      "For each parameter, n_eff is a crude measure of effective sample size,\n",
      "and Rhat is the potential scale reduction factor on split chains (at \n",
      "convergence, Rhat=1).\n"
     ]
    }
   ],
   "source": [
    "fit_6 = pystan.stan(model_code=model_6, data=data_6, iter=2000, chains=4)\n",
    "print(fit_6)"
   ]
  },
  {
   "cell_type": "code",
   "execution_count": 53,
   "metadata": {
    "collapsed": false
   },
   "outputs": [
    {
     "data": {
      "text/plain": [
       "(array([ 19.,  15.,  10.,   3.,   1.,   5.,   4.,   6.,  17.,  20.]),\n",
       " array([ 0. ,  0.1,  0.2,  0.3,  0.4,  0.5,  0.6,  0.7,  0.8,  0.9,  1. ]),\n",
       " <a list of 10 Patch objects>)"
      ]
     },
     "execution_count": 53,
     "metadata": {},
     "output_type": "execute_result"
    },
    {
     "data": {
      "image/png": "[encoded data removed]",
      "text/plain": [
       "<matplotlib.figure.Figure at 0x122516908>"
      ]
     },
     "metadata": {},
     "output_type": "display_data"
    }
   ],
   "source": [
    "q = fit_6.extract(permuted=True)['q'].T\n",
    "plt.hist([np.average(x) for x in q], bins=10, range=(0,1))"
   ]
  },
  {
   "cell_type": "markdown",
   "metadata": {},
   "source": [
    "元のデータの分布をみると単峰性ではないので、正規分布＋ロジット変換が良いのかは、ちょっと疑問を感じる。一方で、それを仮定しない別のモデルを作ると、なかなか収束しない。"
   ]
  },
  {
   "cell_type": "markdown",
   "metadata": {},
   "source": [
    "## 練習問題(7)"
   ]
  },
  {
   "cell_type": "code",
   "execution_count": 54,
   "metadata": {
    "collapsed": false
   },
   "outputs": [
    {
     "data": {
      "text/html": [
       "<div>\n",
       "<table border=\"1\" class=\"dataframe\">\n",
       "  <thead>\n",
       "    <tr style=\"text-align: right;\">\n",
       "      <th></th>\n",
       "      <th>id</th>\n",
       "      <th>pot</th>\n",
       "      <th>f</th>\n",
       "      <th>y</th>\n",
       "    </tr>\n",
       "  </thead>\n",
       "  <tbody>\n",
       "    <tr>\n",
       "      <th>0</th>\n",
       "      <td>1</td>\n",
       "      <td>A</td>\n",
       "      <td>C</td>\n",
       "      <td>6</td>\n",
       "    </tr>\n",
       "    <tr>\n",
       "      <th>1</th>\n",
       "      <td>2</td>\n",
       "      <td>A</td>\n",
       "      <td>C</td>\n",
       "      <td>3</td>\n",
       "    </tr>\n",
       "    <tr>\n",
       "      <th>2</th>\n",
       "      <td>3</td>\n",
       "      <td>A</td>\n",
       "      <td>C</td>\n",
       "      <td>19</td>\n",
       "    </tr>\n",
       "    <tr>\n",
       "      <th>3</th>\n",
       "      <td>4</td>\n",
       "      <td>A</td>\n",
       "      <td>C</td>\n",
       "      <td>5</td>\n",
       "    </tr>\n",
       "    <tr>\n",
       "      <th>4</th>\n",
       "      <td>5</td>\n",
       "      <td>A</td>\n",
       "      <td>C</td>\n",
       "      <td>0</td>\n",
       "    </tr>\n",
       "    <tr>\n",
       "      <th>5</th>\n",
       "      <td>6</td>\n",
       "      <td>A</td>\n",
       "      <td>C</td>\n",
       "      <td>19</td>\n",
       "    </tr>\n",
       "    <tr>\n",
       "      <th>6</th>\n",
       "      <td>7</td>\n",
       "      <td>A</td>\n",
       "      <td>C</td>\n",
       "      <td>4</td>\n",
       "    </tr>\n",
       "    <tr>\n",
       "      <th>7</th>\n",
       "      <td>8</td>\n",
       "      <td>A</td>\n",
       "      <td>C</td>\n",
       "      <td>8</td>\n",
       "    </tr>\n",
       "    <tr>\n",
       "      <th>8</th>\n",
       "      <td>9</td>\n",
       "      <td>A</td>\n",
       "      <td>C</td>\n",
       "      <td>12</td>\n",
       "    </tr>\n",
       "    <tr>\n",
       "      <th>9</th>\n",
       "      <td>10</td>\n",
       "      <td>A</td>\n",
       "      <td>C</td>\n",
       "      <td>8</td>\n",
       "    </tr>\n",
       "    <tr>\n",
       "      <th>10</th>\n",
       "      <td>11</td>\n",
       "      <td>B</td>\n",
       "      <td>C</td>\n",
       "      <td>0</td>\n",
       "    </tr>\n",
       "    <tr>\n",
       "      <th>11</th>\n",
       "      <td>12</td>\n",
       "      <td>B</td>\n",
       "      <td>C</td>\n",
       "      <td>1</td>\n",
       "    </tr>\n",
       "    <tr>\n",
       "      <th>12</th>\n",
       "      <td>13</td>\n",
       "      <td>B</td>\n",
       "      <td>C</td>\n",
       "      <td>1</td>\n",
       "    </tr>\n",
       "    <tr>\n",
       "      <th>13</th>\n",
       "      <td>14</td>\n",
       "      <td>B</td>\n",
       "      <td>C</td>\n",
       "      <td>5</td>\n",
       "    </tr>\n",
       "    <tr>\n",
       "      <th>14</th>\n",
       "      <td>15</td>\n",
       "      <td>B</td>\n",
       "      <td>C</td>\n",
       "      <td>7</td>\n",
       "    </tr>\n",
       "    <tr>\n",
       "      <th>15</th>\n",
       "      <td>16</td>\n",
       "      <td>B</td>\n",
       "      <td>C</td>\n",
       "      <td>4</td>\n",
       "    </tr>\n",
       "    <tr>\n",
       "      <th>16</th>\n",
       "      <td>17</td>\n",
       "      <td>B</td>\n",
       "      <td>C</td>\n",
       "      <td>0</td>\n",
       "    </tr>\n",
       "    <tr>\n",
       "      <th>17</th>\n",
       "      <td>18</td>\n",
       "      <td>B</td>\n",
       "      <td>C</td>\n",
       "      <td>4</td>\n",
       "    </tr>\n",
       "    <tr>\n",
       "      <th>18</th>\n",
       "      <td>19</td>\n",
       "      <td>B</td>\n",
       "      <td>C</td>\n",
       "      <td>2</td>\n",
       "    </tr>\n",
       "    <tr>\n",
       "      <th>19</th>\n",
       "      <td>20</td>\n",
       "      <td>B</td>\n",
       "      <td>C</td>\n",
       "      <td>23</td>\n",
       "    </tr>\n",
       "    <tr>\n",
       "      <th>20</th>\n",
       "      <td>21</td>\n",
       "      <td>C</td>\n",
       "      <td>C</td>\n",
       "      <td>2</td>\n",
       "    </tr>\n",
       "    <tr>\n",
       "      <th>21</th>\n",
       "      <td>22</td>\n",
       "      <td>C</td>\n",
       "      <td>C</td>\n",
       "      <td>1</td>\n",
       "    </tr>\n",
       "    <tr>\n",
       "      <th>22</th>\n",
       "      <td>23</td>\n",
       "      <td>C</td>\n",
       "      <td>C</td>\n",
       "      <td>4</td>\n",
       "    </tr>\n",
       "    <tr>\n",
       "      <th>23</th>\n",
       "      <td>24</td>\n",
       "      <td>C</td>\n",
       "      <td>C</td>\n",
       "      <td>3</td>\n",
       "    </tr>\n",
       "    <tr>\n",
       "      <th>24</th>\n",
       "      <td>25</td>\n",
       "      <td>C</td>\n",
       "      <td>C</td>\n",
       "      <td>4</td>\n",
       "    </tr>\n",
       "    <tr>\n",
       "      <th>25</th>\n",
       "      <td>26</td>\n",
       "      <td>C</td>\n",
       "      <td>C</td>\n",
       "      <td>0</td>\n",
       "    </tr>\n",
       "    <tr>\n",
       "      <th>26</th>\n",
       "      <td>27</td>\n",
       "      <td>C</td>\n",
       "      <td>C</td>\n",
       "      <td>1</td>\n",
       "    </tr>\n",
       "    <tr>\n",
       "      <th>27</th>\n",
       "      <td>28</td>\n",
       "      <td>C</td>\n",
       "      <td>C</td>\n",
       "      <td>1</td>\n",
       "    </tr>\n",
       "    <tr>\n",
       "      <th>28</th>\n",
       "      <td>29</td>\n",
       "      <td>C</td>\n",
       "      <td>C</td>\n",
       "      <td>3</td>\n",
       "    </tr>\n",
       "    <tr>\n",
       "      <th>29</th>\n",
       "      <td>30</td>\n",
       "      <td>C</td>\n",
       "      <td>C</td>\n",
       "      <td>6</td>\n",
       "    </tr>\n",
       "    <tr>\n",
       "      <th>...</th>\n",
       "      <td>...</td>\n",
       "      <td>...</td>\n",
       "      <td>...</td>\n",
       "      <td>...</td>\n",
       "    </tr>\n",
       "    <tr>\n",
       "      <th>70</th>\n",
       "      <td>71</td>\n",
       "      <td>H</td>\n",
       "      <td>T</td>\n",
       "      <td>7</td>\n",
       "    </tr>\n",
       "    <tr>\n",
       "      <th>71</th>\n",
       "      <td>72</td>\n",
       "      <td>H</td>\n",
       "      <td>T</td>\n",
       "      <td>0</td>\n",
       "    </tr>\n",
       "    <tr>\n",
       "      <th>72</th>\n",
       "      <td>73</td>\n",
       "      <td>H</td>\n",
       "      <td>T</td>\n",
       "      <td>0</td>\n",
       "    </tr>\n",
       "    <tr>\n",
       "      <th>73</th>\n",
       "      <td>74</td>\n",
       "      <td>H</td>\n",
       "      <td>T</td>\n",
       "      <td>0</td>\n",
       "    </tr>\n",
       "    <tr>\n",
       "      <th>74</th>\n",
       "      <td>75</td>\n",
       "      <td>H</td>\n",
       "      <td>T</td>\n",
       "      <td>1</td>\n",
       "    </tr>\n",
       "    <tr>\n",
       "      <th>75</th>\n",
       "      <td>76</td>\n",
       "      <td>H</td>\n",
       "      <td>T</td>\n",
       "      <td>1</td>\n",
       "    </tr>\n",
       "    <tr>\n",
       "      <th>76</th>\n",
       "      <td>77</td>\n",
       "      <td>H</td>\n",
       "      <td>T</td>\n",
       "      <td>0</td>\n",
       "    </tr>\n",
       "    <tr>\n",
       "      <th>77</th>\n",
       "      <td>78</td>\n",
       "      <td>H</td>\n",
       "      <td>T</td>\n",
       "      <td>0</td>\n",
       "    </tr>\n",
       "    <tr>\n",
       "      <th>78</th>\n",
       "      <td>79</td>\n",
       "      <td>H</td>\n",
       "      <td>T</td>\n",
       "      <td>1</td>\n",
       "    </tr>\n",
       "    <tr>\n",
       "      <th>79</th>\n",
       "      <td>80</td>\n",
       "      <td>H</td>\n",
       "      <td>T</td>\n",
       "      <td>1</td>\n",
       "    </tr>\n",
       "    <tr>\n",
       "      <th>80</th>\n",
       "      <td>81</td>\n",
       "      <td>I</td>\n",
       "      <td>T</td>\n",
       "      <td>10</td>\n",
       "    </tr>\n",
       "    <tr>\n",
       "      <th>81</th>\n",
       "      <td>82</td>\n",
       "      <td>I</td>\n",
       "      <td>T</td>\n",
       "      <td>2</td>\n",
       "    </tr>\n",
       "    <tr>\n",
       "      <th>82</th>\n",
       "      <td>83</td>\n",
       "      <td>I</td>\n",
       "      <td>T</td>\n",
       "      <td>11</td>\n",
       "    </tr>\n",
       "    <tr>\n",
       "      <th>83</th>\n",
       "      <td>84</td>\n",
       "      <td>I</td>\n",
       "      <td>T</td>\n",
       "      <td>4</td>\n",
       "    </tr>\n",
       "    <tr>\n",
       "      <th>84</th>\n",
       "      <td>85</td>\n",
       "      <td>I</td>\n",
       "      <td>T</td>\n",
       "      <td>3</td>\n",
       "    </tr>\n",
       "    <tr>\n",
       "      <th>85</th>\n",
       "      <td>86</td>\n",
       "      <td>I</td>\n",
       "      <td>T</td>\n",
       "      <td>16</td>\n",
       "    </tr>\n",
       "    <tr>\n",
       "      <th>86</th>\n",
       "      <td>87</td>\n",
       "      <td>I</td>\n",
       "      <td>T</td>\n",
       "      <td>4</td>\n",
       "    </tr>\n",
       "    <tr>\n",
       "      <th>87</th>\n",
       "      <td>88</td>\n",
       "      <td>I</td>\n",
       "      <td>T</td>\n",
       "      <td>37</td>\n",
       "    </tr>\n",
       "    <tr>\n",
       "      <th>88</th>\n",
       "      <td>89</td>\n",
       "      <td>I</td>\n",
       "      <td>T</td>\n",
       "      <td>5</td>\n",
       "    </tr>\n",
       "    <tr>\n",
       "      <th>89</th>\n",
       "      <td>90</td>\n",
       "      <td>I</td>\n",
       "      <td>T</td>\n",
       "      <td>19</td>\n",
       "    </tr>\n",
       "    <tr>\n",
       "      <th>90</th>\n",
       "      <td>91</td>\n",
       "      <td>J</td>\n",
       "      <td>T</td>\n",
       "      <td>27</td>\n",
       "    </tr>\n",
       "    <tr>\n",
       "      <th>91</th>\n",
       "      <td>92</td>\n",
       "      <td>J</td>\n",
       "      <td>T</td>\n",
       "      <td>1</td>\n",
       "    </tr>\n",
       "    <tr>\n",
       "      <th>92</th>\n",
       "      <td>93</td>\n",
       "      <td>J</td>\n",
       "      <td>T</td>\n",
       "      <td>1</td>\n",
       "    </tr>\n",
       "    <tr>\n",
       "      <th>93</th>\n",
       "      <td>94</td>\n",
       "      <td>J</td>\n",
       "      <td>T</td>\n",
       "      <td>2</td>\n",
       "    </tr>\n",
       "    <tr>\n",
       "      <th>94</th>\n",
       "      <td>95</td>\n",
       "      <td>J</td>\n",
       "      <td>T</td>\n",
       "      <td>0</td>\n",
       "    </tr>\n",
       "    <tr>\n",
       "      <th>95</th>\n",
       "      <td>96</td>\n",
       "      <td>J</td>\n",
       "      <td>T</td>\n",
       "      <td>1</td>\n",
       "    </tr>\n",
       "    <tr>\n",
       "      <th>96</th>\n",
       "      <td>97</td>\n",
       "      <td>J</td>\n",
       "      <td>T</td>\n",
       "      <td>1</td>\n",
       "    </tr>\n",
       "    <tr>\n",
       "      <th>97</th>\n",
       "      <td>98</td>\n",
       "      <td>J</td>\n",
       "      <td>T</td>\n",
       "      <td>2</td>\n",
       "    </tr>\n",
       "    <tr>\n",
       "      <th>98</th>\n",
       "      <td>99</td>\n",
       "      <td>J</td>\n",
       "      <td>T</td>\n",
       "      <td>1</td>\n",
       "    </tr>\n",
       "    <tr>\n",
       "      <th>99</th>\n",
       "      <td>100</td>\n",
       "      <td>J</td>\n",
       "      <td>T</td>\n",
       "      <td>0</td>\n",
       "    </tr>\n",
       "  </tbody>\n",
       "</table>\n",
       "<p>100 rows × 4 columns</p>\n",
       "</div>"
      ],
      "text/plain": [
       "     id pot  f   y\n",
       "0     1   A  C   6\n",
       "1     2   A  C   3\n",
       "2     3   A  C  19\n",
       "3     4   A  C   5\n",
       "4     5   A  C   0\n",
       "5     6   A  C  19\n",
       "6     7   A  C   4\n",
       "7     8   A  C   8\n",
       "8     9   A  C  12\n",
       "9    10   A  C   8\n",
       "10   11   B  C   0\n",
       "11   12   B  C   1\n",
       "12   13   B  C   1\n",
       "13   14   B  C   5\n",
       "14   15   B  C   7\n",
       "15   16   B  C   4\n",
       "16   17   B  C   0\n",
       "17   18   B  C   4\n",
       "18   19   B  C   2\n",
       "19   20   B  C  23\n",
       "20   21   C  C   2\n",
       "21   22   C  C   1\n",
       "22   23   C  C   4\n",
       "23   24   C  C   3\n",
       "24   25   C  C   4\n",
       "25   26   C  C   0\n",
       "26   27   C  C   1\n",
       "27   28   C  C   1\n",
       "28   29   C  C   3\n",
       "29   30   C  C   6\n",
       "..  ...  .. ..  ..\n",
       "70   71   H  T   7\n",
       "71   72   H  T   0\n",
       "72   73   H  T   0\n",
       "73   74   H  T   0\n",
       "74   75   H  T   1\n",
       "75   76   H  T   1\n",
       "76   77   H  T   0\n",
       "77   78   H  T   0\n",
       "78   79   H  T   1\n",
       "79   80   H  T   1\n",
       "80   81   I  T  10\n",
       "81   82   I  T   2\n",
       "82   83   I  T  11\n",
       "83   84   I  T   4\n",
       "84   85   I  T   3\n",
       "85   86   I  T  16\n",
       "86   87   I  T   4\n",
       "87   88   I  T  37\n",
       "88   89   I  T   5\n",
       "89   90   I  T  19\n",
       "90   91   J  T  27\n",
       "91   92   J  T   1\n",
       "92   93   J  T   1\n",
       "93   94   J  T   2\n",
       "94   95   J  T   0\n",
       "95   96   J  T   1\n",
       "96   97   J  T   1\n",
       "97   98   J  T   2\n",
       "98   99   J  T   1\n",
       "99  100   J  T   0\n",
       "\n",
       "[100 rows x 4 columns]"
      ]
     },
     "execution_count": 54,
     "metadata": {},
     "output_type": "execute_result"
    }
   ],
   "source": [
    "df_7 = pd.read_csv('input/d1.csv')\n",
    "df_7"
   ]
  },
  {
   "cell_type": "code",
   "execution_count": 55,
   "metadata": {
    "collapsed": false
   },
   "outputs": [
    {
     "data": {
      "image/png": "[encoded data removed]",
      "text/plain": [
       "<matplotlib.figure.Figure at 0x12b7104e0>"
      ]
     },
     "metadata": {},
     "output_type": "display_data"
    }
   ],
   "source": [
    "from scipy import stats\n",
    "plt.figure(figsize=(8, 10))\n",
    "for (i,c) in enumerate(['A', 'B', 'C', 'D', 'E', 'F', 'G', 'H', 'I', 'J']):\n",
    "    plt.subplot(10,1,i+1)\n",
    "    plt.hist(df_7[df_7['pot']==c]['y'])\n",
    "    plt.ylim((0,10))\n",
    "plt.show()"
   ]
  },
  {
   "cell_type": "code",
   "execution_count": 56,
   "metadata": {
    "collapsed": false
   },
   "outputs": [],
   "source": [
    "data_7 = {'N':len(df_7), 'N_Pot':10, \\\n",
    "          'N2Pot':[ord(c)-64 for c in df_7['pot']], \\\n",
    "          'F':[(1 if c=='T' else 0) for c in df_7['f']], \\\n",
    "          'Y':list(df_7['y'])}"
   ]
  },
  {
   "cell_type": "code",
   "execution_count": 57,
   "metadata": {
    "collapsed": true
   },
   "outputs": [],
   "source": [
    "model_7 = \"\"\"\n",
    "data {\n",
    "  int N;\n",
    "  int N_Pot;\n",
    "  int<lower=0, upper=1> F[N];\n",
    "  int<lower=1, upper=N_Pot> N2Pot[N];\n",
    "  int Y[N];\n",
    "}\n",
    "\n",
    "parameters {\n",
    "  real b[2];\n",
    "  real b_I[N];\n",
    "  real b_Pot[N_Pot];\n",
    "  real<lower=0> s_I;\n",
    "  real<lower=0> s_Pot;\n",
    "}\n",
    "\n",
    "model {\n",
    "  for (n in 1:N)\n",
    "    b_I[n] ~ normal(0, s_I);\n",
    "  for (p in 1:N_Pot)\n",
    "    b_Pot[p] ~ normal(0, s_Pot);\n",
    "\n",
    "  for (n in 1:N)\n",
    "    Y[n] ~ poisson_log(b[1] + b[2]*F[n] + b_I[n] + b_Pot[N2Pot[n]]);\n",
    "}\n",
    "\"\"\""
   ]
  },
  {
   "cell_type": "code",
   "execution_count": 58,
   "metadata": {
    "collapsed": false
   },
   "outputs": [
    {
     "name": "stderr",
     "output_type": "stream",
     "text": [
      "INFO:pystan:COMPILING THE C++ CODE FOR MODEL anon_model_cc510a85e75b68f9f13910f490d33027 NOW.\n"
     ]
    },
    {
     "name": "stdout",
     "output_type": "stream",
     "text": [
      "Inference for Stan model: anon_model_cc510a85e75b68f9f13910f490d33027.\n",
      "4 chains, each with iter=1000; warmup=500; thin=1; \n",
      "post-warmup draws per chain=500, total post-warmup draws=2000.\n",
      "\n",
      "           mean se_mean     sd   2.5%    25%    50%    75%  97.5%  n_eff   Rhat\n",
      "b[0]       1.36    0.02   0.53   0.28   1.02   1.36   1.71   2.39    506   1.02\n",
      "b[1]      -0.86    0.03   0.73  -2.25  -1.33  -0.88  -0.41   0.67    536   1.01\n",
      "b_I[0]    -0.05    0.01   0.49  -1.05  -0.37  -0.02   0.29   0.86   2000    1.0\n",
      "b_I[1]    -0.61    0.01   0.55   -1.7  -0.97   -0.6  -0.22   0.44   2000    1.0\n",
      "b_I[2]     1.09    0.01   0.39   0.32   0.83   1.08   1.36   1.84    872    1.0\n",
      "b_I[3]    -0.21    0.01   0.49  -1.21  -0.54  -0.21   0.13   0.73   2000    1.0\n",
      "b_I[4]    -1.56    0.02    0.7   -3.1  -1.99   -1.5  -1.06  -0.36   2000    1.0\n",
      "b_I[5]     1.09    0.01   0.38   0.36   0.83   1.09   1.35   1.85    709   1.01\n",
      "b_I[6]    -0.39    0.01   0.53  -1.44  -0.74  -0.37  -0.03   0.61   2000    1.0\n",
      "b_I[7]     0.23    0.01   0.46  -0.68  -0.08   0.23   0.54   1.11   1256    1.0\n",
      "b_I[8]     0.61    0.01   0.41   -0.2   0.33   0.62   0.89   1.42   1094   1.01\n",
      "b_I[9]     0.23    0.02   0.45  -0.63  -0.09   0.23   0.53   1.07    878    1.0\n",
      "b_I[10]   -1.13    0.02   0.71  -2.62  -1.58  -1.09  -0.66   0.17   2000    1.0\n",
      "b_I[11]   -0.69    0.02   0.72  -2.16  -1.15  -0.64  -0.18   0.57   2000    1.0\n",
      "b_I[12]    -0.7    0.02   0.68  -2.13  -1.13  -0.68  -0.24   0.52   2000    1.0\n",
      "b_I[13]     0.4    0.01   0.54  -0.65   0.04   0.41   0.78   1.41   2000    1.0\n",
      "b_I[14]    0.75    0.01    0.5  -0.22    0.4   0.75   1.07   1.73   2000    1.0\n",
      "b_I[15]    0.21    0.01   0.55  -0.86  -0.14   0.22   0.58   1.28   2000    1.0\n",
      "b_I[16]   -1.13    0.02   0.74   -2.7  -1.54  -1.09  -0.64   0.28   2000    1.0\n",
      "b_I[17]     0.2    0.01   0.56  -0.92  -0.17   0.21   0.58   1.25   2000    1.0\n",
      "b_I[18]   -0.32    0.01   0.62  -1.59  -0.73  -0.31   0.11    0.8   2000    1.0\n",
      "b_I[19]    2.01    0.01   0.41   1.28   1.74   1.99   2.26   2.83   1109    1.0\n",
      "b_I[20]   -0.14    0.01   0.66  -1.48  -0.58  -0.11    0.3   1.12   2000    1.0\n",
      "b_I[21]   -0.51    0.02   0.69  -2.02  -0.95   -0.5  -0.05   0.78   2000    1.0\n",
      "b_I[22]    0.45    0.01   0.57  -0.69   0.09   0.45   0.84   1.58   2000    1.0\n",
      "b_I[23]    0.18    0.01   0.59  -0.99  -0.23   0.21   0.58   1.29   2000    1.0\n",
      "b_I[24]    0.44    0.01   0.57  -0.72   0.07   0.45   0.81   1.51   2000    1.0\n",
      "b_I[25]   -0.99    0.02   0.76  -2.58  -1.48  -0.94  -0.46   0.37   2000    1.0\n",
      "b_I[26]   -0.52    0.02   0.68  -1.98  -0.95  -0.49  -0.05   0.73   2000    1.0\n",
      "b_I[27]   -0.51    0.02   0.68  -1.92  -0.94   -0.5  -0.05   0.73   2000    1.0\n",
      "b_I[28]    0.18    0.01    0.6  -1.07  -0.22   0.21    0.6   1.29   2000    1.0\n",
      "b_I[29]    0.85    0.01   0.52  -0.18   0.49   0.85   1.19   1.88   2000    1.0\n",
      "b_I[30]    1.14    0.01   0.36   0.43   0.87   1.13   1.39   1.86    731    1.0\n",
      "b_I[31]   -0.86    0.01   0.53  -1.96  -1.19  -0.85  -0.52   0.14   2000    1.0\n",
      "b_I[32]     1.2    0.01   0.36    0.5   0.95    1.2   1.44   1.92    747    1.0\n",
      "b_I[33]    0.67    0.01   0.39  -0.13   0.41   0.67   0.93   1.43    797    1.0\n",
      "b_I[34]    -1.4    0.01   0.62  -2.64   -1.8  -1.37  -0.97  -0.26   2000    1.0\n",
      "b_I[35]     0.6    0.01    0.4  -0.16   0.32    0.6   0.87   1.36    840    1.0\n",
      "b_I[36]    0.61    0.01   0.39  -0.13   0.34   0.61   0.87   1.38    862    1.0\n",
      "b_I[37]   -0.31    0.01   0.46   -1.2  -0.62  -0.32-7.5e-3   0.58   2000    1.0\n",
      "b_I[38]   -0.64    0.01   0.49  -1.69  -0.94  -0.64   -0.3   0.27   2000    1.0\n",
      "b_I[39]   -0.08    0.01   0.45  -0.95  -0.37  -0.06   0.22   0.78   1117    1.0\n",
      "b_I[40]    0.43    0.01    0.5  -0.57   0.11   0.44   0.78   1.35   2000    1.0\n",
      "b_I[41]    1.44    0.01   0.41   0.62   1.16   1.45   1.72   2.21   1283    1.0\n",
      "b_I[42]    0.72    0.01   0.47  -0.21    0.4   0.74   1.04   1.62   2000    1.0\n",
      "b_I[43]   -0.17    0.01   0.57  -1.38  -0.53  -0.15   0.21   0.88   2000    1.0\n",
      "b_I[44]   -0.45    0.01   0.63  -1.74  -0.87  -0.43  -0.01   0.74   2000    1.0\n",
      "b_I[45]    0.72    0.01   0.46  -0.16   0.41   0.72   1.02    1.6   1517    1.0\n",
      "b_I[46]    0.07    0.01   0.54   -1.0  -0.29   0.07   0.44    1.1   2000    1.0\n",
      "b_I[47]   -1.22    0.02   0.69  -2.62  -1.68  -1.19  -0.73   0.02   2000    1.0\n",
      "b_I[48]   -1.23    0.02   0.72  -2.73  -1.73   -1.2  -0.72   0.06   2000    1.0\n",
      "b_I[49]   -0.44    0.01   0.58  -1.65  -0.81  -0.43  -0.06   0.64   2000    1.0\n",
      "b_I[50]    0.58    0.02   0.72  -0.86    0.1   0.58   1.06   2.03   2000    1.0\n",
      "b_I[51]     0.6    0.02   0.73  -0.97   0.15   0.63   1.08   1.93   2000    1.0\n",
      "b_I[52]   -0.53    0.02   0.85  -2.27  -1.09   -0.5   0.08   1.06   2000    1.0\n",
      "b_I[53]   -0.55    0.02   0.84  -2.21  -1.09  -0.53   0.05   0.99   2000    1.0\n",
      "b_I[54]    0.08    0.02   0.77  -1.54  -0.43   0.13   0.63   1.48   2000    1.0\n",
      "b_I[55]   -0.57    0.02   0.85  -2.25  -1.13  -0.52   0.03   1.02   2000    1.0\n",
      "b_I[56]   -0.54    0.02   0.88  -2.36  -1.07  -0.53   0.06   1.07   2000    1.0\n",
      "b_I[57]     0.1    0.02   0.78  -1.58  -0.38   0.14   0.63   1.55   2000    1.0\n",
      "b_I[58]   -0.56    0.02    0.9  -2.43   -1.1  -0.51   0.04   1.09   2000    1.0\n",
      "b_I[59]    0.07    0.02   0.81  -1.55  -0.46   0.09   0.63   1.59   2000    1.0\n",
      "b_I[60]    1.07    0.01   0.46   0.13   0.77   1.08   1.38   1.93   1095    1.0\n",
      "b_I[61]   -0.43    0.01   0.61  -1.71  -0.83   -0.4-1.2e-3   0.66   2000    1.0\n",
      "b_I[62]   -0.44    0.01   0.61  -1.71  -0.82  -0.41  -0.01   0.71   2000    1.0\n",
      "b_I[63]    1.59    0.01   0.43   0.77    1.3   1.59   1.87   2.42    971   1.01\n",
      "b_I[64]   -0.15    0.01   0.56  -1.29  -0.52  -0.11   0.22   0.93   2000    1.0\n",
      "b_I[65]    0.74    0.01   0.47  -0.22   0.43   0.76   1.05   1.69   1207    1.0\n",
      "b_I[66]    0.61    0.01    0.5  -0.41   0.28   0.61   0.94   1.58   1283    1.0\n",
      "b_I[67]   -0.17    0.01   0.57   -1.3  -0.55  -0.14   0.22   0.91   2000    1.0\n",
      "b_I[68]   -0.78    0.01   0.65  -2.12  -1.23  -0.76  -0.33   0.45   2000    1.0\n",
      "b_I[69]   -1.22    0.02   0.73  -2.69  -1.68  -1.21  -0.71   0.14   2000    1.0\n",
      "b_I[70]    1.86    0.01   0.56   0.78   1.48   1.88   2.23   2.96   2000    1.0\n",
      "b_I[71]   -0.58    0.02   0.85   -2.3  -1.13  -0.55 5.4e-3    1.0   2000    1.0\n",
      "b_I[72]   -0.58    0.02   0.83  -2.28  -1.11  -0.53-7.1e-3   0.97   2000    1.0\n",
      "b_I[73]   -0.58    0.02   0.84  -2.29  -1.12  -0.55  -0.02   0.97   2000    1.0\n",
      "b_I[74]    0.03    0.02   0.77  -1.52   -0.5   0.05   0.58   1.44   2000    1.0\n",
      "b_I[75]    0.01    0.02   0.81  -1.64  -0.52   0.03   0.57   1.56   2000    1.0\n",
      "b_I[76]    -0.6    0.02   0.83  -2.42  -1.14  -0.59  -0.03   0.98   2000    1.0\n",
      "b_I[77]   -0.55    0.02   0.82  -2.29  -1.08  -0.51   0.03   0.98   2000    1.0\n",
      "b_I[78]    0.02    0.02   0.78  -1.59  -0.51   0.05   0.59   1.46   2000    1.0\n",
      "b_I[79]    0.03    0.02   0.74  -1.47  -0.42   0.06   0.53   1.43   2000    1.0\n",
      "b_I[80]    0.35    0.02   0.45  -0.53   0.05   0.35   0.66   1.25    807    1.0\n",
      "b_I[81]   -0.91    0.01   0.58  -2.12  -1.29  -0.89  -0.52   0.17   2000    1.0\n",
      "b_I[82]    0.45    0.02   0.44  -0.43   0.16   0.45   0.75   1.32    807    1.0\n",
      "b_I[83]   -0.48    0.02   0.52  -1.53  -0.82  -0.46  -0.12   0.52   1165    1.0\n",
      "b_I[84]   -0.69    0.01   0.57  -1.86  -1.08  -0.69   -0.3   0.38   2000    1.0\n",
      "b_I[85]    0.83    0.01   0.42   0.02   0.54   0.83    1.1   1.68    795    1.0\n",
      "b_I[86]   -0.46    0.01   0.53   -1.5  -0.81  -0.46  -0.11   0.57   2000    1.0\n",
      "b_I[87]    1.68    0.02   0.39   0.94   1.41   1.68   1.93   2.49    618    1.0\n",
      "b_I[88]   -0.29    0.02   0.53  -1.41  -0.65  -0.28   0.08   0.72   1230    1.0\n",
      "b_I[89]    0.99    0.02   0.42    0.2   0.71   0.98   1.27   1.86    753    1.0\n",
      "b_I[90]    2.81    0.01   0.42   2.01   2.53    2.8   3.09   3.72   1595    1.0\n",
      "b_I[91]    -0.3    0.02   0.69  -1.79  -0.75  -0.28   0.17   0.98   2000    1.0\n",
      "b_I[92]   -0.32    0.02   0.73   -1.8   -0.8  -0.29   0.21   1.03   2000    1.0\n",
      "b_I[93]     0.1    0.01   0.65  -1.26  -0.31   0.12   0.55   1.33   2000    1.0\n",
      "b_I[94]   -0.86    0.02   0.78  -2.48  -1.35  -0.84  -0.32   0.57   2000    1.0\n",
      "b_I[95]   -0.32    0.02   0.71  -1.74  -0.78  -0.32   0.17    1.0   2000    1.0\n",
      "b_I[96]    -0.3    0.02   0.72   -1.8  -0.78  -0.26    0.2   0.98   2000    1.0\n",
      "b_I[97]    0.11    0.01   0.64  -1.18   -0.3   0.13   0.54   1.32   2000    1.0\n",
      "b_I[98]   -0.32    0.02   0.72  -1.84  -0.74  -0.29   0.16   0.97   2000    1.0\n",
      "b_I[99]   -0.85    0.02   0.78  -2.52  -1.34  -0.81  -0.31   0.58   2000    1.0\n",
      "b_Pot[0]   0.41    0.02   0.58  -0.64   0.03    0.4   0.75   1.64    586   1.01\n",
      "b_Pot[1]  -0.34    0.02   0.58  -1.54  -0.73  -0.36   0.04    0.8    637   1.01\n",
      "b_Pot[2]  -0.64    0.02   0.62  -1.85  -1.03  -0.64  -0.26   0.62    636   1.01\n",
      "b_Pot[3]   0.74    0.02   0.58  -0.34   0.38   0.72   1.08   1.97    558   1.01\n",
      "b_Pot[4]  -0.15    0.02   0.58  -1.29  -0.53  -0.16   0.21   1.04    631   1.02\n",
      "b_Pot[5]  -0.97    0.02   0.64  -2.34  -1.35  -0.95  -0.54   0.23    905    1.0\n",
      "b_Pot[6]   0.69    0.02    0.6  -0.44    0.3   0.65   1.05   1.99    584   1.01\n",
      "b_Pot[7]  -0.81    0.02   0.62  -2.06   -1.2   -0.8  -0.41    0.4    864    1.0\n",
      "b_Pot[8]   1.37    0.02    0.6    0.3   0.99   1.34   1.73   2.65    647   1.01\n",
      "b_Pot[9]  -0.14    0.02   0.61  -1.31  -0.53  -0.14   0.24   1.05    789   1.01\n",
      "s_I        1.01  4.1e-3   0.12   0.82   0.93    1.0   1.08   1.26    793    1.0\n",
      "s_Pot      1.05    0.01   0.37   0.52   0.79   0.98   1.22   1.96    853    1.0\n",
      "lp__     673.81     0.4   9.16 655.01 667.67  674.1 679.97 690.64    514    1.0\n",
      "\n",
      "Samples were drawn using NUTS at Thu Apr 20 13:54:41 2017.\n",
      "For each parameter, n_eff is a crude measure of effective sample size,\n",
      "and Rhat is the potential scale reduction factor on split chains (at \n",
      "convergence, Rhat=1).\n"
     ]
    }
   ],
   "source": [
    "fit_7 = pystan.stan(model_code=model_7, data=data_7, iter=1000, chains=4)\n",
    "print(fit_7)"
   ]
  },
  {
   "cell_type": "code",
   "execution_count": 59,
   "metadata": {
    "collapsed": false
   },
   "outputs": [],
   "source": [
    "s_I = fit_7.extract(permuted=True)['s_I']\n",
    "s_Pot = fit_7.extract(permuted=True)['s_Pot']\n",
    "df_7f = pd.DataFrame(np.array([s_I, s_Pot]).T)\n",
    "df_7f.columns = ['s_I', 's_Pot']"
   ]
  },
  {
   "cell_type": "code",
   "execution_count": 60,
   "metadata": {
    "collapsed": false
   },
   "outputs": [
    {
     "name": "stderr",
     "output_type": "stream",
     "text": [
      "/Users/takashi_miyamoto/.pyenv/versions/anaconda3-2.1.0/lib/python3.4/site-packages/seaborn/categorical.py:1791: UserWarning: The violinplot API has been changed. Attempting to adjust your arguments for the new API (which might not work). Please update your code. See the version 0.6 release notes for more info.\n",
      "  warnings.warn(msg, UserWarning)\n",
      "/Users/takashi_miyamoto/.pyenv/versions/anaconda3-2.1.0/lib/python3.4/site-packages/matplotlib/__init__.py:938: UserWarning: axes.color_cycle is deprecated and replaced with axes.prop_cycle; please use the latter.\n",
      "  warnings.warn(self.msg_depr % (key, alt_key))\n"
     ]
    },
    {
     "data": {
      "text/plain": [
       "<matplotlib.axes._subplots.AxesSubplot at 0x140c49dd8>"
      ]
     },
     "execution_count": 60,
     "metadata": {},
     "output_type": "execute_result"
    },
    {
     "data": {
      "image/png": "[encoded data removed]",
      "text/plain": [
       "<matplotlib.figure.Figure at 0x11fe6bdd8>"
      ]
     },
     "metadata": {},
     "output_type": "display_data"
    }
   ],
   "source": [
    "sns.violinplot(df_7f)"
   ]
  },
  {
   "cell_type": "code",
   "execution_count": null,
   "metadata": {
    "collapsed": true
   },
   "outputs": [],
   "source": []
  }
 ],
 "metadata": {
  "kernelspec": {
   "display_name": "Python 3",
   "language": "python",
   "name": "python3"
  },
  "language_info": {
   "codemirror_mode": {
    "name": "ipython",
    "version": 3
   },
   "file_extension": ".py",
   "mimetype": "text/x-python",
   "name": "python",
   "nbconvert_exporter": "python",
   "pygments_lexer": "ipython3",
   "version": "3.4.4"
  }
 },
 "nbformat": 4,
 "nbformat_minor": 2
}
