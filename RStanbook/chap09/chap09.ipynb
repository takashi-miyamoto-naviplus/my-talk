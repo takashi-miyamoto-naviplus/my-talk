{
 "cells": [
  {
   "cell_type": "markdown",
   "metadata": {},
   "source": [
    "# chapter 9. 一歩進んだ文法"
   ]
  },
  {
   "cell_type": "code",
   "execution_count": 1,
   "metadata": {
    "collapsed": false
   },
   "outputs": [
    {
     "name": "stderr",
     "output_type": "stream",
     "text": [
      "/Users/takashi_miyamoto/.pyenv/versions/anaconda3-2.1.0/lib/python3.4/site-packages/matplotlib/__init__.py:913: UserWarning: axes.color_cycle is deprecated and replaced with axes.prop_cycle; please use the latter.\n",
      "  warnings.warn(self.msg_depr % (key, alt_key))\n"
     ]
    }
   ],
   "source": [
    "import pandas as pd\n",
    "import numpy as np\n",
    "import pystan\n",
    "import matplotlib.pyplot as plt\n",
    "import seaborn as sns\n",
    "%matplotlib inline"
   ]
  },
  {
   "cell_type": "markdown",
   "metadata": {},
   "source": [
    "## 9.2 ベクトル化による高速化\n",
    "### 9.2.1 ベクトル化の基本"
   ]
  },
  {
   "cell_type": "code",
   "execution_count": 2,
   "metadata": {
    "collapsed": true
   },
   "outputs": [],
   "source": [
    "model_9_1b = \"\"\"\n",
    "data {\n",
    "  int N;\n",
    "  vector[N] X;\n",
    "  vector[N] Y;\n",
    "  int N_new;\n",
    "  vector[N_new] X_new;\n",
    "}\n",
    "\n",
    "parameters {\n",
    "  real a;\n",
    "  real b;\n",
    "  real<lower=0> sigma;\n",
    "}\n",
    "\n",
    "transformed parameters {\n",
    "  vector[N] mu;\n",
    "  mu = a + b*X;\n",
    "}\n",
    "\n",
    "model {\n",
    "  Y ~ normal(mu, sigma);\n",
    "}\n",
    "\n",
    "generated quantities {\n",
    "  vector[N_new] Y_new;\n",
    "  for (n in 1:N_new)\n",
    "    Y_new[n] = normal_rng(a + b*X_new[n], sigma);\n",
    "}\n",
    "\"\"\""
   ]
  },
  {
   "cell_type": "code",
   "execution_count": 3,
   "metadata": {
    "collapsed": true
   },
   "outputs": [],
   "source": [
    "df_1 = pd.read_csv('../chap04/input/data-salary.txt')\n",
    "data_1 = df_1.to_dict('list')\n",
    "data_1['N'] = len(df_1)\n",
    "data_1['X_new'] = np.linspace(20, 65, 45)\n",
    "data_1['N_new'] = len(data_1['X_new'])"
   ]
  },
  {
   "cell_type": "code",
   "execution_count": 4,
   "metadata": {
    "collapsed": false
   },
   "outputs": [
    {
     "name": "stderr",
     "output_type": "stream",
     "text": [
      "INFO:pystan:COMPILING THE C++ CODE FOR MODEL anon_model_c6d4bec653484d3073e815f93f98675c NOW.\n"
     ]
    }
   ],
   "source": [
    "fit_1 = pystan.stan(model_code=model_9_1b, data=data_1, iter=1000, chains=4)"
   ]
  },
  {
   "cell_type": "code",
   "execution_count": 5,
   "metadata": {
    "collapsed": true
   },
   "outputs": [],
   "source": [
    "def plot_pred_range(fit, xs, ys_key, percentiles, alpha):\n",
    "    ys = (fit.extract(permuted=True))[ys_key].T\n",
    "    plt.fill_between( \\\n",
    "        xs, \\\n",
    "        [np.percentile(y, percentiles[0]) for y in ys], \\\n",
    "        [np.percentile(y, percentiles[1]) for y in ys], alpha=alpha)"
   ]
  },
  {
   "cell_type": "code",
   "execution_count": 6,
   "metadata": {
    "collapsed": false
   },
   "outputs": [
    {
     "data": {
      "image/png": "[encoded data removed]",
      "text/plain": [
       "<matplotlib.figure.Figure at 0x1156b0208>"
      ]
     },
     "metadata": {},
     "output_type": "display_data"
    }
   ],
   "source": [
    "a = np.percentile( fit_1.extract(permuted=True)['a'].T, 50)\n",
    "b = np.percentile( fit_1.extract(permuted=True)['b'].T, 50)\n",
    "plt.plot(df_1['X'], df_1['Y'], \"o\")\n",
    "plot_pred_range(fit_1, data_1['X_new'], 'Y_new', (25, 75), 0.5)\n",
    "plt.plot(data_1['X_new'], a+b*data_1['X_new'], 'k-')\n",
    "plt.show()"
   ]
  },
  {
   "cell_type": "markdown",
   "metadata": {},
   "source": [
    "### 9.2.2 ベクトル化の応用例--その(1)\n",
    "\n",
    "see 練習問題(4)"
   ]
  },
  {
   "cell_type": "markdown",
   "metadata": {},
   "source": [
    "### 9.2.3 ベクトル化の応用例--その(2)"
   ]
  },
  {
   "cell_type": "code",
   "execution_count": 7,
   "metadata": {
    "collapsed": true
   },
   "outputs": [],
   "source": [
    "model_8_7b = \"\"\"\n",
    "data {\n",
    "  int N;\n",
    "  int T;\n",
    "  vector[T] Time;\n",
    "  matrix[N,T] Y;\n",
    "  int T_new;\n",
    "  vector[T_new] Time_new;\n",
    "}\n",
    "\n",
    "parameters {\n",
    "  real a0;\n",
    "  real b0;\n",
    "  vector[N] log_a;\n",
    "  vector[N] log_b;\n",
    "  real<lower=0> s_a;\n",
    "  real<lower=0> s_b;\n",
    "  real<lower=0> s_Y;\n",
    "}\n",
    "\n",
    "transformed parameters {\n",
    "  vector[N] a;\n",
    "  vector[N] b;\n",
    "  matrix[N,T] mu;\n",
    "  a = exp(log_a);\n",
    "  b = exp(log_b);\n",
    "  for (t in 1:T)\n",
    "    for (n in 1:N)\n",
    "      mu[n,t] = a[n]*(1 - exp(-b[n]*Time[t]));\n",
    "}\n",
    "\n",
    "model {\n",
    "  log_a ~ normal(a0, s_a);\n",
    "  log_b ~ normal(b0, s_b);\n",
    "  to_vector(Y) ~ normal(to_vector(mu), s_Y);\n",
    "}\n",
    "\n",
    "generated quantities {\n",
    "  real y_new[N,T_new];\n",
    "  for (n in 1:N)\n",
    "    for (t in 1:T_new)\n",
    "      y_new[n,t] = normal_rng(a[n]*(1 - exp(-b[n]*Time_new[t])), s_Y);\n",
    "}\n",
    "\"\"\""
   ]
  },
  {
   "cell_type": "code",
   "execution_count": 8,
   "metadata": {
    "collapsed": false
   },
   "outputs": [],
   "source": [
    "df_8_7 = pd.read_csv('../chap08/input/data-conc-2.txt')\n",
    "times = [1,2,4,8,12,24]\n",
    "cols = ['Time'+str(time) for time in times]\n",
    "ts = np.linspace(0, 24, 60)\n",
    "data_8_7 = {'N':len(df_8_7), 'T':len(times), 'Time':times, 'T_new':len(ts), 'Time_new':ts}\n",
    "data_8_7['Y'] = np.asarray([list(df_8_7[col]) for col in cols]).T.tolist()"
   ]
  },
  {
   "cell_type": "code",
   "execution_count": 9,
   "metadata": {
    "collapsed": false
   },
   "outputs": [
    {
     "name": "stderr",
     "output_type": "stream",
     "text": [
      "INFO:pystan:COMPILING THE C++ CODE FOR MODEL anon_model_9f226fa7fd9c142855ac118e8a90c40e NOW.\n"
     ]
    }
   ],
   "source": [
    "fit_8_7 = pystan.stan(model_code=model_8_7b, data=data_8_7, iter=1000, chains=4)"
   ]
  },
  {
   "cell_type": "code",
   "execution_count": 10,
   "metadata": {
    "collapsed": false
   },
   "outputs": [
    {
     "data": {
      "image/png": "[encoded data removed]",
      "text/plain": [
       "<matplotlib.figure.Figure at 0x1065b3860>"
      ]
     },
     "metadata": {},
     "output_type": "display_data"
    }
   ],
   "source": [
    "yt = fit_8_7.extract(permuted=True)['y_new'].transpose(1,2,0)\n",
    "f, axarr = plt.subplots(4, 4, figsize=(16, 12))\n",
    "for i in range(0, 16):\n",
    "    yti = yt[i]\n",
    "    yli = [np.percentile(y, 2.5) for y in yti]\n",
    "    yhi = [np.percentile(y, 97.5) for y in yti]\n",
    "    axarr[i//4, i%4].plot(times, data_8_7['Y'][i], 'o-')\n",
    "    axarr[i//4, i%4].fill_between(data_8_7['Time_new'], yli, yhi, alpha=0.5)\n",
    "    axarr[i//4, i%4].set_xlim((0, 24))\n",
    "    axarr[i//4, i%4].set_ylim((0, 40))\n",
    "plt.show()"
   ]
  },
  {
   "cell_type": "markdown",
   "metadata": {},
   "source": [
    "## 9.3 ベクトルや行列の数学的性質の利用\n",
    "### 9.3.1 多変量正規分布"
   ]
  },
  {
   "cell_type": "code",
   "execution_count": 11,
   "metadata": {
    "collapsed": false
   },
   "outputs": [
    {
     "name": "stdout",
     "output_type": "stream",
     "text": [
      "(32, 2)\n"
     ]
    },
    {
     "data": {
      "text/html": [
       "<div>\n",
       "<table border=\"1\" class=\"dataframe\">\n",
       "  <thead>\n",
       "    <tr style=\"text-align: right;\">\n",
       "      <th></th>\n",
       "      <th>Y1</th>\n",
       "      <th>Y2</th>\n",
       "    </tr>\n",
       "  </thead>\n",
       "  <tbody>\n",
       "    <tr>\n",
       "      <th>0</th>\n",
       "      <td>9.2</td>\n",
       "      <td>2.56</td>\n",
       "    </tr>\n",
       "    <tr>\n",
       "      <th>1</th>\n",
       "      <td>9.8</td>\n",
       "      <td>1.99</td>\n",
       "    </tr>\n",
       "    <tr>\n",
       "      <th>2</th>\n",
       "      <td>9.4</td>\n",
       "      <td>2.40</td>\n",
       "    </tr>\n",
       "    <tr>\n",
       "      <th>3</th>\n",
       "      <td>9.2</td>\n",
       "      <td>2.27</td>\n",
       "    </tr>\n",
       "    <tr>\n",
       "      <th>4</th>\n",
       "      <td>8.1</td>\n",
       "      <td>3.68</td>\n",
       "    </tr>\n",
       "  </tbody>\n",
       "</table>\n",
       "</div>"
      ],
      "text/plain": [
       "    Y1    Y2\n",
       "0  9.2  2.56\n",
       "1  9.8  1.99\n",
       "2  9.4  2.40\n",
       "3  9.2  2.27\n",
       "4  8.1  3.68"
      ]
     },
     "execution_count": 11,
     "metadata": {},
     "output_type": "execute_result"
    }
   ],
   "source": [
    "df_9_2 = pd.read_csv('input/data-mvn.txt')\n",
    "print(df_9_2.shape)\n",
    "df_9_2.head()"
   ]
  },
  {
   "cell_type": "code",
   "execution_count": 12,
   "metadata": {
    "collapsed": false
   },
   "outputs": [],
   "source": [
    "data_9_2 = dict()\n",
    "data_9_2['N'] = len(df_9_2)\n",
    "data_9_2['D'] = 2\n",
    "data_9_2['Y'] = []\n",
    "for y1,y2 in zip(df_9_2['Y1'],df_9_2['Y2']):\n",
    "    data_9_2['Y'].append([y1,y2])\n",
    "#data_9_2    "
   ]
  },
  {
   "cell_type": "code",
   "execution_count": 13,
   "metadata": {
    "collapsed": true
   },
   "outputs": [],
   "source": [
    "model_9_2 = \"\"\"\n",
    "data {\n",
    "  int N;\n",
    "  int D;\n",
    "  vector[D] Y[N];\n",
    "}\n",
    "\n",
    "parameters {\n",
    "  vector[D] mn;\n",
    "  cov_matrix[D] cov;\n",
    "}\n",
    "\n",
    "model {\n",
    "  for (n in 1:N)\n",
    "    Y[n] ~ multi_normal(mn, cov);\n",
    "}\n",
    "\"\"\""
   ]
  },
  {
   "cell_type": "code",
   "execution_count": 14,
   "metadata": {
    "collapsed": false
   },
   "outputs": [
    {
     "name": "stderr",
     "output_type": "stream",
     "text": [
      "INFO:pystan:COMPILING THE C++ CODE FOR MODEL anon_model_049d7a30bc97ec009cde0548f03429a0 NOW.\n"
     ]
    },
    {
     "name": "stdout",
     "output_type": "stream",
     "text": [
      "CPU times: user 1.05 s, sys: 87.4 ms, total: 1.13 s\n",
      "Wall time: 28.3 s\n"
     ]
    }
   ],
   "source": [
    "%time fit_9_2 = pystan.stan(model_code=model_9_2, data=data_9_2, iter=1000, chains=4)"
   ]
  },
  {
   "cell_type": "code",
   "execution_count": 15,
   "metadata": {
    "collapsed": false
   },
   "outputs": [
    {
     "name": "stdout",
     "output_type": "stream",
     "text": [
      "Inference for Stan model: anon_model_049d7a30bc97ec009cde0548f03429a0.\n",
      "4 chains, each with iter=1000; warmup=500; thin=1; \n",
      "post-warmup draws per chain=500, total post-warmup draws=2000.\n",
      "\n",
      "           mean se_mean     sd   2.5%    25%    50%    75%  97.5%  n_eff   Rhat\n",
      "mn[0]      9.19  3.8e-3   0.11   8.97   9.12    9.2   9.27   9.41    878    1.0\n",
      "mn[1]      2.56  2.8e-3   0.09   2.39    2.5   2.56   2.62   2.75   1128    1.0\n",
      "cov[0,0]   0.42  3.4e-3   0.12   0.24   0.33    0.4   0.49   0.72   1380    1.0\n",
      "cov[1,0]   -0.3  2.6e-3   0.09  -0.53  -0.35  -0.29  -0.23  -0.16   1262    1.0\n",
      "cov[0,1]   -0.3  2.6e-3   0.09  -0.53  -0.35  -0.29  -0.23  -0.16   1262    1.0\n",
      "cov[1,1]   0.29  2.3e-3   0.08   0.17   0.23   0.27   0.33    0.5   1327    1.0\n",
      "lp__      25.14    0.06   1.72  20.94  24.29  25.45   26.4  27.42    864    1.0\n",
      "\n",
      "Samples were drawn using NUTS at Wed Apr 26 20:13:30 2017.\n",
      "For each parameter, n_eff is a crude measure of effective sample size,\n",
      "and Rhat is the potential scale reduction factor on split chains (at \n",
      "convergence, Rhat=1).\n"
     ]
    }
   ],
   "source": [
    "print(fit_9_2)"
   ]
  },
  {
   "cell_type": "code",
   "execution_count": 16,
   "metadata": {
    "collapsed": true
   },
   "outputs": [],
   "source": [
    "model_9_2a = \"\"\"\n",
    "data {\n",
    "  int N;\n",
    "  int D;\n",
    "  vector[D] Y[N];\n",
    "}\n",
    "\n",
    "parameters {\n",
    "  vector[D] mn;\n",
    "  cov_matrix[D] cov;\n",
    "}\n",
    "\n",
    "model {\n",
    "  Y ~ multi_normal(mn, cov);\n",
    "}\n",
    "\"\"\""
   ]
  },
  {
   "cell_type": "code",
   "execution_count": 17,
   "metadata": {
    "collapsed": false
   },
   "outputs": [
    {
     "name": "stderr",
     "output_type": "stream",
     "text": [
      "INFO:pystan:COMPILING THE C++ CODE FOR MODEL anon_model_0b2da58afbd4e86c1fa7764fb5993b9f NOW.\n"
     ]
    },
    {
     "name": "stdout",
     "output_type": "stream",
     "text": [
      "CPU times: user 1.32 s, sys: 112 ms, total: 1.43 s\n",
      "Wall time: 26.2 s\n"
     ]
    }
   ],
   "source": [
    "%time fit_9_2a = pystan.stan(model_code=model_9_2a, data=data_9_2, iter=1000, chains=4)"
   ]
  },
  {
   "cell_type": "markdown",
   "metadata": {},
   "source": [
    "### 9.3.2 行列演算を使った重回帰"
   ]
  },
  {
   "cell_type": "code",
   "execution_count": 18,
   "metadata": {
    "collapsed": false
   },
   "outputs": [
    {
     "name": "stdout",
     "output_type": "stream",
     "text": [
      "(50, 6)\n"
     ]
    },
    {
     "data": {
      "text/html": [
       "<div>\n",
       "<table border=\"1\" class=\"dataframe\">\n",
       "  <thead>\n",
       "    <tr style=\"text-align: right;\">\n",
       "      <th></th>\n",
       "      <th>A</th>\n",
       "      <th>Score</th>\n",
       "      <th>X3</th>\n",
       "      <th>X4</th>\n",
       "      <th>Y</th>\n",
       "      <th>dummy</th>\n",
       "    </tr>\n",
       "  </thead>\n",
       "  <tbody>\n",
       "    <tr>\n",
       "      <th>0</th>\n",
       "      <td>0</td>\n",
       "      <td>69</td>\n",
       "      <td>-0.56</td>\n",
       "      <td>1.20</td>\n",
       "      <td>0.286</td>\n",
       "      <td>1</td>\n",
       "    </tr>\n",
       "    <tr>\n",
       "      <th>1</th>\n",
       "      <td>1</td>\n",
       "      <td>145</td>\n",
       "      <td>-0.23</td>\n",
       "      <td>0.67</td>\n",
       "      <td>0.196</td>\n",
       "      <td>1</td>\n",
       "    </tr>\n",
       "    <tr>\n",
       "      <th>2</th>\n",
       "      <td>0</td>\n",
       "      <td>125</td>\n",
       "      <td>1.56</td>\n",
       "      <td>0.98</td>\n",
       "      <td>0.261</td>\n",
       "      <td>1</td>\n",
       "    </tr>\n",
       "    <tr>\n",
       "      <th>3</th>\n",
       "      <td>1</td>\n",
       "      <td>86</td>\n",
       "      <td>0.07</td>\n",
       "      <td>1.91</td>\n",
       "      <td>0.109</td>\n",
       "      <td>1</td>\n",
       "    </tr>\n",
       "    <tr>\n",
       "      <th>4</th>\n",
       "      <td>1</td>\n",
       "      <td>158</td>\n",
       "      <td>0.13</td>\n",
       "      <td>0.97</td>\n",
       "      <td>0.230</td>\n",
       "      <td>1</td>\n",
       "    </tr>\n",
       "  </tbody>\n",
       "</table>\n",
       "</div>"
      ],
      "text/plain": [
       "   A  Score    X3    X4      Y  dummy\n",
       "0  0     69 -0.56  1.20  0.286      1\n",
       "1  1    145 -0.23  0.67  0.196      1\n",
       "2  0    125  1.56  0.98  0.261      1\n",
       "3  1     86  0.07  1.91  0.109      1\n",
       "4  1    158  0.13  0.97  0.230      1"
      ]
     },
     "execution_count": 18,
     "metadata": {},
     "output_type": "execute_result"
    }
   ],
   "source": [
    "df_9_3 = pd.read_csv('input/data-attendance-5.txt')\n",
    "df_9_3['dummy'] = 1\n",
    "print(df_9_3.shape)\n",
    "df_9_3.head()\n"
   ]
  },
  {
   "cell_type": "code",
   "execution_count": 19,
   "metadata": {
    "collapsed": false
   },
   "outputs": [],
   "source": [
    "data_9_3 = dict()\n",
    "data_9_3['X'] = list(df_9_3[['dummy','A','Score','X3','X4']].T.to_dict('list').values())\n",
    "data_9_3['Y'] = list(df_9_3['Y'])\n",
    "data_9_3['N'] = len(data_9_3['X'])\n",
    "data_9_3['D'] = 5"
   ]
  },
  {
   "cell_type": "code",
   "execution_count": 20,
   "metadata": {
    "collapsed": true
   },
   "outputs": [],
   "source": [
    "model_9_3 = \"\"\"\n",
    "data {\n",
    "  int N;\n",
    "  int D;\n",
    "  matrix[N,D] X;\n",
    "  vector<lower=0, upper=1>[N] Y;\n",
    "}\n",
    "\n",
    "parameters {\n",
    "  vector[D] b;\n",
    "  real<lower=0> sigma;\n",
    "}\n",
    "\n",
    "transformed parameters {\n",
    "  vector[N] mu;\n",
    "  mu = X*b;\n",
    "}\n",
    "\n",
    "model {\n",
    "  Y ~ normal(mu, sigma);\n",
    "}\n",
    "\"\"\""
   ]
  },
  {
   "cell_type": "code",
   "execution_count": 21,
   "metadata": {
    "collapsed": false
   },
   "outputs": [
    {
     "name": "stderr",
     "output_type": "stream",
     "text": [
      "INFO:pystan:COMPILING THE C++ CODE FOR MODEL anon_model_565b73b2f402277075fea40e7aec75ab NOW.\n"
     ]
    },
    {
     "name": "stdout",
     "output_type": "stream",
     "text": [
      "CPU times: user 1.11 s, sys: 80.5 ms, total: 1.19 s\n",
      "Wall time: 24.6 s\n"
     ]
    }
   ],
   "source": [
    "%time fit_9_3 = pystan.stan(model_code=model_9_3, data=data_9_3, iter=1000, chains=4)"
   ]
  },
  {
   "cell_type": "code",
   "execution_count": 22,
   "metadata": {
    "collapsed": false
   },
   "outputs": [
    {
     "name": "stdout",
     "output_type": "stream",
     "text": [
      "Inference for Stan model: anon_model_565b73b2f402277075fea40e7aec75ab.\n",
      "4 chains, each with iter=1000; warmup=500; thin=1; \n",
      "post-warmup draws per chain=500, total post-warmup draws=2000.\n",
      "\n",
      "         mean se_mean     sd   2.5%    25%    50%    75%  97.5%  n_eff   Rhat\n",
      "b[0]     0.14  1.2e-3   0.04   0.06   0.11   0.14   0.16   0.21   1043    1.0\n",
      "b[1]    -0.14  4.6e-4   0.02  -0.17  -0.15  -0.14  -0.13  -0.11   1232    1.0\n",
      "b[2]   1.6e-3  8.0e-6 2.8e-4 1.1e-3 1.4e-3 1.6e-3 1.8e-3 2.2e-3   1197    nan\n",
      "b[3]  -2.9e-3  2.0e-4 8.3e-3  -0.02-8.5e-3-2.9e-3 2.6e-3   0.01   1665    1.0\n",
      "b[4]    -0.01  3.8e-4   0.01  -0.04  -0.02  -0.01-4.3e-3   0.01   1169    1.0\n",
      "sigma    0.05  1.7e-4 5.7e-3   0.04   0.05   0.05   0.06   0.06   1103    1.0\n",
      "mu[0]    0.23  4.3e-4   0.02    0.2   0.22   0.23   0.25   0.27   1511    1.0\n",
      "mu[1]    0.22  3.8e-4   0.01   0.19   0.21   0.22   0.23   0.25   1469    1.0\n",
      "mu[2]    0.32  3.7e-4   0.02   0.29   0.31   0.32   0.33   0.35   1694    1.0\n",
      "mu[3]    0.11  3.8e-4   0.02   0.08    0.1   0.11   0.12   0.14   2000    1.0\n",
      "mu[4]    0.24  3.9e-4   0.02   0.21   0.23   0.24   0.25   0.27   1519    1.0\n",
      "mu[5]    0.32  4.6e-4   0.02   0.29   0.31   0.32   0.34   0.36   1650    1.0\n",
      "mu[6]    0.29  3.8e-4   0.01   0.26   0.28   0.29    0.3   0.32   1575    1.0\n",
      "mu[7]    0.22  4.9e-4   0.02   0.18   0.21   0.22   0.23   0.26   1404    1.0\n",
      "mu[8]    0.36  3.6e-4   0.01   0.33   0.35   0.36   0.37   0.39   1547    1.0\n",
      "mu[9]    0.37  3.2e-4   0.01   0.34   0.36   0.37   0.38    0.4   2000    1.0\n",
      "mu[10]   0.19  4.3e-4   0.02   0.16   0.18   0.19   0.21   0.23   1708    1.0\n",
      "mu[11]   0.35  2.7e-4   0.01   0.33   0.34   0.35   0.36   0.37   1758    1.0\n",
      "mu[12]   0.18  6.0e-4   0.02   0.14   0.17   0.18    0.2   0.22   1006    1.0\n",
      "mu[13]   0.29  4.0e-4   0.02   0.26   0.28   0.29    0.3   0.32   1470    1.0\n",
      "mu[14]    0.3  3.3e-4   0.01   0.27   0.29    0.3    0.3   0.32   1521    1.0\n",
      "mu[15]   0.15  7.8e-4   0.03   0.09   0.13   0.15   0.16    0.2   1107    1.0\n",
      "mu[16]   0.31  2.6e-4   0.01   0.28    0.3   0.31   0.31   0.33   1621    1.0\n",
      "mu[17]   0.25  5.8e-4   0.02    0.2   0.24   0.25   0.27    0.3   1652    1.0\n",
      "mu[18]   0.42  5.9e-4   0.02   0.38    0.4   0.42   0.43   0.46   1199    1.0\n",
      "mu[19]   0.24  4.1e-4   0.02   0.21   0.23   0.24   0.25   0.27   1516    1.0\n",
      "mu[20]   0.12  4.0e-4   0.02   0.09   0.11   0.12   0.13   0.15   1618    1.0\n",
      "mu[21]   0.16  4.4e-4   0.01   0.13   0.15   0.16   0.17   0.19   1046    1.0\n",
      "mu[22]   0.16  4.6e-4   0.02   0.13   0.15   0.16   0.17   0.19   1186    1.0\n",
      "mu[23]   0.22  4.3e-4   0.02   0.19   0.21   0.22   0.23   0.25   1506    1.0\n",
      "mu[24]   0.18  3.9e-4   0.01   0.15   0.17   0.18   0.19    0.2   1255    1.0\n",
      "mu[25]   0.18  6.1e-4   0.02   0.14   0.17   0.18    0.2   0.23   1364    1.0\n",
      "mu[26]   0.32  4.1e-4   0.01   0.29   0.31   0.32   0.33   0.35   1312    1.0\n",
      "mu[27]   0.33  3.8e-4   0.01    0.3   0.32   0.33   0.33   0.35   1332    1.0\n",
      "mu[28]    0.4  4.6e-4   0.02   0.36   0.38    0.4   0.41   0.43   1860    1.0\n",
      "mu[29]    0.3  3.5e-4   0.01   0.27   0.29    0.3   0.31   0.33   1789    1.0\n",
      "mu[30]   0.24  4.4e-4   0.02   0.21   0.23   0.24   0.25   0.28   1436    1.0\n",
      "mu[31]   0.09  4.0e-4   0.02   0.06   0.08   0.09    0.1   0.13   2000    1.0\n",
      "mu[32]    0.2  3.4e-4   0.01   0.17   0.19    0.2   0.21   0.23   1726    1.0\n",
      "mu[33]   0.17  3.3e-4   0.01   0.15   0.16   0.17   0.18    0.2   1825    1.0\n",
      "mu[34]   0.32  2.8e-4   0.01    0.3   0.32   0.32   0.33   0.35   1686    1.0\n",
      "mu[35]   0.33  3.0e-4   0.01   0.31   0.32   0.33   0.34   0.35   1542    1.0\n",
      "mu[36]   0.14  3.3e-4   0.01   0.11   0.13   0.14   0.15   0.17   1979    1.0\n",
      "mu[37]   0.29  3.2e-4   0.01   0.27   0.29   0.29    0.3   0.32   1536    1.0\n",
      "mu[38]   0.26  4.2e-4   0.02   0.22   0.24   0.26   0.27   0.29   1714    1.0\n",
      "mu[39]   0.27  3.6e-4   0.01   0.24   0.26   0.27   0.28   0.29   1353    1.0\n",
      "mu[40]   0.34  3.0e-4   0.01   0.31   0.33   0.34   0.35   0.36   1748    1.0\n",
      "mu[41]   0.34  2.6e-4   0.01   0.32   0.33   0.34   0.35   0.36   1663    1.0\n",
      "mu[42]   0.34  4.3e-4   0.02    0.3   0.33   0.34   0.35   0.37   1711    1.0\n",
      "mu[43]   0.36  5.1e-4   0.02   0.32   0.35   0.36   0.38   0.41   1694    1.0\n",
      "mu[44]    0.4  6.9e-4   0.02   0.36   0.39    0.4   0.42   0.45   1090    1.0\n",
      "mu[45]    0.3  3.8e-4   0.01   0.27   0.29    0.3   0.31   0.33   1532    1.0\n",
      "mu[46]   0.21  6.8e-4   0.02   0.17    0.2   0.21   0.23   0.26   1119    1.0\n",
      "mu[47]   0.38  3.6e-4   0.02   0.35   0.37   0.38   0.39   0.41   2000    1.0\n",
      "mu[48]   0.29  4.5e-4   0.02   0.26   0.28   0.29    0.3   0.32   1177    1.0\n",
      "mu[49]   0.14  3.2e-4   0.01   0.11   0.13   0.14   0.15   0.16   1798    1.0\n",
      "lp__   120.46    0.08   1.85 115.74 119.48 120.83  121.8 123.05    605    1.0\n",
      "\n",
      "Samples were drawn using NUTS at Wed Apr 26 20:14:21 2017.\n",
      "For each parameter, n_eff is a crude measure of effective sample size,\n",
      "and Rhat is the potential scale reduction factor on split chains (at \n",
      "convergence, Rhat=1).\n"
     ]
    }
   ],
   "source": [
    "print(fit_9_3)"
   ]
  },
  {
   "cell_type": "markdown",
   "metadata": {},
   "source": [
    "## 9.4 パラメータの制約\n",
    "\n",
    "### 9.4.2 simplex型"
   ]
  },
  {
   "cell_type": "code",
   "execution_count": 23,
   "metadata": {
    "collapsed": true
   },
   "outputs": [],
   "source": [
    "model_9_5 = \"\"\"\n",
    "data {\n",
    "  int K;\n",
    "  int<lower=0> Y[K];\n",
    "}\n",
    "\n",
    "parameters {\n",
    "  simplex[K] theta;\n",
    "}\n",
    "\n",
    "model {\n",
    "  Y ~ multinomial(theta);\n",
    "}\n",
    "\"\"\""
   ]
  },
  {
   "cell_type": "markdown",
   "metadata": {},
   "source": [
    "ここでは集計は非常に手抜きで集計した"
   ]
  },
  {
   "cell_type": "code",
   "execution_count": 25,
   "metadata": {
    "collapsed": false
   },
   "outputs": [
    {
     "data": {
      "text/plain": [
       "{'K': 6, 'N': 200, 'Y': [21, 75, 20, 51, 19, 14]}"
      ]
     },
     "execution_count": 25,
     "metadata": {},
     "output_type": "execute_result"
    }
   ],
   "source": [
    "df_9_5 = pd.read_csv('input/data-dice.txt')\n",
    "ds = df_9_5['Face'].values\n",
    "acc = []\n",
    "for d in range(1,7):\n",
    "    acc.append(len([x for x in ds if x==d]))\n",
    "df_9_5 = pd.read_csv('input/data-dice.txt')\n",
    "data_9_5 = dict()\n",
    "data_9_5['Y'] = acc\n",
    "data_9_5['N'] = len(df_9_5)\n",
    "data_9_5['K'] = 6\n",
    "data_9_5"
   ]
  },
  {
   "cell_type": "code",
   "execution_count": 26,
   "metadata": {
    "collapsed": false
   },
   "outputs": [
    {
     "name": "stderr",
     "output_type": "stream",
     "text": [
      "INFO:pystan:COMPILING THE C++ CODE FOR MODEL anon_model_e381bb7dd0efbf89a0228b73dfb25f85 NOW.\n"
     ]
    },
    {
     "name": "stdout",
     "output_type": "stream",
     "text": [
      "CPU times: user 1.26 s, sys: 86.3 ms, total: 1.34 s\n",
      "Wall time: 21.9 s\n"
     ]
    }
   ],
   "source": [
    "%time fit_9_5 = pystan.stan(model_code=model_9_5, data=data_9_5, iter=1000, chains=4)"
   ]
  },
  {
   "cell_type": "code",
   "execution_count": 27,
   "metadata": {
    "collapsed": false
   },
   "outputs": [
    {
     "name": "stdout",
     "output_type": "stream",
     "text": [
      "Inference for Stan model: anon_model_e381bb7dd0efbf89a0228b73dfb25f85.\n",
      "4 chains, each with iter=1000; warmup=500; thin=1; \n",
      "post-warmup draws per chain=500, total post-warmup draws=2000.\n",
      "\n",
      "           mean se_mean     sd   2.5%    25%    50%    75%  97.5%  n_eff   Rhat\n",
      "theta[0]   0.11  4.8e-4   0.02   0.07   0.09   0.11   0.12   0.15   2000    1.0\n",
      "theta[1]   0.37  7.8e-4   0.03    0.3   0.34   0.37   0.39   0.44   2000    1.0\n",
      "theta[2]    0.1  4.6e-4   0.02   0.07   0.09    0.1   0.11   0.14   2000    1.0\n",
      "theta[3]   0.25  6.6e-4   0.03    0.2   0.23   0.25   0.27   0.31   2000    1.0\n",
      "theta[4]    0.1  4.7e-4   0.02   0.06   0.08    0.1   0.11   0.14   2000    1.0\n",
      "theta[5]   0.07  4.0e-4   0.02   0.04   0.06   0.07   0.08   0.11   2000    1.0\n",
      "lp__     -333.0    0.06   1.61 -336.9 -333.7 -332.6 -331.8 -330.9    851    1.0\n",
      "\n",
      "Samples were drawn using NUTS at Wed Apr 26 20:17:48 2017.\n",
      "For each parameter, n_eff is a crude measure of effective sample size,\n",
      "and Rhat is the potential scale reduction factor on split chains (at \n",
      "convergence, Rhat=1).\n"
     ]
    }
   ],
   "source": [
    "print(fit_9_5)"
   ]
  },
  {
   "cell_type": "markdown",
   "metadata": {},
   "source": [
    "## 9.5 トラブルシューティング\n",
    "\n",
    "### 9.5.2 欠測値"
   ]
  },
  {
   "cell_type": "code",
   "execution_count": 28,
   "metadata": {
    "collapsed": true
   },
   "outputs": [],
   "source": [
    "model_9_6 = \"\"\"\n",
    "data {\n",
    "  int I;\n",
    "  int N;\n",
    "  int T;\n",
    "  real Time[T];\n",
    "  int<lower=1, upper=N> PersonID[I];\n",
    "  int<lower=1, upper=T> TimeID[I];\n",
    "  vector[I] Y;\n",
    "}\n",
    "\n",
    "parameters {\n",
    "  real a0;\n",
    "  real b0;\n",
    "  vector[N] log_a;\n",
    "  vector[N] log_b;\n",
    "  real<lower=0> s_a;\n",
    "  real<lower=0> s_b;\n",
    "  real<lower=0> s_Y;\n",
    "}\n",
    "\n",
    "transformed parameters {\n",
    "  vector[N] a;\n",
    "  vector[N] b;\n",
    "  row_vector[T] mu[N];\n",
    "  a = exp(log_a);\n",
    "  b = exp(log_b);\n",
    "  for (n in 1:N)\n",
    "    for (t in 1:T)\n",
    "      mu[n,t] = a[n]*(1 - exp(-b[n]*Time[t]));\n",
    "}\n",
    "\n",
    "model {\n",
    "  log_a ~ normal(a0, s_a);\n",
    "  log_b ~ normal(b0, s_b);\n",
    "  for (i in 1:I)\n",
    "    Y[i] ~ normal(mu[PersonID[i], TimeID[i]], s_Y);\n",
    "}\n",
    "\"\"\""
   ]
  },
  {
   "cell_type": "code",
   "execution_count": 29,
   "metadata": {
    "collapsed": false
   },
   "outputs": [],
   "source": [
    "df_9_6 = pd.read_csv('input/data-conc-2-NA-long.txt')\n",
    "data_9_6 = df_9_6.to_dict('list')\n",
    "data_9_6['Time'] = [1,2,4,8,12,24]\n",
    "data_9_6['T'] = len(data_9_6['Time'])\n",
    "data_9_6['N'] = np.max(data_9_6['PersonID'])\n",
    "data_9_6['I'] = len(df_9_6)"
   ]
  },
  {
   "cell_type": "code",
   "execution_count": 30,
   "metadata": {
    "collapsed": false
   },
   "outputs": [
    {
     "name": "stderr",
     "output_type": "stream",
     "text": [
      "INFO:pystan:COMPILING THE C++ CODE FOR MODEL anon_model_0fa6b886484470ba906a29f5325513a3 NOW.\n"
     ]
    },
    {
     "name": "stdout",
     "output_type": "stream",
     "text": [
      "CPU times: user 1.13 s, sys: 82.6 ms, total: 1.21 s\n",
      "Wall time: 23.6 s\n"
     ]
    }
   ],
   "source": [
    "%time fit_9_6 = pystan.stan(model_code=model_9_6, data=data_9_6, iter=1000, chains=4)"
   ]
  },
  {
   "cell_type": "code",
   "execution_count": 31,
   "metadata": {
    "collapsed": false
   },
   "outputs": [
    {
     "name": "stdout",
     "output_type": "stream",
     "text": [
      "Inference for Stan model: anon_model_0fa6b886484470ba906a29f5325513a3.\n",
      "4 chains, each with iter=1000; warmup=500; thin=1; \n",
      "post-warmup draws per chain=500, total post-warmup draws=2000.\n",
      "\n",
      "            mean se_mean     sd   2.5%    25%    50%    75%  97.5%  n_eff   Rhat\n",
      "a0          2.87  2.4e-3   0.11   2.66    2.8   2.88   2.95   3.09   2000    1.0\n",
      "b0         -1.19  3.7e-3   0.14  -1.47  -1.28  -1.18   -1.1  -0.93   1448    1.0\n",
      "log_a[0]     2.6  4.0e-3   0.15   2.33    2.5   2.59   2.69   2.95   1489    1.0\n",
      "log_a[1]    2.11  3.2e-3   0.14   1.82   2.02   2.11   2.21    2.4   2000    1.0\n",
      "log_a[2]    3.27  5.6e-3   0.21   2.92   3.13   3.26    3.4   3.72   1336    1.0\n",
      "log_a[3]    3.25  1.1e-3   0.05   3.16   3.22   3.25   3.29   3.35   2000    1.0\n",
      "log_a[4]    2.65  2.7e-3   0.12   2.43   2.57   2.65   2.73   2.89   1801    1.0\n",
      "log_a[5]    2.75  2.5e-3    0.1   2.56   2.69   2.75   2.82   2.96   1663    1.0\n",
      "log_a[6]     2.7  2.0e-3   0.09   2.52   2.63    2.7   2.76   2.87   2000    1.0\n",
      "log_a[7]     2.6  1.9e-3   0.08   2.43   2.54    2.6   2.65   2.76   2000    1.0\n",
      "log_a[8]    3.46  8.0e-4   0.04   3.39   3.44   3.46   3.49   3.54   2000    1.0\n",
      "log_a[9]    2.88  1.3e-3   0.06   2.77   2.84   2.88   2.92   2.99   2000    1.0\n",
      "log_a[10]   2.98  1.3e-3   0.06   2.86   2.93   2.98   3.02   3.09   2000    1.0\n",
      "log_a[11]   2.79  1.4e-3   0.06   2.66   2.75   2.79   2.83   2.91   2000    1.0\n",
      "log_a[12]   2.45  2.5e-3   0.11   2.23   2.38   2.45   2.52   2.68   2000    1.0\n",
      "log_a[13]   3.21  1.3e-3   0.06    3.1   3.18   3.21   3.25   3.32   2000    1.0\n",
      "log_a[14]   2.81  1.5e-3   0.07   2.67   2.77   2.81   2.86   2.95   2000    1.0\n",
      "log_a[15]   3.45  7.5e-4   0.03   3.38   3.43   3.45   3.48   3.52   2000    1.0\n",
      "log_b[0]   -1.43  8.7e-3   0.35  -2.18  -1.65  -1.41  -1.19   -0.8   1603    1.0\n",
      "log_b[1]   -1.33  9.2e-3   0.39  -2.12  -1.57  -1.32  -1.08  -0.61   1765    1.0\n",
      "log_b[2]    -1.3  7.8e-3   0.29  -1.92  -1.49  -1.29   -1.1  -0.76   1408    1.0\n",
      "log_b[3]   -1.13  3.3e-3   0.15  -1.42  -1.23  -1.13  -1.04  -0.84   2000    1.0\n",
      "log_b[4]   -1.66  7.5e-3   0.29  -2.24  -1.85  -1.66  -1.47   -1.1   1534    1.0\n",
      "log_b[5]   -1.47  7.1e-3    0.3  -2.08  -1.67  -1.47  -1.27  -0.91   1752    1.0\n",
      "log_b[6]   -1.43  5.5e-3   0.25  -1.94   -1.6  -1.43  -1.26  -0.97   2000    1.0\n",
      "log_b[7]   -1.08  6.2e-3   0.28   -1.6  -1.26  -1.08   -0.9  -0.51   2000    1.0\n",
      "log_b[8]   -0.94  2.9e-3   0.13  -1.19  -1.03  -0.95  -0.85  -0.69   2000    1.0\n",
      "log_b[9]   -0.89  4.6e-3   0.21  -1.29  -1.02  -0.89  -0.75  -0.46   2000    1.0\n",
      "log_b[10]  -0.95  4.6e-3    0.2  -1.34  -1.09  -0.96  -0.82  -0.54   2000    1.0\n",
      "log_b[11]  -0.68  5.4e-3   0.24  -1.12  -0.84  -0.69  -0.52  -0.18   2000    1.0\n",
      "log_b[12]  -1.52  7.8e-3   0.28  -2.09   -1.7  -1.52  -1.32  -0.98   1297    1.0\n",
      "log_b[13]  -1.39  3.7e-3   0.16  -1.69   -1.5   -1.4  -1.29  -1.07   1852    1.0\n",
      "log_b[14]  -1.17  4.4e-3    0.2  -1.56   -1.3  -1.17  -1.03  -0.78   2000    1.0\n",
      "log_b[15]  -0.63  4.1e-3   0.18  -1.01  -0.74  -0.62   -0.5  -0.27   2000    1.0\n",
      "s_a         0.43  2.1e-3   0.09   0.29   0.36   0.41   0.47   0.64   2000    1.0\n",
      "s_b         0.42  4.4e-3   0.13   0.19   0.33   0.41    0.5   0.72    901    1.0\n",
      "s_Y         1.75  4.6e-3   0.17   1.45   1.63   1.74   1.85   2.12   1333    1.0\n",
      "a[0]       13.63    0.06    2.2  10.31   12.2  13.36  14.71  19.13   1361    1.0\n",
      "a[1]        8.36    0.03   1.22   6.17   7.54   8.29   9.07  11.02   1939    1.0\n",
      "a[2]       27.02    0.17   5.89  18.47   22.9  25.96  29.93  41.36   1171    1.0\n",
      "a[3]       25.94    0.03   1.22  23.68  25.06   25.9  26.73  28.47   2000    1.0\n",
      "a[4]       14.27    0.04   1.66  11.33  13.08  14.15   15.3  17.97   1774    1.0\n",
      "a[5]       15.76    0.04   1.61   13.0  14.66  15.65  16.72  19.31   1667    1.0\n",
      "a[6]       14.87    0.03   1.34  12.38  13.94  14.84  15.72  17.59   2000    1.0\n",
      "a[7]       13.47    0.02   1.11  11.39  12.71  13.44  14.22  15.78   2000    1.0\n",
      "a[8]       31.88    0.03   1.14  29.61   31.1  31.84  32.63  34.31   2000    1.0\n",
      "a[9]       17.87    0.02   1.04  15.89  17.17  17.85  18.56  19.92   2000    1.0\n",
      "a[10]      19.64    0.03   1.15  17.51  18.81   19.6   20.4  21.96   2000    1.0\n",
      "a[11]      16.29    0.02   1.05  14.36  15.57  16.25  16.95  18.44   2000    1.0\n",
      "a[12]      11.63    0.03   1.31   9.27  10.76  11.55  12.45  14.52   2000    1.0\n",
      "a[13]       24.9    0.03   1.39  22.22  23.94   24.9  25.77  27.77   2000    1.0\n",
      "a[14]       16.7    0.03   1.14  14.45  15.96  16.69  17.43  19.02   2000    1.0\n",
      "a[15]      31.64    0.02   1.06  29.51   30.9  31.64  32.36  33.71   2000    1.0\n",
      "b[0]        0.25  1.9e-3   0.09   0.11   0.19   0.24    0.3   0.45   2000    1.0\n",
      "b[1]        0.28  3.0e-3   0.11   0.12   0.21   0.27   0.34   0.54   1441    1.0\n",
      "b[2]        0.28  2.1e-3   0.08   0.15   0.23   0.28   0.33   0.47   1588    1.0\n",
      "b[3]        0.33  1.1e-3   0.05   0.24   0.29   0.32   0.35   0.43   2000    1.0\n",
      "b[4]         0.2  1.5e-3   0.06   0.11   0.16   0.19   0.23   0.33   1490    1.0\n",
      "b[5]        0.24  1.6e-3   0.07   0.12   0.19   0.23   0.28    0.4   2000    1.0\n",
      "b[6]        0.25  1.4e-3   0.06   0.14    0.2   0.24   0.28   0.38   2000    1.0\n",
      "b[7]        0.35  2.3e-3    0.1    0.2   0.28   0.34    0.4    0.6   2000    1.0\n",
      "b[8]        0.39  1.2e-3   0.05    0.3   0.36   0.39   0.43    0.5   2000    1.0\n",
      "b[9]        0.42  2.0e-3   0.09   0.28   0.36   0.41   0.47   0.63   2000    1.0\n",
      "b[10]       0.39  1.9e-3   0.08   0.26   0.34   0.38   0.44   0.58   2000    1.0\n",
      "b[11]       0.52  2.9e-3   0.13   0.32   0.43    0.5    0.6   0.83   2000    1.0\n",
      "b[12]       0.23  1.8e-3   0.07   0.12   0.18   0.22   0.27   0.38   1325    1.0\n",
      "b[13]       0.25  9.6e-4   0.04   0.18   0.22   0.25   0.28   0.34   1819    1.0\n",
      "b[14]       0.32  1.4e-3   0.06   0.21   0.27   0.31   0.36   0.46   2000    1.0\n",
      "b[15]       0.54  2.2e-3    0.1   0.36   0.48   0.54    0.6   0.76   2000    1.0\n",
      "mu[0,0]     2.92    0.01   0.62   1.89   2.47   2.86   3.29   4.27   2000    1.0\n",
      "mu[1,0]     1.97    0.01   0.55   1.07   1.59   1.91   2.28    3.2   2000    1.0\n",
      "mu[2,0]      6.3    0.02   0.71    5.0   5.81   6.29   6.74   7.76   1897    1.0\n",
      "mu[3,0]     7.17    0.02   0.71    5.9   6.69   7.13   7.62   8.66   2000    1.0\n",
      "mu[4,0]     2.49    0.01   0.48   1.69   2.17   2.44   2.78   3.57   1583    1.0\n",
      "mu[5,0]     3.28    0.01   0.64   2.13   2.82   3.21   3.67   4.64   2000    1.0\n",
      "mu[6,0]     3.19    0.01   0.55   2.22    2.8   3.14   3.55   4.32   2000    1.0\n",
      "mu[7,0]     3.92    0.02   0.75   2.64    3.4   3.86   4.36   5.59   2000    1.0\n",
      "mu[8,0]    10.32    0.02   0.91   8.66    9.7  10.27  10.94  12.23   2000    1.0\n",
      "mu[9,0]     6.06    0.02   0.85   4.56   5.45   6.02   6.58   7.92   2000    1.0\n",
      "mu[10,0]     6.3    0.02   0.88   4.75   5.68   6.24   6.85   8.19   2000    1.0\n",
      "mu[11,0]    6.52    0.02   1.03   4.71   5.78   6.44   7.16   8.72   2000    1.0\n",
      "mu[12,0]    2.32    0.01   0.47   1.54   1.97   2.26    2.6   3.37   2000    1.0\n",
      "mu[13,0]    5.49    0.01    0.6   4.45   5.07   5.44   5.85   6.81   2000    1.0\n",
      "mu[14,0]    4.48    0.01   0.61   3.37   4.04   4.44   4.89   5.75   2000    1.0\n",
      "mu[15,0]   13.14    0.04   1.69   9.86  12.02  13.11   14.2  16.67   2000    1.0\n",
      "mu[0,1]     5.15    0.02   0.92   3.52   4.49    5.1   5.74   7.14   2000    1.0\n",
      "mu[1,1]     3.42    0.02   0.79   2.01   2.87   3.37   3.92   5.14   2000    1.0\n",
      "mu[2,1]    11.03    0.02   1.03   8.93  10.36  11.03   11.7  13.13   2000    1.0\n",
      "mu[3,1]    12.32    0.02   0.99  10.47  11.66   12.3  12.96  14.34   2000    1.0\n",
      "mu[4,1]     4.52    0.02   0.75    3.2    4.0   4.45   4.99   6.15   1618    1.0\n",
      "mu[5,1]     5.82    0.02   0.96   4.02   5.16   5.76   6.44   7.83   2000    1.0\n",
      "mu[6,1]     5.66    0.02   0.83   4.12   5.08   5.61   6.22   7.34   2000    1.0\n",
      "mu[7,1]     6.64    0.02    1.0    4.8   5.94   6.61   7.29   8.75   2000    1.0\n",
      "mu[8,1]    17.27    0.03   1.18  15.04  16.46  17.23  18.08  19.68   2000    1.0\n",
      "mu[9,1]    10.01    0.02   1.08   8.01   9.26  10.01  10.71  12.19   2000    1.0\n",
      "mu[10,1]   10.52    0.03   1.14   8.34   9.72  10.49  11.28  12.87   2000    1.0\n",
      "mu[11,1]   10.34    0.03   1.18   8.12   9.53  10.32  11.14  12.65   2000    1.0\n",
      "mu[12,1]    4.14    0.02   0.73   2.89   3.61   4.08   4.61   5.74   2000    1.0\n",
      "mu[13,1]    9.74    0.02    0.9   8.14   9.13   9.68  10.32  11.68   2000    1.0\n",
      "mu[14,1]    7.73    0.02   0.86    6.1   7.11    7.7   8.31    9.5   2000    1.0\n",
      "mu[15,1]   20.72    0.04   1.95  16.67  19.47  20.76  22.03  24.51   2000    1.0\n",
      "mu[0,2]     8.22    0.02   1.05   6.18    7.5   8.19   8.92  10.35   1784    1.0\n",
      "mu[1,2]     5.33    0.02   0.92   3.54   4.72   5.32   5.91   7.16   2000    1.0\n",
      "mu[2,2]    17.33    0.04   1.53  14.11  16.33  17.36  18.33  20.19   1892    1.0\n",
      "mu[3,2]    18.73    0.02   0.99  16.76  18.07  18.73  19.41  20.63   2000    1.0\n",
      "mu[4,2]     7.53    0.02   0.95   5.76   6.89   7.47   8.14   9.47   2000    1.0\n",
      "mu[5,2]     9.38    0.03    1.1   7.11   8.66   9.38  10.12  11.55   1748    1.0\n",
      "mu[6,2]     9.09    0.02   0.99    7.2   8.42   9.07   9.77   11.0   2000    1.0\n",
      "mu[7,2]     9.89    0.02   0.96   7.89   9.23   9.95  10.56  11.74   2000    1.0\n",
      "mu[8,2]    25.11    0.02   1.03  23.05  24.42  25.14  25.84  27.11   2000    1.0\n",
      "mu[9,2]    14.32    0.02   0.94  12.43  13.71  14.37  14.96  16.05   2000    1.0\n",
      "mu[10,2]   15.31    0.02   1.03  13.23  14.62  15.33  15.99  17.24   2000    1.0\n",
      "mu[11,2]    14.0    0.02   0.93   12.1  13.38  14.04   14.6  15.76   2000    1.0\n",
      "mu[12,2]    6.74    0.02   0.91   5.05   6.12   6.71   7.35   8.63   2000    1.0\n",
      "mu[13,2]   15.61    0.02   1.03  13.64  14.91   15.6   16.3   17.7   2000    1.0\n",
      "mu[14,2]   11.81    0.02   0.92  10.04  11.19  11.79  12.45  13.57   2000    1.0\n",
      "mu[15,2]   27.73    0.03   1.44  24.55   26.9  27.85  28.71  30.33   2000    1.0\n",
      "mu[0,3]    11.27    0.02   1.04   9.16  10.58  11.28  11.94  13.26   2000    1.0\n",
      "mu[1,3]     7.11    0.02   0.87   5.36   6.56    7.1   7.68   8.85   2000    1.0\n",
      "mu[2,3]    23.23    0.08   3.03   17.8  21.08  23.15  25.17  29.44   1506    1.0\n",
      "mu[3,3]    23.86    0.02   0.84  22.23   23.3  23.85  24.42  25.57   2000    1.0\n",
      "mu[4,3]    10.94    0.02   0.89   9.24  10.34  10.93  11.54  12.64   2000    1.0\n",
      "mu[5,3]     13.0    0.02    0.9  11.08  12.47  13.01  13.59  14.74   1526    1.0\n",
      "mu[6,3]    12.51    0.02    0.9  10.72  11.91  12.53  13.12  14.28   2000    1.0\n",
      "mu[7,3]    12.41    0.02   0.82  10.84  11.86  12.41  12.96  14.03   2000    1.0\n",
      "mu[8,3]    30.39    0.02   0.85  28.71  29.81  30.37  30.96  32.11   2000    1.0\n",
      "mu[9,3]    17.09    0.02   0.82  15.41  16.56  17.11  17.62  18.68   2000    1.0\n",
      "mu[10,3]    18.6    0.02   0.87  16.91  18.01  18.57  19.19  20.29   2000    1.0\n",
      "mu[11,3]   15.91    0.02    0.9  14.18   15.3  15.89   16.5   17.7   2000    1.0\n",
      "mu[12,3]    9.46    0.02   0.89    7.7   8.85   9.45  10.03  11.24   2000    1.0\n",
      "mu[13,3]   21.35    0.02   0.87  19.65  20.77  21.36  21.95  23.02   2000    1.0\n",
      "mu[14,3]   15.19    0.02   0.83  13.54  14.65  15.19  15.72  16.87   2000    1.0\n",
      "mu[15,3]   31.09    0.02   0.99  29.11  30.41  31.09  31.76  32.96   2000    1.0\n",
      "mu[0,4]    12.52    0.03   1.29  10.09  11.64  12.51  13.41  14.96   2000    1.0\n",
      "mu[1,4]     7.79    0.02   0.92   5.97   7.17    7.8   8.39   9.68   2000    1.0\n",
      "mu[2,4]    25.43    0.11   4.22  18.26  22.36  25.05  27.98  34.81   1371    1.0\n",
      "mu[3,4]    25.32    0.02   1.01  23.41  24.63  25.32  25.97  27.36   2000    1.0\n",
      "mu[4,4]    12.56    0.02   0.94  10.74  11.92  12.57  13.21  14.38   2000    1.0\n",
      "mu[5,4]     14.5    0.02   0.96  12.64  13.86  14.55  15.13  16.34   1508    1.0\n",
      "mu[6,4]    13.86    0.02   0.96   11.9  13.22  13.89   14.5   15.7   2000    1.0\n",
      "mu[7,4]    13.13    0.02   0.94  11.25  12.49  13.14  13.75  14.99   2000    1.0\n",
      "mu[8,4]    31.54    0.02   1.01  29.51  30.84  31.52  32.22  33.59   2000    1.0\n",
      "mu[9,4]    17.68    0.02   0.94  15.83  17.04   17.7  18.34  19.44   2000    1.0\n",
      "mu[10,4]   19.37    0.02   1.02  17.43  18.65  19.35  20.06  21.36   2000    1.0\n",
      "mu[11,4]   16.22    0.02   1.01  14.35  15.54  16.19  16.86  18.17   2000    1.0\n",
      "mu[12,4]   10.62    0.02   0.93   8.76   9.98  10.65  11.24  12.49   2000    1.0\n",
      "mu[13,4]   23.51    0.02   0.98  21.52  22.86  23.51  24.19  25.37   2000    1.0\n",
      "mu[14,4]   16.21    0.02   0.95  14.29  15.63  16.21  16.81  18.07   2000    1.0\n",
      "mu[15,4]   31.55    0.02   1.03  29.49  30.83  31.57  32.25  33.56   2000    1.0\n",
      "mu[0,5]    13.47    0.05   1.91  10.31  12.16   13.3  14.55   18.1   1501    1.0\n",
      "mu[1,5]     8.28    0.03   1.12   6.17   7.51   8.26   8.97  10.63   2000    1.0\n",
      "mu[2,5]    26.86    0.16   5.59  18.47  22.87  25.92  29.74  40.27   1209    1.0\n",
      "mu[3,5]    25.92    0.03   1.21  23.68  25.04  25.88  26.71  28.42   2000    1.0\n",
      "mu[4,5]    13.99    0.03   1.41   11.3  12.99  13.97  14.94  16.89   1855    1.0\n",
      "mu[5,5]     15.6    0.04   1.43  12.99  14.62  15.56  16.54  18.53   1654    1.0\n",
      "mu[6,5]    14.77    0.03   1.26  12.37   13.9  14.77  15.58  17.31   2000    1.0\n",
      "mu[7,5]    13.46    0.02    1.1  11.38   12.7  13.43  14.19  15.67   2000    1.0\n",
      "mu[8,5]    31.87    0.03   1.14  29.61   31.1  31.83  32.63   34.3   2000    1.0\n",
      "mu[9,5]    17.86    0.02   1.03  15.89  17.17  17.84  18.55  19.89   2000    1.0\n",
      "mu[10,5]   19.63    0.03   1.14  17.51  18.81  19.59   20.4  21.93   2000    1.0\n",
      "mu[11,5]   16.29    0.02   1.05  14.36  15.57  16.25  16.95  18.44   2000    1.0\n",
      "mu[12,5]   11.51    0.03    1.2   9.26   10.7  11.46  12.27  14.14   2000    1.0\n",
      "mu[13,5]   24.81    0.03   1.33  22.21  23.89  24.83  25.66  27.51   2000    1.0\n",
      "mu[14,5]   16.68    0.03   1.12  14.45  15.95  16.66  17.41  18.93   2000    1.0\n",
      "mu[15,5]   31.64    0.02   1.06  29.51   30.9  31.64  32.36  33.71   2000    1.0\n",
      "lp__      -79.65     0.2   5.24  -91.2 -82.85  -79.2 -75.88 -70.77    708    1.0\n",
      "\n",
      "Samples were drawn using NUTS at Wed Apr 26 20:18:12 2017.\n",
      "For each parameter, n_eff is a crude measure of effective sample size,\n",
      "and Rhat is the potential scale reduction factor on split chains (at \n",
      "convergence, Rhat=1).\n"
     ]
    }
   ],
   "source": [
    "print(fit_9_6)"
   ]
  },
  {
   "cell_type": "markdown",
   "metadata": {},
   "source": [
    "## 練習問題(1)"
   ]
  },
  {
   "cell_type": "code",
   "execution_count": 32,
   "metadata": {
    "collapsed": true
   },
   "outputs": [],
   "source": [
    "model_5_3 = \"\"\"\n",
    "data {\n",
    "  int N;\n",
    "  int<lower=0, upper=1> A[N];\n",
    "  real<lower=0, upper=1> Score[N];\n",
    "  real<lower=0, upper=1> Y[N];\n",
    "}\n",
    "\n",
    "parameters {\n",
    "  real b1;\n",
    "  real b2;\n",
    "  real b3;\n",
    "  real<lower=0> sigma;\n",
    "}\n",
    "\n",
    "transformed parameters {\n",
    "  real mu[N];\n",
    "  for (n in 1:N)\n",
    "    mu[n] = b1 + b2*A[n] + b3*Score[n];\n",
    "}\n",
    "\n",
    "model {\n",
    "  for (n in 1:N)\n",
    "    Y[n] ~ normal(mu[n], sigma);\n",
    "}\n",
    "\n",
    "generated quantities {\n",
    "  real y_pred[N];\n",
    "  for (n in 1:N)\n",
    "    y_pred[n] = normal_rng(mu[n], sigma);\n",
    "}\n",
    "\"\"\""
   ]
  },
  {
   "cell_type": "code",
   "execution_count": 33,
   "metadata": {
    "collapsed": true
   },
   "outputs": [],
   "source": [
    "model_9_ex1 = \"\"\"\n",
    "data {\n",
    "  int N;\n",
    "  vector<lower=0, upper=1>[N] A;\n",
    "  vector<lower=0, upper=1>[N] Score;\n",
    "  vector<lower=0, upper=1>[N] Y;\n",
    "}\n",
    "\n",
    "parameters {\n",
    "  real b1;\n",
    "  real b2;\n",
    "  real b3;\n",
    "  real<lower=0> sigma;\n",
    "}\n",
    "\n",
    "transformed parameters {\n",
    "  vector[N] mu;\n",
    "  mu = b1 + b2*A + b3*Score;\n",
    "}\n",
    "\n",
    "model {\n",
    "  Y ~ normal(mu, sigma);\n",
    "}\n",
    "\n",
    "generated quantities {\n",
    "  real y_pred[N];\n",
    "  for (n in 1:N)\n",
    "    y_pred[n] = normal_rng(mu[n], sigma);\n",
    "}\n",
    "\"\"\""
   ]
  },
  {
   "cell_type": "code",
   "execution_count": 34,
   "metadata": {
    "collapsed": true
   },
   "outputs": [],
   "source": [
    "df_ex1 = pd.read_csv('../chap05/input/data-attendance-1.txt')\n",
    "data_ex1 = df_ex1.to_dict('list')\n",
    "data_ex1['N'] = len(df_ex1)\n",
    "data_ex1['Score'] = [x/200 for x in data_ex1['Score']]"
   ]
  },
  {
   "cell_type": "code",
   "execution_count": 35,
   "metadata": {
    "collapsed": false
   },
   "outputs": [
    {
     "name": "stderr",
     "output_type": "stream",
     "text": [
      "INFO:pystan:COMPILING THE C++ CODE FOR MODEL anon_model_41a596b799826f388b5207ebfeb74dd0 NOW.\n"
     ]
    }
   ],
   "source": [
    "fit_ex1 = pystan.stan(model_code=model_9_ex1, data=data_ex1, iter=1000, chains=4)"
   ]
  },
  {
   "cell_type": "code",
   "execution_count": 36,
   "metadata": {
    "collapsed": false
   },
   "outputs": [
    {
     "data": {
      "image/png": "[encoded data removed]",
      "text/plain": [
       "<matplotlib.figure.Figure at 0x128b65518>"
      ]
     },
     "metadata": {},
     "output_type": "display_data"
    }
   ],
   "source": [
    "la_ex1 = fit_ex1.extract(permuted=True)\n",
    "y_preds = la_ex1['y_pred'].T\n",
    "df_ex1['y_10'] = [np.percentile(xs, 10.0) for xs in y_preds]\n",
    "df_ex1['y_90'] = [np.percentile(xs, 90.0) for xs in y_preds]\n",
    "df_ex1['mu'] = [np.average(xs) for xs in la_ex1['mu'].T]\n",
    "df_ex1['errorbar'] = (df_ex1['y_90'] - df_ex1['y_10'])/2\n",
    "for a in [0,1]:\n",
    "  df = df_ex1[df_ex1['A']==a]\n",
    "  plt.errorbar(df['Y'], df['mu'], yerr=df['errorbar'], fmt=[\"or\", \"^b\"][a], label='A='+str(a))\n",
    "plt.xlabel('Observed')\n",
    "plt.ylabel('Predicted')\n",
    "plt.legend(loc='upper left')\n",
    "plt.show()"
   ]
  },
  {
   "cell_type": "markdown",
   "metadata": {},
   "source": [
    "## 練習問題(2)"
   ]
  },
  {
   "cell_type": "code",
   "execution_count": 37,
   "metadata": {
    "collapsed": true
   },
   "outputs": [],
   "source": [
    "model_5_6b = \"\"\"\n",
    "data {\n",
    "  int N;\n",
    "  int<lower=0, upper=1> A[N];\n",
    "  real<lower=0, upper=1> Score[N];\n",
    "  int<lower=0> M[N];\n",
    "}\n",
    "\n",
    "parameters {\n",
    "  real b[3];\n",
    "}\n",
    "\n",
    "transformed parameters {\n",
    "  real lambda[N];\n",
    "  for (n in 1:N)\n",
    "    lambda[n] = b[1] + b[2]*A[n] + b[3]*Score[n];\n",
    "}\n",
    "\n",
    "model {\n",
    "  for (n in 1:N)\n",
    "    M[n] ~ poisson_log(lambda[n]);\n",
    "}\n",
    "\n",
    "generated quantities {\n",
    "  int m_pred[N];\n",
    "  for (n in 1:N)\n",
    "    m_pred[n] = poisson_log_rng(lambda[n]);\n",
    "}\n",
    "\"\"\""
   ]
  },
  {
   "cell_type": "code",
   "execution_count": 38,
   "metadata": {
    "collapsed": true
   },
   "outputs": [],
   "source": [
    "model_9_ex2 = \"\"\"\n",
    "data {\n",
    "  int N;\n",
    "  vector<lower=0, upper=1>[N] A;\n",
    "  vector<lower=0, upper=1>[N] Score;\n",
    "  int<lower=0> M[N];\n",
    "}\n",
    "\n",
    "parameters {\n",
    "  vector[3] b;\n",
    "}\n",
    "\n",
    "transformed parameters {\n",
    "  vector<lower=0>[N] lambda;\n",
    "  for (n in 1:N)\n",
    "    lambda = b[1] + b[2]*A + b[3]*Score;\n",
    "}\n",
    "\n",
    "model {\n",
    "  for (n in 1:N)\n",
    "    M ~ poisson_log(lambda);\n",
    "}\n",
    "\n",
    "generated quantities {\n",
    "  int m_pred[N];\n",
    "  for (n in 1:N)\n",
    "    m_pred[n] = poisson_log_rng(lambda[n]);\n",
    "}\n",
    "\"\"\""
   ]
  },
  {
   "cell_type": "code",
   "execution_count": 39,
   "metadata": {
    "collapsed": true
   },
   "outputs": [],
   "source": [
    "df_ex2 = pd.read_csv('../chap05/input/data-attendance-2.txt')\n",
    "data_ex2 = df_ex2.to_dict('list')\n",
    "data_ex2['N'] = len(df_ex2)\n",
    "data_ex2['Score'] = [x/200 for x in data_ex2['Score']]\n",
    "color=['red', 'blue']"
   ]
  },
  {
   "cell_type": "code",
   "execution_count": 40,
   "metadata": {
    "collapsed": false
   },
   "outputs": [
    {
     "name": "stderr",
     "output_type": "stream",
     "text": [
      "INFO:pystan:COMPILING THE C++ CODE FOR MODEL anon_model_f058e9364d8c6d55028d374819807665 NOW.\n"
     ]
    },
    {
     "name": "stdout",
     "output_type": "stream",
     "text": [
      "Inference for Stan model: anon_model_f058e9364d8c6d55028d374819807665.\n",
      "4 chains, each with iter=1000; warmup=500; thin=1; \n",
      "post-warmup draws per chain=500, total post-warmup draws=2000.\n",
      "\n",
      "             mean se_mean     sd   2.5%    25%    50%    75%  97.5%  n_eff   Rhat\n",
      "b[0]         3.58  5.3e-4   0.01   3.55   3.57   3.58   3.59    3.6    662    1.0\n",
      "b[1]         0.26  1.8e-4 5.8e-3   0.25   0.26   0.26   0.27   0.28    999    1.0\n",
      "b[2]         0.29  8.1e-4   0.02   0.25   0.28   0.29    0.3   0.33    666    1.0\n",
      "lambda[0]    3.68  2.6e-4 7.0e-3   3.66   3.67   3.68   3.68   3.69    735    1.0\n",
      "lambda[1]    4.05  1.5e-4 4.8e-3   4.04   4.05   4.05   4.06   4.06   1087    1.0\n",
      "lambda[2]    3.76  1.0e-4 4.0e-3   3.75   3.76   3.76   3.76   3.77   1496    1.0\n",
      "lambda[3]    3.97  1.8e-4 5.7e-3   3.96   3.96   3.97   3.97   3.98    946    1.0\n",
      "lambda[4]    4.07  1.8e-4 5.6e-3   4.06   4.07   4.07   4.08   4.08    928    1.0\n",
      "lambda[5]    3.77  1.1e-4 4.1e-3   3.76   3.77   3.77   3.77   3.78   1526    1.0\n",
      "lambda[6]    3.74  1.2e-4 4.3e-3   3.73   3.74   3.74   3.74   3.75   1189    1.0\n",
      "lambda[7]    4.06  1.5e-4 4.9e-3   4.05   4.05   4.06   4.06   4.07   1057    1.0\n",
      "lambda[8]    3.79  1.3e-4 4.6e-3   3.78   3.79   3.79   3.79    3.8   1363    1.0\n",
      "lambda[9]    3.79  1.2e-4 4.6e-3   3.78   3.79   3.79   3.79    3.8   1379    1.0\n",
      "lambda[10]   4.05  1.3e-4 4.6e-3   4.04   4.04   4.05   4.05   4.06   1234    1.0\n",
      "lambda[11]   3.78  1.1e-4 4.3e-3   3.77   3.77   3.78   3.78   3.79   1495    1.0\n",
      "lambda[12]   4.01  1.1e-4 4.2e-3    4.0   4.01   4.01   4.02   4.02   1480    1.0\n",
      "lambda[13]   3.74  1.2e-4 4.3e-3   3.73   3.74   3.74   3.74   3.75   1189    1.0\n",
      "lambda[14]   3.74  1.3e-4 4.3e-3   3.73   3.73   3.74   3.74   3.74   1143    1.0\n",
      "lambda[15]   3.99  1.4e-4 4.9e-3   3.98   3.98   3.99   3.99    4.0   1241    1.0\n",
      "lambda[16]   3.74  1.2e-4 4.2e-3   3.73   3.74   3.74   3.75   3.75   1263    1.0\n",
      "lambda[17]    3.7  2.1e-4 5.9e-3   3.68   3.69    3.7    3.7   3.71    793    1.0\n",
      "lambda[18]   3.85  2.5e-4 7.5e-3   3.83   3.84   3.85   3.85   3.86    887    1.0\n",
      "lambda[19]   4.07  1.8e-4 5.5e-3   4.06   4.06   4.07   4.07   4.08    947    1.0\n",
      "lambda[20]   3.97  1.8e-4 5.7e-3   3.96   3.96   3.97   3.97   3.98    946    1.0\n",
      "lambda[21]    4.0  1.2e-4 4.5e-3   3.99    4.0    4.0    4.0   4.01   1370    1.0\n",
      "lambda[22]    4.0  1.2e-4 4.5e-3   3.99   3.99    4.0    4.0    4.0   1341    1.0\n",
      "lambda[23]   4.05  1.4e-4 4.7e-3   4.04   4.05   4.05   4.05   4.06   1118    1.0\n",
      "lambda[24]   4.01  1.1e-4 4.3e-3    4.0   4.01   4.01   4.01   4.02   1474    1.0\n",
      "lambda[25]   4.03  1.1e-4 4.3e-3   4.02   4.03   4.03   4.03   4.04   1467    1.0\n",
      "lambda[26]   3.75  1.1e-4 4.1e-3   3.74   3.75   3.75   3.75   3.76   1396    1.0\n",
      "lambda[27]   3.75  1.1e-4 4.1e-3   3.74   3.75   3.75   3.75   3.76   1396    1.0\n",
      "lambda[28]   3.81  1.7e-4 5.6e-3    3.8   3.81   3.81   3.82   3.82   1145    1.0\n",
      "lambda[29]   3.74  1.2e-4 4.2e-3   3.73   3.74   3.74   3.74   3.75   1238    1.0\n",
      "lambda[30]   4.08  2.1e-4 6.1e-3   4.07   4.08   4.08   4.09   4.09    871    1.0\n",
      "lambda[31]   3.95  2.2e-4 6.6e-3   3.94   3.95   3.95   3.95   3.96    860    1.0\n",
      "lambda[32]   4.04  1.3e-4 4.5e-3   4.03   4.04   4.04   4.05   4.05   1291    1.0\n",
      "lambda[33]   4.02  1.1e-4 4.2e-3   4.01   4.02   4.02   4.02   4.03   1490    1.0\n",
      "lambda[34]   3.76  1.0e-4 4.0e-3   3.75   3.76   3.76   3.76   3.77   1507    1.0\n",
      "lambda[35]   3.77  1.0e-4 4.1e-3   3.76   3.77   3.77   3.77   3.78   1531    1.0\n",
      "lambda[36]   3.99  1.3e-4 4.6e-3   3.99   3.99   3.99    4.0    4.0   1327    1.0\n",
      "lambda[37]   3.74  1.3e-4 4.3e-3   3.73   3.73   3.74   3.74   3.75   1165    1.0\n",
      "lambda[38]   3.71  1.9e-4 5.4e-3    3.7    3.7   3.71   3.71   3.72    846    1.0\n",
      "lambda[39]   3.71  1.9e-4 5.5e-3   3.69    3.7   3.71   3.71   3.72    837    1.0\n",
      "lambda[40]   3.77  1.0e-4 4.1e-3   3.76   3.76   3.77   3.77   3.77   1528    1.0\n",
      "lambda[41]   3.77  1.1e-4 4.1e-3   3.76   3.77   3.77   3.77   3.78   1526    1.0\n",
      "lambda[42]   3.75  1.1e-4 4.0e-3   3.75   3.75   3.75   3.76   3.76   1452    1.0\n",
      "lambda[43]   3.79  1.3e-4 4.8e-3   3.78   3.79   3.79    3.8    3.8   1330    1.0\n",
      "lambda[44]   3.84  2.4e-4 7.3e-3   3.83   3.84   3.84   3.85   3.86    904    1.0\n",
      "lambda[45]   3.73  1.4e-4 4.5e-3   3.72   3.73   3.73   3.73   3.74   1059    1.0\n",
      "lambda[46]   3.65  3.3e-4 8.6e-3   3.63   3.65   3.65   3.66   3.67    695    1.0\n",
      "lambda[47]    3.8  1.4e-4 4.9e-3   3.79   3.79    3.8    3.8   3.81   1298    1.0\n",
      "lambda[48]   3.72  1.5e-4 4.8e-3   3.71   3.72   3.72   3.72   3.73    959    1.0\n",
      "lambda[49]   3.99  1.4e-4 4.9e-3   3.98   3.98   3.99   3.99    4.0   1241    1.0\n",
      "m_pred[0]   39.68    0.14   6.39   28.0   35.0   39.0   44.0   53.0   2000    1.0\n",
      "m_pred[1]   57.45    0.18   7.52   43.0   52.0   57.0   63.0   72.0   1790    1.0\n",
      "m_pred[2]   43.01    0.15   6.67   31.0   38.0   43.0   47.0   57.0   2000    1.0\n",
      "m_pred[3]   52.69    0.16   7.33   39.0   48.0   53.0   58.0   67.0   2000    1.0\n",
      "m_pred[4]   58.61    0.17   7.78   44.0   53.0   59.0   64.0   74.0   2000    1.0\n",
      "m_pred[5]   43.29    0.15   6.62   31.0   39.0   43.0   48.0   57.0   1942    1.0\n",
      "m_pred[6]   42.14    0.15   6.59   29.0   38.0   42.0   47.0   55.0   2000    1.0\n",
      "m_pred[7]   57.68    0.18   7.71   43.0   52.0   57.0   63.0   73.6   1874    1.0\n",
      "m_pred[8]   44.19    0.15   6.59   31.0   40.0   44.0   48.0   57.0   1916    1.0\n",
      "m_pred[9]    44.3    0.16   6.67   33.0   40.0   44.0   49.0   58.0   1715    1.0\n",
      "m_pred[10]  56.97    0.17   7.59   43.0   52.0   57.0   62.0   73.0   2000    1.0\n",
      "m_pred[11]  43.63    0.15   6.59   31.0   39.0   43.0   48.0   57.0   2000    1.0\n",
      "m_pred[12]  55.61    0.17    7.2   42.0   51.0   56.0   60.0   71.0   1739    1.0\n",
      "m_pred[13]   42.1    0.14   6.48   29.4   38.0   42.0   46.0   55.0   2000    1.0\n",
      "m_pred[14]  41.92    0.14   6.31   30.0   38.0   42.0   46.0   55.0   2000    1.0\n",
      "m_pred[15]  54.15    0.17   7.38   40.0   49.0   54.0   59.0   68.0   1914    1.0\n",
      "m_pred[16]  42.12    0.14   6.45   30.0   38.0   42.0   46.0   55.6   1986    1.0\n",
      "m_pred[17]  40.24    0.14   6.44   28.0   36.0   40.0   44.0   53.6   2000    1.0\n",
      "m_pred[18]  46.74    0.15   6.73   34.0   42.0   47.0   51.0   60.0   1974    1.0\n",
      "m_pred[19]   58.2    0.17   7.68   44.0   53.0   58.0   63.0   74.0   1979    1.0\n",
      "m_pred[20]  52.84    0.16   7.33   39.0   48.0   53.0   58.0   67.6   2000    1.0\n",
      "m_pred[21]  54.56    0.17   7.39   40.0   50.0   55.0   59.0   69.6   2000    1.0\n",
      "m_pred[22]   54.1    0.17   7.37   40.0   49.0   54.0   59.0   68.0   1843    1.0\n",
      "m_pred[23]  57.41    0.18   7.62   43.0   52.0   57.0   62.0   73.0   1813    1.0\n",
      "m_pred[24]  55.24    0.16   7.24   41.0   50.0   55.0   60.0   70.0   2000    1.0\n",
      "m_pred[25]  56.14    0.17   7.62   42.0   51.0   56.0   61.0   72.0   2000    1.0\n",
      "m_pred[26]  42.32    0.15   6.58   30.0   38.0   42.0   47.0   56.0   2000    1.0\n",
      "m_pred[27]  42.53    0.15   6.55   30.0   38.0   43.0   47.0   56.0   1918    1.0\n",
      "m_pred[28]  45.15    0.16   6.78   33.0   40.0   45.0   50.0   59.0   1901    1.0\n",
      "m_pred[29]  42.08    0.16    6.5   30.0   37.0   42.0   46.0   55.0   1639    1.0\n",
      "m_pred[30]  59.25    0.19   7.82   44.4   54.0   59.0   64.0   75.0   1763    1.0\n",
      "m_pred[31]  51.99    0.16   7.11   38.0   47.0   52.0   57.0   66.0   2000    1.0\n",
      "m_pred[32]  56.99    0.17   7.48   44.0   52.0   57.0   62.0   73.0   2000    1.0\n",
      "m_pred[33]   55.7    0.17   7.58   42.0   51.0   55.0   61.0   71.0   2000    1.0\n",
      "m_pred[34]  42.91    0.15   6.59   31.0   38.0   43.0   47.0   56.0   1877    1.0\n",
      "m_pred[35]  43.29    0.14   6.43   31.0   39.0   43.0  47.55   56.0   2000    1.0\n",
      "m_pred[36]   54.3    0.16   7.38   40.0   49.0   54.0   59.0   69.0   2000    1.0\n",
      "m_pred[37]  42.22    0.14   6.44   30.0   38.0   42.0   46.0   56.0   2000    1.0\n",
      "m_pred[38]  40.64    0.14   6.43   28.0   36.0   40.0   45.0   53.0   2000    1.0\n",
      "m_pred[39]  40.63    0.14   6.46   28.0   36.0   41.0   45.0   54.0   1997    1.0\n",
      "m_pred[40]  43.08    0.14   6.41   31.0   39.0   43.0   47.0   56.0   1973    1.0\n",
      "m_pred[41]   43.4    0.15   6.58   31.0   39.0   43.0   48.0   57.0   2000    1.0\n",
      "m_pred[42]   42.7    0.15    6.5   30.0   38.0   43.0   47.0   56.0   1874    1.0\n",
      "m_pred[43]  44.44    0.15   6.57   32.0   40.0   44.0   49.0   58.0   2000    1.0\n",
      "m_pred[44]  46.46    0.16   6.83   34.0   42.0   46.0   51.0   60.0   1825    1.0\n",
      "m_pred[45]  41.79    0.14   6.42   29.0   37.0   42.0   46.0   55.0   2000    1.0\n",
      "m_pred[46]   38.4    0.15   6.18   27.0   34.0   38.0   43.0   51.0   1761    1.0\n",
      "m_pred[47]  44.69    0.15   6.59   32.0   40.0   45.0   49.0   58.0   1891    1.0\n",
      "m_pred[48]  41.28    0.15   6.32   30.0   37.0   41.0   46.0   53.0   1818    1.0\n",
      "m_pred[49]  53.72    0.17   7.41   40.0   49.0   53.0   59.0   69.0   1819    1.0\n",
      "lp__        3.4e5    0.04   1.25  3.4e5  3.4e5  3.4e5  3.4e5  3.4e5    908    1.0\n",
      "\n",
      "Samples were drawn using NUTS at Wed Apr 26 20:19:00 2017.\n",
      "For each parameter, n_eff is a crude measure of effective sample size,\n",
      "and Rhat is the potential scale reduction factor on split chains (at \n",
      "convergence, Rhat=1).\n"
     ]
    }
   ],
   "source": [
    "fit_ex2 = pystan.stan(model_code=model_9_ex2, data=data_ex2, iter=1000, chains=4)\n",
    "print(fit_ex2)"
   ]
  },
  {
   "cell_type": "code",
   "execution_count": 41,
   "metadata": {
    "collapsed": false
   },
   "outputs": [
    {
     "data": {
      "image/png": "[encoded data removed]",
      "text/plain": [
       "<matplotlib.figure.Figure at 0x11a525198>"
      ]
     },
     "metadata": {},
     "output_type": "display_data"
    }
   ],
   "source": [
    "la_ex2 = fit_ex2.extract(permuted=True)\n",
    "m_preds = la_ex2['m_pred'].T\n",
    "df_ex2['m_10'] = [np.percentile(xs, 10.0) for xs in m_preds]\n",
    "df_ex2['m_90'] = [np.percentile(xs, 90.0) for xs in m_preds]\n",
    "df_ex2['lam'] = [np.exp(np.percentile(xs, 50.0)) for xs in la_ex2['lambda'].T]\n",
    "df_ex2['errorbar'] = (df_ex2['m_90'] - df_ex2['m_10'])/2\n",
    "for a in [0,1]:\n",
    "  df = df_ex2[df_ex2['A']==0]\n",
    "  plt.errorbar(df['M'], df['lam'], yerr=df['errorbar'], fmt=[\"or\",\"^b\"][a], label='A='+str(a))\n",
    "plt.xlabel('Observed')\n",
    "plt.ylabel('Predicted')\n",
    "plt.legend(loc='upper left')\n",
    "plt.show()"
   ]
  },
  {
   "cell_type": "markdown",
   "metadata": {},
   "source": [
    "## 練習問題(3)\n",
    "\n",
    "`real dot_product(vector x, vector y)` "
   ]
  },
  {
   "cell_type": "markdown",
   "metadata": {},
   "source": [
    "## 練習問題(4)"
   ]
  },
  {
   "cell_type": "code",
   "execution_count": 42,
   "metadata": {
    "collapsed": true
   },
   "outputs": [],
   "source": [
    "model_8_5 = \"\"\"\n",
    "data {\n",
    "  int N;\n",
    "  int G;\n",
    "  int K;\n",
    "  real X[N];\n",
    "  real Y[N];\n",
    "  int<lower=1, upper=K> KID[N];\n",
    "  int<lower=1, upper=G> K2G[K];\n",
    "}\n",
    "\n",
    "parameters {\n",
    "  real a0;\n",
    "  real b0;\n",
    "  real a1[G];\n",
    "  real b1[G];\n",
    "  real a[K];\n",
    "  real b[K];\n",
    "  real<lower=0> s_ag;\n",
    "  real<lower=0> s_bg;\n",
    "  real<lower=0> s_a;\n",
    "  real<lower=0> s_b;\n",
    "  real<lower=0> s_Y;\n",
    "}\n",
    "\n",
    "model {\n",
    "  for (g in 1:G) {\n",
    "    a1[g] ~ normal(a0, s_ag);\n",
    "    b1[g] ~ normal(b0, s_bg);\n",
    "  }\n",
    "\n",
    "  for (k in 1:K) {\n",
    "    a[k] ~ normal(a1[K2G[k]], s_a);\n",
    "    b[k] ~ normal(b1[K2G[k]], s_b);\n",
    "  }\n",
    "\n",
    "  for (n in 1:N)\n",
    "    Y[n] ~ normal(a[KID[n]] + b[KID[n]]*X[n], s_Y);\n",
    "}\n",
    "\"\"\""
   ]
  },
  {
   "cell_type": "code",
   "execution_count": 43,
   "metadata": {
    "collapsed": true
   },
   "outputs": [],
   "source": [
    "model_9_ex4 = \"\"\"\n",
    "data {\n",
    "  int N;\n",
    "  int G;\n",
    "  int K;\n",
    "  vector[N] X;\n",
    "  vector[N] Y;\n",
    "  int<lower=1, upper=K> KID[N];\n",
    "  int<lower=1, upper=G> K2G[K];\n",
    "}\n",
    "\n",
    "parameters {\n",
    "  real a0;\n",
    "  real b0;\n",
    "  vector[G] a1;\n",
    "  vector[G] b1;\n",
    "  vector[K] a;\n",
    "  vector[K] b;\n",
    "  real<lower=0> s_ag;\n",
    "  real<lower=0> s_bg;\n",
    "  real<lower=0> s_a;\n",
    "  real<lower=0> s_b;\n",
    "  real<lower=0> s_Y;\n",
    "}\n",
    "\n",
    "model {\n",
    "  a1 ~ normal(a0, s_ag);\n",
    "  b1 ~ normal(b0, s_bg);\n",
    "  a ~ normal(a1[K2G], s_a);\n",
    "  b ~ normal(b1[K2G], s_b);\n",
    "  Y ~ normal(a[KID] + b[KID]+X, s_Y);\n",
    "}\n",
    "\"\"\""
   ]
  },
  {
   "cell_type": "code",
   "execution_count": 44,
   "metadata": {
    "collapsed": false
   },
   "outputs": [
    {
     "data": {
      "image/png": "[encoded data removed]",
      "text/plain": [
       "<matplotlib.figure.Figure at 0x128b2f8d0>"
      ]
     },
     "metadata": {},
     "output_type": "display_data"
    }
   ],
   "source": [
    "syms = ['bp', 'go', 'r^', 'cs', 'mD', 'yv']\n",
    "df_ex4 = pd.read_csv('../chap08/input/data-salary-3.txt')\n",
    "for i in range(1,4):\n",
    "    df = df_ex4[df_ex4['GID']==i]\n",
    "    plt.plot(df['X'], df['Y'], syms[i-1], label=str(i))\n",
    "plt.legend(loc='best')\n",
    "plt.show()"
   ]
  },
  {
   "cell_type": "code",
   "execution_count": 45,
   "metadata": {
    "collapsed": true
   },
   "outputs": [],
   "source": [
    "data_ex4 = df_ex4.to_dict('list')\n",
    "data_ex4['N'] = len(df_ex4)\n",
    "data_ex4['G'] = np.max(df_ex4['GID'])\n",
    "data_ex4['K'] = np.max(df_ex4['KID'])\n",
    "d = dict()\n",
    "for kid,gid in zip(df_ex4['KID'], df_ex4['GID']):\n",
    "    d[kid] = gid\n",
    "data_ex4['K2G'] = [d[k] for k in sorted(list(d.keys()))] "
   ]
  },
  {
   "cell_type": "code",
   "execution_count": 46,
   "metadata": {
    "collapsed": false
   },
   "outputs": [
    {
     "name": "stderr",
     "output_type": "stream",
     "text": [
      "INFO:pystan:COMPILING THE C++ CODE FOR MODEL anon_model_7bae6e7e4395ba5f339be9d9216c22c8 NOW.\n"
     ]
    },
    {
     "name": "stdout",
     "output_type": "stream",
     "text": [
      "Inference for Stan model: anon_model_7bae6e7e4395ba5f339be9d9216c22c8.\n",
      "4 chains, each with iter=1000; warmup=500; thin=1; \n",
      "post-warmup draws per chain=500, total post-warmup draws=2000.\n",
      "\n",
      "        mean se_mean     sd   2.5%    25%    50%    75%  97.5%  n_eff   Rhat\n",
      "a0     -7151  5741.2  2.1e4 -6.6e4 -1.5e4  -4436 4236.2  1.6e4     14   1.33\n",
      "b0    2652.9  2457.5  1.2e4 -2.1e4  -3855 2113.3 8539.4  2.5e4     22   1.19\n",
      "a1[0] -289.0  3273.3 9258.3 -1.8e4  -7002 1706.4 5913.2  1.6e4      8   1.71\n",
      "a1[1]  -6182  4682.2 8109.8 -2.0e4 -1.2e4  -7519 1185.7 7651.3      3   2.57\n",
      "a1[2]  -2004  3609.2 8070.5 -1.7e4  -6962 -954.9 4255.2  1.3e4      5   1.76\n",
      "b1[0] 844.98  3274.5 9261.8 -1.5e4  -5332  -1160 7574.5  1.8e4      8   1.71\n",
      "b1[1] 6911.9  4683.0 8111.2  -6945 -507.6 8238.8  1.3e4  2.1e4      3   2.57\n",
      "b1[2] 2680.3  3609.7 8071.5 -1.2e4  -3591 1685.9 7643.8  1.8e4      5   1.76\n",
      "a[0]  -316.6  3275.3 9264.0 -1.8e4  -7044 1697.0 5874.8  1.6e4      8   1.71\n",
      "a[1]  -289.2  3273.5 9258.9 -1.8e4  -7027 1706.9 5889.3  1.6e4      8   1.71\n",
      "a[2]  -295.3  3273.6 9259.2 -1.8e4  -7038 1698.7 5930.1  1.6e4      8   1.71\n",
      "a[3]  -251.9  3273.9 9259.9 -1.8e4  -6977 1706.0 5925.8  1.6e4      8   1.71\n",
      "a[4]   -6194  4683.7 8112.5 -2.0e4 -1.2e4  -7517 1251.1 7661.3      3   2.57\n",
      "a[5]   -6162  4682.6 8110.6 -2.0e4 -1.2e4  -7463 1225.2 7685.9      3   2.57\n",
      "a[6]   -6181  4683.2 8111.6 -2.0e4 -1.2e4  -7503 1246.6 7659.6      3   2.57\n",
      "a[7]   -6166  4682.1 8109.6 -2.0e4 -1.2e4  -7460 1325.9 7711.6      3   2.57\n",
      "a[8]   -6193  4683.6 8112.3 -2.0e4 -1.2e4  -7509 1269.5 7654.8      3   2.57\n",
      "a[9]   -6251  4683.4 8111.9 -2.0e4 -1.2e4  -7599 1165.0 7524.1      3   2.57\n",
      "a[10]  -6108  4680.7 8107.3 -2.0e4 -1.2e4  -7380 1311.4 7796.9      3   2.57\n",
      "a[11]  -6096  4681.2 8108.1 -2.0e4 -1.2e4  -7378 1300.6 7828.0      3   2.57\n",
      "a[12]  -6201  4682.3 8110.0 -2.0e4 -1.2e4  -7549 1211.2 7606.0      3   2.57\n",
      "a[13]  -6268  4684.7 8114.2 -2.0e4 -1.2e4  -7636 1100.8 7565.9      3   2.57\n",
      "a[14]  -6221  4683.4 8112.0 -2.0e4 -1.2e4  -7528 1184.7 7589.9      3   2.57\n",
      "a[15]  -6187  4683.6 8112.3 -2.0e4 -1.2e4  -7537 1176.6 7692.1      3   2.57\n",
      "a[16]  -6122  4682.3 8110.1 -2.0e4 -1.2e4  -7413 1248.3 7797.6      3   2.57\n",
      "a[17]  -6198  4682.4 8110.2 -2.0e4 -1.2e4  -7511 1208.6 7650.4      3   2.57\n",
      "a[18]  -6235  4684.2 8113.2 -2.0e4 -1.2e4  -7599 1201.1 7587.9      3   2.57\n",
      "a[19]  -6115  4682.2 8109.8 -2.0e4 -1.2e4  -7388 1278.3 7797.9      3   2.57\n",
      "a[20]  -6242  4684.1 8113.1 -2.0e4 -1.2e4  -7614 1139.8 7629.0      3   2.57\n",
      "a[21]  -6134  4682.2 8109.8 -2.0e4 -1.2e4  -7420 1288.3 7765.3      3   2.57\n",
      "a[22]  -1981  3608.1 8068.1 -1.7e4  -6947 -950.2 4303.0  1.3e4      5   1.76\n",
      "a[23]  -1987  3607.5 8066.8 -1.7e4  -6953 -951.2 4286.1  1.3e4      5   1.76\n",
      "a[24]  -1997  3609.6 8071.3 -1.7e4  -6965 -968.2 4265.2  1.3e4      5   1.76\n",
      "a[25]  -2022  3608.5 8069.0 -1.7e4  -6995 -973.1 4262.7  1.3e4      5   1.76\n",
      "a[26]  -2017  3609.4 8071.0 -1.7e4  -6994 -976.6 4250.1  1.3e4      5   1.76\n",
      "a[27]  -2008  3610.6 8073.6 -1.7e4  -6968 -972.0 4292.2  1.3e4      5   1.76\n",
      "a[28]  -2031  3610.1 8072.6 -1.7e4  -7004 -967.0 4265.0  1.3e4      5   1.76\n",
      "a[29]  -1992  3609.1 8070.1 -1.7e4  -6975 -950.8 4292.5  1.3e4      5   1.76\n",
      "b[0]  805.21  3274.6 9261.9 -1.5e4  -5394  -1217 7531.1  1.8e4      8   1.71\n",
      "b[1]  841.83  3274.2 9261.0 -1.5e4  -5339  -1165 7584.9  1.8e4      8   1.71\n",
      "b[2]   837.6  3274.3 9261.1 -1.5e4  -5392  -1150 7559.1  1.8e4      8   1.71\n",
      "b[3]  886.87  3274.2 9261.0 -1.5e4  -5293  -1118 7638.8  1.8e4      8   1.71\n",
      "b[4]  6897.8  4683.9 8112.7  -6975 -605.9 8236.1  1.3e4  2.1e4      3   2.57\n",
      "b[5]  6935.7  4682.3 8110.0  -6881 -455.9 8242.2  1.3e4  2.1e4      3   2.57\n",
      "b[6]  6918.0  4682.4 8110.2  -6953 -522.4 8244.5  1.3e4  2.1e4      3   2.57\n",
      "b[7]  6939.5  4684.0 8112.9  -6925 -538.7 8255.5  1.3e4  2.1e4      3   2.57\n",
      "b[8]  6892.4  4683.0 8111.3  -6947 -581.8 8232.7  1.3e4  2.1e4      3   2.57\n",
      "b[9]  6823.2  4683.4 8111.9  -6993 -614.0 8190.1  1.3e4  2.1e4      3   2.57\n",
      "b[10] 7002.2  4682.0 8109.5  -6921 -428.8 8285.7  1.3e4  2.1e4      3   2.57\n",
      "b[11] 7031.9  4681.7 8109.0  -6900 -353.5 8301.0  1.3e4  2.1e4      3   2.57\n",
      "b[12] 6879.8  4682.3 8110.1  -6941 -505.3 8231.8  1.3e4  2.1e4      3   2.57\n",
      "b[13] 6799.1  4683.3 8111.8  -7016 -563.5 8170.6  1.3e4  2.1e4      3   2.57\n",
      "b[14] 6860.3  4684.0 8113.0  -6942 -518.3 8187.6  1.3e4  2.1e4      3   2.57\n",
      "b[15] 6912.7  4684.0 8113.0  -6989 -412.6 8244.9  1.3e4  2.1e4      3   2.57\n",
      "b[16] 6985.0  4682.3 8109.9  -6912 -381.0 8282.3  1.3e4  2.1e4      3   2.57\n",
      "b[17] 6893.6  4682.8 8110.9  -6960 -496.7 8232.7  1.3e4  2.1e4      3   2.57\n",
      "b[18] 6841.8  4683.8 8112.7  -6995 -527.9 8191.1  1.3e4  2.1e4      3   2.57\n",
      "b[19] 7001.6  4682.0 8109.5  -6924 -410.4 8289.7  1.3e4  2.1e4      3   2.57\n",
      "b[20] 6828.3  4685.3 8115.1  -7002 -601.8 8164.3  1.3e4  2.1e4      3   2.57\n",
      "b[21] 6974.2  4680.7 8107.2  -6862 -386.7 8271.3  1.3e4  2.1e4      3   2.57\n",
      "b[22] 2706.0  3609.2 8070.4 -1.2e4  -3556 1723.2 7643.3  1.8e4      5   1.76\n",
      "b[23] 2699.3  3608.9 8069.7 -1.2e4  -3582 1689.8 7682.0  1.8e4      5   1.76\n",
      "b[24] 2684.1  3610.1 8072.4 -1.2e4  -3604 1665.9 7674.7  1.8e4      5   1.76\n",
      "b[25] 2656.0  3609.2 8070.5 -1.2e4  -3599 1634.9 7619.6  1.8e4      5   1.76\n",
      "b[26] 2659.8  3610.2 8072.7 -1.2e4  -3590 1626.4 7658.0  1.8e4      5   1.76\n",
      "b[27] 2678.4  3611.0 8074.4 -1.2e4  -3619 1729.0 7645.2  1.8e4      5   1.76\n",
      "b[28] 2651.1  3609.9 8072.1 -1.2e4  -3627 1713.3 7588.4  1.8e4      5   1.76\n",
      "b[29] 2692.1  3608.7 8069.4 -1.2e4  -3591 1655.2 7672.1  1.8e4      5   1.76\n",
      "s_ag   1.9e4  6665.5  4.5e4  48.75 581.49 4324.0  2.2e4  1.2e5     46    1.1\n",
      "s_bg   1.1e4  5332.3  1.9e4   66.4 496.88 3866.1  1.2e4  6.4e4     13   1.18\n",
      "s_a    74.52    5.58  34.82  24.06  45.87  73.27  99.91 143.81     39   1.09\n",
      "s_b    86.76    2.88  29.66  31.19  64.59   89.0 107.57 142.22    106   1.03\n",
      "s_Y   182.12    0.71   7.36 167.27 176.87 182.15 187.62 196.46    106   1.04\n",
      "lp__   -2016    3.42  14.53  -2043  -2027  -2016  -2005  -1989     18   1.26\n",
      "\n",
      "Samples were drawn using NUTS at Wed Apr 26 20:19:35 2017.\n",
      "For each parameter, n_eff is a crude measure of effective sample size,\n",
      "and Rhat is the potential scale reduction factor on split chains (at \n",
      "convergence, Rhat=1).\n"
     ]
    }
   ],
   "source": [
    "fit_ex4 = pystan.stan(model_code=model_9_ex4, data=data_ex4, iter=1000, chains=4)\n",
    "print(fit_ex4)"
   ]
  },
  {
   "cell_type": "code",
   "execution_count": 47,
   "metadata": {
    "collapsed": false
   },
   "outputs": [
    {
     "name": "stderr",
     "output_type": "stream",
     "text": [
      "/Users/takashi_miyamoto/.pyenv/versions/anaconda3-2.1.0/lib/python3.4/site-packages/seaborn/categorical.py:1791: UserWarning: The violinplot API has been changed. Attempting to adjust your arguments for the new API (which might not work). Please update your code. See the version 0.6 release notes for more info.\n",
      "  warnings.warn(msg, UserWarning)\n",
      "/Users/takashi_miyamoto/.pyenv/versions/anaconda3-2.1.0/lib/python3.4/site-packages/matplotlib/__init__.py:938: UserWarning: axes.color_cycle is deprecated and replaced with axes.prop_cycle; please use the latter.\n",
      "  warnings.warn(self.msg_depr % (key, alt_key))\n"
     ]
    },
    {
     "data": {
      "image/png": "[encoded data removed]",
      "text/plain": [
       "<matplotlib.figure.Figure at 0x126819da0>"
      ]
     },
     "metadata": {},
     "output_type": "display_data"
    },
    {
     "data": {
      "image/png": "[encoded data removed]",
      "text/plain": [
       "<matplotlib.figure.Figure at 0x128a413c8>"
      ]
     },
     "metadata": {},
     "output_type": "display_data"
    }
   ],
   "source": [
    "df = pd.DataFrame(fit_ex4.extract(permuted=True)['a1'])\n",
    "df.columns = ['a1:G=1', 'a1:G=2', 'a1:G=3']\n",
    "sns.violinplot(df)\n",
    "plt.show()\n",
    "df = pd.DataFrame(fit_ex4.extract(permuted=True)['b1'])\n",
    "df.columns = ['b1:G=1', 'b1:G=2', 'b1:G=3']\n",
    "sns.violinplot(df)\n",
    "plt.show()"
   ]
  },
  {
   "cell_type": "markdown",
   "metadata": {},
   "source": [
    "## 練習問題(5)\n",
    "\n",
    "### min\n",
    "* `int min(int x, int y)`\n",
    "* `int min(int x[])`\n",
    "* `real min(real x[])`\n",
    "* `real min(vector x)`\n",
    "* `real min(row_vector x)`\n",
    "* `real min(matrix x)`\n",
    "\n",
    "### fmin\n",
    "* `real fmin(real x, real y)`"
   ]
  },
  {
   "cell_type": "code",
   "execution_count": null,
   "metadata": {
    "collapsed": true
   },
   "outputs": [],
   "source": []
  }
 ],
 "metadata": {
  "kernelspec": {
   "display_name": "Python 3",
   "language": "python",
   "name": "python3"
  },
  "language_info": {
   "codemirror_mode": {
    "name": "ipython",
    "version": 3
   },
   "file_extension": ".py",
   "mimetype": "text/x-python",
   "name": "python",
   "nbconvert_exporter": "python",
   "pygments_lexer": "ipython3",
   "version": "3.4.4"
  }
 },
 "nbformat": 4,
 "nbformat_minor": 2
}
