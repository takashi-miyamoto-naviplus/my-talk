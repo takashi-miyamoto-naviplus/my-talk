{
 "cells": [
  {
   "cell_type": "code",
   "execution_count": 44,
   "metadata": {
    "collapsed": false
   },
   "outputs": [],
   "source": [
    "import pandas as pd\n",
    "import numpy as np\n",
    "import pystan\n",
    "import matplotlib.pyplot as plt\n",
    "import seaborn as sns\n",
    "%matplotlib inline"
   ]
  },
  {
   "cell_type": "markdown",
   "metadata": {},
   "source": [
    "練習問題(1)\n",
    "\n",
    "ベルヌーイ分布に従う乱数は、[`scipy.stats.bernoulli`](https://docs.scipy.org/doc/scipy-0.14.0/reference/generated/scipy.stats.bernoulli.html)。`rvs` メソッドを使うと分布に従う乱数を取得できる。\n",
    "\n",
    "カテゴリカル分布は [`numpy.random.choice`](https://docs.scipy.org/doc/numpy/reference/generated/numpy.random.choice.html) を使えば良い。"
   ]
  },
  {
   "cell_type": "code",
   "execution_count": 45,
   "metadata": {
    "collapsed": false
   },
   "outputs": [
    {
     "data": {
      "text/plain": [
       "array([0, 0, 0, 0, 0, 0, 0, 0, 0, 0])"
      ]
     },
     "execution_count": 45,
     "metadata": {},
     "output_type": "execute_result"
    }
   ],
   "source": [
    "from scipy.stats import bernoulli\n",
    "bernoulli.rvs(0.2, size=10)"
   ]
  },
  {
   "cell_type": "code",
   "execution_count": 46,
   "metadata": {
    "collapsed": false
   },
   "outputs": [
    {
     "data": {
      "text/plain": [
       "array([12, 16, 29, 43])"
      ]
     },
     "execution_count": 46,
     "metadata": {},
     "output_type": "execute_result"
    }
   ],
   "source": [
    "np.random.multinomial(100, [0.1, 0.2, 0.3, 0.4])"
   ]
  },
  {
   "cell_type": "code",
   "execution_count": 47,
   "metadata": {
    "collapsed": false
   },
   "outputs": [
    {
     "data": {
      "text/plain": [
       "array([3, 0, 3, 3, 3, 3, 1, 1, 2, 3, 2, 1, 2, 3, 1, 2, 3, 3, 2, 3, 3, 2, 3,\n",
       "       3, 2, 3, 1, 3, 1, 3, 1, 3, 2, 0, 2, 2, 2, 0, 1, 2, 3, 2, 3, 3, 3, 2,\n",
       "       3, 3, 3, 2, 3, 3, 2, 2, 0, 3, 3, 3, 3, 1, 3, 2, 0, 3, 2, 2, 3, 0, 3,\n",
       "       3, 3, 3, 1, 3, 3, 3, 1, 1, 1, 1, 1, 1, 1, 1, 1, 1, 3, 3, 3, 2, 0, 3,\n",
       "       3, 3, 3, 2, 1, 3, 2, 0])"
      ]
     },
     "execution_count": 47,
     "metadata": {},
     "output_type": "execute_result"
    }
   ],
   "source": [
    "# 第一引数は array か int を渡す。4 なら 0~3 が選ばれる。p の長さと整合してる必要がある。\n",
    "np.random.choice(4, 100, p=[0.1, 0.2, 0.3, 0.4])"
   ]
  },
  {
   "cell_type": "markdown",
   "metadata": {},
   "source": [
    "練習問題(2)"
   ]
  },
  {
   "cell_type": "markdown",
   "metadata": {},
   "source": [
    "ベータ分布\n",
    "[`numpy.random.beta`](https://docs.scipy.org/doc/numpy/reference/generated/numpy.random.beta.html#numpy.random.beta)"
   ]
  },
  {
   "cell_type": "code",
   "execution_count": 48,
   "metadata": {
    "collapsed": false
   },
   "outputs": [
    {
     "name": "stdout",
     "output_type": "stream",
     "text": [
      "[ 0.05756342  0.30138976  0.27555273  0.06210224  0.5205418   0.36796219\n",
      "  0.15692227  0.35695637  0.67818745  0.7913022   0.08588696  0.44235806\n",
      "  0.41850612  0.13252047  0.46510928  0.24226032  0.09812069  0.30997114\n",
      "  0.31922274  0.61524868  0.13519566  0.20392169  0.16306601  0.70396885\n",
      "  0.69320503  0.89077691  0.50284846  0.39099553  0.39183082  0.5023561\n",
      "  0.53628663  0.41702585  0.4021649   0.07621255  0.22026199  0.44945953\n",
      "  0.15499284  0.4007472   0.3590723   0.72109383  0.17354559  0.07056354\n",
      "  0.47478356  0.41352913  0.26142926  0.80005411  0.27989622  0.3172564\n",
      "  0.14315856  0.71580876  0.42952634  0.59461311  0.56109733  0.73858868\n",
      "  0.37845883  0.37699073  0.17389341  0.78139143  0.29494695  0.14738783\n",
      "  0.66499919  0.36651271  0.1369858   0.47614651  0.429859    0.21341562\n",
      "  0.29483189  0.50806395  0.69966339  0.11247742  0.33849578  0.1325814\n",
      "  0.70356282  0.21506221  0.13528695  0.4476149   0.09826739  0.24241303\n",
      "  0.66649136  0.52838569  0.31066157  0.34051509  0.37256314  0.29090924\n",
      "  0.33449101  0.45361986  0.1361387   0.38230641  0.16597719  0.27292066\n",
      "  0.34572105  0.39535454  0.44745952  0.37115949  0.42938939  0.5081817\n",
      "  0.41579578  0.39631119  0.52582596  0.42461389]\n",
      "0.378711198158\n"
     ]
    }
   ],
   "source": [
    "xs = np.random.beta(2, 3, 100) # a=2, b=3\n",
    "print(xs)\n",
    "print(np.average(xs)) # -> 0.4 程度になるはず"
   ]
  },
  {
   "cell_type": "markdown",
   "metadata": {},
   "source": [
    "ディリクレ分布"
   ]
  },
  {
   "cell_type": "code",
   "execution_count": 49,
   "metadata": {
    "collapsed": false
   },
   "outputs": [
    {
     "name": "stdout",
     "output_type": "stream",
     "text": [
      "[[ 0.52471021  0.23879591  0.23649388]\n",
      " [ 0.662084    0.22733431  0.11058169]\n",
      " [ 0.44161667  0.3650019   0.19338144]\n",
      " [ 0.67726107  0.15362885  0.16911008]\n",
      " [ 0.60208349  0.30758291  0.0903336 ]\n",
      " [ 0.65834967  0.2071623   0.13448803]\n",
      " [ 0.51664004  0.29551558  0.18784438]\n",
      " [ 0.50220656  0.42928768  0.06850576]\n",
      " [ 0.62901259  0.14764969  0.22333772]\n",
      " [ 0.49399383  0.39810145  0.10790473]]\n"
     ]
    }
   ],
   "source": [
    "xs = np.random.dirichlet((10, 5, 3), 1000)\n",
    "print(xs[:10])"
   ]
  },
  {
   "cell_type": "code",
   "execution_count": 50,
   "metadata": {
    "collapsed": false
   },
   "outputs": [
    {
     "data": {
      "image/png": "[encoded data removed]",
      "text/plain": [
       "<matplotlib.figure.Figure at 0x12a965358>"
      ]
     },
     "metadata": {},
     "output_type": "display_data"
    }
   ],
   "source": [
    "plt.hist([x[0] for x in xs], color=\"r\", alpha=0.25)\n",
    "plt.hist([x[1] for x in xs], color=\"g\", alpha=0.25)\n",
    "plt.hist([x[2] for x in xs], color=\"b\", alpha=0.25)\n",
    "plt.show()"
   ]
  },
  {
   "cell_type": "markdown",
   "metadata": {},
   "source": [
    "ガンマ分布\n",
    "\n",
    "教科書の定義は、\n",
    "$$\\text{Gamma}(y|\\alpha,\\beta) = \\frac{\\beta^\\alpha}{\\Gamma(\\alpha)}y^{\\alpha-1}\\exp(-\\beta y)$$\n",
    "\n",
    "`numpy.random.gamma` の定義は\n",
    "$$p(x) = x^{k-1}\\frac{e^{-x/\\theta}}{\\theta^k \\Gamma(k)}$$\n",
    "\n",
    "$k=\\alpha$, $\\theta=1/\\beta$ という対応関係。"
   ]
  },
  {
   "cell_type": "code",
   "execution_count": 51,
   "metadata": {
    "collapsed": false
   },
   "outputs": [
    {
     "name": "stdout",
     "output_type": "stream",
     "text": [
      "[ 2.76140889  2.30026884  1.48377341  1.85866161  1.00496489  1.32159251\n",
      "  1.53166386  1.1155353   1.0622227   1.46572272]\n"
     ]
    }
   ],
   "source": [
    "xs = np.random.gamma(5, 1/3, 10000) # alpha=5, beta=3\n",
    "print(xs[:10])"
   ]
  },
  {
   "cell_type": "code",
   "execution_count": 52,
   "metadata": {
    "collapsed": false
   },
   "outputs": [
    {
     "data": {
      "text/plain": [
       "(array([   9.,   10.,   23.,   33.,   38.,   69.,  102.,  108.,  149.,\n",
       "         170.,  201.,  225.,  270.,  284.,  300.,  283.,  306.,  332.,\n",
       "         380.,  326.,  332.,  322.,  332.,  332.,  328.,  327.,  284.,\n",
       "         283.,  290.,  230.,  242.,  221.,  211.,  222.,  197.,  193.,\n",
       "         175.,  187.,  151.,  121.,  134.,  138.,  110.,  106.,   96.,\n",
       "          64.,   77.,   67.,   59.,   51.,   64.,   49.,   39.,   34.,\n",
       "          34.,   31.,   22.,   23.,   16.,   26.,   19.,   20.,   15.,\n",
       "          10.,   14.,   13.,   13.,    7.,    5.,    6.,    4.,    4.,\n",
       "           3.,    6.,    4.,    2.,    4.,    0.,    1.,    1.,    2.,\n",
       "           0.,    1.,    2.,    1.,    1.,    1.,    0.,    0.,    1.,\n",
       "           1.,    0.,    0.,    0.,    0.,    0.,    0.,    0.,    0.,    1.]),\n",
       " array([ 0.14972202,  0.20786421,  0.26600641,  0.3241486 ,  0.3822908 ,\n",
       "         0.44043299,  0.49857518,  0.55671738,  0.61485957,  0.67300177,\n",
       "         0.73114396,  0.78928615,  0.84742835,  0.90557054,  0.96371274,\n",
       "         1.02185493,  1.07999712,  1.13813932,  1.19628151,  1.25442371,\n",
       "         1.3125659 ,  1.37070809,  1.42885029,  1.48699248,  1.54513467,\n",
       "         1.60327687,  1.66141906,  1.71956126,  1.77770345,  1.83584564,\n",
       "         1.89398784,  1.95213003,  2.01027223,  2.06841442,  2.12655661,\n",
       "         2.18469881,  2.242841  ,  2.3009832 ,  2.35912539,  2.41726758,\n",
       "         2.47540978,  2.53355197,  2.59169417,  2.64983636,  2.70797855,\n",
       "         2.76612075,  2.82426294,  2.88240514,  2.94054733,  2.99868952,\n",
       "         3.05683172,  3.11497391,  3.1731161 ,  3.2312583 ,  3.28940049,\n",
       "         3.34754269,  3.40568488,  3.46382707,  3.52196927,  3.58011146,\n",
       "         3.63825366,  3.69639585,  3.75453804,  3.81268024,  3.87082243,\n",
       "         3.92896463,  3.98710682,  4.04524901,  4.10339121,  4.1615334 ,\n",
       "         4.2196756 ,  4.27781779,  4.33595998,  4.39410218,  4.45224437,\n",
       "         4.51038657,  4.56852876,  4.62667095,  4.68481315,  4.74295534,\n",
       "         4.80109753,  4.85923973,  4.91738192,  4.97552412,  5.03366631,\n",
       "         5.0918085 ,  5.1499507 ,  5.20809289,  5.26623509,  5.32437728,\n",
       "         5.38251947,  5.44066167,  5.49880386,  5.55694606,  5.61508825,\n",
       "         5.67323044,  5.73137264,  5.78951483,  5.84765703,  5.90579922,\n",
       "         5.96394141]),\n",
       " <a list of 100 Patch objects>)"
      ]
     },
     "execution_count": 52,
     "metadata": {},
     "output_type": "execute_result"
    },
    {
     "data": {
      "image/png": "[encoded data removed]",
      "text/plain": [
       "<matplotlib.figure.Figure at 0x12a259b38>"
      ]
     },
     "metadata": {},
     "output_type": "display_data"
    }
   ],
   "source": [
    "plt.hist(xs, bins=100)"
   ]
  },
  {
   "cell_type": "markdown",
   "metadata": {},
   "source": [
    "多変量正規分布\n",
    "\n",
    "`scipy.stats.multivariate_normal` を使う"
   ]
  },
  {
   "cell_type": "code",
   "execution_count": 53,
   "metadata": {
    "collapsed": false
   },
   "outputs": [
    {
     "data": {
      "text/plain": [
       "<matplotlib.contour.QuadContourSet at 0x126479208>"
      ]
     },
     "execution_count": 53,
     "metadata": {},
     "output_type": "execute_result"
    },
    {
     "data": {
      "image/png": "[encoded data removed]",
      "text/plain": [
       "<matplotlib.figure.Figure at 0x11b3500f0>"
      ]
     },
     "metadata": {},
     "output_type": "display_data"
    }
   ],
   "source": [
    "from scipy.stats import multivariate_normal\n",
    "xs, ys = np.mgrid[-5:5:.05, -5:5:.05]\n",
    "pos = np.dstack((xs, ys))\n",
    "rv = multivariate_normal([0.0, 0.0], [[2.0, 0.5], [0.5, 1.0]])\n",
    "plt.contourf(xs, ys, rv.pdf(pos))"
   ]
  },
  {
   "cell_type": "markdown",
   "metadata": {
    "collapsed": true
   },
   "source": [
    "コーシー分布\n",
    "\n",
    "`np.random.standard_cauchy`"
   ]
  },
  {
   "cell_type": "code",
   "execution_count": 56,
   "metadata": {
    "collapsed": false
   },
   "outputs": [
    {
     "name": "stdout",
     "output_type": "stream",
     "text": [
      "-150.109632456 88.0090929723\n"
     ]
    },
    {
     "data": {
      "image/png": "[encoded data removed]",
      "text/plain": [
       "<matplotlib.figure.Figure at 0x11f6815f8>"
      ]
     },
     "metadata": {},
     "output_type": "display_data"
    }
   ],
   "source": [
    "ys = np.random.standard_cauchy(100)\n",
    "xs = 1.0+2.0*ys # 平均 1.0, 幅 2.0\n",
    "print(min(xs), max(xs)) # 予想以上に絶対値の大きな値が出てくる\n",
    "plt.hist(xs, bins=100)\n",
    "plt.show()"
   ]
  },
  {
   "cell_type": "markdown",
   "metadata": {
    "collapsed": true
   },
   "source": [
    "練習問題(3)\n",
    "\n",
    "$$\\begin{array}{rcl}\n",
    "y_1 & \\sim & \\mathcal{N}(50, 20) \\\\\n",
    "y_2 & \\sim & \\mathcal{N}(20, 15) \\\\\n",
    "y_1 + y_2 & \\sim & \\mathcal{N}(50-20, \\sqrt{20^2+15^2})\n",
    "\\end{array}$$"
   ]
  },
  {
   "cell_type": "code",
   "execution_count": 55,
   "metadata": {
    "collapsed": false
   },
   "outputs": [
    {
     "data": {
      "image/png": "[encoded data removed]",
      "text/plain": [
       "<matplotlib.figure.Figure at 0x11b347748>"
      ]
     },
     "metadata": {},
     "output_type": "display_data"
    }
   ],
   "source": [
    "y1 = np.random.normal(50, 20, 10000)\n",
    "y2 = np.random.normal(20, 15, 10000)\n",
    "y3 = y1-y2\n",
    "plt.hist(y1, bins=100, alpha=0.25, color=\"r\")\n",
    "plt.hist(y2, bins=100, alpha=0.25, color=\"g\")\n",
    "plt.hist(y3, bins=100, alpha=0.25, color=\"b\")\n",
    "plt.show()"
   ]
  },
  {
   "cell_type": "code",
   "execution_count": null,
   "metadata": {
    "collapsed": true
   },
   "outputs": [],
   "source": []
  }
 ],
 "metadata": {
  "kernelspec": {
   "display_name": "Python 3",
   "language": "python",
   "name": "python3"
  },
  "language_info": {
   "codemirror_mode": {
    "name": "ipython",
    "version": 3
   },
   "file_extension": ".py",
   "mimetype": "text/x-python",
   "name": "python",
   "nbconvert_exporter": "python",
   "pygments_lexer": "ipython3",
   "version": "3.4.4"
  }
 },
 "nbformat": 4,
 "nbformat_minor": 2
}
