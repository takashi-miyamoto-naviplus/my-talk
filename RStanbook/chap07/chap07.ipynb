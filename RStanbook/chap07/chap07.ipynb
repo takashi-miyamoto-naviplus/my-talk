{
 "cells": [
  {
   "cell_type": "markdown",
   "metadata": {},
   "source": [
    "# Chapter 7. 回帰分析の悩みどころ\n",
    "\n",
    "[stanutil.py](https://gist.github.com/arosh/8871c22030cdebab6bebada3f3741bfc) を予めダウンロードしておく。\n",
    "\n",
    "下記が使えるようになる。\n",
    "```\n",
    "def stanfit_to_dataframe(fit, pars=None): fitをDataFrameに変換する\n",
    "def errorplot(data, x, y, error_low, error_high, hue=None): エラーバー付きプロット\n",
    "def traceplot(fit, par, inc_warmup=False):　traceplot\n",
    "def stan_cache(model_code, dirname='stan_cache'): モデルのcache\n",
    "def MAP(fit, par): MAP推定\n",
    "def parse_advi(fit, par_regex=None):　よくわからない\n",
    "```"
   ]
  },
  {
   "cell_type": "code",
   "execution_count": 65,
   "metadata": {
    "collapsed": false
   },
   "outputs": [],
   "source": [
    "import pandas as pd\n",
    "import numpy as np\n",
    "import pystan\n",
    "import matplotlib.pyplot as plt\n",
    "import seaborn as sns\n",
    "%matplotlib inline\n",
    "import stanutil"
   ]
  },
  {
   "cell_type": "markdown",
   "metadata": {},
   "source": [
    "## 7.2 対数をとるか否か"
   ]
  },
  {
   "cell_type": "code",
   "execution_count": 13,
   "metadata": {
    "collapsed": false
   },
   "outputs": [
    {
     "data": {
      "image/png": "[encoded data removed]",
      "text/plain": [
       "<matplotlib.figure.Figure at 0x107c0e518>"
      ]
     },
     "metadata": {},
     "output_type": "display_data"
    },
    {
     "data": {
      "image/png": "[encoded data removed]",
      "text/plain": [
       "<matplotlib.figure.Figure at 0x11d9c6b00>"
      ]
     },
     "metadata": {},
     "output_type": "display_data"
    }
   ],
   "source": [
    "df_1 = pd.read_csv('input/data-rental.txt')\n",
    "data_1 = df_1.to_dict('list')\n",
    "data_1['N'] = len(df_1)\n",
    "data_1['Area_new'] = np.linspace(5, 120, 115)\n",
    "data_1['N_new'] = len(data_1['Area_new'])\n",
    "plt.plot(df_1['Area'], df_1['Y'], \"o\")\n",
    "plt.xlabel('Area')\n",
    "plt.ylabel('Y')\n",
    "plt.show()\n",
    "plt.plot(df_1['Area'].apply(np.log), df_1['Y'].apply(np.log), \"o\")\n",
    "plt.xlabel('Area')\n",
    "plt.ylabel('Y')\n",
    "plt.xscale('log')\n",
    "plt.yscale('log')\n",
    "plt.show()"
   ]
  },
  {
   "cell_type": "markdown",
   "metadata": {},
   "source": [
    "最初に変数変換しない場合"
   ]
  },
  {
   "cell_type": "code",
   "execution_count": 14,
   "metadata": {
    "collapsed": true
   },
   "outputs": [],
   "source": [
    "model_1 = \"\"\"\n",
    "data {\n",
    "  int N;\n",
    "  int N_new;\n",
    "  real<lower=0> Area[N];\n",
    "  real<lower=0> Area_new[N_new];\n",
    "  real<lower=0> Y[N];\n",
    "}\n",
    "\n",
    "parameters {\n",
    "  real b1;\n",
    "  real b2;\n",
    "  real<lower=0> sigma;\n",
    "}\n",
    "\n",
    "transformed parameters {\n",
    "  real mu[N];\n",
    "  for (n in 1:N)\n",
    "    mu[n] = b1 + b2*Area[n];\n",
    "}\n",
    "\n",
    "model {\n",
    "  for (n in 1:N)\n",
    "    Y[n] ~ normal(mu[n], sigma);\n",
    "}\n",
    "\n",
    "generated quantities {\n",
    "  real y_pred[N];\n",
    "  real e[N];\n",
    "  real Y_new[N_new];\n",
    "  for (n in 1:N) {\n",
    "    y_pred[n] = normal_rng(mu[n], sigma);\n",
    "    e[n] = Y[n] - mu[n];\n",
    "  }\n",
    "  for (n in 1:N_new)\n",
    "    Y_new[n] = normal_rng(b1 + b2*Area_new[n], sigma);\n",
    "}\n",
    "\"\"\""
   ]
  },
  {
   "cell_type": "code",
   "execution_count": 15,
   "metadata": {
    "collapsed": false
   },
   "outputs": [
    {
     "name": "stderr",
     "output_type": "stream",
     "text": [
      "INFO:pystan:COMPILING THE C++ CODE FOR MODEL anon_model_dffa785f8bf96733d0810edf7784b90c NOW.\n"
     ]
    }
   ],
   "source": [
    "fit_1 = pystan.stan(model_code=model_1, data=data_1, iter=1000, chains=4)"
   ]
  },
  {
   "cell_type": "code",
   "execution_count": 16,
   "metadata": {
    "collapsed": false
   },
   "outputs": [
    {
     "name": "stdout",
     "output_type": "stream",
     "text": [
      "Inference for Stan model: anon_model_dffa785f8bf96733d0810edf7784b90c.\n",
      "4 chains, each with iter=1000; warmup=500; thin=1; \n",
      "post-warmup draws per chain=500, total post-warmup draws=2000.\n",
      "\n",
      "             mean se_mean     sd   2.5%    25%    50%    75%  97.5%  n_eff   Rhat\n",
      "b1         -147.6    1.16  29.43 -204.3 -167.6 -148.6 -127.5 -89.77    642   1.01\n",
      "b2          13.98    0.03   0.72  12.58   13.5  13.98  14.47  15.45    773   1.01\n",
      "sigma      131.31    0.29   9.72 113.63  124.6 130.64 137.22 151.35   1129    1.0\n",
      "mu[0]      420.94     0.3  13.49 393.96 412.26 420.68  429.4 448.47   2000    1.0\n",
      "mu[1]      718.54    0.62  22.48 674.32 703.48 717.99 734.07 764.64   1303    1.0\n",
      "mu[2]      623.31    0.48  18.73 586.64 610.63 622.66 636.05 661.02   1542    1.0\n",
      "mu[3]      646.94    0.51  19.62 608.65 633.63 646.29 660.15  686.3   1469    1.0\n",
      "mu[4]      646.94    0.51  19.62 608.65 633.63 646.29 660.15  686.3   1469    1.0\n",
      "mu[5]       69.08    0.77  20.09  31.08  55.35  67.93   82.4 109.18    682   1.01\n",
      "mu[6]      299.83    0.39  13.58 273.54 290.76 299.81 308.32 327.44   1225    1.0\n",
      "mu[7]      316.76    0.32  13.39 290.67 307.82 316.88 325.02 344.02   1713    1.0\n",
      "mu[8]      744.98    0.67   23.6 698.98 728.86 744.48 760.99  793.2   1258    1.0\n",
      "mu[9]      132.02    0.66  17.78  98.16 119.85 131.13 143.72  168.8    721   1.01\n",
      "mu[10]     132.02    0.66  17.78  98.16 119.85 131.13 143.72  168.8    721   1.01\n",
      "mu[11]     1010.4    1.13  35.75 941.43  985.3 1010.2 1033.9 1081.2   1001    1.0\n",
      "mu[12]     222.78    0.49  15.04 194.13  212.5 222.37 232.69 253.39    932    1.0\n",
      "mu[13]     182.78    0.58  16.14  152.2 171.96 182.33 193.36 215.75    784   1.01\n",
      "mu[14]      166.7     0.6  16.63 135.21 155.45 166.23 177.61 200.63    760   1.01\n",
      "mu[15]     129.64    0.67  17.86   95.7 117.41 128.73 141.39 166.58    718   1.01\n",
      "mu[16]     175.93    0.59  16.35 144.99 164.93 175.46 186.68 209.39    773   1.01\n",
      "mu[17]     133.27    0.66  17.73  99.49 121.19 132.45 144.95 169.97    722   1.01\n",
      "mu[18]     180.54    0.58  16.21 149.84 169.71  180.1 191.14 213.72    780   1.01\n",
      "mu[19]     433.81    0.31  13.65 406.56  425.0 433.46 442.41 461.49   2000    1.0\n",
      "mu[20]     467.65    0.32   14.2 439.49 458.39 466.95 476.61 496.06   2000    1.0\n",
      "mu[21]     125.02    0.67  18.02  90.77 112.77 124.16 136.85 162.25    714   1.01\n",
      "mu[22]     452.13    0.31  13.92 424.24 443.12 451.63 461.12 480.11   2000    1.0\n",
      "mu[23]     595.48    0.44  17.75 561.06 583.62  595.0 607.23 631.12   1643    1.0\n",
      "mu[24]     283.47    0.41  13.81 256.84 274.18 283.38 292.28 311.63   1144    1.0\n",
      "mu[25]     752.11    0.68   23.9 705.56 735.76 751.56 768.22 800.97   1247    1.0\n",
      "mu[26]     179.14    0.58  16.25 148.42 168.24 178.71 189.77 212.41    778   1.01\n",
      "mu[27]     409.48     0.3  13.37 382.72  401.0 409.17 417.87 436.83   2000    1.0\n",
      "mu[28]      420.1     0.3  13.48 393.14 411.42 419.86 428.57 447.59   2000    1.0\n",
      "mu[29]     278.16    0.42  13.89 251.39 268.71 278.05 287.02 306.59   1120    1.0\n",
      "mu[30]     285.85    0.41  13.77 259.27 276.62 285.76 294.56  313.9   1155    1.0\n",
      "mu[31]     610.02    0.46  18.25 574.34 597.84 609.55 622.43 646.61   1588    1.0\n",
      "mu[32]     1430.1    1.89  56.37 1321.7 1391.1 1429.6 1466.9 1540.4    888    1.0\n",
      "mu[33]      146.0    0.64   17.3 113.15 134.19 145.35 157.42 181.69    735   1.01\n",
      "mu[34]      70.06    0.77  20.06  32.14  56.36  68.93  83.35 110.13    682   1.01\n",
      "mu[35]      146.0    0.64   17.3 113.15 134.19 145.35 157.42 181.69    735   1.01\n",
      "mu[36]      146.0    0.64   17.3 113.15 134.19 145.35 157.42 181.69    735   1.01\n",
      "mu[37]     371.58    0.29  13.18 345.31 363.03 371.54 379.67 398.81   2000    1.0\n",
      "mu[38]     175.09    0.59  16.37 144.11 164.04 174.61 185.87 208.58    772   1.01\n",
      "mu[39]     650.86    0.52  19.77 612.09  637.4 650.18 664.23 690.59   1458    1.0\n",
      "mu[40]     319.83    0.32  13.37 293.88  310.9 319.94 328.06  347.1   1735    1.0\n",
      "mu[41]     200.82    0.53  15.62 171.56 190.35 200.44 211.06  232.7    882   1.01\n",
      "mu[42]       15.1    0.87  22.27  -27.1   0.25  13.94  30.06   58.3    662   1.01\n",
      "mu[43]     293.68     0.4  13.66 267.44 284.55  293.7 302.24 321.49   1193    1.0\n",
      "mu[44]     349.34    0.29  13.19 323.74 340.66 349.47  357.5 376.37   2000    1.0\n",
      "mu[45]     257.88    0.44  14.26 230.39 248.12 257.52 267.16 287.08   1039    1.0\n",
      "mu[46]     867.06    0.87  29.02 810.19 846.61 866.74  886.3 924.75   1100    1.0\n",
      "mu[47]     481.78    0.32  14.49 453.52 472.24 481.08 490.85  511.2   2000    1.0\n",
      "mu[48]     192.15    0.54  15.87 162.02 181.43 191.65 202.51 224.45    865   1.01\n",
      "mu[49]      146.0    0.64   17.3 113.15 134.19 145.35 157.42 181.69    735   1.01\n",
      "mu[50]     363.61    0.29  13.17  337.6 355.03 363.68 371.63 390.65   2000    1.0\n",
      "mu[51]     617.01    0.47  18.51 580.79 604.64  616.4 629.62 654.22   1563    1.0\n",
      "mu[52]     340.25     0.3  13.23  314.7  331.5 340.41 348.43 367.52   2000    1.0\n",
      "mu[53]     257.88    0.44  14.26 230.39 248.12 257.52 267.16 287.08   1039    1.0\n",
      "mu[54]     299.83    0.39  13.58 273.54 290.76 299.81 308.32 327.44   1225    1.0\n",
      "mu[55]     112.44     0.7  18.47  77.36  99.76 111.74 124.51 150.29    704   1.01\n",
      "mu[56]     505.41    0.34  15.04 476.28 495.67 504.64  514.9 535.72   2000    1.0\n",
      "mu[57]     534.08    0.35   15.8 503.23  523.6 533.46 544.18  565.7   2000    1.0\n",
      "mu[58]     216.76     0.5   15.2 188.05 206.39 216.32 226.76 247.69    917    1.0\n",
      "mu[59]     260.12    0.44  14.22 232.73 250.39  259.8 269.34  289.2   1047    1.0\n",
      "mu[60]     104.05    0.71  18.77  68.51  91.19 103.17 116.34 142.37    698   1.01\n",
      "mu[61]      90.06    0.73  19.29  53.63   77.0  89.14 102.77 129.15    693   1.01\n",
      "mu[62]     558.56    0.38  16.53 526.52 547.68 558.04 569.37 592.44   1934    1.0\n",
      "mu[63]     292.56     0.4  13.68 266.29 283.42 292.57 301.12 320.42   1188    1.0\n",
      "mu[64]     106.84    0.71  18.67  71.45  94.02 106.07 119.06 144.92    700   1.01\n",
      "mu[65]     230.19    0.48  14.86 201.63 220.07 229.66  239.9 260.37    952    1.0\n",
      "mu[66]     116.63    0.69  18.32  81.82 104.13 115.95 128.65 154.31    707   1.01\n",
      "mu[67]     569.74     0.4  16.89 537.09 558.57  569.3 580.76 604.46   1751    1.0\n",
      "mu[68]     279.14    0.41  13.88 252.37 269.74 279.03 287.99 307.44   1124    1.0\n",
      "mu[69]     495.06    0.33  14.79 466.38 485.44 494.32 504.39 525.08   2000    1.0\n",
      "mu[70]      88.52    0.74  19.35  51.99  75.39  87.57  101.3 127.68    692   1.01\n",
      "mu[71]     174.11    0.59   16.4 143.08 163.05 173.64  184.9 207.63    770   1.01\n",
      "mu[72]     275.22    0.42  13.94 248.42 265.68 275.08 284.09 303.92   1107    1.0\n",
      "mu[73]     150.89    0.63  17.14 118.38 139.22 150.23 162.19 186.13    740   1.01\n",
      "mu[74]      130.2    0.67  17.84  96.28 117.98 129.29 141.94 167.11    719   1.01\n",
      "mu[75]     481.64    0.32  14.49 453.38 472.11 480.95  490.7 511.05   2000    1.0\n",
      "mu[76]     991.53     1.1  34.84 924.39  967.2 991.36 1014.5 1060.5   1011    1.0\n",
      "mu[77]     387.24     0.3  13.22 360.78  378.8 386.99 395.49 414.45   2000    1.0\n",
      "mu[78]     471.57    0.32  14.28 443.41 462.34  470.9 480.57 500.23   2000    1.0\n",
      "mu[79]      84.61    0.74   19.5  47.84  71.34  83.55  97.53 123.97    690   1.01\n",
      "mu[80]     806.65    0.77  26.29 755.68 788.34 806.29 824.12 859.54   1176    1.0\n",
      "mu[81]     539.54    0.36  15.96  508.4 528.93 538.94  549.8 571.48   1997    1.0\n",
      "mu[82]     381.09     0.3   13.2  354.5 372.62 380.99 389.21 408.17   2000    1.0\n",
      "mu[83]     170.05     0.6  16.53  138.8 158.89  169.6  180.9 203.75    765   1.01\n",
      "mu[84]      221.8    0.49  15.07 193.14 211.48 221.38 231.74 252.44    930    1.0\n",
      "mu[85]     1391.5    1.82  54.44 1286.7 1353.6 1391.0 1427.3 1498.2    894    1.0\n",
      "mu[86]     343.19     0.3  13.21  317.6 334.44  343.4 351.32 370.34   2000    1.0\n",
      "mu[87]     578.83    0.42  17.18 545.67 567.49 578.38 590.13 613.61   1711    1.0\n",
      "mu[88]     181.24    0.58  16.19 150.58 170.42 180.81 191.83 214.37    781   1.01\n",
      "mu[89]     386.82     0.3  13.22 360.35 378.39 386.57 395.05  414.0   2000    1.0\n",
      "mu[90]     301.23    0.39  13.56 274.99 292.15  301.2 309.67 328.77   1233    1.0\n",
      "mu[91]     313.82    0.33  13.42 287.76 304.87  313.9 322.07 341.11   1692    1.0\n",
      "mu[92]     561.07    0.38  16.61 528.85 550.12 560.57 571.85 595.21   1926    1.0\n",
      "mu[93]     290.88     0.4   13.7 264.53  281.7 290.91 299.44 318.67   1179    1.0\n",
      "mu[94]     201.94    0.52  15.59 172.78 191.46 201.53 212.15 233.79    885   1.01\n",
      "mu[95]     123.62    0.68  18.07  89.28 111.34 122.76 135.47 160.93    713   1.01\n",
      "mu[96]     244.87    0.46  14.53  216.8 234.99 244.48 254.36 274.43    995    1.0\n",
      "mu[97]     687.36    0.57   21.2 645.61 672.96 686.77 701.94 730.47   1366    1.0\n",
      "mu[98]     312.14    0.33  13.44 286.13  303.2 312.17 320.38 339.45   1681    1.0\n",
      "mu[99]      428.5     0.3  13.58 401.35 419.75 428.18 436.89 456.12   2000    1.0\n",
      "y_pred[0]  418.58    2.93 131.16 154.24 330.48  420.3 509.16 675.67   2000    1.0\n",
      "y_pred[1]  714.14    2.97 130.17 465.66  624.1 710.77 803.13 978.28   1926    1.0\n",
      "y_pred[2]  628.29    2.98 129.54 378.23 540.25 625.69 717.26 886.85   1893    1.0\n",
      "y_pred[3]  650.27    3.03 135.54 371.24 560.54 652.34 736.57 918.66   2000    1.0\n",
      "y_pred[4]  649.04    2.98 133.22 384.15 562.36 650.64 735.21 906.66   2000    1.0\n",
      "y_pred[5]   65.59    2.87  128.4 -191.0 -18.79   69.4 151.75 318.13   2000    1.0\n",
      "y_pred[6]  300.05    3.03 135.63  29.95 207.21 302.08 393.73 561.54   2000    1.0\n",
      "y_pred[7]   316.3    2.96 132.35  60.77 231.57 314.82 402.97 585.72   2000    1.0\n",
      "y_pred[8]  747.33    3.05  136.5 484.64 652.74 746.46 837.79 1013.5   2000    1.0\n",
      "y_pred[9]  134.09    3.01 134.47 -125.3   42.3 136.72 228.23 387.72   2000    1.0\n",
      "y_pred[10] 129.79    2.94 131.62 -121.4  40.29 129.76 214.06 380.37   2000    1.0\n",
      "y_pred[11] 1009.0    2.99 130.92 743.95 923.02 1006.4 1095.8 1263.6   1921    1.0\n",
      "y_pred[12] 222.43    2.87 128.26 -31.97  137.2 223.24 306.95 471.35   2000    1.0\n",
      "y_pred[13] 182.11    2.93 131.11 -79.29  94.21  185.8 271.97 438.21   2000    1.0\n",
      "y_pred[14] 163.41    3.13 128.65 -86.88  80.49 161.93 249.21 405.53   1688    1.0\n",
      "y_pred[15] 125.43    3.12 130.81 -125.0  39.82 124.87 210.67 384.54   1753    1.0\n",
      "y_pred[16] 175.59    2.94 131.52 -86.31  87.95 178.54 262.93 438.93   2000    1.0\n",
      "y_pred[17] 130.19    3.05 134.06 -133.6  39.15 128.32 221.53 391.82   1934    1.0\n",
      "y_pred[18] 178.25    2.86 128.05 -73.06  91.24 181.49  267.0 430.85   2000    1.0\n",
      "y_pred[19] 435.07    2.96 132.58 170.35  344.5 433.07 527.22 696.56   2000    1.0\n",
      "y_pred[20] 467.72    2.83 126.52 218.76 382.52 468.99 554.31 714.52   2000    1.0\n",
      "y_pred[21] 123.86    3.13 132.95 -134.7  31.22  124.7 211.72 381.67   1808    1.0\n",
      "y_pred[22] 456.19    2.94  130.8 201.99 366.62 455.21 543.17 712.08   1981    1.0\n",
      "y_pred[23]  595.4    2.88 128.75 350.68 505.56 597.07  681.3 849.64   2000    1.0\n",
      "y_pred[24]  285.4    3.11 136.11  17.19 194.32 283.59 376.22 548.07   1911    1.0\n",
      "y_pred[25] 753.61     3.0 134.28 494.95  661.6 756.16 841.54 1025.0   2000    1.0\n",
      "y_pred[26]  176.5    2.96 132.45 -82.22  84.93 176.78 264.83 444.09   2000    1.0\n",
      "y_pred[27] 409.74    2.97  133.0 144.11 320.64 411.51 496.04  678.2   2000    1.0\n",
      "y_pred[28] 419.04    2.91 130.35 151.25 331.75 420.17 508.19 675.35   2000    1.0\n",
      "y_pred[29] 277.06    3.06 136.77   6.81 184.49 274.98 366.81 560.08   2000    1.0\n",
      "y_pred[30]  285.7    3.01 134.69  18.87 199.34 287.12  372.4 549.41   2000    1.0\n",
      "y_pred[31] 606.81    3.12 133.01 358.47  516.0 605.07  699.1 856.89   1820    1.0\n",
      "y_pred[32] 1429.4    3.66 142.43 1153.6 1337.1 1426.7 1522.6 1716.6   1514    1.0\n",
      "y_pred[33] 144.26    2.86 127.86 -100.1  59.57 145.79 226.25 413.68   2000    1.0\n",
      "y_pred[34]  67.36    2.92 129.48 -194.4 -17.48  68.33 158.91 311.76   1962    1.0\n",
      "y_pred[35] 144.65    3.22 136.04 -113.7  56.19 142.71  235.8 416.06   1789    1.0\n",
      "y_pred[36] 148.22    3.05 136.39 -109.9  59.16 148.09 236.61 413.25   2000    1.0\n",
      "y_pred[37]  373.3    3.02 134.46 103.98 282.59 372.11 463.71 639.82   1977    1.0\n",
      "y_pred[38] 177.46    2.99 133.23 -80.84  90.07  176.5 267.87 438.88   1987    1.0\n",
      "y_pred[39]  648.9    2.95 131.97 394.16 559.93 651.36 735.51 913.13   2000    1.0\n",
      "y_pred[40] 320.93    2.93 131.13  67.82 228.64 319.07 410.26 580.61   2000    1.0\n",
      "y_pred[41] 197.07    3.06 136.94 -80.08 104.31 198.26 287.86 458.88   2000    1.0\n",
      "y_pred[42]  17.05    3.13 131.55 -236.0 -72.28  17.86 103.25 281.46   1771    1.0\n",
      "y_pred[43] 291.37    2.99 132.62  31.94 203.78 289.41  379.8 557.23   1967    1.0\n",
      "y_pred[44] 351.13    3.36 132.64  89.66  260.7  351.6  441.9 604.47   1560    1.0\n",
      "y_pred[45] 258.51    3.16 135.57  -0.63 165.81  256.3 351.78 521.42   1845    1.0\n",
      "y_pred[46] 870.13    3.01 134.59 608.82 778.34 868.43 962.32 1130.3   1998    1.0\n",
      "y_pred[47]  482.0    3.05 133.13 214.63 393.11 486.94 571.75 738.12   1903    1.0\n",
      "y_pred[48] 192.79     3.0 134.04 -64.54 101.87 192.99 281.43  455.9   2000    1.0\n",
      "y_pred[49] 141.47    2.93 130.95 -115.2  54.43 142.35 225.67 407.52   2000    1.0\n",
      "y_pred[50]  369.9     3.0 133.99 110.59 278.81 368.47 459.96 633.75   2000    1.0\n",
      "y_pred[51] 613.46    2.92 130.58 356.26 526.37  611.9  701.0 866.39   2000    1.0\n",
      "y_pred[52] 343.28    3.01 134.71  81.62 249.95 343.28 435.92 615.64   2000    1.0\n",
      "y_pred[53] 264.79    3.12  135.5   4.98  173.2  261.7 354.51 548.32   1887    1.0\n",
      "y_pred[54] 298.18    2.96 132.26  34.85 209.99 303.24 386.08 553.46   1990    1.0\n",
      "y_pred[55] 116.53    2.98 132.33 -132.6  24.49 114.82 207.32 376.09   1975    1.0\n",
      "y_pred[56] 508.39    3.13 131.69 255.01  418.9 505.56  598.2 767.55   1774    1.0\n",
      "y_pred[57] 537.86    2.89 129.24  282.1  449.3 537.78 625.91 789.72   2000    1.0\n",
      "y_pred[58]  220.7    2.92 130.75 -42.62 135.35 221.35 306.12 474.55   2000    1.0\n",
      "y_pred[59] 261.59    2.98  133.1  -3.98 175.44 264.99 349.97 512.33   2000    1.0\n",
      "y_pred[60] 104.42    2.95 131.88 -146.8  12.86  106.7 192.51 370.26   2000    1.0\n",
      "y_pred[61]  90.44    3.61 135.48 -168.4   0.29  89.28 178.43 366.17   1411    1.0\n",
      "y_pred[62] 560.62    2.99 133.55  293.7 472.75  561.1 644.55 829.62   2000    1.0\n",
      "y_pred[63] 295.09    3.01 134.24  29.05 204.99 292.38 386.26 558.37   1994    1.0\n",
      "y_pred[64] 105.41    3.03 134.48 -153.8   16.5 103.99 191.97 375.45   1967    1.0\n",
      "y_pred[65] 228.34    2.95 131.91 -27.18 139.87 228.24 313.19 495.13   2000    1.0\n",
      "y_pred[66] 118.24    3.18  135.5 -140.6  28.63 113.12  209.6 395.23   1821    1.0\n",
      "y_pred[67]  567.1    3.08 130.62 305.24 484.24 566.13 658.95 817.31   1795    1.0\n",
      "y_pred[68] 277.93    2.98 129.47   29.1 186.59  277.8 369.26 524.92   1886    1.0\n",
      "y_pred[69] 495.24     3.0 133.97 235.02 406.46 493.58  585.5  758.6   2000    1.0\n",
      "y_pred[70]  91.12    3.13 130.96 -153.5  -2.38  93.38 178.91 351.46   1754    1.0\n",
      "y_pred[71] 174.14    3.05 129.65 -81.47  88.65 171.89 262.96 437.79   1805    1.0\n",
      "y_pred[72]  283.2     2.9 129.72  24.65 197.05 280.65 372.07 536.36   2000    1.0\n",
      "y_pred[73]  146.0    2.93 131.05 -110.7  59.88 147.21 233.15 397.71   2000    1.0\n",
      "y_pred[74] 132.66    3.03 133.57 -131.6   41.4 132.71 222.62 392.32   1948    1.0\n",
      "y_pred[75] 482.16    2.95 131.95 219.58  393.1 479.39  571.9  732.7   2000    1.0\n",
      "y_pred[76] 994.61    3.15  140.9 722.78 902.97 995.47 1082.9 1277.1   2000    1.0\n",
      "y_pred[77] 391.53    3.07 130.67 140.93 303.94 389.75 478.25 648.34   1810    1.0\n",
      "y_pred[78] 469.99    2.97 133.02 212.45 381.48 471.59 556.26 729.12   2000    1.0\n",
      "y_pred[79]  90.11    3.19 133.93 -159.3  -1.46  91.65 175.37  357.4   1761    1.0\n",
      "y_pred[80] 802.81    3.21 131.48  537.9 720.75 801.67 889.25 1063.3   1673    1.0\n",
      "y_pred[81] 538.62    2.88 128.99 290.84  449.4 533.16  624.5 792.97   2000    1.0\n",
      "y_pred[82] 381.19    3.04 133.11 124.66  290.9  378.9 466.48 649.89   1913    1.0\n",
      "y_pred[83]  168.4    3.29 133.54 -91.28  79.83 166.62 255.53 435.45   1646    1.0\n",
      "y_pred[84] 223.34    2.96 130.82  -26.3 132.81 223.06 312.82 476.36   1959    1.0\n",
      "y_pred[85] 1393.3    3.56 144.66 1113.1 1299.6 1393.8 1484.8 1679.4   1648    1.0\n",
      "y_pred[86] 342.83    3.06 136.76  76.53 249.74 339.84 433.52 610.67   2000    1.0\n",
      "y_pred[87]  578.8     3.0 133.98 321.67 487.22 583.15 671.76 836.81   2000    1.0\n",
      "y_pred[88] 184.61    3.19 136.38 -80.48  96.06 186.34 272.17 457.07   1830    1.0\n",
      "y_pred[89] 383.56    2.95 130.66 126.89 296.91 377.53 471.44 637.23   1963    1.0\n",
      "y_pred[90] 305.57    2.97 131.28  46.17 216.58 305.69 392.66 565.48   1954    1.0\n",
      "y_pred[91] 316.46    3.01  134.4  49.92 224.58 314.24 406.83 576.23   2000    1.0\n",
      "y_pred[92] 563.04    3.05  133.1  304.1 473.28 564.77 652.98 818.16   1905    1.0\n",
      "y_pred[93] 290.07    3.06 136.88  18.08 196.55 290.75 383.44 562.92   2000    1.0\n",
      "y_pred[94] 199.66     3.2 132.12 -65.21 107.97 197.64 290.86  451.8   1706    1.0\n",
      "y_pred[95] 124.72    3.02 129.81 -131.7  38.41  126.0 212.63 375.33   1844    1.0\n",
      "y_pred[96] 243.71    3.02 133.53 -13.21 149.06 244.21 336.47 501.46   1959    1.0\n",
      "y_pred[97] 684.36    3.09  133.6 414.77 595.87  683.5 771.75 948.99   1873    1.0\n",
      "y_pred[98] 312.47    3.03 135.55   51.0 218.41 309.32 405.94 579.07   2000    1.0\n",
      "y_pred[99] 429.05    3.07 132.17 162.18  341.6 426.01 517.74  693.5   1852    1.0\n",
      "e[0]       -157.8     0.3  13.49 -185.4 -166.3 -157.6 -149.2 -130.9   2000    1.0\n",
      "e[1]       -199.5    0.62  22.48 -245.6 -215.0 -198.9 -184.4 -155.3   1303    1.0\n",
      "e[2]        48.09    0.48  18.73  10.38  35.35  48.74  60.77  84.76   1542    1.0\n",
      "e[3]       -173.9    0.51  19.62 -213.2 -187.1 -173.2 -160.6 -135.6   1469    1.0\n",
      "e[4]       -191.3    0.51  19.62 -230.7 -204.5 -190.6 -178.0 -153.0   1469    1.0\n",
      "e[5]        84.42    0.77  20.09  44.32   71.1  85.57  98.15 122.42    682   1.01\n",
      "e[6]       -65.83    0.39  13.58 -93.44 -74.32 -65.81 -56.76 -39.54   1225    1.0\n",
      "e[7]       -52.28    0.32  13.39 -79.54 -60.54  -52.4 -43.34 -26.19   1713    1.0\n",
      "e[8]       -94.98    0.67   23.6 -143.2 -110.9 -94.48 -78.86 -48.98   1258    1.0\n",
      "e[9]        91.18    0.66  17.78   54.4  79.48  92.07 103.35 125.04    721   1.01\n",
      "e[10]       28.78    0.66  17.78   -8.0  17.08  29.67  40.95  62.64    721   1.01\n",
      "e[11]      -254.4    1.13  35.75 -325.2 -277.9 -254.2 -229.3 -185.4   1001    1.0\n",
      "e[12]       -1.88    0.49  15.04 -32.49 -11.79  -1.47    8.4  26.77    932    1.0\n",
      "e[13]       18.82    0.58  16.14 -14.15   8.24  19.27  29.64   49.4    784   1.01\n",
      "e[14]        79.3     0.6  16.63  45.37  68.39  79.77  90.55 110.79    760   1.01\n",
      "e[15]       31.56    0.67  17.86  -5.38  19.81  32.47  43.79   65.5    718   1.01\n",
      "e[16]       24.27    0.59  16.35  -9.19  13.52  24.74  35.27  55.21    773   1.01\n",
      "e[17]       62.93    0.66  17.73  26.23  51.25  63.75  75.01  96.71    722   1.01\n",
      "e[18]        1.76    0.58  16.21 -31.42  -8.84    2.2  12.59  32.46    780   1.01\n",
      "e[19]       62.69    0.31  13.65  35.01  54.09  63.04   71.5  89.94   2000    1.0\n",
      "e[20]      -176.2    0.32   14.2 -204.6 -185.2 -175.5 -167.0 -148.1   2000    1.0\n",
      "e[21]       32.98    0.67  18.02  -4.25  21.15  33.84  45.23  67.23    714   1.01\n",
      "e[22]       21.09    0.31  13.92  -6.89   12.1  21.59   30.1  48.98   2000    1.0\n",
      "e[23]       38.92    0.44  17.75   3.28  27.17   39.4  50.78  73.34   1643    1.0\n",
      "e[24]       27.13    0.41  13.81  -1.03  18.32  27.22  36.42  53.76   1144    1.0\n",
      "e[25]      115.89    0.68   23.9  67.03  99.78 116.44 132.24 162.44   1247    1.0\n",
      "e[26]      127.49    0.58  16.25  94.22 116.86 127.92 138.39 158.21    778   1.01\n",
      "e[27]       24.72     0.3  13.37  -2.63  16.33  25.03   33.2  51.48   2000    1.0\n",
      "e[28]      -148.1     0.3  13.48 -175.5 -156.5 -147.8 -139.4 -121.1   2000    1.0\n",
      "e[29]      -18.66    0.42  13.89 -47.09 -27.52 -18.55  -9.21   8.11   1120    1.0\n",
      "e[30]      -130.2    0.41  13.77 -158.3 -138.9 -130.1 -121.0 -103.6   1155    1.0\n",
      "e[31]      -259.0    0.46  18.25 -295.6 -271.4 -258.5 -246.8 -223.3   1588    1.0\n",
      "e[32]       440.4    1.89  56.37 330.07 403.51 440.83 479.38 548.72    888    1.0\n",
      "e[33]        38.2    0.64   17.3   2.51  26.78  38.85  50.01  71.05    735   1.01\n",
      "e[34]      109.34    0.77  20.06  69.27  96.05 110.47 123.04 147.26    682   1.01\n",
      "e[35]        38.2    0.64   17.3   2.51  26.78  38.85  50.01  71.05    735   1.01\n",
      "e[36]        61.6    0.64   17.3  25.91  50.18  62.25  73.41  94.45    735   1.01\n",
      "e[37]       -7.08    0.29  13.18 -34.31 -15.17  -7.04   1.47  19.19   2000    1.0\n",
      "e[38]       59.91    0.59  16.37  26.42  49.13  60.39  70.96  90.89    772   1.01\n",
      "e[39]      -218.8    0.52  19.77 -258.5 -232.2 -218.1 -205.4 -180.0   1458    1.0\n",
      "e[40]      -136.2    0.32  13.37 -163.5 -144.4 -136.3 -127.3 -110.2   1735    1.0\n",
      "e[41]       96.78    0.53  15.62   64.9  86.54  97.16 107.25 126.04    882   1.01\n",
      "e[42]       109.5    0.87  22.27   66.3  94.54 110.66 124.35  151.7    662   1.01\n",
      "e[43]      -11.46     0.4  13.66 -39.27 -20.02 -11.48  -2.33  14.78   1193    1.0\n",
      "e[44]      -37.74    0.29  13.19 -64.77  -45.9 -37.87 -29.06 -12.14   2000    1.0\n",
      "e[45]      -10.88    0.44  14.26 -40.08 -20.16 -10.52  -1.12  16.61   1039    1.0\n",
      "e[46]      367.74    0.87  29.02 310.05  348.5 368.06 388.19 424.61   1100    1.0\n",
      "e[47]      -62.58    0.32  14.49  -92.0 -71.65 -61.88 -53.04 -34.32   2000    1.0\n",
      "e[48]       -6.64    0.54  15.87 -38.94 -17.01  -6.14   4.08  23.49    865   1.01\n",
      "e[49]        38.2    0.64   17.3   2.51  26.78  38.85  50.01  71.05    735   1.01\n",
      "e[50]      -15.81    0.29  13.17 -42.85 -23.83 -15.88  -7.23   10.2   2000    1.0\n",
      "e[51]      267.79    0.47  18.51 230.58 255.18  268.4 280.16 304.01   1563    1.0\n",
      "e[52]      112.75     0.3  13.23  85.48 104.57 112.59  121.5  138.3   2000    1.0\n",
      "e[53]      -73.38    0.44  14.26 -102.5 -82.66 -73.02 -63.62 -45.89   1039    1.0\n",
      "e[54]      -65.83    0.39  13.58 -93.44 -74.32 -65.81 -56.76 -39.54   1225    1.0\n",
      "e[55]       78.81     0.7  18.47  40.96  66.74  79.51  91.49 113.89    704   1.01\n",
      "e[56]      -192.9    0.34  15.04 -223.2 -202.4 -192.1 -183.1 -163.7   2000    1.0\n",
      "e[57]       64.42    0.35   15.8   32.8  54.32  65.04   74.9  95.27   2000    1.0\n",
      "e[58]      101.64     0.5   15.2  70.71  91.64 102.08 112.01 130.35    917    1.0\n",
      "e[59]      -62.61    0.44  14.22 -91.69 -71.84 -62.29 -52.88 -35.22   1047    1.0\n",
      "e[60]       41.35    0.71  18.77   3.03  29.06  42.23  54.21  76.89    698   1.01\n",
      "e[61]       57.74    0.73  19.29  18.65  45.03  58.66   70.8  94.17    693   1.01\n",
      "e[62]       35.04    0.38  16.53   1.16  24.23  35.56  45.92  67.08   1934    1.0\n",
      "e[63]      120.84     0.4  13.68  92.98 112.28 120.83 129.98 147.11   1188    1.0\n",
      "e[64]       69.36    0.71  18.67  31.28  57.14  70.13  82.18 104.75    700   1.01\n",
      "e[65]       20.41    0.48  14.86  -9.77   10.7  20.94  30.53  48.97    952    1.0\n",
      "e[66]       77.37    0.69  18.32  39.69  65.35  78.05  89.87 112.18    707   1.01\n",
      "e[67]      -168.6     0.4  16.89 -203.3 -179.6 -168.2 -157.4 -135.9   1751    1.0\n",
      "e[68]      -50.94    0.41  13.88 -79.24 -59.79 -50.83 -41.54 -24.17   1124    1.0\n",
      "e[69]      -18.24    0.33  14.79 -48.26 -27.57  -17.5  -8.62  10.44   2000    1.0\n",
      "e[70]       57.88    0.74  19.35  18.72   45.1  58.83  71.01  94.41    692   1.01\n",
      "e[71]       -9.81    0.59   16.4 -43.33 -20.59  -9.33   1.26  21.23    770   1.01\n",
      "e[72]      -65.15    0.42  13.94 -93.84 -74.01 -65.01 -55.61 -38.35   1107    1.0\n",
      "e[73]       56.11    0.63  17.14  20.87  44.81  56.77  67.78  88.62    740   1.01\n",
      "e[74]        48.8    0.67  17.84  11.89  37.06  49.71  61.02  82.72    719   1.01\n",
      "e[75]      -129.2    0.32  14.49 -158.6 -138.3 -128.5 -119.7 -100.9   2000    1.0\n",
      "e[76]       61.47     1.1  34.84  -7.57  38.49  61.64   85.8 128.61   1011    1.0\n",
      "e[77]      -127.2     0.3  13.22 -154.4 -135.4 -126.9 -118.8 -100.7   2000    1.0\n",
      "e[78]      -81.57    0.32  14.28 -110.2 -90.57  -80.9 -72.34 -53.41   2000    1.0\n",
      "e[79]       70.25    0.74   19.5  30.89  57.33  71.31  83.52 107.02    690   1.01\n",
      "e[80]      -170.3    0.77  26.29 -223.2 -187.8 -169.9 -152.0 -119.3   1176    1.0\n",
      "e[81]      -80.34    0.36  15.96 -112.2  -90.6 -79.74 -69.73  -49.2   1997    1.0\n",
      "e[82]      400.11     0.3   13.2 373.03 391.99 400.21 408.58  426.7   2000    1.0\n",
      "e[83]        9.75     0.6  16.53 -23.95   -1.1   10.2  20.91   41.0    765   1.01\n",
      "e[84]        18.8    0.49  15.07 -11.84   8.86  19.22  29.12  47.46    930    1.0\n",
      "e[85]       363.0    1.82  54.44 256.23 327.13 363.45 400.85 467.71    894    1.0\n",
      "e[86]      -129.8     0.3  13.21 -157.0 -138.0 -130.1 -121.1 -104.3   2000    1.0\n",
      "e[87]      -75.13    0.42  17.18 -109.9 -86.43 -74.68 -63.79 -41.97   1711    1.0\n",
      "e[88]       13.56    0.58  16.19 -19.57   2.97  13.99  24.38  44.22    781   1.01\n",
      "e[89]      -169.5     0.3  13.22 -196.7 -177.7 -169.2 -161.0 -143.0   2000    1.0\n",
      "e[90]      -37.23    0.39  13.56 -64.77 -45.67  -37.2 -28.15 -10.99   1233    1.0\n",
      "e[91]      -92.82    0.33  13.42 -120.1 -101.0  -92.9 -83.87 -66.76   1692    1.0\n",
      "e[92]      -280.2    0.38  16.61 -314.4 -291.0 -279.7 -269.3 -248.0   1926    1.0\n",
      "e[93]       98.82     0.4   13.7  71.03  90.26  98.79  108.0 125.17   1179    1.0\n",
      "e[94]       -5.59    0.52  15.59 -37.44  -15.8  -5.18   4.89  23.57    885   1.01\n",
      "e[95]       85.88    0.68  18.07  48.58  74.04  86.75  98.17 120.22    713   1.01\n",
      "e[96]      -23.87    0.46  14.53 -53.43 -33.36 -23.48 -13.99    4.2    995    1.0\n",
      "e[97]      -82.86    0.57   21.2 -125.9 -97.44 -82.27 -68.46 -41.11   1366    1.0\n",
      "e[98]       12.86    0.33  13.44 -14.45   4.62  12.83   21.8  38.87   1681    1.0\n",
      "e[99]        -5.5     0.3  13.58 -33.12 -13.89  -5.18   3.25  21.65   2000    1.0\n",
      "Y_new[0]   -83.06     3.1 133.67 -353.2 -172.8 -78.38   4.56 174.57   1861    1.0\n",
      "Y_new[1]   -63.48    2.94 131.27 -317.0 -150.3 -64.33  22.87 204.23   2000    1.0\n",
      "Y_new[2]   -48.95    3.35 132.27 -310.5 -137.7  -48.0  42.05 213.14   1563    1.0\n",
      "Y_new[3]   -28.88    3.04  135.3 -290.1 -121.3 -29.78   59.2 243.93   1983    1.0\n",
      "Y_new[4]   -20.42    3.27 132.64 -278.3 -105.2 -23.96  66.49 241.45   1650    1.0\n",
      "Y_new[5]   -10.45    2.95 131.52 -276.7 -97.44 -10.94  74.16 246.62   1981    1.0\n",
      "Y_new[6]     6.69    2.96 132.58 -251.9 -82.59   6.57   94.6 279.61   2000    1.0\n",
      "Y_new[7]    21.22    2.98 133.34 -226.6 -70.89  20.52 112.71 277.03   2000    1.0\n",
      "Y_new[8]    34.82    2.98 131.84 -227.7 -52.31  34.61 122.82 295.86   1955    1.0\n",
      "Y_new[9]    45.92     3.0 134.13 -214.4 -42.68  42.21 134.31 313.25   2000    1.0\n",
      "Y_new[10]   67.44    3.03 132.61 -184.4 -19.06  63.83 158.51 328.28   1919    1.0\n",
      "Y_new[11]   80.21    3.03  134.1 -176.6 -10.83  80.49 168.01 340.48   1960    1.0\n",
      "Y_new[12]   88.96    3.01 134.47 -176.6  -0.66  88.34  177.5 355.58   2000    1.0\n",
      "Y_new[13]  104.11    3.14 133.26 -167.1  12.69 104.23 195.44 363.63   1802    1.0\n",
      "Y_new[14]  113.43    2.93  131.0 -137.8  26.75 109.14 199.53 380.12   2000    1.0\n",
      "Y_new[15]  138.01    2.97 132.89 -115.1  50.36 134.19 227.61 396.41   2000    1.0\n",
      "Y_new[16]   144.2    3.09 136.03 -126.5  53.68 143.17 235.77 409.93   1936    1.0\n",
      "Y_new[17]  166.68    3.02 133.57  -93.3   77.5 169.26  252.1 432.45   1953    1.0\n",
      "Y_new[18]  175.96    2.85 127.48 -73.21  90.01 174.45 263.77 422.45   2000    1.0\n",
      "Y_new[19]  194.18    3.04 133.41 -59.84 109.09 193.63 283.89 463.86   1932    1.0\n",
      "Y_new[20]  207.92    2.98 133.34 -53.18 120.14 209.66 296.09 469.83   2000    1.0\n",
      "Y_new[21]   223.1    3.25 132.71 -40.66 136.09 224.22 314.44 475.51   1672    1.0\n",
      "Y_new[22]   231.6    3.07 132.84  -22.2 141.38  227.4 321.55 487.15   1878    1.0\n",
      "Y_new[23]  237.86     3.0 134.34 -29.56 149.98 234.91 326.06 506.81   2000    1.0\n",
      "Y_new[24]   268.6    2.98 133.29   4.97 182.41 265.64  360.9 523.38   2000    1.0\n",
      "Y_new[25]  276.81    2.95 131.93  26.48 184.03 274.42 367.74  536.3   2000    1.0\n",
      "Y_new[26]  290.06    3.02 130.14  34.99 206.08 289.88 378.54 545.92   1861    1.0\n",
      "Y_new[27]  299.79     3.0 131.43  32.74  214.8 301.26 385.94 553.88   1913    1.0\n",
      "Y_new[28]  320.88    2.89 129.45  59.46 235.42 319.22 405.78 578.23   2000    1.0\n",
      "Y_new[29]  333.56    3.08 131.73  79.07 247.46 331.55 418.23 599.74   1825    1.0\n",
      "Y_new[30]  343.77    3.01 134.52  71.42 257.17 345.36 429.15  606.1   2000    1.0\n",
      "Y_new[31]  360.07    2.93 130.98 103.75 277.38 363.12 447.87 614.17   2000    1.0\n",
      "Y_new[32]  373.12    3.06 136.76 116.38 281.26 372.44 466.01 642.23   2000    1.0\n",
      "Y_new[33]  387.59     2.9 129.76 146.43 295.69 385.06 474.84 650.36   2000    1.0\n",
      "Y_new[34]  400.68    3.02 134.94 129.55 313.22 405.49 490.05  660.2   2000    1.0\n",
      "Y_new[35]   417.7    3.06 136.98 149.56 326.61  418.2 513.34  695.3   2000    1.0\n",
      "Y_new[36]  434.44    3.03 132.03 163.88 352.36 434.79 520.42  696.1   1894    1.0\n",
      "Y_new[37]  441.34    3.04 131.35 191.21 355.59 441.48 527.54 700.02   1872    1.0\n",
      "Y_new[38]  452.82     3.0 134.35 187.77 358.62 451.99 544.48 719.14   2000    1.0\n",
      "Y_new[39]  473.83    3.12 133.92 199.47 385.38 477.17 559.48 737.22   1846    1.0\n",
      "Y_new[40]  482.55    3.09 133.49 225.17 389.86 480.27 572.47  751.0   1868    1.0\n",
      "Y_new[41]  497.38    2.98 133.11 238.88 404.63 500.69 589.63 758.79   2000    1.0\n",
      "Y_new[42]  513.12    3.14 133.93 261.42 418.42 511.85 602.43  774.2   1816    1.0\n",
      "Y_new[43]  534.14    3.13 134.26 279.37 437.26 533.55 623.68 796.27   1843    1.0\n",
      "Y_new[44]  541.39    2.89 129.39 292.73 452.04 543.24 629.65 792.19   2000    1.0\n",
      "Y_new[45]  557.73     3.0 131.11 290.57  472.6 554.89 645.42 820.67   1915    1.0\n",
      "Y_new[46]  571.69    2.92 130.45  325.3 483.03 571.71  658.4 825.77   2000    1.0\n",
      "Y_new[47]  587.77    3.05 136.25  329.6 493.63 585.69 682.77 850.42   1995    1.0\n",
      "Y_new[48]  590.89    2.97 132.77 343.25 499.95 586.89 685.63 849.91   2000    1.0\n",
      "Y_new[49]  613.24     3.1 136.14 353.82 519.79 607.23 706.18  884.2   1924    1.0\n",
      "Y_new[50]  631.82    2.96 131.24 373.04 546.11 631.57 719.84  886.4   1961    1.0\n",
      "Y_new[51]  641.59    2.94 131.45 382.37 550.74 637.46 736.86 894.29   2000    1.0\n",
      "Y_new[52]  657.12    2.92 130.53 407.22 568.87 654.38 743.23 922.14   2000    1.0\n",
      "Y_new[53]   669.7    3.15 133.41 414.88 580.32  669.6 756.14 937.47   1795    1.0\n",
      "Y_new[54]  683.39    2.94 131.39 436.79 590.28 681.96  772.4 953.04   2000    1.0\n",
      "Y_new[55]  693.98    3.07  131.6 437.69 603.38 697.54 783.71 947.02   1841    1.0\n",
      "Y_new[56]  715.31    3.08 132.86 453.67 627.68 714.93 804.53 982.89   1857    1.0\n",
      "Y_new[57]  728.36    3.03  132.0 458.77 641.43 729.81 818.66 986.38   1900    1.0\n",
      "Y_new[58]  743.84    2.92 130.37 492.63 656.88 741.97 830.24 1005.5   1988    1.0\n",
      "Y_new[59]  755.71    3.13 132.29 495.74 664.64 754.48  844.3 1019.6   1784    1.0\n",
      "Y_new[60]  765.43    3.01 132.19 503.28 678.98 769.29 853.84 1019.8   1932    1.0\n",
      "Y_new[61]  782.81    3.01 134.72 515.44  695.2 781.93 872.02 1050.8   2000    1.0\n",
      "Y_new[62]  799.12     3.1 136.85 535.11 708.65 798.48  888.4 1066.3   1946    1.0\n",
      "Y_new[63]  805.87    3.13  135.7 531.41 712.76 806.73 898.22 1064.5   1880    1.0\n",
      "Y_new[64]  824.68    3.02 135.23 558.86  735.9 826.16 918.14 1091.0   2000    1.0\n",
      "Y_new[65]  838.18    3.09 137.26 565.08 745.44 840.23 929.06 1106.7   1976    1.0\n",
      "Y_new[66]  853.43    3.08 133.23 597.86 763.02 850.78 942.96 1120.2   1873    1.0\n",
      "Y_new[67]  866.47    3.06 135.55 592.15 778.07 868.11  951.4 1141.7   1961    1.0\n",
      "Y_new[68]  879.82     3.1 138.61 602.62  785.2 881.66 975.12 1145.0   2000    1.0\n",
      "Y_new[69]  897.15    3.31 134.14 642.25 805.99 897.41 983.33 1158.2   1640    1.0\n",
      "Y_new[70]   910.0    3.28 137.45 635.29 818.88 911.62 1006.2 1170.8   1751    1.0\n",
      "Y_new[71]  922.72    3.05 136.41 655.04 833.14 922.16 1011.0 1197.7   2000    1.0\n",
      "Y_new[72]   944.1    3.11 133.44 684.77 858.77 941.51 1032.3 1205.2   1843    1.0\n",
      "Y_new[73]  950.21    3.19 138.56 678.06 860.17 947.92 1041.7 1217.5   1886    1.0\n",
      "Y_new[74]  967.33    3.03 135.51 717.13 874.19 965.56 1061.6 1231.7   2000    1.0\n",
      "Y_new[75]  979.86    3.06 134.99  703.1 889.15 982.23 1068.3 1239.7   1942    1.0\n",
      "Y_new[76]  996.63    3.12 133.24 739.72 906.88 998.27 1087.1 1259.3   1823    1.0\n",
      "Y_new[77]  1008.1    3.15 131.01 743.54  924.8 1007.1 1093.4 1272.7   1725    1.0\n",
      "Y_new[78]  1018.2    3.09 138.32 731.49 926.08 1020.5 1111.0 1275.7   2000    1.0\n",
      "Y_new[79]  1038.1     3.1 137.37 757.59 946.38 1040.6 1131.4 1301.4   1965    1.0\n",
      "Y_new[80]  1049.5    3.12 133.42 784.76  963.2 1049.5 1137.0 1307.1   1831    1.0\n",
      "Y_new[81]  1063.5    3.06 136.71  805.0 972.06 1063.5 1156.2 1330.4   2000    1.0\n",
      "Y_new[82]  1073.9     3.1 136.99 811.48 983.59 1072.8 1164.6 1343.7   1954    1.0\n",
      "Y_new[83]  1092.4    3.18 137.47 816.06 997.62 1096.3 1185.7 1360.8   1874    1.0\n",
      "Y_new[84]  1104.8    3.19 136.57 842.36 1011.6 1109.1 1194.1 1377.6   1833    1.0\n",
      "Y_new[85]  1118.0    2.98 132.17 848.96 1032.3 1117.4 1205.7 1381.7   1970    1.0\n",
      "Y_new[86]  1135.4    3.41 138.86 859.82 1041.9 1136.5 1231.4 1409.2   1660    1.0\n",
      "Y_new[87]  1153.1    3.15 140.87 883.43 1057.6 1156.0 1250.7 1425.5   2000    1.0\n",
      "Y_new[88]  1166.1     3.2 137.63 897.13 1071.0 1168.3 1255.1 1439.3   1847    1.0\n",
      "Y_new[89]  1174.8    3.35 138.66 895.93 1080.5 1175.7 1266.3 1455.7   1709    1.0\n",
      "Y_new[90]  1189.5     3.4  137.4 923.42 1098.0 1189.9 1280.5 1462.1   1636    1.0\n",
      "Y_new[91]  1205.7    3.55 140.49 933.23 1109.6 1204.8 1304.7 1478.2   1564    1.0\n",
      "Y_new[92]  1219.2    3.23 141.83 928.36 1122.4 1220.6 1314.2 1496.6   1930    1.0\n",
      "Y_new[93]  1226.0     3.2 135.11 958.22 1133.9 1224.4 1316.9 1491.3   1788    1.0\n",
      "Y_new[94]  1251.4    3.15 139.24  980.0 1154.7 1254.1 1347.4 1515.9   1957    1.0\n",
      "Y_new[95]  1266.0    3.39 142.29 974.01 1174.7 1267.0 1358.4 1553.6   1766    1.0\n",
      "Y_new[96]  1278.7    3.58 144.39 1002.2 1179.9 1277.0 1377.0 1562.1   1630    1.0\n",
      "Y_new[97]  1294.6    3.93 145.11 1012.8 1200.7 1295.3 1391.3 1572.7   1362    1.0\n",
      "Y_new[98]  1307.2    3.16 141.52 1032.2 1209.6 1306.2 1403.4 1583.3   2000    1.0\n",
      "Y_new[99]  1320.0    3.56 142.69 1039.8 1230.3 1323.8 1412.4 1612.5   1602    1.0\n",
      "Y_new[100] 1333.6    3.37 141.71 1052.7 1241.5 1333.0 1426.5 1610.7   1769    1.0\n",
      "Y_new[101] 1339.6    3.63 142.06 1067.9 1242.1 1340.4 1432.9 1625.4   1528    1.0\n",
      "Y_new[102] 1358.9    3.61 142.32 1071.4 1265.5 1363.5 1453.0 1641.5   1550    1.0\n",
      "Y_new[103] 1374.4    3.35 141.69 1088.2 1278.2 1375.4 1468.8 1649.2   1790    1.0\n",
      "Y_new[104] 1384.4    3.71 140.96 1098.2 1284.6 1385.6 1479.2 1656.8   1441    1.0\n",
      "Y_new[105] 1403.5    3.48 143.57 1116.2 1309.6 1402.7 1497.4 1688.9   1701    1.0\n",
      "Y_new[106] 1420.0    3.28 140.33 1153.3 1322.9 1418.9 1513.3 1696.6   1828    1.0\n",
      "Y_new[107] 1433.2    3.29 141.33 1156.8 1336.4 1430.1 1530.1 1713.6   1848    1.0\n",
      "Y_new[108] 1449.1    3.53 141.78 1166.8 1351.9 1453.7 1540.9 1730.1   1612    1.0\n",
      "Y_new[109] 1458.7    3.56 146.89 1166.3 1360.5 1463.0 1558.7 1739.9   1699    1.0\n",
      "Y_new[110] 1471.6    3.25 141.88 1202.1 1374.7 1471.4 1562.5 1760.7   1908    1.0\n",
      "Y_new[111] 1493.6    3.55 148.58 1200.7 1396.0 1494.4 1592.1 1784.1   1755    1.0\n",
      "Y_new[112] 1505.3    3.58 144.93 1221.0 1411.3 1498.2 1603.4 1795.5   1641    1.0\n",
      "Y_new[113] 1516.7     3.4 141.08 1234.6 1426.7 1519.3 1612.7 1798.0   1720    1.0\n",
      "Y_new[114] 1529.0    3.59 143.12 1246.8 1431.1 1530.1 1628.9 1814.0   1586    1.0\n",
      "lp__       -531.9    0.05   1.24 -535.1 -532.5 -531.5 -530.9 -530.4    680    1.0\n",
      "\n",
      "Samples were drawn using NUTS at Wed Apr 19 15:44:39 2017.\n",
      "For each parameter, n_eff is a crude measure of effective sample size,\n",
      "and Rhat is the potential scale reduction factor on split chains (at \n",
      "convergence, Rhat=1).\n"
     ]
    }
   ],
   "source": [
    "print(fit_1)"
   ]
  },
  {
   "cell_type": "markdown",
   "metadata": {},
   "source": [
    "予測分布を書く関数"
   ]
  },
  {
   "cell_type": "code",
   "execution_count": 17,
   "metadata": {
    "collapsed": true
   },
   "outputs": [],
   "source": [
    "def plot_pred_range(fit, xs, ys_key, percentiles, alpha):\n",
    "    ys = (fit.extract(permuted=True))[ys_key].T\n",
    "    plt.fill_between( \\\n",
    "        xs, \\\n",
    "        [np.percentile(y, percentiles[0]) for y in ys], \\\n",
    "        [np.percentile(y, percentiles[1]) for y in ys], alpha=alpha)"
   ]
  },
  {
   "cell_type": "markdown",
   "metadata": {},
   "source": [
    "予測分布"
   ]
  },
  {
   "cell_type": "code",
   "execution_count": 18,
   "metadata": {
    "collapsed": false
   },
   "outputs": [
    {
     "data": {
      "image/png": "[encoded data removed]",
      "text/plain": [
       "<matplotlib.figure.Figure at 0x11e243748>"
      ]
     },
     "metadata": {},
     "output_type": "display_data"
    }
   ],
   "source": [
    "plt.plot(data_1['Area'], data_1['Y'], \"o\")\n",
    "plot_pred_range(fit_1, data_1['Area_new'], 'Y_new', (10, 90), 0.25)\n",
    "plot_pred_range(fit_1, data_1['Area_new'], 'Y_new', (25, 75), 0.5)\n",
    "plt.show()"
   ]
  },
  {
   "cell_type": "markdown",
   "metadata": {},
   "source": [
    "誤差のヒストグラム"
   ]
  },
  {
   "cell_type": "code",
   "execution_count": 19,
   "metadata": {
    "collapsed": false
   },
   "outputs": [
    {
     "data": {
      "image/png": "[encoded data removed]",
      "text/plain": [
       "<matplotlib.figure.Figure at 0x11d91a5c0>"
      ]
     },
     "metadata": {},
     "output_type": "display_data"
    }
   ],
   "source": [
    "def hist_error(fit):\n",
    "    plt.hist((fit.extract(permuted=True))['e'].flatten(), bins=100, alpha=0.5);\n",
    "hist_error(fit_1)"
   ]
  },
  {
   "cell_type": "markdown",
   "metadata": {},
   "source": [
    "変数変換する場合"
   ]
  },
  {
   "cell_type": "code",
   "execution_count": 20,
   "metadata": {
    "collapsed": true
   },
   "outputs": [],
   "source": [
    "model_1a = \"\"\"\n",
    "data {\n",
    "  int N;\n",
    "  int N_new;\n",
    "  real<lower=0> Area[N];\n",
    "  real<lower=0> Area_new[N_new];\n",
    "  real<lower=0> Y[N];\n",
    "}\n",
    "\n",
    "parameters {\n",
    "  real b1;\n",
    "  real b2;\n",
    "  real<lower=0> sigma;\n",
    "}\n",
    "\n",
    "transformed parameters {\n",
    "  real mu[N];\n",
    "  for (n in 1:N)\n",
    "    mu[n] = b1 + b2*log(Area[n]);\n",
    "}\n",
    "\n",
    "model {\n",
    "  for (n in 1:N)\n",
    "    log(Y[n]) ~ normal(mu[n], sigma);\n",
    "}\n",
    "\n",
    "generated quantities {\n",
    "  real y_pred[N];\n",
    "  real e[N];\n",
    "  real Y_new[N_new];\n",
    "  for (n in 1:N) {\n",
    "    y_pred[n] = exp(normal_rng(mu[n], sigma));\n",
    "    e[n] = log(Y[n]) - mu[n];\n",
    "  }\n",
    "  for (n in 1:N_new)\n",
    "    Y_new[n] = exp(normal_rng(b1 + b2*log(Area_new[n]), sigma));\n",
    "}\n",
    "\"\"\""
   ]
  },
  {
   "cell_type": "code",
   "execution_count": 21,
   "metadata": {
    "collapsed": false
   },
   "outputs": [
    {
     "name": "stderr",
     "output_type": "stream",
     "text": [
      "INFO:pystan:COMPILING THE C++ CODE FOR MODEL anon_model_782ff4b375e8941d35cf9a11725ee848 NOW.\n"
     ]
    }
   ],
   "source": [
    "fit_1a = pystan.stan(model_code=model_1a, data=data_1, iter=1000, chains=4)"
   ]
  },
  {
   "cell_type": "code",
   "execution_count": 22,
   "metadata": {
    "collapsed": false
   },
   "outputs": [
    {
     "name": "stdout",
     "output_type": "stream",
     "text": [
      "Inference for Stan model: anon_model_782ff4b375e8941d35cf9a11725ee848.\n",
      "4 chains, each with iter=1000; warmup=500; thin=1; \n",
      "post-warmup draws per chain=500, total post-warmup draws=2000.\n",
      "\n",
      "             mean se_mean     sd   2.5%    25%    50%    75%  97.5%  n_eff   Rhat\n",
      "b1           1.83  7.6e-3   0.19   1.45    1.7   1.84   1.96    2.2    649    1.0\n",
      "b2           1.11  2.1e-3   0.05    1.0   1.07   1.11   1.15   1.22    653    1.0\n",
      "sigma        0.26  5.9e-4   0.02   0.22   0.24   0.26   0.27   0.29    914   1.01\n",
      "mu[0]        5.95  6.4e-4   0.03   5.89   5.93   5.94   5.96    6.0   1806    1.0\n",
      "mu[1]        6.41  1.4e-3   0.04   6.33   6.38   6.41   6.44    6.5    914    1.0\n",
      "mu[2]        6.28  1.2e-3   0.04   6.21   6.26   6.28   6.31   6.36   1008    1.0\n",
      "mu[3]        6.32  1.2e-3   0.04   6.24   6.29   6.32   6.34    6.4    980    1.0\n",
      "mu[4]        6.32  1.2e-3   0.04   6.24   6.29   6.32   6.34    6.4    980    1.0\n",
      "mu[5]        4.87  1.8e-3   0.05   4.78   4.84   4.87   4.91   4.97    737    1.0\n",
      "mu[6]        5.68  5.5e-4   0.02   5.63   5.66   5.68    5.7   5.73   2000    1.0\n",
      "mu[7]        5.72  5.5e-4   0.02   5.67    5.7   5.72   5.74   5.77   2000    1.0\n",
      "mu[8]        6.45  1.5e-3   0.04   6.36   6.42   6.45   6.48   6.53    896    1.0\n",
      "mu[9]        5.16  1.3e-3   0.04   5.09   5.13   5.16   5.18   5.23    845    1.0\n",
      "mu[10]       5.16  1.3e-3   0.04   5.09   5.13   5.16   5.18   5.23    845    1.0\n",
      "mu[11]       6.73  2.0e-3   0.06   6.63    6.7   6.73   6.77   6.85    796    1.0\n",
      "mu[12]       5.47  7.7e-4   0.03   5.42   5.45   5.47   5.49   5.52   1255    1.0\n",
      "mu[13]       5.34  9.6e-4   0.03   5.28   5.32   5.34   5.36    5.4   1021    1.0\n",
      "mu[14]       5.29  1.1e-3   0.03   5.22   5.27   5.29   5.31   5.35    953    1.0\n",
      "mu[15]       5.15  1.3e-3   0.04   5.08   5.12   5.15   5.17   5.22    839    1.0\n",
      "mu[16]       5.32 10.0e-4   0.03   5.26    5.3   5.32   5.34   5.38    991    1.0\n",
      "mu[17]       5.16  1.3e-3   0.04   5.09   5.14   5.16   5.19   5.23    848    1.0\n",
      "mu[18]       5.34  9.7e-4   0.03   5.27   5.32   5.34   5.36    5.4   1011    1.0\n",
      "mu[19]       5.97  7.1e-4   0.03   5.92   5.95   5.97   5.99   6.02   1542    1.0\n",
      "mu[20]       6.03  7.9e-4   0.03   5.98   6.01   6.03   6.05   6.09   1386    1.0\n",
      "mu[21]       5.13  1.3e-3   0.04   5.06    5.1   5.13   5.15    5.2    829    1.0\n",
      "mu[22]        6.0  7.5e-4   0.03   5.95   5.98    6.0   6.02   6.06   1453    1.0\n",
      "mu[23]       6.24  1.1e-3   0.04   6.17   6.22   6.24   6.27   6.31   1048    1.0\n",
      "mu[24]       5.64  5.6e-4   0.02   5.59   5.62   5.64   5.65   5.69   1962    1.0\n",
      "mu[25]       6.45  1.5e-3   0.04   6.37   6.42   6.45   6.48   6.54    891    1.0\n",
      "mu[26]       5.33  9.8e-4   0.03   5.27   5.31   5.33   5.35   5.39   1005    1.0\n",
      "mu[27]       5.92  6.2e-4   0.03   5.87    5.9   5.92   5.94   5.98   1847    1.0\n",
      "mu[28]       5.94  6.4e-4   0.03   5.89   5.92   5.94   5.96    6.0   1809    1.0\n",
      "mu[29]       5.62  5.7e-4   0.03   5.58   5.61   5.62   5.64   5.67   1939    1.0\n",
      "mu[30]       5.64  5.6e-4   0.02   5.59   5.63   5.64   5.66   5.69   1971    1.0\n",
      "mu[31]       6.26  1.1e-3   0.04   6.19   6.24   6.26   6.29   6.34   1026    1.0\n",
      "mu[32]       7.08  2.6e-3   0.07   6.94   7.03   7.08   7.13   7.22    743    1.0\n",
      "mu[33]       5.21  1.2e-3   0.03   5.14   5.19   5.21   5.23   5.28    883    1.0\n",
      "mu[34]       4.88  1.8e-3   0.05   4.79   4.85   4.88   4.91   4.97    738    1.0\n",
      "mu[35]       5.21  1.2e-3   0.03   5.14   5.19   5.21   5.23   5.28    883    1.0\n",
      "mu[36]       5.21  1.2e-3   0.03   5.14   5.19   5.21   5.23   5.28    883    1.0\n",
      "mu[37]       5.84  5.7e-4   0.03    5.8   5.83   5.84   5.86   5.89   1975    1.0\n",
      "mu[38]       5.32  1.0e-3   0.03   5.26    5.3   5.32   5.34   5.38    987    1.0\n",
      "mu[39]       6.32  1.2e-3   0.04   6.25   6.29   6.32   6.35    6.4    975    1.0\n",
      "mu[40]       5.73  5.5e-4   0.02   5.68   5.71   5.73   5.74   5.78   2000    1.0\n",
      "mu[41]        5.4  8.7e-4   0.03   5.34   5.38    5.4   5.42   5.46   1115    1.0\n",
      "mu[42]       4.56  2.4e-3   0.06   4.44   4.52   4.56    4.6   4.68    691    1.0\n",
      "mu[43]       5.66  5.5e-4   0.02   5.61   5.65   5.66   5.68   5.71   1998    1.0\n",
      "mu[44]        5.8  5.6e-4   0.02   5.75   5.78    5.8   5.81   5.85   2000    1.0\n",
      "mu[45]       5.57  6.0e-4   0.03   5.52   5.55   5.57   5.59   5.62   1839    1.0\n",
      "mu[46]       6.59  1.7e-3   0.05   6.49   6.55   6.59   6.62   6.69    836    1.0\n",
      "mu[47]       6.06  8.2e-4   0.03    6.0   6.04   6.06   6.08   6.12   1331    1.0\n",
      "mu[48]       5.37  9.1e-4   0.03   5.32   5.35   5.37   5.39   5.43   1068    1.0\n",
      "mu[49]       5.21  1.2e-3   0.03   5.14   5.19   5.21   5.23   5.28    883    1.0\n",
      "mu[50]       5.83  5.7e-4   0.03   5.78   5.81   5.83   5.84   5.88   1998    1.0\n",
      "mu[51]       6.27  1.2e-3   0.04    6.2   6.25   6.27    6.3   6.35   1017    1.0\n",
      "mu[52]       5.78  5.6e-4   0.02   5.73   5.76   5.78   5.79   5.82   2000    1.0\n",
      "mu[53]       5.57  6.0e-4   0.03   5.52   5.55   5.57   5.59   5.62   1839    1.0\n",
      "mu[54]       5.68  5.5e-4   0.02   5.63   5.66   5.68    5.7   5.73   2000    1.0\n",
      "mu[55]       5.08  1.4e-3   0.04    5.0   5.05   5.08    5.1   5.15    802    1.0\n",
      "mu[56]        6.1  8.8e-4   0.03   6.04   6.08    6.1   6.12   6.16   1250    1.0\n",
      "mu[57]       6.15  9.5e-4   0.03   6.08   6.12   6.15   6.17   6.21   1171    1.0\n",
      "mu[58]       5.45  8.0e-4   0.03    5.4   5.43   5.45   5.47   5.51   1214    1.0\n",
      "mu[59]       5.58  5.9e-4   0.03   5.53   5.56   5.58   5.59   5.63   1851    1.0\n",
      "mu[60]       5.04  1.5e-3   0.04   4.96   5.01   5.04   5.07   5.12    787    1.0\n",
      "mu[61]       4.98  1.6e-3   0.04   4.89   4.95   4.98   5.01   5.06    764    1.0\n",
      "mu[62]       6.19  1.0e-3   0.03   6.12   6.16   6.19   6.21   6.25   1115    1.0\n",
      "mu[63]       5.66  5.5e-4   0.02   5.61   5.64   5.66   5.68   5.71   1995    1.0\n",
      "mu[64]       5.05  1.5e-3   0.04   4.97   5.03   5.05   5.08   5.13    792    1.0\n",
      "mu[65]       5.49  7.5e-4   0.03   5.44   5.47   5.49   5.51   5.54   1309    1.0\n",
      "mu[66]       5.09  1.4e-3   0.04   5.02   5.07   5.09   5.12   5.17    810    1.0\n",
      "mu[67]        6.2  1.0e-3   0.03   6.14   6.18    6.2   6.23   6.27   1093    1.0\n",
      "mu[68]       5.63  5.7e-4   0.03   5.58   5.61   5.63   5.64   5.68   1944    1.0\n",
      "mu[69]       6.08  8.6e-4   0.03   6.02   6.06   6.08    6.1   6.14   1284    1.0\n",
      "mu[70]       4.97  1.6e-3   0.04   4.88   4.94   4.97    5.0   5.06    762    1.0\n",
      "mu[71]       5.31  1.0e-3   0.03   5.25   5.29   5.31   5.33   5.37    983    1.0\n",
      "mu[72]       5.62  5.7e-4   0.03   5.57    5.6   5.62   5.63   5.67   1926    1.0\n",
      "mu[73]       5.23  1.1e-3   0.03   5.16   5.21   5.23   5.25    5.3    898    1.0\n",
      "mu[74]       5.15  1.3e-3   0.04   5.08   5.13   5.15   5.18   5.22    841    1.0\n",
      "mu[75]       6.06  8.2e-4   0.03    6.0   6.04   6.06   6.08   6.12   1331    1.0\n",
      "mu[76]       6.72  2.0e-3   0.06   6.61   6.68   6.72   6.75   6.83    800    1.0\n",
      "mu[77]       5.88  5.9e-4   0.03   5.83   5.86   5.88   5.89   5.93   1925    1.0\n",
      "mu[78]       6.04  8.0e-4   0.03   5.98   6.02   6.04   6.06    6.1   1370    1.0\n",
      "mu[79]       4.95  1.6e-3   0.05   4.86   4.92   4.95   4.98   5.04    756    1.0\n",
      "mu[80]       6.52  1.6e-3   0.05   6.43   6.49   6.52   6.55   6.61    862    1.0\n",
      "mu[81]       6.16  9.7e-4   0.03   6.09   6.13   6.16   6.18   6.22   1157    1.0\n",
      "mu[82]       5.86  5.8e-4   0.03   5.81   5.85   5.86   5.88   5.92   1946    1.0\n",
      "mu[83]        5.3  1.0e-3   0.03   5.24   5.28    5.3   5.32   5.36    967    1.0\n",
      "mu[84]       5.47  7.8e-4   0.03   5.41   5.45   5.47   5.48   5.52   1248    1.0\n",
      "mu[85]       7.05  2.6e-3   0.07   6.91    7.0   7.05    7.1   7.19    746    1.0\n",
      "mu[86]       5.78  5.6e-4   0.02   5.73   5.76   5.78    5.8   5.83   2000    1.0\n",
      "mu[87]       6.22  1.1e-3   0.04   6.15   6.19   6.22   6.24   6.29   1076    1.0\n",
      "mu[88]       5.34  9.7e-4   0.03   5.28   5.32   5.34   5.36    5.4   1014    1.0\n",
      "mu[89]       5.88  5.9e-4   0.03   5.83   5.86   5.88   5.89   5.93   1927    1.0\n",
      "mu[90]       5.68  5.5e-4   0.02   5.63   5.67   5.68    5.7   5.73   2000    1.0\n",
      "mu[91]       5.71  5.5e-4   0.02   5.66    5.7   5.71   5.73   5.76   2000    1.0\n",
      "mu[92]       6.19  1.0e-3   0.03   6.12   6.17   6.19   6.21   6.26   1110    1.0\n",
      "mu[93]       5.66  5.6e-4   0.02   5.61   5.64   5.66   5.67   5.71   1989    1.0\n",
      "mu[94]       5.41  8.7e-4   0.03   5.35   5.39   5.41   5.42   5.46   1121    1.0\n",
      "mu[95]       5.12  1.3e-3   0.04   5.05    5.1   5.12   5.15    5.2    825    1.0\n",
      "mu[96]       5.53  6.9e-4   0.03   5.48   5.52   5.53   5.55   5.59   1425    1.0\n",
      "mu[97]       6.37  1.3e-3   0.04   6.29   6.34   6.37    6.4   6.46    939    1.0\n",
      "mu[98]       5.71  5.5e-4   0.02   5.66   5.69   5.71   5.73   5.76   2000    1.0\n",
      "mu[99]       5.96  6.9e-4   0.03   5.91   5.94   5.96   5.98   6.01   1569    1.0\n",
      "y_pred[0]  391.52    2.35 104.93 234.86 318.04  377.5 448.64 627.17   2000    1.0\n",
      "y_pred[1]  630.24     3.8 169.84 365.22  508.2 607.43 727.67 1019.6   2000    1.0\n",
      "y_pred[2]  548.36    3.44 150.89  311.5 443.43 524.81 631.39 894.79   1929    1.0\n",
      "y_pred[3]  572.19     3.4 150.19  323.6 465.78 555.15 659.32 906.97   1953    1.0\n",
      "y_pred[4]  573.22    3.62 155.31 333.35 459.76 557.91 664.47 920.07   1841    1.0\n",
      "y_pred[5]  135.66    0.89  36.54  76.49 109.77 131.09 155.46 221.23   1704    1.0\n",
      "y_pred[6]  298.54    1.78  79.24 173.94 244.77 286.68 340.61 489.53   1987    1.0\n",
      "y_pred[7]  312.05    1.83  81.82 179.31 254.88 301.66 358.31 495.28   2000    1.0\n",
      "y_pred[8]  646.37    3.91  167.0 368.86 526.11 630.11 741.68 1031.5   1828    1.0\n",
      "y_pred[9]  181.28    1.14  47.55 107.62 146.55 175.52 210.91 289.32   1731    1.0\n",
      "y_pred[10] 180.63    1.06  47.47 104.48 146.34 173.52 208.33 292.77   2000    1.0\n",
      "y_pred[11] 877.02    5.37 240.04 500.46 705.37  848.0 1007.7 1419.2   2000    1.0\n",
      "y_pred[12] 242.06     1.4  62.83  142.0 196.79 234.56 277.61 385.81   2000    1.0\n",
      "y_pred[13] 216.73    1.26  56.55 126.35 178.09 208.99 247.05 346.02   2000    1.0\n",
      "y_pred[14] 205.04    1.26  54.26 119.11 165.69 198.31 237.18 332.65   1841    1.0\n",
      "y_pred[15] 177.48    1.06  46.91 101.58 144.43 171.17 205.51 282.75   1963    1.0\n",
      "y_pred[16] 210.46    1.26  56.43 122.13 169.77 203.73 242.16 343.44   2000    1.0\n",
      "y_pred[17] 180.63    1.06  47.62 107.49 146.77 175.01 207.72 291.29   2000    1.0\n",
      "y_pred[18] 216.49    1.34  56.64 126.12 175.88 210.21 247.97 349.43   1792    1.0\n",
      "y_pred[19]  407.5    2.38 106.47 232.99 329.91 395.67 472.99 650.81   2000    1.0\n",
      "y_pred[20] 431.59    2.74 114.57 257.69 348.82 415.85 498.38 694.07   1745    1.0\n",
      "y_pred[21]  175.3    1.07  47.29 100.08 142.03 168.55 202.28 282.42   1938    1.0\n",
      "y_pred[22] 421.24    2.53 109.76 242.66 342.64 409.35 483.86 677.87   1888    1.0\n",
      "y_pred[23] 529.27    3.21 135.45 313.79 432.64 515.14 610.76 828.86   1786    1.0\n",
      "y_pred[24] 288.81    1.75  77.99 164.95 233.55 277.02 331.27 469.49   1995    1.0\n",
      "y_pred[25] 657.91    3.85 172.01 386.65 537.22 634.36 752.57 1073.2   2000    1.0\n",
      "y_pred[26] 213.13    1.28  57.29 124.58 173.68 203.93 243.87 352.07   2000    1.0\n",
      "y_pred[27] 384.15    2.42 101.66 223.25 314.28  369.9 442.21 626.04   1762    1.0\n",
      "y_pred[28] 393.88    2.37 103.45  230.3 321.28 378.67 455.11 632.24   1910    1.0\n",
      "y_pred[29] 287.65    1.69  75.49 167.19 235.22 278.97  329.0 463.13   2000    1.0\n",
      "y_pred[30] 292.14    1.74   76.9 170.97 238.32 283.96  335.3 467.93   1960    1.0\n",
      "y_pred[31] 543.28    3.45 143.47 319.58 442.52 522.95 624.36 876.47   1731    1.0\n",
      "y_pred[32] 1229.6    8.18 333.65  699.8 990.07 1193.3 1413.1 2029.1   1664    1.0\n",
      "y_pred[33] 188.54    1.19  49.92 109.35 153.36 182.23 215.84  309.4   1757    1.0\n",
      "y_pred[34] 136.73    0.82  36.54  79.17 111.27 132.47 155.41 218.99   2000    1.0\n",
      "y_pred[35] 189.49    1.08  48.31 111.25 155.65 184.18  217.9 300.74   2000    1.0\n",
      "y_pred[36]  189.5    1.12  50.01 110.61 154.68 183.66 218.35 308.03   2000    1.0\n",
      "y_pred[37] 354.62    2.09  93.03 206.41 289.04 344.56 408.81 564.31   1981    1.0\n",
      "y_pred[38] 210.21    1.21  54.09 126.11 170.46 203.41  241.1 330.65   2000    1.0\n",
      "y_pred[39] 573.34     3.4 146.75 342.98 464.99 555.51 653.77 911.54   1860    1.0\n",
      "y_pred[40] 317.25     1.9  84.82 183.74 258.98 308.69 363.65 522.74   2000    1.0\n",
      "y_pred[41]  228.4    1.38  60.66 133.33 185.23 221.01 261.39  370.7   1941    1.0\n",
      "y_pred[42]  98.37    0.66  27.01  55.37  78.88  94.36 113.53 160.66   1698    1.0\n",
      "y_pred[43] 294.86    1.72  76.25 171.36 240.78 285.48 336.38 471.14   1973    1.0\n",
      "y_pred[44]  336.2    1.99  88.31 198.09 271.64 326.37 387.19 535.49   1978    1.0\n",
      "y_pred[45] 272.19    1.64   73.5 160.49 218.52  262.7 314.04 448.72   2000    1.0\n",
      "y_pred[46] 763.45    4.57 204.33 439.83 611.95 736.14  883.4 1229.4   2000    1.0\n",
      "y_pred[47] 442.98    2.58 115.36 259.96 363.21 430.21 505.56 706.45   2000    1.0\n",
      "y_pred[48] 223.53    1.35  60.46 127.96 181.28 214.39 259.51 362.64   2000    1.0\n",
      "y_pred[49]  189.7    1.21  48.94 113.34 155.54 182.89  216.2  304.7   1638    1.0\n",
      "y_pred[50] 351.33    2.12  91.74 205.28 285.47 341.39 408.18 560.09   1871    1.0\n",
      "y_pred[51] 552.14    3.23 144.34 321.82  449.3 536.55 633.87 874.79   2000    1.0\n",
      "y_pred[52] 333.04    2.12  89.06 189.06 270.94 322.07 381.39  538.7   1769    1.0\n",
      "y_pred[53] 268.61    1.55  69.15 158.05  219.2 260.73 308.66 427.33   2000    1.0\n",
      "y_pred[54] 300.95    1.78  79.77 176.53 244.08 290.41 346.28 495.46   2000    1.0\n",
      "y_pred[55] 166.72    1.03   45.1  95.31 133.87 160.65 191.78 275.21   1935    1.0\n",
      "y_pred[56] 461.31    2.69  119.3 268.85 377.37 450.05 528.64 727.48   1962    1.0\n",
      "y_pred[57] 487.38    2.89 129.29 287.43 393.92 469.33 561.64 784.07   2000    1.0\n",
      "y_pred[58] 245.13    1.43  63.81  142.0 199.58 237.27 281.84 390.86   2000    1.0\n",
      "y_pred[59] 275.59    1.63  72.87 161.48 225.43 264.73 317.14 445.32   2000    1.0\n",
      "y_pred[60] 158.93    0.93  41.57  91.26 128.51 154.65 183.57 254.63   2000    1.0\n",
      "y_pred[61]  150.9    0.87  39.01  87.78 122.72 145.84 174.49 240.17   2000    1.0\n",
      "y_pred[62] 502.98     3.0 133.97 294.31 406.16 487.64 577.12 812.81   2000    1.0\n",
      "y_pred[63] 295.34    1.72  76.38 168.67 242.15 286.84 343.02 464.98   1968    1.0\n",
      "y_pred[64] 160.95    1.02  43.17   91.5 130.02 154.88 184.52 261.81   1784    1.0\n",
      "y_pred[65] 251.09    1.49  66.55 146.22  203.1 243.01 288.14 401.52   2000    1.0\n",
      "y_pred[66] 169.07    1.05  44.08  98.64 138.09 163.47  192.5 269.09   1779    1.0\n",
      "y_pred[67] 506.49    3.25 136.28 295.69 410.72 487.76  581.9 833.47   1759    1.0\n",
      "y_pred[68] 284.54    1.84  75.39 161.78 232.08 275.69 327.63  459.5   1676    1.0\n",
      "y_pred[69] 453.72    2.66 117.24 264.04 370.57 440.83 520.21 718.36   1943    1.0\n",
      "y_pred[70] 146.63    0.88  38.25  87.18 120.19 141.39  167.9 238.94   1888    1.0\n",
      "y_pred[71] 208.99    1.28  55.63 121.94 169.81 202.14 240.59  333.1   1882    1.0\n",
      "y_pred[72] 285.94    1.63  72.79 166.49 235.35 277.54  326.4 461.88   2000    1.0\n",
      "y_pred[73] 192.27    1.13  50.34 112.17 156.33 186.14 220.11  307.0   1986    1.0\n",
      "y_pred[74] 177.77    1.03  46.17 102.15 144.45  171.7 205.83 282.61   2000    1.0\n",
      "y_pred[75] 442.21     2.7 115.96 261.36 358.72 426.09 508.54 717.86   1841    1.0\n",
      "y_pred[76] 866.57    5.51  234.2 505.16  701.3 837.26 985.12 1432.0   1805    1.0\n",
      "y_pred[77] 365.73     2.2   97.7 211.42 297.71 352.84 420.71 601.93   1981    1.0\n",
      "y_pred[78] 436.52    2.58 115.19 259.49 351.93 422.82 505.19 701.34   2000    1.0\n",
      "y_pred[79] 146.36    0.88  38.67  86.01 119.01 141.27 167.56 238.41   1937    1.0\n",
      "y_pred[80] 698.34    4.08 182.64 396.16 571.38 678.03 798.46 1111.8   2000    1.0\n",
      "y_pred[81] 492.99     2.9 129.01 287.86 401.07 478.02 567.37 793.06   1984    1.0\n",
      "y_pred[82]  368.5    2.26  98.04 211.94 298.42 356.59 426.68 597.75   1875    1.0\n",
      "y_pred[83] 206.71    1.21  54.24 121.26 167.92  200.6 238.69 329.92   2000    1.0\n",
      "y_pred[84]  245.7    1.43  63.81 146.06 199.47 237.78 283.85 398.13   2000    1.0\n",
      "y_pred[85] 1185.7    7.67 321.77 682.11 957.78 1146.6 1370.2 1920.6   1762    1.0\n",
      "y_pred[86]  333.9    2.05  86.75 196.26 272.45 324.19 383.02 524.86   1790    1.0\n",
      "y_pred[87] 516.19    3.22  141.2 299.98 414.31 498.53 594.62 851.63   1927    1.0\n",
      "y_pred[88] 214.12    1.25  55.71 123.07  173.3 208.81 246.68 345.55   2000    1.0\n",
      "y_pred[89] 366.32    2.14  95.79 208.61 298.55 353.77 421.36 598.38   2000    1.0\n",
      "y_pred[90] 304.49    1.83  81.59 182.73 243.71 293.66 350.65 488.71   1984    1.0\n",
      "y_pred[91] 312.63    1.85  82.69 183.06 253.22 300.65 359.23 499.26   2000    1.0\n",
      "y_pred[92] 502.94    2.97 131.74 293.46  409.5 486.05 577.96 809.06   1973    1.0\n",
      "y_pred[93] 295.06    1.83  79.33 170.65 240.34 284.69 338.77 484.18   1889    1.0\n",
      "y_pred[94] 227.95    1.33  58.68 134.58  186.5 219.62 262.45  366.9   1949    1.0\n",
      "y_pred[95] 173.99    1.03  46.21  99.39  141.8 167.57  199.8 281.27   2000    1.0\n",
      "y_pred[96] 259.57    1.53  68.41 154.32 210.18 251.09 300.23 414.09   2000    1.0\n",
      "y_pred[97] 602.08    3.96 161.01 353.15 489.26 580.34 692.42 990.32   1655    1.0\n",
      "y_pred[98] 312.68    1.82  80.78 182.93 255.08 303.61 360.21 498.41   1979    1.0\n",
      "y_pred[99] 401.02    2.42 108.04 230.99 322.14  387.8 462.97 658.44   2000    1.0\n",
      "e[0]        -0.37  6.4e-4   0.03  -0.43  -0.39  -0.37  -0.35  -0.32   1806    1.0\n",
      "e[1]        -0.16  1.4e-3   0.04  -0.25  -0.19  -0.16  -0.13  -0.08    914    1.0\n",
      "e[2]         0.23  1.2e-3   0.04   0.15    0.2   0.23   0.25    0.3   1008    1.0\n",
      "e[3]        -0.16  1.2e-3   0.04  -0.24  -0.18  -0.16  -0.13  -0.08    980    1.0\n",
      "e[4]        -0.19  1.2e-3   0.04  -0.27  -0.22  -0.19  -0.17  -0.12    980    1.0\n",
      "e[5]         0.16  1.8e-3   0.05   0.06   0.13   0.16   0.19   0.25    737    1.0\n",
      "e[6]        -0.22  5.5e-4   0.02  -0.27  -0.24  -0.22  -0.21  -0.18   2000    1.0\n",
      "e[7]        -0.14  5.5e-4   0.02  -0.19  -0.16  -0.14  -0.13  -0.09   2000    1.0\n",
      "e[8]         0.03  1.5e-3   0.04  -0.06 1.8e-3   0.03   0.06   0.12    896    1.0\n",
      "e[9]         0.25  1.3e-3   0.04   0.18   0.23   0.25   0.28   0.32    845    1.0\n",
      "e[10]       -0.08  1.3e-3   0.04  -0.15   -0.1  -0.08  -0.05-5.6e-3    845    1.0\n",
      "e[11]       -0.11  2.0e-3   0.06  -0.22  -0.14  -0.11  -0.07 2.8e-3    796    1.0\n",
      "e[12]       -0.07  7.7e-4   0.03  -0.13  -0.09  -0.07  -0.05  -0.02   1255    1.0\n",
      "e[13]       -0.04  9.6e-4   0.03   -0.1  -0.06  -0.04  -0.02   0.02   1021    1.0\n",
      "e[14]        0.22  1.1e-3   0.03   0.15    0.2   0.22   0.24   0.28    953    1.0\n",
      "e[15]       -0.07  1.3e-3   0.04  -0.14  -0.09  -0.07  -0.04 6.7e-3    839    1.0\n",
      "e[16]       -0.02 10.0e-4   0.03  -0.08  -0.04  -0.02 4.7e-4   0.04    991    1.0\n",
      "e[17]        0.12  1.3e-3   0.04   0.05   0.09   0.12   0.14   0.19    848    1.0\n",
      "e[18]       -0.13  9.7e-4   0.03  -0.19  -0.15  -0.13  -0.11  -0.07   1011    1.0\n",
      "e[19]        0.24  7.1e-4   0.03   0.18   0.22   0.24   0.26   0.29   1542    1.0\n",
      "e[20]       -0.36  7.9e-4   0.03  -0.42  -0.38  -0.36  -0.34   -0.3   1386    1.0\n",
      "e[21]       -0.07  1.3e-3   0.04  -0.14  -0.09  -0.07  -0.04 6.7e-3    829    1.0\n",
      "e[22]        0.16  7.5e-4   0.03    0.1   0.14   0.16   0.17   0.21   1453    1.0\n",
      "e[23]        0.21  1.1e-3   0.04   0.14   0.19   0.21   0.24   0.28   1048    1.0\n",
      "e[24]         0.1  5.6e-4   0.02   0.05   0.08    0.1   0.12   0.15   1962    1.0\n",
      "e[25]        0.31  1.5e-3   0.04   0.22   0.28   0.31   0.34    0.4    891    1.0\n",
      "e[26]         0.4  9.8e-4   0.03   0.33   0.37   0.39   0.42   0.46   1005    1.0\n",
      "e[27]        0.15  6.2e-4   0.03    0.1   0.13   0.15   0.17    0.2   1847    1.0\n",
      "e[28]       -0.34  6.4e-4   0.03  -0.39  -0.36  -0.34  -0.32  -0.29   1809    1.0\n",
      "e[29]       -0.07  5.7e-4   0.03  -0.11  -0.08  -0.07  -0.05  -0.02   1939    1.0\n",
      "e[30]        -0.6  5.6e-4   0.02  -0.65  -0.61   -0.6  -0.58  -0.55   1971    1.0\n",
      "e[31]        -0.4  1.1e-3   0.04  -0.48  -0.43   -0.4  -0.38  -0.33   1026    1.0\n",
      "e[32]        0.46  2.6e-3   0.07   0.31   0.41   0.46    0.5    0.6    743    1.0\n",
      "e[33]      4.1e-3  1.2e-3   0.03  -0.06  -0.02 4.2e-3   0.03   0.07    883    1.0\n",
      "e[34]        0.31  1.8e-3   0.05   0.22   0.28   0.31   0.34    0.4    738    1.0\n",
      "e[35]      4.1e-3  1.2e-3   0.03  -0.06  -0.02 4.2e-3   0.03   0.07    883    1.0\n",
      "e[36]        0.12  1.2e-3   0.03   0.06    0.1   0.12   0.15   0.19    883    1.0\n",
      "e[37]        0.05  5.7e-4   0.03 3.5e-3   0.04   0.05   0.07    0.1   1975    1.0\n",
      "e[38]        0.14  1.0e-3   0.03   0.08   0.12   0.14   0.16    0.2    987    1.0\n",
      "e[39]       -0.25  1.2e-3   0.04  -0.33  -0.28  -0.25  -0.23  -0.18    975    1.0\n",
      "e[40]       -0.52  5.5e-4   0.02  -0.56  -0.53  -0.52   -0.5  -0.47   2000    1.0\n",
      "e[41]        0.29  8.7e-4   0.03   0.24   0.28   0.29   0.31   0.35   1115    1.0\n",
      "e[42]        0.27  2.4e-3   0.06   0.15   0.23   0.27   0.31   0.39    691    1.0\n",
      "e[43]       -0.02  5.5e-4   0.02  -0.07  -0.04  -0.02-4.2e-3   0.03   1998    1.0\n",
      "e[44]       -0.05  5.6e-4   0.02   -0.1  -0.07  -0.05  -0.04-5.4e-3   2000    1.0\n",
      "e[45]       -0.06  6.0e-4   0.03  -0.11  -0.08  -0.06  -0.04  -0.01   1839    1.0\n",
      "e[46]        0.53  1.7e-3   0.05   0.43    0.5   0.53   0.56   0.63    836    1.0\n",
      "e[47]       -0.02  8.2e-4   0.03  -0.08  -0.04  -0.02 6.9e-4   0.04   1331    1.0\n",
      "e[48]       -0.15  9.1e-4   0.03  -0.21  -0.17  -0.15  -0.13  -0.09   1068    1.0\n",
      "e[49]      4.1e-3  1.2e-3   0.03  -0.06  -0.02 4.2e-3   0.03   0.07    883    1.0\n",
      "e[50]        0.02  5.7e-4   0.03  -0.03 7.6e-3   0.03   0.04   0.07   1998    1.0\n",
      "e[51]        0.51  1.2e-3   0.04   0.44   0.49   0.51   0.54   0.58   1017    1.0\n",
      "e[52]        0.34  5.6e-4   0.02   0.29   0.32   0.34   0.36   0.39   2000    1.0\n",
      "e[53]       -0.35  6.0e-4   0.03   -0.4  -0.37  -0.35  -0.34   -0.3   1839    1.0\n",
      "e[54]       -0.22  5.5e-4   0.02  -0.27  -0.24  -0.22  -0.21  -0.18   2000    1.0\n",
      "e[55]        0.18  1.4e-3   0.04    0.1   0.15   0.18    0.2   0.25    802    1.0\n",
      "e[56]       -0.35  8.8e-4   0.03  -0.42  -0.37  -0.35  -0.33  -0.29   1250    1.0\n",
      "e[57]        0.25  9.5e-4   0.03   0.18   0.23   0.25   0.27   0.31   1171    1.0\n",
      "e[58]        0.31  8.0e-4   0.03   0.26   0.29   0.31   0.33   0.37   1214    1.0\n",
      "e[59]       -0.29  5.9e-4   0.03  -0.34  -0.31  -0.29  -0.27  -0.24   1851    1.0\n",
      "e[60]       -0.06  1.5e-3   0.04  -0.14  -0.09  -0.06  -0.03   0.02    787    1.0\n",
      "e[61]        0.02  1.6e-3   0.04  -0.07  -0.01   0.02   0.05    0.1    764    1.0\n",
      "e[62]         0.2  1.0e-3   0.03   0.13   0.18    0.2   0.22   0.27   1115    1.0\n",
      "e[63]        0.36  5.5e-4   0.02   0.31   0.35   0.36   0.38   0.41   1995    1.0\n",
      "e[64]        0.12  1.5e-3   0.04   0.04   0.09   0.12   0.15    0.2    792    1.0\n",
      "e[65]        0.03  7.5e-4   0.03  -0.02   0.01   0.03   0.05   0.08   1309    1.0\n",
      "e[66]        0.17  1.4e-3   0.04    0.1   0.15   0.17    0.2   0.25    810    1.0\n",
      "e[67]       -0.21  1.0e-3   0.03  -0.28  -0.23  -0.21  -0.18  -0.14   1093    1.0\n",
      "e[68]        -0.2  5.7e-4   0.03  -0.25  -0.21   -0.2  -0.18  -0.15   1944    1.0\n",
      "e[69]        0.09  8.6e-4   0.03   0.03   0.07   0.09   0.11   0.15   1284    1.0\n",
      "e[70]        0.02  1.6e-3   0.04  -0.07  -0.01   0.02   0.05    0.1    762    1.0\n",
      "e[71]       -0.21  1.0e-3   0.03  -0.27  -0.23  -0.21  -0.19  -0.15    983    1.0\n",
      "e[72]       -0.27  5.7e-4   0.03  -0.32  -0.29  -0.27  -0.25  -0.22   1926    1.0\n",
      "e[73]         0.1  1.1e-3   0.03   0.04   0.08    0.1   0.13   0.17    898    1.0\n",
      "e[74]        0.04  1.3e-3   0.04  -0.03   0.01   0.04   0.06   0.11    841    1.0\n",
      "e[75]       -0.19  8.2e-4   0.03  -0.25  -0.21  -0.19  -0.17  -0.14   1331    1.0\n",
      "e[76]        0.24  2.0e-3   0.06   0.13   0.21   0.24   0.28   0.35    800    1.0\n",
      "e[77]       -0.32  5.9e-4   0.03  -0.37  -0.33  -0.32   -0.3  -0.27   1925    1.0\n",
      "e[78]       -0.07  8.0e-4   0.03  -0.13  -0.09  -0.07  -0.05  -0.02   1370    1.0\n",
      "e[79]        0.09  1.6e-3   0.05 2.2e-3   0.06   0.09   0.12   0.18    756    1.0\n",
      "e[80]       -0.06  1.6e-3   0.05  -0.16   -0.1  -0.06  -0.03   0.03    862    1.0\n",
      "e[81]       -0.03  9.7e-4   0.03  -0.09  -0.05  -0.03-3.2e-3   0.04   1157    1.0\n",
      "e[82]         0.8  5.8e-4   0.03   0.75   0.78    0.8   0.81   0.85   1946    1.0\n",
      "e[83]       -0.11  1.0e-3   0.03  -0.17  -0.13  -0.11  -0.09  -0.04    967    1.0\n",
      "e[84]        0.02  7.8e-4   0.03  -0.04-1.6e-3   0.02   0.03   0.07   1248    1.0\n",
      "e[85]        0.42  2.6e-3   0.07   0.28   0.37   0.42   0.47   0.56    746    1.0\n",
      "e[86]       -0.42  5.6e-4   0.02  -0.47  -0.44  -0.42   -0.4  -0.37   2000    1.0\n",
      "e[87]      4.9e-3  1.1e-3   0.04  -0.06  -0.02 4.5e-3   0.03   0.07   1076    1.0\n",
      "e[88]       -0.07  9.7e-4   0.03  -0.13  -0.09  -0.07  -0.05-5.0e-3   1014    1.0\n",
      "e[89]        -0.5  5.9e-4   0.03  -0.55  -0.51  -0.49  -0.48  -0.45   1927    1.0\n",
      "e[90]       -0.11  5.5e-4   0.02  -0.16  -0.12  -0.11  -0.09  -0.06   2000    1.0\n",
      "e[91]       -0.32  5.5e-4   0.02  -0.36  -0.33  -0.32   -0.3  -0.27   2000    1.0\n",
      "e[92]       -0.55  1.0e-3   0.03  -0.62  -0.58  -0.55  -0.53  -0.49   1110    1.0\n",
      "e[93]        0.31  5.6e-4   0.02   0.26   0.29   0.31   0.33   0.36   1989    1.0\n",
      "e[94]       -0.13  8.7e-4   0.03  -0.18  -0.14  -0.13  -0.11  -0.07   1121    1.0\n",
      "e[95]        0.22  1.3e-3   0.04   0.15    0.2   0.22   0.25    0.3    825    1.0\n",
      "e[96]       -0.14  6.9e-4   0.03  -0.19  -0.15  -0.14  -0.12  -0.08   1425    1.0\n",
      "e[97]        0.03  1.3e-3   0.04  -0.05 5.3e-3   0.03   0.06   0.11    939    1.0\n",
      "e[98]        0.07  5.5e-4   0.02   0.03   0.06   0.07   0.09   0.12   2000    1.0\n",
      "e[99]        0.09  6.9e-4   0.03   0.03   0.07   0.09   0.11   0.14   1569    1.0\n",
      "Y_new[0]    38.71    0.28  10.98  21.68  31.04  37.16  44.88  64.74   1499    1.0\n",
      "Y_new[1]    47.46    0.36  13.39   26.3  38.44  45.77  54.39  78.86   1420    1.0\n",
      "Y_new[2]    57.43     0.4  15.68  33.31  46.15  55.07  66.33  94.54   1521    1.0\n",
      "Y_new[3]    65.95    0.41  17.71  38.24  53.58  64.03  75.29 108.36   1882    1.0\n",
      "Y_new[4]    74.74    0.46  20.59  43.34  60.41  71.97  86.15 124.09   2000    1.0\n",
      "Y_new[5]    83.36    0.49   21.7  47.25  67.65  81.61  96.21 131.25   2000    1.0\n",
      "Y_new[6]    94.19     0.6  26.17   54.2   75.7   90.8 107.69 154.19   1889    1.0\n",
      "Y_new[7]   102.25    0.64  27.65  58.56  82.68  99.22 117.93 167.27   1888    1.0\n",
      "Y_new[8]   111.63    0.72  30.48   64.3  90.23 108.23 128.57 185.75   1788    1.0\n",
      "Y_new[9]   121.23    0.77  33.07   70.7  97.97 116.79 138.84 199.47   1839    1.0\n",
      "Y_new[10]  130.75    0.86  34.43  76.47  107.3 126.36 149.42 209.57   1621    1.0\n",
      "Y_new[11]   141.8    0.91  38.63  81.22 114.52 137.05 162.08 232.76   1817    1.0\n",
      "Y_new[12]  151.99     0.9  40.43   88.4 123.19  147.3 175.88 245.08   2000    1.0\n",
      "Y_new[13]  162.02    0.97  43.18  93.03 132.16 156.07 186.72  261.7   1991    1.0\n",
      "Y_new[14]  170.68    0.99  44.26 100.82 139.45 164.79 195.26 273.91   2000    1.0\n",
      "Y_new[15]   180.8    1.08  48.52 103.63 145.47 174.91 208.57 286.74   2000    1.0\n",
      "Y_new[16]  191.22    1.11  49.73 111.45 155.67 184.18 219.51 303.88   2000    1.0\n",
      "Y_new[17]  200.28    1.16  51.79 118.98 162.99 194.05 230.07  322.4   2000    1.0\n",
      "Y_new[18]  210.98    1.33  58.04  121.7 169.81 202.25  243.1 349.53   1891    1.0\n",
      "Y_new[19]  220.19    1.39  57.42 129.04 180.21 213.46 251.81 353.98   1710    1.0\n",
      "Y_new[20]  232.92    1.42   61.4  135.0 190.25  225.6 266.72 376.94   1879    1.0\n",
      "Y_new[21]   241.4    1.45   61.8 142.13 196.84 234.92 277.37 381.07   1805    1.0\n",
      "Y_new[22]  251.74    1.49  64.83 149.69 204.55 243.69 290.78 401.67   1906    1.0\n",
      "Y_new[23]  264.99    1.53  68.44 154.95 216.32 258.35 306.89 426.09   2000    1.0\n",
      "Y_new[24]  270.45    1.57  70.13 158.69 220.16 264.57 310.01 427.45   2000    1.0\n",
      "Y_new[25]  282.83    1.69  75.44 162.75 230.68 274.74 323.02  460.9   2000    1.0\n",
      "Y_new[26]  293.88    1.71  74.83 179.72 240.11 282.68 337.17 468.43   1921    1.0\n",
      "Y_new[27]  299.64    1.75  76.65  176.4 245.01 289.64 345.01 472.97   1913    1.0\n",
      "Y_new[28]  314.17     1.9   85.0 180.08 253.89 301.86 360.46  518.8   2000    1.0\n",
      "Y_new[29]   326.7    1.95  85.44 192.52 267.34 314.54 372.86  534.6   1925    1.0\n",
      "Y_new[30]  338.15    1.94  86.65 198.16 275.86 327.33 389.03 533.39   2000    1.0\n",
      "Y_new[31]  350.15     2.3  97.22 202.31 282.46 336.54 400.86  577.8   1789    1.0\n",
      "Y_new[32]  357.96    2.04  91.28 210.39 293.62 345.61 412.21 563.32   2000    1.0\n",
      "Y_new[33]  366.59    2.16  96.14 212.51  297.5 356.64 421.35 595.45   1982    1.0\n",
      "Y_new[34]  379.45    2.28 100.39 221.52 308.38 365.91 433.81 613.04   1939    1.0\n",
      "Y_new[35]  388.49    2.27 100.36 229.87 320.21 375.52 445.78 618.89   1961    1.0\n",
      "Y_new[36]  401.45    2.44 109.26 230.64 325.47 388.36 463.18 646.98   2000    1.0\n",
      "Y_new[37]  410.04    2.41 107.95  240.3 332.83 394.67 469.26 654.05   2000    1.0\n",
      "Y_new[38]  421.32    2.65 111.93 247.03 340.41  407.4 485.73 699.03   1786    1.0\n",
      "Y_new[39]  436.54    2.58 112.15 261.69 356.91 423.61 498.04 704.37   1891    1.0\n",
      "Y_new[40]   446.4    2.76  118.6 258.06 363.11  431.2 514.81 717.12   1848    1.0\n",
      "Y_new[41]  460.19    2.87  122.5 267.61 372.46 446.72 530.18 750.97   1828    1.0\n",
      "Y_new[42]  471.11    2.92 124.75 274.67 380.52 454.23 545.58 761.03   1820    1.0\n",
      "Y_new[43]  478.44    2.81 125.62 279.02 388.77 460.77  552.3  768.5   2000    1.0\n",
      "Y_new[44]  487.41    2.82 126.21 293.23 398.16 467.97 555.46 794.75   2000    1.0\n",
      "Y_new[45]  501.09    2.97 132.88 293.29 406.76 483.94 574.55  807.3   2000    1.0\n",
      "Y_new[46]  511.06    3.02 135.16 292.99  412.6 494.81 590.87 802.29   2000    1.0\n",
      "Y_new[47]  523.93    3.08 136.42 304.26 425.06 510.44 604.96 838.44   1959    1.0\n",
      "Y_new[48]  534.06    3.09 138.24 301.98 432.28 516.86 619.26 840.67   2000    1.0\n",
      "Y_new[49]   544.8    3.23 144.36 318.03 445.13 525.99 626.23  877.4   2000    1.0\n",
      "Y_new[50]  560.98    3.33 148.99 316.41 459.86 543.72 641.03 911.45   2000    1.0\n",
      "Y_new[51]  565.42    3.29 147.05 328.39 457.11 552.17 658.19 901.42   2000    1.0\n",
      "Y_new[52]  581.04    3.57  158.6 329.85  470.4 561.11 671.17 949.87   1969    1.0\n",
      "Y_new[53]  589.16    3.43 151.55 346.26 481.04 573.74 675.16 941.54   1949    1.0\n",
      "Y_new[54]  608.38    3.72 166.48  348.7 485.67 585.01 704.38 987.29   2000    1.0\n",
      "Y_new[55]  610.38    3.55 158.63 354.85 496.78 589.79  702.4 983.79   2000    1.0\n",
      "Y_new[56]  630.66    3.81 170.47 372.38 507.64 609.17 725.89 1032.6   2000    1.0\n",
      "Y_new[57]  630.21    3.82 163.66 376.15 513.48 610.51 721.71 1011.0   1832    1.0\n",
      "Y_new[58]  651.36    4.14 175.01 366.21 531.24 627.06 752.48 1049.3   1788    1.0\n",
      "Y_new[59]  661.05    3.93 172.73 379.79 537.67 639.35 769.85 1038.3   1932    1.0\n",
      "Y_new[60]  670.22    3.98 178.16 388.48 545.85 645.88 769.04 1072.7   2000    1.0\n",
      "Y_new[61]  686.38    4.43 182.28 390.76 560.07 665.47 785.39 1107.2   1695    1.0\n",
      "Y_new[62]  700.97    4.14 185.28 405.51 565.45 677.78 807.15 1138.7   2000    1.0\n",
      "Y_new[63]  698.53    4.31 181.55 409.02 570.27 678.34 806.08 1109.8   1778    1.0\n",
      "Y_new[64]  709.29    4.32 188.39 413.87 574.53 683.59 821.25 1125.7   1906    1.0\n",
      "Y_new[65]  731.99    4.52 190.04 427.51 595.28 708.68 849.21 1178.2   1766    1.0\n",
      "Y_new[66]  731.78     4.4 196.59 423.91 594.23 705.89 839.48 1192.2   2000    1.0\n",
      "Y_new[67]  758.31    4.49 200.98 432.93 616.81 733.22 870.89 1214.7   2000    1.0\n",
      "Y_new[68]  759.39    4.44 198.37 440.73 616.67 734.39  878.8 1213.3   2000    1.0\n",
      "Y_new[69]  776.86    4.72 208.04 451.14 625.47 751.74 894.51 1249.8   1939    1.0\n",
      "Y_new[70]  789.51    4.92 211.84 448.68 636.07 767.57 916.85 1272.1   1853    1.0\n",
      "Y_new[71]  799.48    4.91 212.33 464.95 643.48 774.14 924.81 1289.7   1871    1.0\n",
      "Y_new[72]  804.55    4.87 213.72 465.62 656.87 781.23 920.38 1303.0   1922    1.0\n",
      "Y_new[73]   821.6    4.99 219.05 479.07 667.36 786.17 950.58 1319.4   1930    1.0\n",
      "Y_new[74]  838.14    5.12 228.89 486.28 672.23 807.41 974.51 1358.5   2000    1.0\n",
      "Y_new[75]  850.95    5.23 233.91 495.98 685.37 818.89 984.45 1377.1   2000    1.0\n",
      "Y_new[76]  853.28    5.23 225.33 488.56 696.76 822.96 990.87 1370.9   1859    1.0\n",
      "Y_new[77]  876.34    5.34 229.75 506.73 715.54 848.86 1010.8 1392.6   1848    1.0\n",
      "Y_new[78]  883.88    5.55 233.73 517.14 715.31 852.27 1019.5 1408.6   1773    1.0\n",
      "Y_new[79]   894.4    5.72 244.39 515.19 718.99 861.52 1037.6 1487.1   1825    1.0\n",
      "Y_new[80]  896.21     5.6  238.9 515.88 723.79 866.77 1036.3 1438.8   1818    1.0\n",
      "Y_new[81]  909.29    5.55 242.69 532.86 738.95 876.04 1044.2 1488.5   1910    1.0\n",
      "Y_new[82]  933.98    5.91 262.83 531.91 743.44 896.94 1075.0 1539.8   1977    1.0\n",
      "Y_new[83]  940.17    5.71 246.83 552.56 759.52 914.93 1078.1 1517.6   1870    1.0\n",
      "Y_new[84]  956.45    5.76  257.7 562.28 777.57 924.99 1103.6 1545.7   2000    1.0\n",
      "Y_new[85]  962.89    6.62 263.51  550.1 777.09 927.77 1111.5 1551.1   1585    1.0\n",
      "Y_new[86]  971.84    6.51 263.36  567.1 784.12 931.47 1129.4 1572.2   1636    1.0\n",
      "Y_new[87]   984.8    6.07 267.66 569.11 795.71 949.77 1137.2 1623.7   1943    1.0\n",
      "Y_new[88]  1001.9    6.19 271.32 564.08 809.82 971.74 1145.7 1640.9   1922    1.0\n",
      "Y_new[89]  1012.5    6.12 273.89 576.44 810.72 977.54 1174.7 1619.5   2000    1.0\n",
      "Y_new[90]  1020.4     6.3 272.82 594.04 828.32 977.54 1166.0 1675.4   1878    1.0\n",
      "Y_new[91]  1032.9    6.43 276.24 603.25 834.43 995.54 1189.6 1723.1   1844    1.0\n",
      "Y_new[92]  1050.8    6.49 286.84 593.98 851.97 1011.0 1216.0 1716.4   1953    1.0\n",
      "Y_new[93]  1060.3    6.73 286.62 600.19 853.42 1020.9 1233.9 1708.7   1813    1.0\n",
      "Y_new[94]  1071.1    6.32 282.77  622.6 870.21 1033.4 1230.5 1718.9   2000    1.0\n",
      "Y_new[95]  1092.7    7.18 308.22 609.49 863.86 1045.7 1260.4 1815.4   1841    1.0\n",
      "Y_new[96]  1090.3    6.78 292.76 615.61 882.53 1059.2 1257.9 1752.2   1866    1.0\n",
      "Y_new[97]  1108.9    7.18 299.45 641.48 895.86 1071.4 1291.1 1782.2   1741    1.0\n",
      "Y_new[98]  1123.0    7.44  300.1 654.35 902.09 1093.4 1291.0 1803.3   1626    1.0\n",
      "Y_new[99]  1140.4    7.48 310.49 657.79 910.12 1102.1 1316.2 1853.3   1722    1.0\n",
      "Y_new[100] 1137.4    6.88 307.73 644.26 916.63 1096.1 1324.8 1854.9   2000    1.0\n",
      "Y_new[101] 1156.8    8.07 312.43 658.49 932.36 1116.2 1340.1 1878.8   1500    1.0\n",
      "Y_new[102] 1172.5    7.53 313.56 671.41 955.07 1125.2 1352.4 1908.8   1732    1.0\n",
      "Y_new[103] 1172.2    7.45 316.75 676.32 948.79 1132.8 1356.0 1894.4   1810    1.0\n",
      "Y_new[104] 1189.5    7.61 317.47 676.74  957.2 1161.8 1367.1 1914.3   1740    1.0\n",
      "Y_new[105] 1198.5    7.57 320.76 669.28 970.79 1159.4 1388.4 1917.0   1794    1.0\n",
      "Y_new[106] 1219.3    7.78 333.38 700.45 972.92 1183.2 1412.8 1997.5   1835    1.0\n",
      "Y_new[107] 1235.4    7.49 334.97 691.63 998.69 1184.4 1436.1 1990.0   2000    1.0\n",
      "Y_new[108] 1236.9    8.04 326.35 709.57 1007.0 1200.8 1433.1 1945.1   1648    1.0\n",
      "Y_new[109] 1265.3    8.06 355.74 715.75 1016.7 1208.2 1454.3 2112.4   1950    1.0\n",
      "Y_new[110] 1260.1     8.3 344.43 732.15 1024.6 1210.4 1443.1 2076.0   1720    1.0\n",
      "Y_new[111] 1272.0    7.79  341.3 729.36 1027.7 1230.0 1466.8 2087.4   1922    1.0\n",
      "Y_new[112] 1287.1    8.79 351.43 734.59 1039.6 1238.8 1484.8 2112.5   1599    1.0\n",
      "Y_new[113] 1308.2    8.38 363.17 741.52 1051.7 1266.7 1500.4 2161.3   1880    1.0\n",
      "Y_new[114] 1313.8    8.03 347.71 765.24 1063.0 1272.7 1501.7 2080.3   1876    1.0\n",
      "lp__        85.19    0.04   1.08  82.51  84.62  85.45  86.02  86.51    913    1.0\n",
      "\n",
      "Samples were drawn using NUTS at Wed Apr 19 15:45:06 2017.\n",
      "For each parameter, n_eff is a crude measure of effective sample size,\n",
      "and Rhat is the potential scale reduction factor on split chains (at \n",
      "convergence, Rhat=1).\n"
     ]
    }
   ],
   "source": [
    "print(fit_1a)"
   ]
  },
  {
   "cell_type": "code",
   "execution_count": 23,
   "metadata": {
    "collapsed": false
   },
   "outputs": [
    {
     "data": {
      "image/png": "[encoded data removed]",
      "text/plain": [
       "<matplotlib.figure.Figure at 0x11d914748>"
      ]
     },
     "metadata": {},
     "output_type": "display_data"
    }
   ],
   "source": [
    "plt.plot(data_1['Area'], data_1['Y'], \"o\")\n",
    "plot_pred_range(fit_1a, data_1['Area_new'], 'Y_new', (10, 90), 0.25)\n",
    "plot_pred_range(fit_1a, data_1['Area_new'], 'Y_new', (25, 75), 0.5)\n",
    "plt.show()"
   ]
  },
  {
   "cell_type": "markdown",
   "metadata": {},
   "source": [
    "誤差分布は多少左右対称に近づいたと言える。"
   ]
  },
  {
   "cell_type": "code",
   "execution_count": 24,
   "metadata": {
    "collapsed": false
   },
   "outputs": [
    {
     "data": {
      "image/png": "[encoded data removed]",
      "text/plain": [
       "<matplotlib.figure.Figure at 0x11c76bda0>"
      ]
     },
     "metadata": {},
     "output_type": "display_data"
    }
   ],
   "source": [
    "hist_error(fit_1a)"
   ]
  },
  {
   "cell_type": "markdown",
   "metadata": {},
   "source": [
    "## 7.3 非線形の関係"
   ]
  },
  {
   "cell_type": "code",
   "execution_count": 25,
   "metadata": {
    "collapsed": false
   },
   "outputs": [
    {
     "data": {
      "image/png": "[encoded data removed]",
      "text/plain": [
       "<matplotlib.figure.Figure at 0x11cca4160>"
      ]
     },
     "metadata": {},
     "output_type": "display_data"
    }
   ],
   "source": [
    "df_2 = pd.read_csv('input/data-aircon.txt')\n",
    "data_2 = df_2.to_dict('list')\n",
    "data_2['N'] = len(df_2)\n",
    "data_2['X_new'] = np.linspace(-5, 35, 40)\n",
    "data_2['N_new'] = len(data_2['X_new'])\n",
    "plt.plot(df_2['X'], df_2['Y'], \"o\")\n",
    "plt.xlabel('X')\n",
    "plt.ylabel('Y')\n",
    "plt.show()"
   ]
  },
  {
   "cell_type": "code",
   "execution_count": 26,
   "metadata": {
    "collapsed": true
   },
   "outputs": [],
   "source": [
    "model_2 = \"\"\"\n",
    "data {\n",
    "  int N;\n",
    "  real X[N];\n",
    "  real Y[N];\n",
    "  int N_new;\n",
    "  real X_new[N_new];\n",
    "}\n",
    "\n",
    "parameters {\n",
    "  real a;\n",
    "  real <lower=0> b;\n",
    "  real <lower=0, upper=30> x0;\n",
    "  real <lower=0> s_Y;\n",
    "}\n",
    "\n",
    "model {\n",
    "  for (n in 1:N)\n",
    "    Y[n] ~ normal(a+b*(X[n]-x0)^2, s_Y);\n",
    "}\n",
    "\n",
    "generated quantities {\n",
    "  real y_new[N_new];\n",
    "  real e[N];\n",
    "  for (n in 1:N)\n",
    "    e[n] = Y[n] - (a+b*(X[n]-x0)^2);\n",
    "  for (n in 1:N_new)\n",
    "    y_new[n] = normal_rng(a+b*(X_new[n]-x0)^2, s_Y);\n",
    "}\n",
    "\"\"\""
   ]
  },
  {
   "cell_type": "code",
   "execution_count": 27,
   "metadata": {
    "collapsed": false
   },
   "outputs": [
    {
     "name": "stderr",
     "output_type": "stream",
     "text": [
      "INFO:pystan:COMPILING THE C++ CODE FOR MODEL anon_model_66bddfdc9eac3be7a917ee560c420b40 NOW.\n"
     ]
    }
   ],
   "source": [
    "fit_2 = pystan.stan(model_code=model_2, data=data_2, iter=1000, chains=4)"
   ]
  },
  {
   "cell_type": "code",
   "execution_count": 28,
   "metadata": {
    "collapsed": false
   },
   "outputs": [
    {
     "name": "stdout",
     "output_type": "stream",
     "text": [
      "Inference for Stan model: anon_model_66bddfdc9eac3be7a917ee560c420b40.\n",
      "4 chains, each with iter=1000; warmup=500; thin=1; \n",
      "post-warmup draws per chain=500, total post-warmup draws=2000.\n",
      "\n",
      "            mean se_mean     sd   2.5%    25%    50%    75%  97.5%  n_eff   Rhat\n",
      "a          14.15    0.02   0.59   13.0  13.74  14.14  14.57  15.24   1375    1.0\n",
      "b           0.21  1.6e-4 5.5e-3    0.2   0.21   0.21   0.22   0.23   1144    1.0\n",
      "x0         18.27  4.2e-3   0.15  17.99  18.16  18.26  18.37  18.57   1287    1.0\n",
      "s_Y         5.74  7.3e-3   0.29   5.18   5.54   5.72   5.91   6.38   1577    1.0\n",
      "y_new[0]  130.31    0.13   5.86 119.16  126.1 130.19 134.43 141.83   2000    1.0\n",
      "y_new[1]  120.47    0.13   5.94 108.47 116.46 120.43 124.55 132.11   2000    1.0\n",
      "y_new[2]  110.72    0.13   5.87  99.03 106.79 110.83 114.49 122.32   2000    1.0\n",
      "y_new[3]  101.79    0.13   5.85  90.39  97.81 101.69 105.78 113.18   2000    1.0\n",
      "y_new[4]   93.09    0.14   5.72  82.14  89.43  93.17  96.81 104.51   1730    1.0\n",
      "y_new[5]    84.8    0.14   5.82  73.14  81.04  84.85  88.61  96.04   1831    1.0\n",
      "y_new[6]   76.94    0.13   5.71  65.71   73.2  76.71  80.74  88.74   2000    1.0\n",
      "y_new[7]   69.78    0.13   5.78  57.95  66.09  69.94   73.7  80.69   2000    1.0\n",
      "y_new[8]   62.99    0.13   5.75  51.83  59.01  63.07   66.8  74.15   2000    1.0\n",
      "y_new[9]   56.42    0.13   5.82  44.69  52.44  56.55  60.28   67.5   1902    1.0\n",
      "y_new[10]  50.47    0.13   5.74  39.79  46.55  50.33  54.29  61.48   1977    1.0\n",
      "y_new[11]   44.9    0.13   5.73  33.56  41.08  45.09  48.88  55.62   1886    1.0\n",
      "y_new[12]  39.93    0.14   5.81  28.58  36.08  39.86  43.93  51.29   1817    1.0\n",
      "y_new[13]   35.4    0.14   5.88   23.2  31.51  35.46  39.35  46.48   1835    1.0\n",
      "y_new[14]  31.27    0.13   5.78   20.3  27.32  31.13  35.08   42.7   2000    1.0\n",
      "y_new[15]  27.48    0.13   5.75  16.09  23.67  27.44  31.42  38.42   2000    1.0\n",
      "y_new[16]  24.34    0.14   5.88  12.56  20.36  24.36  28.31  35.92   1897    1.0\n",
      "y_new[17]  21.45    0.13   5.79  10.05  17.53  21.43  25.43  32.65   2000    1.0\n",
      "y_new[18]  19.12    0.13   5.87   7.82  15.18   19.0  23.06  30.64   1981    1.0\n",
      "y_new[19]  17.32    0.13    5.7   6.19   13.5  17.28  21.27  28.16   1929    1.0\n",
      "y_new[20]  15.65    0.13    5.6   4.47  11.91   15.6  19.33  26.86   1911    1.0\n",
      "y_new[21]  14.88    0.13   5.72   3.76  11.03  14.87  18.58  26.44   2000    1.0\n",
      "y_new[22]  14.33    0.13   5.86    3.1  10.37  14.31  18.21  25.71   2000    1.0\n",
      "y_new[23]  13.98    0.13    5.9    2.0  10.03  14.04   17.9  25.74   2000    1.0\n",
      "y_new[24]  14.59    0.13    5.8   3.19  10.76  14.62  18.59  25.62   2000    1.0\n",
      "y_new[25]  15.11    0.13    5.7    3.9  11.28  15.23  18.92  26.62   2000    1.0\n",
      "y_new[26]  16.61    0.13   5.85   4.92  12.69  16.58   20.6  27.73   2000    1.0\n",
      "y_new[27]  18.43    0.14   5.88    6.6  14.51  18.42  22.26  30.06   1875    1.0\n",
      "y_new[28]  20.29    0.13   5.64   9.06  16.46  20.21  24.13  31.74   2000    1.0\n",
      "y_new[29]  23.46    0.13   5.84  11.79  19.59  23.54  27.34  34.43   2000    1.0\n",
      "y_new[30]  26.29    0.14   5.91  14.27  22.22  26.35  30.38  37.46   1661    1.0\n",
      "y_new[31]  29.66    0.14   5.71  18.93  25.89  29.51  33.38  41.28   1658    1.0\n",
      "y_new[32]  33.68    0.13   5.86  22.15  29.81  33.66  37.59  45.33   2000    1.0\n",
      "y_new[33]  38.24    0.14   6.16  26.25  34.02  38.16   42.3  50.31   1935    1.0\n",
      "y_new[34]  43.04    0.13    5.8  32.02  38.91  42.95  46.91   54.4   2000    1.0\n",
      "y_new[35]  48.76    0.13   5.85  37.48  44.79  48.69  52.72  60.16   2000    1.0\n",
      "y_new[36]  54.06    0.14   5.81   42.5  50.27  54.14  57.98  65.48   1825    1.0\n",
      "y_new[37]  60.64    0.13   5.93  49.09  56.55  60.61  64.72  72.26   1992    1.0\n",
      "y_new[38]  67.33    0.15   5.99   55.9  63.21  67.47   71.5  78.94   1699    1.0\n",
      "y_new[39]  74.04    0.15   6.26  61.64  70.12  73.93  78.29  86.54   1634    1.0\n",
      "e[0]       -5.04    0.03   1.28  -7.48   -5.9  -5.05  -4.21  -2.39   1826    1.0\n",
      "e[1]         7.8    0.03   1.25   5.42   6.95    7.8   8.61  10.39   1849    1.0\n",
      "e[2]       -0.98    0.03   1.15  -3.19  -1.76  -0.98  -0.23   1.39   1927    1.0\n",
      "e[3]       -3.72    0.03   1.17  -5.96  -4.51  -3.72  -2.96  -1.32   1913    1.0\n",
      "e[4]       -0.88    0.03   1.15  -3.09  -1.66  -0.88  -0.13   1.49   1927    1.0\n",
      "e[5]       -0.73    0.02   1.08  -2.81  -1.46  -0.75  -0.01   1.48   1991    1.0\n",
      "e[6]        7.27    0.02   1.08   5.19   6.54   7.25   7.99   9.48   1991    1.0\n",
      "e[7]        1.22    0.03   1.11  -0.91   0.47   1.21   1.96    3.5   1968    1.0\n",
      "e[8]        4.99    0.02   1.07   2.93   4.27   4.97    5.7   7.17   2000    1.0\n",
      "e[9]       -2.39    0.02   1.04   -4.4  -3.09  -2.41   -1.7  -0.24   2000    1.0\n",
      "e[10]       1.49    0.02   0.98  -0.43   0.82   1.47   2.13   3.49   2000    1.0\n",
      "e[11]      -1.61    0.02   0.98  -3.53  -2.28  -1.63  -0.97   0.39   2000    1.0\n",
      "e[12]       0.85    0.02   0.95  -1.01   0.21   0.83   1.48   2.83   2000    1.0\n",
      "e[13]      -4.98    0.02   0.94  -6.82  -5.61   -5.0  -4.36  -3.02   2000    1.0\n",
      "e[14]      -6.91    0.02   0.93  -8.74  -7.53  -6.94   -6.3  -4.98   2000    1.0\n",
      "e[15]      11.52    0.02   0.86   9.81  10.95   11.5  12.08  13.29   2000    1.0\n",
      "e[16]       4.12    0.02   0.86   2.41   3.55    4.1   4.68   5.89   2000    1.0\n",
      "e[17]      -6.98    0.02    0.9  -8.78  -7.59  -7.01  -6.38  -5.13   2000    1.0\n",
      "e[18]      -2.85    0.02   0.82  -4.46   -3.4  -2.87  -2.31  -1.14   2000    1.0\n",
      "e[19]      -6.38    0.02   0.83   -8.0  -6.93   -6.4  -5.82  -4.65   2000    1.0\n",
      "e[20]      13.15    0.02   0.82  11.54   12.6  13.13  13.69  14.86   2000    1.0\n",
      "e[21]        7.7    0.02   0.79   6.15   7.19   7.69   8.23   9.34   2000    1.0\n",
      "e[22]       -1.4    0.02   0.79  -2.95  -1.91  -1.41  -0.87   0.24   2000    1.0\n",
      "e[23]       3.62    0.02   0.76   2.09   3.12   3.61   4.14   5.19   2000    1.0\n",
      "e[24]      -1.89    0.02   0.74  -3.38  -2.38   -1.9  -1.39  -0.35   2000    1.0\n",
      "e[25]      -2.68    0.02   0.75   -4.2  -3.18   -2.7  -2.17  -1.14   2000    1.0\n",
      "e[26]      -4.43    0.02    0.7   -5.8  -4.88  -4.43  -3.96  -3.01   2000    1.0\n",
      "e[27]      -2.97    0.02   0.69  -4.32  -3.41  -2.97  -2.51  -1.57   2000    1.0\n",
      "e[28]       9.67    0.02    0.7    8.3   9.22   9.67  10.14  11.09   2000    1.0\n",
      "e[29]      -0.42    0.01   0.66  -1.72  -0.85  -0.41 8.8e-3   0.92   2000    1.0\n",
      "e[30]       0.48    0.01   0.66  -0.82   0.05   0.49   0.91   1.82   2000    1.0\n",
      "e[31]       1.52    0.01   0.65   0.22   1.09   1.53   1.94   2.84   2000    1.0\n",
      "e[32]       7.02    0.01   0.63   5.75   6.61   7.03   7.42   8.31   2000    1.0\n",
      "e[33]      -2.75    0.01   0.62  -4.01  -3.16  -2.74  -2.35   -1.5   2000    1.0\n",
      "e[34]      -5.95    0.01   0.61   -7.2  -6.35  -5.93  -5.55  -4.71   2000    1.0\n",
      "e[35]       9.55    0.01   0.61   8.32   9.16   9.57   9.95  10.77   2000    1.0\n",
      "e[36]      -2.85    0.01    0.6  -4.08  -3.25  -2.84  -2.46  -1.65   2000    1.0\n",
      "e[37]      -4.17    0.01    0.6  -5.38  -4.56  -4.15  -3.77  -2.97   2000    1.0\n",
      "e[38]      -7.28    0.01    0.6  -8.49  -7.68  -7.26  -6.89  -6.08   2000    1.0\n",
      "e[39]      -7.42    0.01   0.59  -8.61  -7.81  -7.41  -7.04  -6.23   2000    1.0\n",
      "e[40]      -3.45    0.01   0.59  -4.64  -3.84  -3.43  -3.07  -2.26   2000    1.0\n",
      "e[41]       3.44    0.01   0.58   2.25   3.06   3.46   3.82    4.6   2000    1.0\n",
      "e[42]       6.44    0.01   0.58   5.25   6.06   6.46   6.82    7.6   2000    1.0\n",
      "e[43]       3.66    0.01   0.57   2.48   3.29   3.67   4.03   4.79   1815    1.0\n",
      "e[44]      -2.34    0.01   0.57  -3.52  -2.71  -2.33  -1.97  -1.21   1815    1.0\n",
      "e[45]       0.07    0.01   0.57  -1.11   -0.3   0.09   0.44   1.21   2000    1.0\n",
      "e[46]      -4.44    0.01   0.57  -5.62  -4.81  -4.43  -4.07  -3.31   1815    1.0\n",
      "e[47]      -4.41    0.01   0.56  -5.58  -4.78   -4.4  -4.03  -3.28   1763    1.0\n",
      "e[48]       4.62    0.01   0.56   3.43   4.25   4.62   4.99   5.74   1664    1.0\n",
      "e[49]      -6.28    0.01   0.56  -7.47  -6.65  -6.28  -5.91  -5.16   1664    1.0\n",
      "e[50]      10.89    0.01   0.56   9.71  10.52  10.88  11.27  12.01   1593    1.0\n",
      "e[51]      -0.93    0.01   0.56   -2.1   -1.3  -0.93  -0.55   0.19   1571    1.0\n",
      "e[52]       0.92    0.01   0.56  -0.25   0.55   0.91    1.3   2.04   1530    1.0\n",
      "e[53]      -4.83    0.01   0.57  -5.99  -5.19  -4.83  -4.45   -3.7   1456    1.0\n",
      "e[54]      -3.69    0.01   0.57  -4.85  -4.05  -3.69  -3.31  -2.56   1473    1.0\n",
      "e[55]      -8.05    0.02   0.57  -9.19  -8.42  -8.05  -7.66  -6.92   1394    1.0\n",
      "e[56]      -1.43    0.01   0.57  -2.59  -1.79  -1.43  -1.05   -0.3   1456    1.0\n",
      "e[57]       1.92    0.02   0.57   0.78   1.54   1.91   2.31   3.04   1367    1.0\n",
      "e[58]       1.44    0.02   0.57   0.31   1.06   1.44   1.84   2.57   1355    1.0\n",
      "e[59]      -4.82    0.02   0.58  -5.95   -5.2  -4.82  -4.43   -3.7   1331    1.0\n",
      "e[60]       -5.0    0.02   0.58  -6.14  -5.37   -5.0   -4.6  -3.88   1310    1.0\n",
      "e[61]       -3.3    0.02   0.58  -4.44  -3.67   -3.3   -2.9  -2.18   1310    1.0\n",
      "e[62]       8.01    0.02   0.58   6.86   7.62    8.0    8.4   9.14   1290    1.0\n",
      "e[63]       -6.8    0.02   0.58  -7.95  -7.18   -6.8   -6.4  -5.66   1281    1.0\n",
      "e[64]      -1.61    0.02   0.58  -2.75  -1.99  -1.61  -1.21  -0.47   1272    1.0\n",
      "e[65]      10.39    0.02   0.59   9.24   9.99  10.39  10.79  11.53   1235    1.0\n",
      "e[66]      -1.09    0.02   0.59  -2.23  -1.48  -1.08  -0.68   0.07   1222    1.0\n",
      "e[67]      -8.23    0.02    0.6  -9.38  -8.63  -8.22  -7.82  -7.07   1216    1.0\n",
      "e[68]      -4.48    0.02    0.6  -5.63  -4.89  -4.48  -4.07  -3.32   1201    1.0\n",
      "e[69]       2.05    0.02   0.61   0.88   1.64   2.06   2.46   3.21   1184    1.0\n",
      "e[70]      -2.74    0.02    0.6   -3.9  -3.15  -2.74  -2.33  -1.57   1196    1.0\n",
      "e[71]      -3.83    0.02    0.6  -4.98  -4.23  -3.82  -3.42  -2.66   1206    1.0\n",
      "e[72]      -2.48    0.02   0.61  -3.66   -2.9  -2.48  -2.07  -1.33   1170    1.0\n",
      "e[73]      -0.11    0.02   0.61  -1.28  -0.52   -0.1   0.31   1.05   1176    1.0\n",
      "e[74]       8.52    0.02   0.61   7.34    8.1   8.52   8.93   9.67   1170    1.0\n",
      "e[75]       -1.2    0.02   0.62  -2.38  -1.63  -1.19  -0.76  -0.03   1158    1.0\n",
      "e[76]       5.41    0.02   0.62   4.23   4.98   5.42   5.85   6.57   1160    1.0\n",
      "e[77]       2.91    0.02   0.62   1.73   2.48   2.92   3.35   4.07   1160    1.0\n",
      "e[78]      -1.19    0.02   0.62  -2.37  -1.62  -1.18  -0.75  -0.02   1151    1.0\n",
      "e[79]      -9.32    0.02   0.62 -10.51  -9.76  -9.31  -8.88  -8.15   1149    1.0\n",
      "e[80]       -3.6    0.02   0.62  -4.79  -4.04  -3.59  -3.16  -2.43   1147    1.0\n",
      "e[81]      -3.35    0.02   0.63  -4.55  -3.79  -3.35  -2.91  -2.17   1145    1.0\n",
      "e[82]      -0.35    0.02   0.63  -1.55  -0.79  -0.35   0.09   0.83   1145    1.0\n",
      "e[83]       6.79    0.02   0.63   5.58   6.35   6.79   7.23   7.98   1143    1.0\n",
      "e[84]      12.49    0.02   0.63  11.28  12.05  12.49  12.93  13.68   1143    1.0\n",
      "e[85]       8.25    0.02   0.63   7.05   7.81   8.25   8.69   9.45   1143    1.0\n",
      "e[86]      -1.43    0.02   0.63  -2.63  -1.87  -1.43  -0.98  -0.23   1145    1.0\n",
      "e[87]     -10.73    0.02   0.63 -11.93 -11.17 -10.73 -10.28  -9.53   1145    1.0\n",
      "e[88]      -2.83    0.02   0.63  -4.03  -3.27  -2.84  -2.38  -1.63   1146    1.0\n",
      "e[89]      -0.28    0.02   0.63  -1.47  -0.72  -0.29   0.17   0.93   1149    1.0\n",
      "e[90]       4.17    0.02   0.63   2.98   3.73   4.16   4.62   5.38   1152    1.0\n",
      "e[91]       4.84    0.02   0.63   3.65   4.39   4.84   5.28   6.05   1154    1.0\n",
      "e[92]        3.2    0.02   0.63   2.02   2.76    3.2   3.65   4.41   1155    1.0\n",
      "e[93]       -8.6    0.02   0.63  -9.78  -9.04   -8.6  -8.15  -7.39   1155    1.0\n",
      "e[94]       4.19    0.02   0.63   3.01   3.74    4.2   4.64   5.38   1168    1.0\n",
      "e[95]      -3.19    0.02   0.63  -4.37  -3.64  -3.18  -2.74  -1.99   1163    1.0\n",
      "e[96]       0.32    0.02   0.62  -0.85  -0.12   0.32   0.77    1.5   1231    1.0\n",
      "e[97]      -0.28    0.02   0.62  -1.45  -0.72  -0.28   0.17    0.9   1231    1.0\n",
      "e[98]        1.8    0.02   0.63   0.64   1.36   1.81   2.25   2.98   1228    1.0\n",
      "e[99]       -0.5    0.02   0.63  -1.66  -0.94  -0.49  -0.05   0.68   1228    1.0\n",
      "e[100]    -10.27    0.02   0.62 -11.44 -10.71 -10.26  -9.82  -9.08   1234    1.0\n",
      "e[101]      3.54    0.02   0.62   2.38    3.1   3.54   3.99   4.73   1247    1.0\n",
      "e[102]      1.53    0.02   0.62   0.37   1.09   1.53   1.98   2.71   1251    1.0\n",
      "e[103]     -2.28    0.02   0.62  -3.44  -2.72  -2.28  -1.84   -1.1   1255    1.0\n",
      "e[104]   -1.8e-3    0.02   0.62  -1.16  -0.44-3.7e-3   0.44   1.18   1259    1.0\n",
      "e[105]      0.08    0.02   0.61  -1.06  -0.35   0.08   0.52   1.25   1277    1.0\n",
      "e[106]      0.58    0.02   0.61  -0.56   0.15   0.58   1.02   1.75   1277    1.0\n",
      "e[107]      8.68    0.02   0.61   7.54   8.25   8.68   9.12   9.85   1277    1.0\n",
      "e[108]      -1.9    0.02   0.61  -3.03  -2.32   -1.9  -1.46  -0.73   1298    1.0\n",
      "e[109]      0.28    0.02    0.6  -0.83  -0.15   0.28    0.7   1.43   1330    1.0\n",
      "e[110]      6.02    0.02    0.6    4.9   5.59   6.02   6.45   7.18   1316    1.0\n",
      "e[111]      5.33    0.02    0.6   4.23   4.91   5.33   5.75   6.48   1352    1.0\n",
      "e[112]      5.88    0.02    0.6   4.77   5.45   5.88    6.3   7.03   1330    1.0\n",
      "e[113]     -3.96    0.02   0.59  -5.04  -4.38  -3.95  -3.54   -2.8   1367    1.0\n",
      "e[114]     10.73    0.02   0.59   9.65  10.31  10.74  11.15  11.88   1394    1.0\n",
      "e[115]     -0.28    0.02   0.59  -1.36   -0.7  -0.27   0.13   0.86   1403    1.0\n",
      "e[116]      9.98    0.02   0.58    8.9   9.57   9.99  10.39  11.11   1423    1.0\n",
      "e[117]     -8.32    0.02   0.58   -9.4  -8.73  -8.31  -7.91  -7.19   1423    1.0\n",
      "e[118]     -0.54    0.02   0.58  -1.62  -0.95  -0.54  -0.14   0.58   1433    1.0\n",
      "e[119]       6.5    0.02   0.58   5.41   6.09    6.5   6.89   7.62   1455    1.0\n",
      "e[120]     -4.68    0.01   0.57  -5.75  -5.08  -4.67  -4.29  -3.57   1503    1.0\n",
      "e[121]     -4.93    0.01   0.57   -6.0  -5.33  -4.92  -4.54  -3.81   1490    1.0\n",
      "e[122]      -5.9    0.01   0.57  -6.97  -6.29  -5.88  -5.52  -4.79   1529    1.0\n",
      "e[123]     -6.53    0.01   0.57  -7.61  -6.92  -6.51  -6.15  -5.42   1557    1.0\n",
      "e[124]     -3.03    0.01   0.56  -4.11  -3.42  -3.01  -2.66  -1.92   1650    1.0\n",
      "e[125]      1.34    0.01   0.57   0.26   0.95   1.36   1.71   2.44   1602    1.0\n",
      "e[126]    -12.03    0.01   0.56 -13.11 -12.41 -12.01 -11.66 -10.92   1667    1.0\n",
      "e[127]      0.67    0.01   0.56   -0.4   0.29   0.69   1.04   1.78   1684    1.0\n",
      "e[128]      6.47    0.01   0.56    5.4   6.09   6.49   6.84   7.58   1684    1.0\n",
      "e[129]     11.14    0.01   0.56  10.07  10.75  11.16   11.5  12.26   1737    1.0\n",
      "e[130]       7.0    0.01   0.56    5.9   6.61   7.02   7.36   8.12   1830    1.0\n",
      "e[131]       3.8    0.01   0.56    2.7   3.41   3.82   4.16   4.92   1830    1.0\n",
      "e[132]    -10.34    0.01   0.56 -11.44 -10.73 -10.32  -9.98  -9.22   1849    1.0\n",
      "e[133]     -3.89    0.01   0.56  -4.99  -4.27  -3.87  -3.52  -2.77   1867    1.0\n",
      "e[134]      -2.4    0.01   0.56   -3.5  -2.79  -2.38  -2.04  -1.28   1830    1.0\n",
      "e[135]      3.47    0.01   0.57   2.36   3.08   3.48   3.86    4.6   2000    1.0\n",
      "e[136]     -1.05    0.01   0.56  -2.17  -1.44  -1.03  -0.68   0.07   1923    1.0\n",
      "e[137]     -7.49    0.01   0.57   -8.6  -7.88  -7.48  -7.11  -6.36   2000    1.0\n",
      "e[138]      9.12    0.01   0.58    8.0   8.73   9.13   9.52  10.25   2000    1.0\n",
      "e[139]      4.71    0.01   0.57    3.6   4.32   4.72   5.09   5.84   2000    1.0\n",
      "e[140]      0.92    0.01   0.58  -0.22   0.52   0.92   1.32   2.05   2000    1.0\n",
      "e[141]      6.42    0.01   0.58   5.28   6.02   6.42   6.82   7.55   2000    1.0\n",
      "e[142]     -8.08    0.01   0.58   -9.2  -8.47  -8.07  -7.68  -6.95   2000    1.0\n",
      "e[143]       3.3    0.01   0.59   2.16    2.9   3.31   3.71   4.45   2000    1.0\n",
      "e[144]     -3.32    0.01   0.59  -4.46  -3.73  -3.31  -2.91  -2.15   2000    1.0\n",
      "e[145]      3.57    0.01   0.61   2.39   3.13   3.59   3.98   4.75   2000    1.0\n",
      "e[146]     -0.63    0.01   0.61  -1.81  -1.07  -0.61  -0.22   0.55   2000    1.0\n",
      "e[147]      3.36    0.01   0.63   2.14    2.9   3.38    3.8    4.6   2000    1.0\n",
      "e[148]      7.29    0.01   0.66    6.0   6.81   7.31   7.75   8.57   2000    1.0\n",
      "e[149]     -0.34    0.01   0.63  -1.56   -0.8  -0.32    0.1    0.9   2000    1.0\n",
      "e[150]       5.5    0.01   0.67    4.2   5.02   5.52   5.97    6.8   2000    1.0\n",
      "e[151]     -6.89    0.02   0.68   -8.2  -7.37  -6.86  -6.42  -5.57   2000    1.0\n",
      "e[152]     -4.18    0.02   0.68  -5.52  -4.67  -4.16  -3.71  -2.85   2000    1.0\n",
      "e[153]      8.32    0.02   0.68   6.98   7.83   8.34   8.79   9.65   2000    1.0\n",
      "e[154]       2.0    0.02   0.71   0.61    1.5   2.03   2.49   3.38   2000    1.0\n",
      "e[155]    -12.03    0.02   0.72 -13.43 -12.54  -12.0 -11.53 -10.61   1949    1.0\n",
      "e[156]      -7.9    0.02   0.75  -9.36  -8.43  -7.88  -7.39  -6.44   1904    1.0\n",
      "e[157]      -1.3    0.02   0.75  -2.76  -1.83  -1.28  -0.79   0.16   1904    1.0\n",
      "e[158]      5.03    0.02   0.78   3.54   4.47   5.06   5.57   6.56   1842    1.0\n",
      "e[159]     -0.52    0.02   0.77  -2.01  -1.07  -0.49 1.7e-3    1.0   1857    1.0\n",
      "e[160]       3.6    0.02   0.82   2.02   3.02   3.62   4.15   5.21   1782    1.0\n",
      "e[161]      5.32    0.02    0.8   3.79   4.75   5.36   5.86   6.89   1812    1.0\n",
      "e[162]      9.56    0.02   0.81   8.01   8.99    9.6  10.11  11.15   1797    1.0\n",
      "e[163]      0.32    0.02   0.94  -1.45  -0.33   0.34   0.93   2.13   1648    1.0\n",
      "e[164]      -0.1    0.02   0.87  -1.75  -0.71  -0.08   0.48   1.58   1726    1.0\n",
      "e[165]    -10.07    0.02   0.91  -11.8 -10.71 -10.04  -9.48   -8.3   1673    1.0\n",
      "e[166]      0.72    0.02   0.94  -1.05   0.07   0.74   1.33   2.53   1648    1.0\n",
      "e[167]     -3.38    0.02   0.94  -5.15  -4.03  -3.36  -2.77  -1.57   1648    1.0\n",
      "e[168]     -5.23    0.02   0.97  -7.07  -5.91   -5.2   -4.6  -3.36   1613    1.0\n",
      "e[169]     -0.88    0.03    1.0  -2.79  -1.58  -0.86  -0.24   1.05   1591    1.0\n",
      "e[170]      6.12    0.03    1.0   4.21   5.42   6.14   6.76   8.05   1591    1.0\n",
      "e[171]     -11.2    0.03   1.04 -13.19 -11.93 -11.17 -10.52  -9.17   1561    1.0\n",
      "e[172]     -2.04    0.03   1.05  -4.06  -2.78  -2.02  -1.36 8.4e-3   1551    1.0\n",
      "e[173]      0.72    0.03   1.15   -1.5   -0.1   0.74   1.48   2.93   1489    1.0\n",
      "e[174]     -5.01    0.03   1.09  -7.11  -5.78  -4.98  -4.29  -2.89   1523    1.0\n",
      "e[175]      2.03    0.03   1.11  -0.09   1.24   2.05   2.76   4.18   1514    1.0\n",
      "e[176]      2.53    0.03   1.17   0.29   1.71   2.56   3.31   4.77   1481    1.0\n",
      "e[177]      0.16    0.03    1.2  -2.14  -0.68   0.18   0.97   2.47   1466    1.0\n",
      "e[178]    -13.63    0.03   1.23 -15.98 -14.49 -13.61 -12.81 -11.26   1452    1.0\n",
      "e[179]     15.07    0.03   1.23  12.72  14.21  15.09  15.89  17.44   1452    1.0\n",
      "lp__      -401.7    0.04   1.33 -404.7 -402.3 -401.3 -400.7 -400.0    885    1.0\n",
      "\n",
      "Samples were drawn using NUTS at Wed Apr 19 15:45:35 2017.\n",
      "For each parameter, n_eff is a crude measure of effective sample size,\n",
      "and Rhat is the potential scale reduction factor on split chains (at \n",
      "convergence, Rhat=1).\n"
     ]
    }
   ],
   "source": [
    "print(fit_2)"
   ]
  },
  {
   "cell_type": "code",
   "execution_count": 29,
   "metadata": {
    "collapsed": false
   },
   "outputs": [
    {
     "data": {
      "image/png": "[encoded data removed]",
      "text/plain": [
       "<matplotlib.figure.Figure at 0x11e1fe898>"
      ]
     },
     "metadata": {},
     "output_type": "display_data"
    }
   ],
   "source": [
    "plt.plot(data_2['X'], data_2['Y'], \"o\")\n",
    "plot_pred_range(fit_2, data_2['X_new'], 'y_new', (2.5, 97.5), 0.25)\n",
    "plot_pred_range(fit_2, data_2['X_new'], 'y_new', (25, 75), 0.5)\n",
    "plt.show()"
   ]
  },
  {
   "cell_type": "code",
   "execution_count": 30,
   "metadata": {
    "collapsed": false
   },
   "outputs": [
    {
     "data": {
      "image/png": "[encoded data removed]",
      "text/plain": [
       "<matplotlib.figure.Figure at 0x11ec328d0>"
      ]
     },
     "metadata": {},
     "output_type": "display_data"
    }
   ],
   "source": [
    "hist_error(fit_2)"
   ]
  },
  {
   "cell_type": "code",
   "execution_count": 31,
   "metadata": {
    "collapsed": false
   },
   "outputs": [
    {
     "data": {
      "text/html": [
       "<div>\n",
       "<table border=\"1\" class=\"dataframe\">\n",
       "  <thead>\n",
       "    <tr style=\"text-align: right;\">\n",
       "      <th></th>\n",
       "      <th>Time</th>\n",
       "      <th>Y</th>\n",
       "    </tr>\n",
       "  </thead>\n",
       "  <tbody>\n",
       "    <tr>\n",
       "      <th>0</th>\n",
       "      <td>1</td>\n",
       "      <td>2.4</td>\n",
       "    </tr>\n",
       "    <tr>\n",
       "      <th>1</th>\n",
       "      <td>2</td>\n",
       "      <td>5.0</td>\n",
       "    </tr>\n",
       "    <tr>\n",
       "      <th>2</th>\n",
       "      <td>4</td>\n",
       "      <td>7.5</td>\n",
       "    </tr>\n",
       "    <tr>\n",
       "      <th>3</th>\n",
       "      <td>8</td>\n",
       "      <td>11.9</td>\n",
       "    </tr>\n",
       "    <tr>\n",
       "      <th>4</th>\n",
       "      <td>12</td>\n",
       "      <td>12.5</td>\n",
       "    </tr>\n",
       "    <tr>\n",
       "      <th>5</th>\n",
       "      <td>24</td>\n",
       "      <td>12.7</td>\n",
       "    </tr>\n",
       "  </tbody>\n",
       "</table>\n",
       "</div>"
      ],
      "text/plain": [
       "   Time     Y\n",
       "0     1   2.4\n",
       "1     2   5.0\n",
       "2     4   7.5\n",
       "3     8  11.9\n",
       "4    12  12.5\n",
       "5    24  12.7"
      ]
     },
     "execution_count": 31,
     "metadata": {},
     "output_type": "execute_result"
    }
   ],
   "source": [
    "df_3 = pd.read_csv('input/data-conc.txt')\n",
    "df_3"
   ]
  },
  {
   "cell_type": "code",
   "execution_count": 32,
   "metadata": {
    "collapsed": false
   },
   "outputs": [
    {
     "data": {
      "image/png": "[encoded data removed]",
      "text/plain": [
       "<matplotlib.figure.Figure at 0x11dc5fe48>"
      ]
     },
     "metadata": {},
     "output_type": "display_data"
    }
   ],
   "source": [
    "data_3 = df_3.to_dict('list')\n",
    "data_3['T'] = len(df_3)\n",
    "data_3['Time_new'] = [np.power(10,x)*24 for x in np.linspace(-2, 0, 40)]\n",
    "data_3['T_new'] = len(data_3['Time_new'])\n",
    "plt.plot(df_3['Time'], df_3['Y'], \"o-\")\n",
    "plt.xlabel('Time')\n",
    "plt.ylabel('Y')\n",
    "#plt.xscale('log')\n",
    "plt.show()"
   ]
  },
  {
   "cell_type": "code",
   "execution_count": 33,
   "metadata": {
    "collapsed": true
   },
   "outputs": [],
   "source": [
    "model_3 = \"\"\"\n",
    "data {\n",
    "  int T;\n",
    "  real Time[T];\n",
    "  real Y[T];\n",
    "  int T_new;\n",
    "  real Time_new[T_new];\n",
    "}\n",
    "\n",
    "parameters {\n",
    "  real<lower=0, upper=100> a;\n",
    "  real<lower=0, upper=5> b;\n",
    "  real<lower=0> s_Y;\n",
    "}\n",
    "\n",
    "model {\n",
    "  for (t in 1:T)\n",
    "    Y[t] ~ normal(a*(1-exp(-b*Time[t])), s_Y);\n",
    "}\n",
    "\n",
    "generated quantities {\n",
    "  real y_new[T_new];\n",
    "  for (t in 1:T_new)\n",
    "    y_new[t] = normal_rng(a*(1-exp(-b*Time_new[t])), s_Y);\n",
    "}\n",
    "\"\"\""
   ]
  },
  {
   "cell_type": "code",
   "execution_count": 34,
   "metadata": {
    "collapsed": false
   },
   "outputs": [
    {
     "name": "stderr",
     "output_type": "stream",
     "text": [
      "INFO:pystan:COMPILING THE C++ CODE FOR MODEL anon_model_47132d80a244d8a280377ac5bfc34675 NOW.\n"
     ]
    }
   ],
   "source": [
    "fit_3 = pystan.stan(model_code=model_3, data=data_3, iter=1000, chains=4)"
   ]
  },
  {
   "cell_type": "code",
   "execution_count": 35,
   "metadata": {
    "collapsed": false
   },
   "outputs": [
    {
     "name": "stdout",
     "output_type": "stream",
     "text": [
      "Inference for Stan model: anon_model_47132d80a244d8a280377ac5bfc34675.\n",
      "4 chains, each with iter=1000; warmup=500; thin=1; \n",
      "post-warmup draws per chain=500, total post-warmup draws=2000.\n",
      "\n",
      "            mean se_mean     sd   2.5%    25%    50%    75%  97.5%  n_eff   Rhat\n",
      "a          13.06    0.07   1.09  11.15  12.69  13.09  13.48  14.66    255   1.02\n",
      "b           0.25  5.9e-3   0.12   0.17   0.22   0.24   0.26   0.37    434   1.01\n",
      "s_Y         0.94    0.05   0.78   0.37   0.54   0.72   1.04   2.92    217   1.02\n",
      "y_new[0]    0.78    0.03   1.24  -1.44   0.25   0.73   1.22   3.19   2000    1.0\n",
      "y_new[1]    0.85    0.03   1.17  -1.17   0.36   0.84   1.33   2.99   2000    1.0\n",
      "y_new[2]    0.96    0.03   1.19  -1.12   0.42   0.93   1.43   3.48   1951    1.0\n",
      "y_new[3]    1.03    0.03   1.26  -1.21   0.52   1.03   1.52   3.31   2000    1.0\n",
      "y_new[4]    1.17    0.03   1.22   -0.9   0.65   1.12   1.65   3.79   1696    1.0\n",
      "y_new[5]    1.35    0.03   1.22  -0.78   0.83    1.3    1.8   3.93   1307    1.0\n",
      "y_new[6]     1.5    0.03   1.14  -0.43   0.95   1.45   1.93   3.86   1072    1.0\n",
      "y_new[7]    1.66    0.03   1.17   -0.4   1.14   1.62   2.13   3.91   1815    1.0\n",
      "y_new[8]    1.86    0.04   1.21   -0.3   1.31   1.79   2.31   4.37    780    1.0\n",
      "y_new[9]    2.02    0.04   1.29  -0.31   1.52   2.02   2.54   4.43   1088    1.0\n",
      "y_new[10]   2.25    0.03   1.25  -0.02    1.7   2.23   2.75   4.55   1695    1.0\n",
      "y_new[11]   2.53    0.03   1.33   0.46   1.98   2.47    3.0   5.23   1489    1.0\n",
      "y_new[12]   2.78    0.04   1.33   0.42   2.29   2.77   3.29   5.22   1177    1.0\n",
      "y_new[13]   3.15    0.04   1.36   0.91   2.58    3.1   3.64   5.81   1509    1.0\n",
      "y_new[14]   3.45    0.03   1.36   1.25   2.87   3.39   3.96   6.12   1594    1.0\n",
      "y_new[15]   3.81    0.03   1.24   1.64   3.26   3.79   4.29   6.57   1302    1.0\n",
      "y_new[16]    4.2    0.04   1.31    2.0   3.61   4.13   4.72   6.83   1212    1.0\n",
      "y_new[17]   4.65    0.04   1.42   2.31   4.04    4.6   5.15   7.25   1290    1.0\n",
      "y_new[18]   5.06    0.04   1.46   2.73   4.48   5.01   5.59   7.75   1219    1.0\n",
      "y_new[19]   5.56    0.03   1.42   3.16   4.96   5.48   6.06   8.67   1803    1.0\n",
      "y_new[20]   6.02    0.05   1.45   3.39   5.44   6.01   6.61   8.63   1000    1.0\n",
      "y_new[21]    6.5    0.05   1.52   4.16   5.95   6.46   7.08   9.19   1113    1.0\n",
      "y_new[22]   7.08    0.03   1.33   4.86   6.47   7.05   7.64   9.72   1535    1.0\n",
      "y_new[23]   7.62    0.04   1.45   5.01   7.06    7.6   8.22   10.3   1311    1.0\n",
      "y_new[24]   8.18    0.03   1.45   5.52    7.6   8.18   8.75  10.97   1855    1.0\n",
      "y_new[25]   8.76    0.05   1.53    6.4   8.15   8.76   9.33  11.53   1158    1.0\n",
      "y_new[26]    9.3    0.05   1.42   6.82    8.7    9.3   9.87  12.23    679   1.01\n",
      "y_new[27]   9.78    0.04   1.41   7.19   9.24    9.8  10.38  12.45   1174    1.0\n",
      "y_new[28]  10.28    0.06   1.42   7.38   9.78  10.32  10.85  12.88    643   1.01\n",
      "y_new[29]  10.76    0.06   1.48   7.86  10.24  10.82  11.39  13.19    631   1.01\n",
      "y_new[30]  11.23    0.06   1.56   8.59  10.69  11.26  11.84  13.81    800    1.0\n",
      "y_new[31]  11.61    0.07   1.52   8.81  11.12  11.68   12.2  14.19    514    1.0\n",
      "y_new[32]  11.92    0.06   1.37    8.9  11.41  12.01  12.53   14.2    606   1.01\n",
      "y_new[33]  12.24    0.06   1.44   9.53  11.75  12.29  12.85  14.59    680    1.0\n",
      "y_new[34]  12.46    0.06   1.47   9.65  11.91  12.52   13.1  14.97    643   1.01\n",
      "y_new[35]  12.65    0.07   1.59    9.9  12.11  12.69  13.34  15.22    476   1.01\n",
      "y_new[36]  12.82    0.07   1.54   9.93   12.3   12.9  13.47  15.47    546   1.01\n",
      "y_new[37]  12.88    0.05    1.5   9.82  12.29  12.94  13.57  15.43    962    1.0\n",
      "y_new[38]  12.99    0.06    1.5   9.88  12.44  13.05  13.66  15.69    583    1.0\n",
      "y_new[39]  13.01    0.06   1.62   9.64  12.41  13.06  13.67  15.64    711   1.01\n",
      "lp__        -0.3    0.15   2.17  -6.72   -1.1   0.24   1.22   1.97    212   1.02\n",
      "\n",
      "Samples were drawn using NUTS at Wed Apr 19 15:46:01 2017.\n",
      "For each parameter, n_eff is a crude measure of effective sample size,\n",
      "and Rhat is the potential scale reduction factor on split chains (at \n",
      "convergence, Rhat=1).\n"
     ]
    }
   ],
   "source": [
    "print(fit_3)"
   ]
  },
  {
   "cell_type": "code",
   "execution_count": 36,
   "metadata": {
    "collapsed": false
   },
   "outputs": [
    {
     "data": {
      "image/png": "[encoded data removed]",
      "text/plain": [
       "<matplotlib.figure.Figure at 0x11d913048>"
      ]
     },
     "metadata": {},
     "output_type": "display_data"
    }
   ],
   "source": [
    "plt.plot(data_3['Time'], data_3['Y'], \"o\")\n",
    "plot_pred_range(fit_3, data_3['Time_new'], 'y_new', (2.5, 97.5), 0.25)\n",
    "plot_pred_range(fit_3, data_3['Time_new'], 'y_new', (25, 75), 0.5)\n",
    "#plt.xscale('log')\n",
    "plt.show()"
   ]
  },
  {
   "cell_type": "markdown",
   "metadata": {},
   "source": [
    "## 7.5 交絡"
   ]
  },
  {
   "cell_type": "code",
   "execution_count": 37,
   "metadata": {
    "collapsed": false
   },
   "outputs": [
    {
     "data": {
      "text/html": [
       "<div>\n",
       "<table border=\"1\" class=\"dataframe\">\n",
       "  <thead>\n",
       "    <tr style=\"text-align: right;\">\n",
       "      <th></th>\n",
       "      <th>Y</th>\n",
       "      <th>Weight</th>\n",
       "      <th>Age</th>\n",
       "    </tr>\n",
       "  </thead>\n",
       "  <tbody>\n",
       "    <tr>\n",
       "      <th>0</th>\n",
       "      <td>2.46</td>\n",
       "      <td>16.6</td>\n",
       "      <td>7</td>\n",
       "    </tr>\n",
       "    <tr>\n",
       "      <th>1</th>\n",
       "      <td>3.02</td>\n",
       "      <td>21.4</td>\n",
       "      <td>7</td>\n",
       "    </tr>\n",
       "    <tr>\n",
       "      <th>2</th>\n",
       "      <td>2.91</td>\n",
       "      <td>24.0</td>\n",
       "      <td>7</td>\n",
       "    </tr>\n",
       "    <tr>\n",
       "      <th>3</th>\n",
       "      <td>3.05</td>\n",
       "      <td>13.0</td>\n",
       "      <td>7</td>\n",
       "    </tr>\n",
       "    <tr>\n",
       "      <th>4</th>\n",
       "      <td>2.60</td>\n",
       "      <td>21.9</td>\n",
       "      <td>7</td>\n",
       "    </tr>\n",
       "  </tbody>\n",
       "</table>\n",
       "</div>"
      ],
      "text/plain": [
       "      Y  Weight  Age\n",
       "0  2.46    16.6    7\n",
       "1  3.02    21.4    7\n",
       "2  2.91    24.0    7\n",
       "3  3.05    13.0    7\n",
       "4  2.60    21.9    7"
      ]
     },
     "execution_count": 37,
     "metadata": {},
     "output_type": "execute_result"
    }
   ],
   "source": [
    "df_4 = pd.read_csv('input/data-50m.txt')\n",
    "df_4.head()"
   ]
  },
  {
   "cell_type": "markdown",
   "metadata": {},
   "source": [
    "年齢を考慮しないと、WeightとYには正の相関がある。"
   ]
  },
  {
   "cell_type": "code",
   "execution_count": 38,
   "metadata": {
    "collapsed": false
   },
   "outputs": [
    {
     "data": {
      "text/plain": [
       "[<matplotlib.lines.Line2D at 0x11cd73780>]"
      ]
     },
     "execution_count": 38,
     "metadata": {},
     "output_type": "execute_result"
    },
    {
     "data": {
      "image/png": "[encoded data removed]",
      "text/plain": [
       "<matplotlib.figure.Figure at 0x11e1d3978>"
      ]
     },
     "metadata": {},
     "output_type": "display_data"
    }
   ],
   "source": [
    "plt.plot(df_4['Weight'], df_4['Y'], \"o\")"
   ]
  },
  {
   "cell_type": "markdown",
   "metadata": {},
   "source": [
    "Ageで層別すると、WeightとYには負の相関。"
   ]
  },
  {
   "cell_type": "code",
   "execution_count": 39,
   "metadata": {
    "collapsed": false
   },
   "outputs": [
    {
     "data": {
      "image/png": "[encoded data removed]",
      "text/plain": [
       "<matplotlib.figure.Figure at 0x11cf752e8>"
      ]
     },
     "metadata": {},
     "output_type": "display_data"
    }
   ],
   "source": [
    "clrs = ['b', 'g', 'r', 'c', 'm', 'y']\n",
    "syms = ['bp', 'go', 'r^', 'cs', 'mD', 'yv']\n",
    "for x in range(7, 13):\n",
    "    df = df_4[df_4['Age'] == x]\n",
    "    plt.plot(df['Weight'], df['Y'], syms[x-7])\n",
    "plt.show()"
   ]
  },
  {
   "cell_type": "code",
   "execution_count": 40,
   "metadata": {
    "collapsed": false
   },
   "outputs": [],
   "source": [
    "data_4 = df_4.to_dict('list')\n",
    "data_4['N'] = len(df_4)\n",
    "data_4['Weight_new'] = np.linspace(10, 50, 40)\n",
    "data_4['N_new'] = len(data_4['Weight_new'])"
   ]
  },
  {
   "cell_type": "code",
   "execution_count": 41,
   "metadata": {
    "collapsed": true
   },
   "outputs": [],
   "source": [
    "model_4 = \"\"\"\n",
    "data {\n",
    "  int N;\n",
    "  real Weight[N];\n",
    "  real Y[N];\n",
    "  int Age[N];\n",
    "  int N_new;\n",
    "  real Weight_new[N_new];\n",
    "}\n",
    "\n",
    "parameters {\n",
    "  real c1;\n",
    "  real c2;\n",
    "  real<lower=0> sigma_W;\n",
    "  real b1;\n",
    "  real b2;\n",
    "  real b3;\n",
    "  real<lower=0> sigma_Y;\n",
    "}\n",
    "\n",
    "transformed parameters {\n",
    "  real mu_Weight[N];\n",
    "  real mu_Y[N];\n",
    "  for (n in 1:N) {\n",
    "    mu_Weight[n] = c1 + c2*Age[n];\n",
    "    mu_Y[n] = b1 + b2*Age[n] + b3*Weight[n];\n",
    "  }\n",
    "}\n",
    "\n",
    "model {\n",
    "  for (n in 1:N) {\n",
    "    Weight[n] ~ normal(mu_Weight[n], sigma_W);\n",
    "    Y[n] ~ normal(mu_Y[n], sigma_Y);\n",
    "  }\n",
    "}\n",
    "\n",
    "generated quantities {\n",
    "  real y7_new[N_new];\n",
    "  real y8_new[N_new];\n",
    "  real y9_new[N_new];\n",
    "  real y10_new[N_new];\n",
    "  real y11_new[N_new];\n",
    "  real y12_new[N_new];\n",
    "  for (n in 1:N_new) {\n",
    "    y7_new[n] = normal_rng(b1+b2*7+b3*Weight_new[n], sigma_Y);\n",
    "    y8_new[n] = normal_rng(b1+b2*8+b3*Weight_new[n], sigma_Y);\n",
    "    y9_new[n] = normal_rng(b1+b2*9+b3*Weight_new[n], sigma_Y);\n",
    "    y10_new[n] = normal_rng(b1+b2*10+b3*Weight_new[n], sigma_Y);\n",
    "    y11_new[n] = normal_rng(b1+b2*11+b3*Weight_new[n], sigma_Y);\n",
    "    y12_new[n] = normal_rng(b1+b2*12+b3*Weight_new[n], sigma_Y);\n",
    "  }\n",
    "}\n",
    "\"\"\""
   ]
  },
  {
   "cell_type": "code",
   "execution_count": 42,
   "metadata": {
    "collapsed": false
   },
   "outputs": [
    {
     "name": "stderr",
     "output_type": "stream",
     "text": [
      "INFO:pystan:COMPILING THE C++ CODE FOR MODEL anon_model_5c7ad1414e2e98f8456729f2f6594b40 NOW.\n"
     ]
    }
   ],
   "source": [
    "fit_4 = pystan.stan(model_code=model_4, data=data_4, iter=1000, chains=4)"
   ]
  },
  {
   "cell_type": "code",
   "execution_count": 43,
   "metadata": {
    "collapsed": false
   },
   "outputs": [
    {
     "name": "stdout",
     "output_type": "stream",
     "text": [
      "Inference for Stan model: anon_model_5c7ad1414e2e98f8456729f2f6594b40.\n",
      "4 chains, each with iter=1000; warmup=500; thin=1; \n",
      "post-warmup draws per chain=500, total post-warmup draws=2000.\n",
      "\n",
      "                mean se_mean     sd   2.5%    25%    50%    75%  97.5%  n_eff   Rhat\n",
      "c1             -8.49    0.07   2.44  -13.5 -10.04   -8.5  -6.88  -3.66   1090    1.0\n",
      "c2              3.94  7.6e-3   0.25   3.44   3.77   3.94   4.11   4.46   1117    1.0\n",
      "sigma_W         3.32  7.6e-3   0.31   2.79    3.1    3.3   3.51    4.0   1682    1.0\n",
      "b1             -0.71  5.8e-3   0.21  -1.12  -0.85  -0.72  -0.57  -0.29   1309    1.0\n",
      "b2              0.59  1.4e-3   0.04    0.5   0.56   0.59   0.62   0.67   1076    1.0\n",
      "b3             -0.03  2.9e-4   0.01  -0.06  -0.04  -0.03  -0.03  -0.01   1262    1.0\n",
      "sigma_Y         0.27  6.4e-4   0.03   0.23   0.25   0.27   0.29   0.33   1546    1.0\n",
      "mu_Weight[0]   19.11    0.02   0.76  17.61  18.61  19.07  19.59  20.68   1206    1.0\n",
      "mu_Weight[1]   19.11    0.02   0.76  17.61  18.61  19.07  19.59  20.68   1206    1.0\n",
      "mu_Weight[2]   19.11    0.02   0.76  17.61  18.61  19.07  19.59  20.68   1206    1.0\n",
      "mu_Weight[3]   19.11    0.02   0.76  17.61  18.61  19.07  19.59  20.68   1206    1.0\n",
      "mu_Weight[4]   19.11    0.02   0.76  17.61  18.61  19.07  19.59  20.68   1206    1.0\n",
      "mu_Weight[5]   19.11    0.02   0.76  17.61  18.61  19.07  19.59  20.68   1206    1.0\n",
      "mu_Weight[6]   19.11    0.02   0.76  17.61  18.61  19.07  19.59  20.68   1206    1.0\n",
      "mu_Weight[7]   19.11    0.02   0.76  17.61  18.61  19.07  19.59  20.68   1206    1.0\n",
      "mu_Weight[8]   19.11    0.02   0.76  17.61  18.61  19.07  19.59  20.68   1206    1.0\n",
      "mu_Weight[9]   23.05    0.02   0.56  21.95  22.68  23.03  23.42  24.17   1368    1.0\n",
      "mu_Weight[10]  23.05    0.02   0.56  21.95  22.68  23.03  23.42  24.17   1368    1.0\n",
      "mu_Weight[11]  23.05    0.02   0.56  21.95  22.68  23.03  23.42  24.17   1368    1.0\n",
      "mu_Weight[12]  23.05    0.02   0.56  21.95  22.68  23.03  23.42  24.17   1368    1.0\n",
      "mu_Weight[13]  23.05    0.02   0.56  21.95  22.68  23.03  23.42  24.17   1368    1.0\n",
      "mu_Weight[14]  23.05    0.02   0.56  21.95  22.68  23.03  23.42  24.17   1368    1.0\n",
      "mu_Weight[15]  23.05    0.02   0.56  21.95  22.68  23.03  23.42  24.17   1368    1.0\n",
      "mu_Weight[16]  23.05    0.02   0.56  21.95  22.68  23.03  23.42  24.17   1368    1.0\n",
      "mu_Weight[17]  23.05    0.02   0.56  21.95  22.68  23.03  23.42  24.17   1368    1.0\n",
      "mu_Weight[18]  23.05    0.02   0.56  21.95  22.68  23.03  23.42  24.17   1368    1.0\n",
      "mu_Weight[19]  23.05    0.02   0.56  21.95  22.68  23.03  23.42  24.17   1368    1.0\n",
      "mu_Weight[20]  23.05    0.02   0.56  21.95  22.68  23.03  23.42  24.17   1368    1.0\n",
      "mu_Weight[21]  26.99    0.01   0.44  26.15  26.69  26.98   27.3  27.85   1878    1.0\n",
      "mu_Weight[22]  26.99    0.01   0.44  26.15  26.69  26.98   27.3  27.85   1878    1.0\n",
      "mu_Weight[23]  26.99    0.01   0.44  26.15  26.69  26.98   27.3  27.85   1878    1.0\n",
      "mu_Weight[24]  26.99    0.01   0.44  26.15  26.69  26.98   27.3  27.85   1878    1.0\n",
      "mu_Weight[25]  26.99    0.01   0.44  26.15  26.69  26.98   27.3  27.85   1878    1.0\n",
      "mu_Weight[26]  26.99    0.01   0.44  26.15  26.69  26.98   27.3  27.85   1878    1.0\n",
      "mu_Weight[27]  26.99    0.01   0.44  26.15  26.69  26.98   27.3  27.85   1878    1.0\n",
      "mu_Weight[28]  26.99    0.01   0.44  26.15  26.69  26.98   27.3  27.85   1878    1.0\n",
      "mu_Weight[29]  26.99    0.01   0.44  26.15  26.69  26.98   27.3  27.85   1878    1.0\n",
      "mu_Weight[30]  26.99    0.01   0.44  26.15  26.69  26.98   27.3  27.85   1878    1.0\n",
      "mu_Weight[31]  30.93  9.8e-3   0.44  30.06  30.63  30.93  31.22   31.8   1977    1.0\n",
      "mu_Weight[32]  30.93  9.8e-3   0.44  30.06  30.63  30.93  31.22   31.8   1977    1.0\n",
      "mu_Weight[33]  30.93  9.8e-3   0.44  30.06  30.63  30.93  31.22   31.8   1977    1.0\n",
      "mu_Weight[34]  30.93  9.8e-3   0.44  30.06  30.63  30.93  31.22   31.8   1977    1.0\n",
      "mu_Weight[35]  30.93  9.8e-3   0.44  30.06  30.63  30.93  31.22   31.8   1977    1.0\n",
      "mu_Weight[36]  30.93  9.8e-3   0.44  30.06  30.63  30.93  31.22   31.8   1977    1.0\n",
      "mu_Weight[37]  30.93  9.8e-3   0.44  30.06  30.63  30.93  31.22   31.8   1977    1.0\n",
      "mu_Weight[38]  30.93  9.8e-3   0.44  30.06  30.63  30.93  31.22   31.8   1977    1.0\n",
      "mu_Weight[39]  30.93  9.8e-3   0.44  30.06  30.63  30.93  31.22   31.8   1977    1.0\n",
      "mu_Weight[40]  30.93  9.8e-3   0.44  30.06  30.63  30.93  31.22   31.8   1977    1.0\n",
      "mu_Weight[41]  30.93  9.8e-3   0.44  30.06  30.63  30.93  31.22   31.8   1977    1.0\n",
      "mu_Weight[42]  30.93  9.8e-3   0.44  30.06  30.63  30.93  31.22   31.8   1977    1.0\n",
      "mu_Weight[43]  30.93  9.8e-3   0.44  30.06  30.63  30.93  31.22   31.8   1977    1.0\n",
      "mu_Weight[44]  30.93  9.8e-3   0.44  30.06  30.63  30.93  31.22   31.8   1977    1.0\n",
      "mu_Weight[45]  30.93  9.8e-3   0.44  30.06  30.63  30.93  31.22   31.8   1977    1.0\n",
      "mu_Weight[46]  34.88    0.01   0.56  33.79  34.49  34.88  35.23  36.03   1603    1.0\n",
      "mu_Weight[47]  34.88    0.01   0.56  33.79  34.49  34.88  35.23  36.03   1603    1.0\n",
      "mu_Weight[48]  34.88    0.01   0.56  33.79  34.49  34.88  35.23  36.03   1603    1.0\n",
      "mu_Weight[49]  34.88    0.01   0.56  33.79  34.49  34.88  35.23  36.03   1603    1.0\n",
      "mu_Weight[50]  34.88    0.01   0.56  33.79  34.49  34.88  35.23  36.03   1603    1.0\n",
      "mu_Weight[51]  34.88    0.01   0.56  33.79  34.49  34.88  35.23  36.03   1603    1.0\n",
      "mu_Weight[52]  34.88    0.01   0.56  33.79  34.49  34.88  35.23  36.03   1603    1.0\n",
      "mu_Weight[53]  34.88    0.01   0.56  33.79  34.49  34.88  35.23  36.03   1603    1.0\n",
      "mu_Weight[54]  34.88    0.01   0.56  33.79  34.49  34.88  35.23  36.03   1603    1.0\n",
      "mu_Weight[55]  34.88    0.01   0.56  33.79  34.49  34.88  35.23  36.03   1603    1.0\n",
      "mu_Weight[56]  34.88    0.01   0.56  33.79  34.49  34.88  35.23  36.03   1603    1.0\n",
      "mu_Weight[57]  34.88    0.01   0.56  33.79  34.49  34.88  35.23  36.03   1603    1.0\n",
      "mu_Weight[58]  38.82    0.02   0.76  37.37   38.3  38.82   39.3  40.39   1370    1.0\n",
      "mu_Weight[59]  38.82    0.02   0.76  37.37   38.3  38.82   39.3  40.39   1370    1.0\n",
      "mu_Weight[60]  38.82    0.02   0.76  37.37   38.3  38.82   39.3  40.39   1370    1.0\n",
      "mu_Weight[61]  38.82    0.02   0.76  37.37   38.3  38.82   39.3  40.39   1370    1.0\n",
      "mu_Weight[62]  38.82    0.02   0.76  37.37   38.3  38.82   39.3  40.39   1370    1.0\n",
      "mu_Weight[63]  38.82    0.02   0.76  37.37   38.3  38.82   39.3  40.39   1370    1.0\n",
      "mu_Weight[64]  38.82    0.02   0.76  37.37   38.3  38.82   39.3  40.39   1370    1.0\n",
      "mu_Weight[65]  38.82    0.02   0.76  37.37   38.3  38.82   39.3  40.39   1370    1.0\n",
      "mu_Y[0]         2.82  1.5e-3   0.07    2.7   2.78   2.82   2.87   2.96   2000    1.0\n",
      "mu_Y[1]         2.66  1.7e-3   0.06   2.53   2.62   2.66    2.7   2.79   1377    1.0\n",
      "mu_Y[2]         2.57  2.3e-3   0.08   2.42   2.51   2.57   2.62   2.73   1174    1.0\n",
      "mu_Y[3]         2.95  2.0e-3   0.09   2.78   2.89   2.95   3.01   3.13   2000    1.0\n",
      "mu_Y[4]         2.64  1.8e-3   0.07   2.51    2.6   2.64   2.68   2.78   1318    1.0\n",
      "mu_Y[5]         2.63  1.9e-3   0.07    2.5   2.59   2.63   2.67   2.77   1297    1.0\n",
      "mu_Y[6]         2.75  1.4e-3   0.06   2.63   2.71   2.75   2.79   2.87   2000    1.0\n",
      "mu_Y[7]         2.75  1.4e-3   0.06   2.63   2.71   2.75   2.79   2.87   2000    1.0\n",
      "mu_Y[8]         2.75  1.4e-3   0.06   2.63   2.71   2.75   2.79   2.87   2000    1.0\n",
      "mu_Y[9]         3.24  1.1e-3   0.05   3.15   3.21   3.24   3.27   3.34   2000    1.0\n",
      "mu_Y[10]         3.2  1.0e-3   0.04   3.11   3.17    3.2   3.23   3.29   2000    1.0\n",
      "mu_Y[11]        3.26  1.1e-3   0.05   3.16   3.22   3.26   3.29   3.36   2000    1.0\n",
      "mu_Y[12]        3.23  1.1e-3   0.05   3.14    3.2   3.23   3.26   3.33   2000    1.0\n",
      "mu_Y[13]        3.14  1.2e-3   0.05   3.05   3.11   3.14   3.17   3.24   1461    1.0\n",
      "mu_Y[14]        3.04  1.8e-3   0.06   2.92   2.99   3.03   3.08   3.16   1191    1.0\n",
      "mu_Y[15]        3.16  1.1e-3   0.05   3.07   3.13   3.16   3.19   3.25   1560    1.0\n",
      "mu_Y[16]         3.2  1.0e-3   0.05   3.11   3.17    3.2   3.23   3.29   2000    1.0\n",
      "mu_Y[17]        3.24  1.1e-3   0.05   3.15   3.21   3.24   3.28   3.34   2000    1.0\n",
      "mu_Y[18]        3.24  1.1e-3   0.05   3.14   3.21   3.24   3.27   3.34   2000    1.0\n",
      "mu_Y[19]        2.88  3.0e-3    0.1   2.69    2.8   2.88   2.94   3.09   1153    1.0\n",
      "mu_Y[20]        3.13  1.2e-3   0.05   3.04    3.1   3.13   3.16   3.23   1432    1.0\n",
      "mu_Y[21]        3.65  7.9e-4   0.04   3.59   3.63   3.65   3.68   3.73   2000    1.0\n",
      "mu_Y[22]        3.65  7.8e-4   0.03   3.58   3.62   3.65   3.67   3.72   2000    1.0\n",
      "mu_Y[23]        3.55  1.2e-3   0.04   3.46   3.52   3.55   3.57   3.64   1412    1.0\n",
      "mu_Y[24]        3.68  8.2e-4   0.04   3.61   3.65   3.68    3.7   3.75   2000    1.0\n",
      "mu_Y[25]        3.76  1.1e-3   0.05   3.66   3.73   3.76    3.8   3.86   2000    1.0\n",
      "mu_Y[26]        3.54  1.2e-3   0.05   3.45   3.51   3.54   3.57   3.63   1383    1.0\n",
      "mu_Y[27]        3.71  9.4e-4   0.04   3.63   3.69   3.71   3.74    3.8   2000    1.0\n",
      "mu_Y[28]         3.6  9.0e-4   0.04   3.53   3.58    3.6   3.62   3.67   1627    1.0\n",
      "mu_Y[29]         3.7  9.0e-4   0.04   3.63   3.68    3.7   3.73   3.78   2000    1.0\n",
      "mu_Y[30]        3.48  1.6e-3   0.06   3.37   3.44   3.48   3.52   3.59   1294    1.0\n",
      "mu_Y[31]        4.11  7.9e-4   0.04   4.04   4.08   4.11   4.13   4.18   2000    1.0\n",
      "mu_Y[32]        4.13  9.1e-4   0.04   4.06   4.11   4.14   4.16   4.21   1714    1.0\n",
      "mu_Y[33]        4.11  8.0e-4   0.04   4.04   4.09   4.11   4.13   4.18   2000    1.0\n",
      "mu_Y[34]        4.24  1.5e-3   0.06   4.13    4.2   4.24   4.27   4.35   1351    1.0\n",
      "mu_Y[35]        4.18  1.2e-3   0.05   4.09   4.15   4.18   4.21   4.27   1475    1.0\n",
      "mu_Y[36]         4.3  2.0e-3   0.07   4.16   4.25    4.3   4.35   4.44   1288    1.0\n",
      "mu_Y[37]         4.2  1.3e-3   0.05   4.11   4.17   4.21   4.24    4.3   1413    1.0\n",
      "mu_Y[38]        4.09  7.8e-4   0.03   4.02   4.06   4.09   4.11   4.16   2000    1.0\n",
      "mu_Y[39]        4.11  7.9e-4   0.04   4.04   4.08   4.11   4.13   4.18   2000    1.0\n",
      "mu_Y[40]        3.89  1.7e-3   0.07   3.76   3.85    3.9   3.94   4.03   1520    1.0\n",
      "mu_Y[41]        4.17  1.1e-3   0.04   4.09   4.14   4.17    4.2   4.26   1514    1.0\n",
      "mu_Y[42]        4.15  9.8e-4   0.04   4.07   4.12   4.15   4.17   4.23   1631    1.0\n",
      "mu_Y[43]        4.09  7.8e-4   0.03   4.02   4.06   4.09   4.11   4.16   2000    1.0\n",
      "mu_Y[44]        4.17  1.1e-3   0.04   4.08   4.14   4.17   4.19   4.25   1544    1.0\n",
      "mu_Y[45]        4.16  1.0e-3   0.04   4.08   4.13   4.16   4.19   4.24   1560    1.0\n",
      "mu_Y[46]        4.63  1.4e-3   0.05   4.53    4.6   4.63   4.67   4.74   1378    1.0\n",
      "mu_Y[47]        4.65  1.5e-3   0.06   4.54   4.61   4.65   4.69   4.76   1325    1.0\n",
      "mu_Y[48]        4.57  1.1e-3   0.05   4.47   4.54   4.57    4.6   4.66   1703    1.0\n",
      "mu_Y[49]        4.57  1.1e-3   0.05   4.47   4.54   4.57    4.6   4.66   1727    1.0\n",
      "mu_Y[50]        4.71  2.0e-3   0.07   4.57   4.66   4.71   4.76   4.84   1218    1.0\n",
      "mu_Y[51]        4.58  1.1e-3   0.05   4.48   4.54   4.58   4.61   4.67   1656    1.0\n",
      "mu_Y[52]        4.63  1.4e-3   0.05   4.53    4.6   4.63   4.67   4.74   1378    1.0\n",
      "mu_Y[53]        4.62  1.4e-3   0.05   4.52   4.59   4.62   4.65   4.72   1417    1.0\n",
      "mu_Y[54]        4.53  1.0e-3   0.05   4.44    4.5   4.53   4.56   4.62   2000    1.0\n",
      "mu_Y[55]        4.45  1.2e-3   0.05   4.34   4.41   4.45   4.48   4.55   2000    1.0\n",
      "mu_Y[56]        4.33  1.9e-3   0.08   4.16   4.27   4.33   4.38   4.47   1780    1.0\n",
      "mu_Y[57]         4.6  1.2e-3   0.05    4.5   4.57    4.6   4.63    4.7   1531    1.0\n",
      "mu_Y[58]        4.79  1.9e-3   0.09   4.61   4.73   4.79   4.84   4.95   2000    1.0\n",
      "mu_Y[59]        5.09  1.9e-3   0.07   4.96   5.05   5.09   5.14   5.23   1355    1.0\n",
      "mu_Y[60]        4.89  1.5e-3   0.07   4.75   4.85   4.89   4.94   5.03   2000    1.0\n",
      "mu_Y[61]        4.68  2.5e-3   0.11   4.45   4.61   4.68   4.75   4.89   2000    1.0\n",
      "mu_Y[62]        4.97  1.4e-3   0.06   4.85   4.93   4.97   5.01   5.09   2000    1.0\n",
      "mu_Y[63]        5.04  1.6e-3   0.06   4.91    5.0   5.04   5.08   5.16   1581    1.0\n",
      "mu_Y[64]        4.96  1.4e-3   0.06   4.84   4.93   4.97    5.0   5.09   2000    1.0\n",
      "mu_Y[65]        4.77  2.0e-3   0.09   4.58   4.71   4.77   4.83   4.94   2000    1.0\n",
      "y7_new[0]       3.05  6.4e-3   0.29   2.47   2.86   3.06   3.25    3.6   2000    1.0\n",
      "y7_new[1]       3.02  6.6e-3   0.29   2.43   2.83   3.02   3.22   3.62   2000    1.0\n",
      "y7_new[2]       2.98  6.4e-3   0.29   2.43   2.77   2.98   3.17   3.55   2000    1.0\n",
      "y7_new[3]       2.95  6.6e-3    0.3   2.38   2.75   2.94   3.15   3.52   2000    1.0\n",
      "y7_new[4]       2.92  6.3e-3   0.28   2.35   2.73   2.92   3.11   3.45   2000    1.0\n",
      "y7_new[5]       2.88  6.3e-3   0.28   2.31   2.68   2.87   3.06   3.45   2000    1.0\n",
      "y7_new[6]       2.84  6.2e-3   0.28   2.28   2.66   2.84   3.02   3.38   2000    1.0\n",
      "y7_new[7]        2.8  6.3e-3   0.28   2.26    2.6    2.8   2.98   3.35   2000    1.0\n",
      "y7_new[8]       2.77  6.2e-3   0.28   2.24   2.58   2.77   2.95   3.32   1994    1.0\n",
      "y7_new[9]       2.74  6.6e-3   0.27   2.18   2.55   2.73   2.93   3.26   1730    1.0\n",
      "y7_new[10]       2.7  6.4e-3   0.28   2.16   2.51    2.7   2.89   3.27   1961    1.0\n",
      "y7_new[11]      2.66  6.5e-3   0.28   2.11   2.47   2.66   2.85   3.22   1846    1.0\n",
      "y7_new[12]      2.63  6.3e-3   0.27   2.09   2.45   2.63   2.81   3.17   1879    1.0\n",
      "y7_new[13]       2.6  6.2e-3   0.28   2.05   2.43    2.6   2.78   3.15   2000    1.0\n",
      "y7_new[14]      2.56  6.5e-3   0.29   1.99   2.37   2.55   2.75   3.14   1970    1.0\n",
      "y7_new[15]      2.52  6.6e-3   0.28   1.99   2.34   2.53   2.71   3.07   1733    1.0\n",
      "y7_new[16]      2.49  7.1e-3   0.27   1.95   2.31   2.49   2.67   3.04   1506    1.0\n",
      "y7_new[17]      2.45  6.9e-3   0.29    1.9   2.26   2.45   2.65   3.03   1779    1.0\n",
      "y7_new[18]      2.41  7.0e-3   0.29   1.82   2.22   2.41   2.61   2.98   1753    1.0\n",
      "y7_new[19]      2.37  7.0e-3    0.3   1.77   2.17   2.37   2.58   2.95   1811    1.0\n",
      "y7_new[20]      2.34  7.4e-3    0.3   1.74   2.14   2.34   2.54   2.92   1672    1.0\n",
      "y7_new[21]       2.3  7.2e-3    0.3   1.71   2.12    2.3   2.49   2.92   1714    1.0\n",
      "y7_new[22]      2.26  7.4e-3   0.31   1.64   2.06   2.26   2.46   2.86   1703    1.0\n",
      "y7_new[23]      2.24  7.6e-3   0.31   1.63   2.05   2.24   2.44   2.85   1610    1.0\n",
      "y7_new[24]       2.2  7.6e-3   0.32   1.58   1.99    2.2   2.41   2.82   1775    1.0\n",
      "y7_new[25]      2.17  7.7e-3   0.32   1.54   1.95   2.16   2.39   2.81   1707    1.0\n",
      "y7_new[26]      2.13  8.5e-3   0.34   1.46    1.9   2.13   2.35   2.78   1597    1.0\n",
      "y7_new[27]      2.09  8.5e-3   0.34   1.43   1.86   2.07   2.31   2.77   1589    1.0\n",
      "y7_new[28]      2.05  8.8e-3   0.35   1.41   1.81   2.04   2.28   2.78   1563    1.0\n",
      "y7_new[29]      2.03  9.0e-3   0.34   1.35   1.79   2.03   2.25   2.72   1471    1.0\n",
      "y7_new[30]      1.98  8.5e-3   0.35   1.31   1.75   1.99   2.22   2.68   1658    1.0\n",
      "y7_new[31]      1.94  9.4e-3   0.37   1.21   1.71   1.94   2.19   2.71   1530    1.0\n",
      "y7_new[32]      1.92    0.01   0.37   1.17   1.67   1.92   2.18   2.64   1354    1.0\n",
      "y7_new[33]      1.88  9.6e-3   0.38   1.16   1.63   1.86   2.13   2.63   1535    1.0\n",
      "y7_new[34]      1.83    0.01   0.39   1.09   1.55   1.84   2.09   2.56   1377    1.0\n",
      "y7_new[35]       1.8    0.01    0.4   1.06   1.52    1.8   2.06   2.63   1464    1.0\n",
      "y7_new[36]      1.77    0.01    0.4   0.98    1.5   1.78   2.03   2.53   1545    1.0\n",
      "y7_new[37]      1.74    0.01   0.41   0.94   1.47   1.74   2.01   2.54   1348    1.0\n",
      "y7_new[38]       1.7    0.01   0.42    0.9   1.41   1.69   1.98    2.5   1513    1.0\n",
      "y7_new[39]      1.66    0.01   0.43   0.82   1.36   1.67   1.95   2.48   1463    1.0\n",
      "y8_new[0]       3.65  6.8e-3    0.3   3.07   3.44   3.64   3.84   4.25   2000    1.0\n",
      "y8_new[1]        3.6  7.2e-3    0.3   3.01    3.4    3.6    3.8   4.19   1763    1.0\n",
      "y8_new[2]       3.57  6.6e-3    0.3   2.97   3.36   3.56   3.76   4.15   2000    1.0\n",
      "y8_new[3]       3.54  6.8e-3   0.29   2.97   3.34   3.53   3.73   4.11   1818    1.0\n",
      "y8_new[4]        3.5  6.6e-3    0.3   2.95    3.3    3.5    3.7    4.1   2000    1.0\n",
      "y8_new[5]       3.47  6.5e-3   0.29   2.91   3.27   3.46   3.66   4.04   1955    1.0\n",
      "y8_new[6]       3.43  6.5e-3   0.29   2.84   3.24   3.44   3.62   4.02   2000    1.0\n",
      "y8_new[7]        3.4  6.2e-3   0.28   2.85   3.21   3.39   3.58   3.95   2000    1.0\n",
      "y8_new[8]       3.36  6.3e-3   0.28   2.79   3.17   3.35   3.55    3.9   2000    1.0\n",
      "y8_new[9]       3.31  6.4e-3   0.28   2.77   3.12   3.31    3.5   3.89   2000    1.0\n",
      "y8_new[10]      3.28  6.7e-3   0.27   2.74   3.11   3.28   3.47    3.8   1625    1.0\n",
      "y8_new[11]      3.25  6.2e-3   0.27   2.73   3.06   3.25   3.43   3.79   1896    1.0\n",
      "y8_new[12]      3.22  6.5e-3   0.28   2.66   3.03   3.21   3.41   3.74   1824    1.0\n",
      "y8_new[13]      3.17  6.2e-3   0.28   2.63   2.99   3.17   3.37   3.74   2000    1.0\n",
      "y8_new[14]      3.14  6.1e-3   0.27   2.62   2.95   3.14   3.32   3.68   2000    1.0\n",
      "y8_new[15]      3.11  6.3e-3   0.28    2.6   2.92    3.1    3.3   3.68   2000    1.0\n",
      "y8_new[16]      3.08  6.3e-3   0.27   2.55   2.89   3.08   3.27   3.61   1843    1.0\n",
      "y8_new[17]      3.04  6.2e-3   0.28   2.51   2.85   3.04   3.23   3.59   2000    1.0\n",
      "y8_new[18]      2.99  6.3e-3   0.28   2.43   2.82   2.99   3.18   3.56   2000    1.0\n",
      "y8_new[19]      2.97  6.4e-3   0.28   2.42   2.78   2.97   3.16    3.5   1875    1.0\n",
      "y8_new[20]      2.92  6.5e-3   0.28   2.36   2.74   2.93   3.11   3.48   1863    1.0\n",
      "y8_new[21]       2.9  7.0e-3   0.29   2.33   2.71   2.91    3.1   3.47   1732    1.0\n",
      "y8_new[22]      2.85  6.9e-3    0.3    2.3   2.65   2.85   3.04   3.45   1853    1.0\n",
      "y8_new[23]      2.82  6.8e-3    0.3   2.25   2.61   2.81   3.01   3.43   1947    1.0\n",
      "y8_new[24]      2.79  7.3e-3    0.3   2.21   2.58   2.79   2.98    3.4   1707    1.0\n",
      "y8_new[25]      2.75  7.7e-3   0.31   2.16   2.55   2.75   2.96   3.36   1595    1.0\n",
      "y8_new[26]      2.72  7.8e-3   0.32    2.1   2.51   2.72   2.94   3.33   1618    1.0\n",
      "y8_new[27]      2.69  7.9e-3   0.32   2.08   2.48    2.7    2.9   3.33   1613    1.0\n",
      "y8_new[28]      2.64  7.6e-3   0.32   2.02   2.43   2.64   2.87   3.27   1771    1.0\n",
      "y8_new[29]      2.61  8.1e-3   0.33   1.96   2.39    2.6   2.83   3.25   1642    1.0\n",
      "y8_new[30]      2.56  8.0e-3   0.31   1.96   2.34   2.57   2.77   3.18   1554    1.0\n",
      "y8_new[31]      2.54  8.5e-3   0.34   1.89   2.31   2.54   2.76   3.24   1600   1.01\n",
      "y8_new[32]       2.5  8.3e-3   0.35   1.82   2.27    2.5   2.74   3.18   1722    1.0\n",
      "y8_new[33]      2.46  9.2e-3   0.35   1.78   2.22   2.46    2.7   3.15   1467    1.0\n",
      "y8_new[34]      2.43  8.8e-3   0.36   1.68   2.19   2.41   2.66   3.15   1692    1.0\n",
      "y8_new[35]      2.39  9.6e-3   0.36   1.71   2.15   2.39   2.65   3.09   1394    1.0\n",
      "y8_new[36]      2.35  9.3e-3   0.36   1.64    2.1   2.34    2.6   3.04   1525    1.0\n",
      "y8_new[37]      2.33  9.7e-3   0.37    1.6   2.08   2.33   2.57   3.05   1476   1.01\n",
      "y8_new[38]      2.28  9.9e-3   0.39   1.55   2.02   2.28   2.54   3.06   1533    1.0\n",
      "y8_new[39]      2.24  9.8e-3   0.39   1.52   1.97   2.23   2.51   3.03   1581    1.0\n",
      "y9_new[0]       4.23  8.1e-3   0.33   3.58    4.0   4.23   4.44   4.87   1651    1.0\n",
      "y9_new[1]       4.19  7.8e-3   0.33   3.54   3.97   4.19   4.41   4.81   1752    1.0\n",
      "y9_new[2]       4.16  7.6e-3   0.32   3.56   3.94   4.16   4.37   4.85   1737    1.0\n",
      "y9_new[3]       4.12  7.7e-3   0.31   3.48   3.93   4.12   4.34   4.74   1637    1.0\n",
      "y9_new[4]       4.09  6.9e-3   0.31   3.49   3.88   4.08    4.3    4.7   2000    1.0\n",
      "y9_new[5]       4.06  7.5e-3    0.3   3.46   3.86   4.06   4.26   4.66   1608    1.0\n",
      "y9_new[6]       4.01  6.9e-3   0.29   3.43   3.82    4.0    4.2   4.59   1751    1.0\n",
      "y9_new[7]       3.98  6.6e-3   0.29   3.42   3.79   3.98   4.18   4.54   1964    1.0\n",
      "y9_new[8]       3.96  6.5e-3   0.29   3.39   3.76   3.96   4.14   4.51   2000    1.0\n",
      "y9_new[9]       3.91  6.4e-3   0.28   3.33   3.73   3.91   4.09   4.46   1907    1.0\n",
      "y9_new[10]      3.87  6.9e-3   0.29   3.31   3.68   3.88   4.06   4.45   1706    1.0\n",
      "y9_new[11]      3.84  6.2e-3   0.28   3.28   3.66   3.84   4.03   4.39   2000    1.0\n",
      "y9_new[12]       3.8  6.2e-3   0.28   3.26   3.62    3.8   3.99   4.35   2000    1.0\n",
      "y9_new[13]      3.77  6.2e-3   0.28   3.22   3.59   3.77   3.96   4.31   2000    1.0\n",
      "y9_new[14]      3.73  6.3e-3   0.28   3.19   3.54   3.74   3.94   4.28   2000    1.0\n",
      "y9_new[15]      3.69  6.2e-3   0.28   3.12   3.51   3.68   3.87   4.24   1975    1.0\n",
      "y9_new[16]      3.65  6.3e-3   0.28    3.1   3.47   3.65   3.84    4.2   1970    1.0\n",
      "y9_new[17]      3.62  6.4e-3   0.28   3.06   3.44   3.63   3.81   4.18   1876    1.0\n",
      "y9_new[18]      3.59  6.3e-3   0.28   3.07    3.4   3.58   3.77   4.15   1914    1.0\n",
      "y9_new[19]      3.55  6.4e-3   0.28   3.02   3.37   3.55   3.74    4.1   1872    1.0\n",
      "y9_new[20]      3.53  6.2e-3   0.28   3.01   3.33   3.52   3.71   4.08   2000    1.0\n",
      "y9_new[21]      3.48  6.5e-3   0.28   2.94    3.3   3.47   3.67   4.03   1852    1.0\n",
      "y9_new[22]      3.45  6.2e-3   0.28   2.91   3.27   3.44   3.63   3.99   2000    1.0\n",
      "y9_new[23]      3.41  6.5e-3   0.28   2.85   3.23   3.42   3.61   3.93   1875    1.0\n",
      "y9_new[24]      3.37  6.8e-3   0.29    2.8   3.17   3.37   3.55   3.94   1836    1.0\n",
      "y9_new[25]      3.34  6.7e-3   0.29   2.74   3.15   3.34   3.52   3.92   1860    1.0\n",
      "y9_new[26]       3.3  6.9e-3    0.3   2.73    3.1   3.31   3.49   3.91   1877    1.0\n",
      "y9_new[27]      3.25  7.2e-3   0.29   2.65   3.06   3.26   3.45   3.83   1662    1.0\n",
      "y9_new[28]      3.23  6.7e-3    0.3   2.63   3.03   3.23   3.43   3.82   2000    1.0\n",
      "y9_new[29]      3.19  7.2e-3    0.3   2.61   2.98   3.18   3.39   3.78   1714    1.0\n",
      "y9_new[30]      3.15  7.2e-3   0.31   2.54   2.96   3.15   3.36   3.77   1785    1.0\n",
      "y9_new[31]      3.12  7.1e-3   0.31   2.52   2.91   3.12   3.33   3.71   1894    1.0\n",
      "y9_new[32]      3.09  7.7e-3   0.31   2.48   2.86   3.08    3.3   3.71   1668    1.0\n",
      "y9_new[33]      3.06  8.6e-3   0.33   2.41   2.83   3.05   3.28   3.71   1464    1.0\n",
      "y9_new[34]      3.02  8.7e-3   0.33   2.38   2.79   3.02   3.23   3.73   1468    1.0\n",
      "y9_new[35]      2.98  8.2e-3   0.34   2.32   2.76   2.98   3.21   3.66   1675    1.0\n",
      "y9_new[36]      2.94  8.3e-3   0.34   2.26   2.72   2.94   3.16   3.62   1619    1.0\n",
      "y9_new[37]       2.9  8.7e-3   0.35   2.22   2.66   2.89   3.12   3.62   1679    1.0\n",
      "y9_new[38]      2.88  9.4e-3   0.36    2.2   2.63   2.87   3.13   3.61   1458    1.0\n",
      "y9_new[39]      2.83  8.8e-3   0.36   2.17   2.59   2.82   3.08   3.55   1659    1.0\n",
      "y10_new[0]      4.82  8.7e-3   0.35   4.14   4.59   4.81   5.05    5.5   1579    1.0\n",
      "y10_new[1]      4.78  8.7e-3   0.34   4.12   4.56   4.78   5.02   5.45   1557    1.0\n",
      "y10_new[2]      4.76  8.2e-3   0.34   4.08   4.54   4.77   4.98   5.42   1689    1.0\n",
      "y10_new[3]      4.71  8.1e-3   0.32   4.08    4.5   4.72   4.93   5.34   1591    1.0\n",
      "y10_new[4]      4.67  8.6e-3   0.33   4.04   4.46   4.68    4.9   5.32   1458    1.0\n",
      "y10_new[5]      4.63  7.8e-3   0.32   3.99   4.42   4.64   4.86   5.25   1692    1.0\n",
      "y10_new[6]       4.6  7.5e-3   0.32    4.0   4.38    4.6   4.82   5.23   1822    1.0\n",
      "y10_new[7]      4.57  7.2e-3   0.31   3.95   4.37   4.56   4.78   5.15   1795    1.0\n",
      "y10_new[8]      4.53  7.4e-3    0.3   3.92   4.34   4.54   4.73   5.13   1661    1.0\n",
      "y10_new[9]      4.49  7.3e-3    0.3    3.9   4.29    4.5    4.7   5.09   1697    1.0\n",
      "y10_new[10]     4.46  7.3e-3    0.3   3.86   4.27   4.47   4.66   5.06   1658    1.0\n",
      "y10_new[11]     4.43  7.1e-3   0.29   3.83   4.23   4.42   4.62   5.01   1727    1.0\n",
      "y10_new[12]      4.4  6.8e-3   0.29   3.84   4.19    4.4   4.59   4.96   1878    1.0\n",
      "y10_new[13]     4.36  6.4e-3   0.29    3.8   4.17   4.36   4.55   4.92   2000    1.0\n",
      "y10_new[14]     4.32  6.6e-3   0.28   3.75   4.13   4.32   4.51   4.88   1814    1.0\n",
      "y10_new[15]     4.27  6.1e-3   0.27   3.74   4.09   4.28   4.45   4.83   2000    1.0\n",
      "y10_new[16]     4.24  6.8e-3   0.29   3.68   4.05   4.24   4.42   4.82   1838    1.0\n",
      "y10_new[17]     4.21  6.6e-3   0.29   3.64   4.01    4.2   4.41   4.79   1949    1.0\n",
      "y10_new[18]     4.17  6.3e-3   0.28   3.62   3.99   4.17   4.36   4.71   2000    1.0\n",
      "y10_new[19]     4.14  6.3e-3   0.28   3.57   3.96   4.14   4.33   4.65   1936    1.0\n",
      "y10_new[20]      4.1  6.4e-3   0.28   3.55   3.91   4.11   4.29   4.64   1892    1.0\n",
      "y10_new[21]     4.08  6.1e-3   0.27   3.54    3.9   4.08   4.27   4.61   2000    1.0\n",
      "y10_new[22]     4.03  6.2e-3   0.28   3.49   3.84   4.03   4.21   4.54   2000    1.0\n",
      "y10_new[23]      4.0  6.3e-3   0.28   3.44   3.81   4.01   4.19   4.53   1959    1.0\n",
      "y10_new[24]     3.96  6.2e-3   0.28   3.43   3.77   3.96   4.15   4.51   2000    1.0\n",
      "y10_new[25]     3.94  6.6e-3   0.28   3.37   3.76   3.94   4.12   4.47   1748    1.0\n",
      "y10_new[26]     3.89  6.4e-3   0.29   3.33   3.69   3.89   4.08   4.45   2000    1.0\n",
      "y10_new[27]     3.85  6.3e-3   0.28   3.31   3.66   3.86   4.04   4.43   2000    1.0\n",
      "y10_new[28]     3.82  6.4e-3   0.28   3.27   3.63   3.83    4.0   4.38   1934    1.0\n",
      "y10_new[29]     3.78  6.5e-3   0.29   3.22    3.6   3.77   3.97   4.36   1936    1.0\n",
      "y10_new[30]     3.75  6.7e-3    0.3   3.11   3.56   3.75   3.94   4.33   1987    1.0\n",
      "y10_new[31]     3.71  6.7e-3   0.29   3.13   3.52   3.71   3.91   4.27   1930    1.0\n",
      "y10_new[32]     3.68  7.4e-3   0.31    3.1   3.48   3.68   3.88   4.31   1740    1.0\n",
      "y10_new[33]     3.64  7.1e-3   0.31   3.03   3.44   3.63   3.84   4.27   1904    1.0\n",
      "y10_new[34]     3.61  6.9e-3   0.31   2.99    3.4   3.61   3.82    4.2   1968    1.0\n",
      "y10_new[35]     3.56  7.6e-3   0.32   2.92   3.36   3.56   3.76   4.19   1762    1.0\n",
      "y10_new[36]     3.52  7.8e-3   0.32    2.9    3.3   3.52   3.73   4.15   1683    1.0\n",
      "y10_new[37]     3.49  7.5e-3   0.33   2.84   3.28   3.49    3.7   4.13   1918    1.0\n",
      "y10_new[38]     3.46  8.0e-3   0.33   2.82   3.23   3.45   3.67   4.11   1707    1.0\n",
      "y10_new[39]     3.42  8.0e-3   0.33   2.75   3.19   3.42   3.64   4.08   1723    1.0\n",
      "y11_new[0]       5.4  9.8e-3   0.38   4.65   5.15   5.41   5.65   6.18   1523    1.0\n",
      "y11_new[1]      5.36  9.4e-3   0.37   4.67   5.11   5.36   5.63    6.1   1525    1.0\n",
      "y11_new[2]      5.33  9.2e-3   0.37   4.62   5.08   5.32   5.56   6.08   1582    1.0\n",
      "y11_new[3]       5.3  9.0e-3   0.35   4.58   5.06    5.3   5.54   5.97   1568    1.0\n",
      "y11_new[4]      5.25  8.8e-3   0.35   4.56   5.02   5.26   5.48   5.95   1574    1.0\n",
      "y11_new[5]      5.24  9.0e-3   0.36   4.56    5.0   5.23   5.46   5.99   1549    1.0\n",
      "y11_new[6]      5.19  8.4e-3   0.33   4.56   4.98   5.19   5.41   5.83   1536    1.0\n",
      "y11_new[7]      5.16  8.4e-3   0.33   4.49   4.95   5.17   5.38   5.82   1547    1.0\n",
      "y11_new[8]      5.11  8.0e-3   0.33   4.48   4.89   5.09   5.33   5.76   1685    1.0\n",
      "y11_new[9]      5.08  7.7e-3   0.32   4.46   4.86   5.08    5.3    5.7   1713    1.0\n",
      "y11_new[10]     5.05  7.5e-3   0.31   4.42   4.84   5.05   5.26   5.65   1736    1.0\n",
      "y11_new[11]     5.01  7.7e-3   0.31   4.39    4.8   5.02   5.22   5.61   1634    1.0\n",
      "y11_new[12]     4.98  7.6e-3   0.31   4.37   4.77   4.98   5.18   5.59   1642    1.0\n",
      "y11_new[13]     4.94  7.2e-3    0.3   4.35   4.74   4.95   5.14   5.52   1735    1.0\n",
      "y11_new[14]     4.91  7.2e-3    0.3   4.33   4.71   4.91    5.1   5.51   1707    1.0\n",
      "y11_new[15]     4.87  6.8e-3   0.28   4.31   4.67   4.86   5.06   5.42   1759    1.0\n",
      "y11_new[16]     4.84  6.5e-3   0.29   4.29   4.63   4.84   5.03   5.41   2000    1.0\n",
      "y11_new[17]     4.79  7.0e-3   0.29   4.24    4.6    4.8   4.98   5.35   1679    1.0\n",
      "y11_new[18]     4.76  6.5e-3   0.28   4.22   4.57   4.76   4.94   5.28   1863    1.0\n",
      "y11_new[19]     4.72  6.2e-3   0.28   4.17   4.54   4.73   4.91   5.25   2000    1.0\n",
      "y11_new[20]     4.69  6.6e-3   0.29   4.07   4.52   4.69   4.89   5.23   1912    1.0\n",
      "y11_new[21]     4.65  6.1e-3   0.27    4.1   4.46   4.64   4.84   5.18   2000    1.0\n",
      "y11_new[22]     4.61  6.1e-3   0.27   4.07   4.42   4.61   4.81   5.13   2000    1.0\n",
      "y11_new[23]     4.59  6.2e-3   0.28   4.04    4.4   4.59   4.78   5.14   2000    1.0\n",
      "y11_new[24]     4.55  6.2e-3   0.28    4.0   4.37   4.56   4.74   5.09   2000    1.0\n",
      "y11_new[25]     4.51  6.3e-3   0.28   3.95   4.33   4.51    4.7   5.04   1962    1.0\n",
      "y11_new[26]     4.48  6.1e-3   0.27   3.94    4.3   4.48   4.67   5.02   2000    1.0\n",
      "y11_new[27]     4.44  6.2e-3   0.28   3.89   4.26   4.44   4.63   5.02   1993    1.0\n",
      "y11_new[28]      4.4  6.5e-3   0.28   3.84   4.23   4.41   4.59   4.94   1812    1.0\n",
      "y11_new[29]     4.38  6.7e-3   0.29   3.81   4.19   4.37   4.57   4.92   1796    1.0\n",
      "y11_new[30]     4.34  6.5e-3   0.28   3.77   4.15   4.34   4.53   4.89   1880    1.0\n",
      "y11_new[31]     4.29  6.4e-3   0.28   3.74   4.11   4.28   4.49   4.85   1928    1.0\n",
      "y11_new[32]     4.27  6.6e-3   0.29   3.69   4.08   4.28   4.46   4.85   1952    1.0\n",
      "y11_new[33]     4.23  6.6e-3   0.29   3.67   4.03   4.23   4.42   4.81   2000    1.0\n",
      "y11_new[34]     4.18  6.8e-3    0.3    3.6   3.99   4.19   4.39   4.77   1914    1.0\n",
      "y11_new[35]     4.14  6.8e-3    0.3   3.55   3.96   4.16   4.34   4.72   1871    1.0\n",
      "y11_new[36]     4.12  7.0e-3    0.3   3.51   3.91   4.11   4.33   4.69   1863    1.0\n",
      "y11_new[37]     4.08  7.2e-3    0.3   3.49   3.89   4.08   4.28   4.71   1799    1.0\n",
      "y11_new[38]     4.05  7.8e-3   0.32    3.4   3.85   4.05   4.26   4.64   1661    1.0\n",
      "y11_new[39]     4.02  7.9e-3   0.33   3.34    3.8   4.02   4.24   4.68   1774    1.0\n",
      "y12_new[0]       6.0    0.01   0.42    5.2   5.73    6.0   6.28    6.8   1358    1.0\n",
      "y12_new[1]      5.95    0.01    0.4   5.17   5.69   5.95   6.22   6.71   1436    1.0\n",
      "y12_new[2]      5.92    0.01   0.39   5.18   5.65   5.93   6.17   6.68   1479    1.0\n",
      "y12_new[3]      5.88 10.0e-3   0.38   5.12   5.62   5.88   6.14   6.65   1473    1.0\n",
      "y12_new[4]      5.87  9.7e-3   0.38   5.12   5.61   5.87   6.12   6.61   1575    1.0\n",
      "y12_new[5]      5.81  9.8e-3   0.36   5.08   5.57   5.82   6.06   6.53   1364    1.0\n",
      "y12_new[6]      5.78  9.6e-3   0.37   5.05   5.55   5.78   6.02   6.54   1476    1.0\n",
      "y12_new[7]      5.74  8.8e-3   0.36   5.05   5.49   5.74   5.99   6.43   1632    1.0\n",
      "y12_new[8]       5.7  9.0e-3   0.35   4.97   5.46    5.7   5.93   6.37   1525    1.0\n",
      "y12_new[9]      5.67  8.9e-3   0.34   4.98   5.45   5.68   5.91   6.34   1498    1.0\n",
      "y12_new[10]     5.64  8.8e-3   0.35    4.9   5.41   5.64   5.87   6.32   1551    1.0\n",
      "y12_new[11]      5.6  8.3e-3   0.33   4.96   5.39    5.6   5.83   6.26   1585    1.0\n",
      "y12_new[12]     5.57  8.1e-3   0.33   4.91   5.35   5.58   5.78   6.21   1629    1.0\n",
      "y12_new[13]     5.52  8.0e-3   0.32   4.89    5.3   5.51   5.73   6.17   1595    1.0\n",
      "y12_new[14]     5.49  7.7e-3   0.32   4.85   5.28   5.48    5.7   6.11   1708    1.0\n",
      "y12_new[15]     5.46  7.6e-3   0.31   4.86   5.26   5.46   5.67   6.07   1670    1.0\n",
      "y12_new[16]     5.41  7.3e-3    0.3   4.83   5.21   5.41   5.62   6.03   1764    1.0\n",
      "y12_new[17]     5.38  7.4e-3   0.31   4.78   5.18   5.38   5.58   5.96   1705    1.0\n",
      "y12_new[18]     5.34  7.1e-3    0.3   4.78   5.15   5.34   5.54   5.94   1748    1.0\n",
      "y12_new[19]     5.31  7.0e-3    0.3   4.74   5.11    5.3   5.51   5.89   1768    1.0\n",
      "y12_new[20]     5.27  7.1e-3   0.29   4.68   5.07   5.27   5.45   5.83   1656    1.0\n",
      "y12_new[21]     5.24  6.5e-3   0.29   4.65   5.05   5.24   5.44   5.83   2000    1.0\n",
      "y12_new[22]     5.22  6.7e-3   0.29   4.64   5.04   5.21    5.4   5.77   1834    1.0\n",
      "y12_new[23]     5.17  6.4e-3   0.28   4.61   4.98   5.18   5.35   5.74   1940    1.0\n",
      "y12_new[24]     5.13  6.9e-3   0.28   4.58   4.94   5.13   5.31   5.66   1646    1.0\n",
      "y12_new[25]     5.09  6.4e-3   0.29   4.56    4.9    5.1   5.29   5.65   2000    1.0\n",
      "y12_new[26]     5.06  6.5e-3   0.28   4.48   4.88   5.07   5.25   5.59   1841    1.0\n",
      "y12_new[27]     5.04  6.5e-3   0.28   4.48   4.85   5.04   5.22   5.59   1846    1.0\n",
      "y12_new[28]      5.0  6.3e-3   0.28   4.45   4.82   4.99   5.18   5.58   2000    1.0\n",
      "y12_new[29]     4.96  6.4e-3   0.27   4.43   4.77   4.97   5.15   5.49   1865    1.0\n",
      "y12_new[30]     4.93  6.4e-3   0.27    4.4   4.75   4.93   5.12   5.48   1838    1.0\n",
      "y12_new[31]     4.88  6.2e-3   0.28   4.35   4.69   4.88   5.07   5.45   2000    1.0\n",
      "y12_new[32]     4.85  6.4e-3   0.29   4.27   4.66   4.85   5.04    5.4   2000    1.0\n",
      "y12_new[33]     4.82  6.2e-3   0.28   4.29   4.64   4.82   5.01   5.39   2000    1.0\n",
      "y12_new[34]     4.77  6.3e-3   0.28   4.21   4.58   4.78   4.96   5.33   2000    1.0\n",
      "y12_new[35]     4.73  6.3e-3   0.28   4.18   4.55   4.73   4.93   5.29   2000    1.0\n",
      "y12_new[36]      4.7  6.6e-3   0.29   4.12    4.5   4.71    4.9   5.26   2000    1.0\n",
      "y12_new[37]     4.67  6.5e-3   0.29   4.08   4.49   4.67   4.86   5.26   2000    1.0\n",
      "y12_new[38]     4.64  6.7e-3   0.29   4.06   4.44   4.64   4.83    5.2   1941    1.0\n",
      "y12_new[39]      4.6  6.8e-3    0.3   4.01   4.39    4.6    4.8   5.19   1972    1.0\n",
      "lp__          -57.26    0.07   1.86 -61.75 -58.36 -56.95 -55.89 -54.53    657    1.0\n",
      "\n",
      "Samples were drawn using NUTS at Wed Apr 19 15:46:26 2017.\n",
      "For each parameter, n_eff is a crude measure of effective sample size,\n",
      "and Rhat is the potential scale reduction factor on split chains (at \n",
      "convergence, Rhat=1).\n"
     ]
    }
   ],
   "source": [
    "print(fit_4)"
   ]
  },
  {
   "cell_type": "markdown",
   "metadata": {},
   "source": [
    "年齢別の50%予測区間を、年齢別に分けたプロットに重ねてみる"
   ]
  },
  {
   "cell_type": "code",
   "execution_count": 44,
   "metadata": {
    "collapsed": false
   },
   "outputs": [
    {
     "data": {
      "image/png": "[encoded data removed]",
      "text/plain": [
       "<matplotlib.figure.Figure at 0x11e20bc50>"
      ]
     },
     "metadata": {},
     "output_type": "display_data"
    }
   ],
   "source": [
    "def f_fill(ys_key, c):\n",
    "    ys = (fit_4.extract(permuted=True))[ys_key].T\n",
    "    plt.fill_between( \\\n",
    "        data_4['Weight_new'], \\\n",
    "        [np.percentile(y, 25) for y in ys], \\\n",
    "        [np.percentile(y, 75) for y in ys], color=c, alpha=0.25)\n",
    "for x in range(7, 13):\n",
    "    df = df_4[df_4['Age'] == x]\n",
    "    plt.plot(df['Weight'], df['Y'], syms[x-7])\n",
    "f_fill('y7_new', clrs[0])\n",
    "f_fill('y8_new', clrs[1])\n",
    "f_fill('y9_new', clrs[2])\n",
    "f_fill('y10_new', clrs[3])\n",
    "f_fill('y11_new', clrs[4])\n",
    "f_fill('y12_new', clrs[5])\n",
    "plt.show()"
   ]
  },
  {
   "cell_type": "markdown",
   "metadata": {},
   "source": [
    "## 7.7 説明変数にノイズを含む"
   ]
  },
  {
   "cell_type": "code",
   "execution_count": 45,
   "metadata": {
    "collapsed": false
   },
   "outputs": [
    {
     "data": {
      "text/html": [
       "<div>\n",
       "<table border=\"1\" class=\"dataframe\">\n",
       "  <thead>\n",
       "    <tr style=\"text-align: right;\">\n",
       "      <th></th>\n",
       "      <th>X</th>\n",
       "      <th>Y</th>\n",
       "    </tr>\n",
       "  </thead>\n",
       "  <tbody>\n",
       "    <tr>\n",
       "      <th>0</th>\n",
       "      <td>24</td>\n",
       "      <td>472</td>\n",
       "    </tr>\n",
       "    <tr>\n",
       "      <th>1</th>\n",
       "      <td>24</td>\n",
       "      <td>403</td>\n",
       "    </tr>\n",
       "    <tr>\n",
       "      <th>2</th>\n",
       "      <td>26</td>\n",
       "      <td>454</td>\n",
       "    </tr>\n",
       "    <tr>\n",
       "      <th>3</th>\n",
       "      <td>32</td>\n",
       "      <td>575</td>\n",
       "    </tr>\n",
       "    <tr>\n",
       "      <th>4</th>\n",
       "      <td>33</td>\n",
       "      <td>546</td>\n",
       "    </tr>\n",
       "  </tbody>\n",
       "</table>\n",
       "</div>"
      ],
      "text/plain": [
       "    X    Y\n",
       "0  24  472\n",
       "1  24  403\n",
       "2  26  454\n",
       "3  32  575\n",
       "4  33  546"
      ]
     },
     "execution_count": 45,
     "metadata": {},
     "output_type": "execute_result"
    }
   ],
   "source": [
    "df_5 = pd.read_csv('../Chap04/input/data-salary.txt')\n",
    "df_5.head()"
   ]
  },
  {
   "cell_type": "code",
   "execution_count": 46,
   "metadata": {
    "collapsed": true
   },
   "outputs": [],
   "source": [
    "data_5 = df_5.to_dict('list')\n",
    "data_5['N'] = len(df_5)"
   ]
  },
  {
   "cell_type": "code",
   "execution_count": 47,
   "metadata": {
    "collapsed": true
   },
   "outputs": [],
   "source": [
    "model_5 = \"\"\"\n",
    "data {\n",
    "  int N;\n",
    "  real X[N];\n",
    "  real Y[N];\n",
    "}\n",
    "\n",
    "parameters {\n",
    "  real a;\n",
    "  real b;\n",
    "  real x_true[N];\n",
    "  real<lower=0> s_Y;\n",
    "}\n",
    "\n",
    "model {\n",
    "  for (n in 1:N) {\n",
    "    X[n] ~ normal(x_true[n], 2.5);\n",
    "    Y[n] ~ normal(a + b*x_true[n], s_Y);\n",
    "  }\n",
    "}\n",
    "\"\"\""
   ]
  },
  {
   "cell_type": "code",
   "execution_count": 48,
   "metadata": {
    "collapsed": false
   },
   "outputs": [
    {
     "name": "stderr",
     "output_type": "stream",
     "text": [
      "INFO:pystan:COMPILING THE C++ CODE FOR MODEL anon_model_18e207b9d7765370c2018955b5d65f95 NOW.\n"
     ]
    }
   ],
   "source": [
    "fit_5 = pystan.stan(model_code=model_5, data=data_5, iter=1000, chains=4)"
   ]
  },
  {
   "cell_type": "code",
   "execution_count": 49,
   "metadata": {
    "collapsed": false
   },
   "outputs": [
    {
     "name": "stdout",
     "output_type": "stream",
     "text": [
      "Inference for Stan model: anon_model_18e207b9d7765370c2018955b5d65f95.\n",
      "4 chains, each with iter=1000; warmup=500; thin=1; \n",
      "post-warmup draws per chain=500, total post-warmup draws=2000.\n",
      "\n",
      "             mean se_mean     sd   2.5%    25%    50%    75%  97.5%  n_eff   Rhat\n",
      "a          -125.7    2.75   72.2 -269.8 -173.9 -122.7 -76.81   8.91    690    1.0\n",
      "b           22.01    0.06   1.61  18.97  20.92  21.99  23.08  25.21    746    1.0\n",
      "x_true[0]   25.54    0.05   2.06   21.4  24.18  25.62  27.01  29.38   2000    1.0\n",
      "x_true[1]   24.06    0.04   1.94  20.22  22.72  24.06  25.39  27.73   2000    1.0\n",
      "x_true[2]   26.17    0.04   1.92  22.41  24.88  26.17  27.46  29.93   2000    1.0\n",
      "x_true[3]   31.92    0.04    1.9  28.19   30.7  31.94  33.21  35.73   2000    1.0\n",
      "x_true[4]   31.87    0.04   1.89  28.27  30.63  31.83  33.11  35.68   2000    1.0\n",
      "x_true[5]   37.93    0.08   2.16  33.48  36.49  38.05  39.44  41.86    814    1.0\n",
      "x_true[6]   38.87    0.04   1.82  35.26   37.7   38.9  40.09  42.34   2000    1.0\n",
      "x_true[7]   36.64    0.07    2.1  32.77  35.15  36.54   38.1  41.05    909    1.0\n",
      "x_true[8]   41.32    0.04   1.83  37.54  40.16  41.37  42.56  44.69   2000    1.0\n",
      "x_true[9]   42.34    0.04   1.87  38.66   41.1  42.34   43.5   46.1   2000    1.0\n",
      "x_true[10]  41.41    0.04   1.98   37.7  39.98  41.39  42.71  45.48   2000    1.0\n",
      "x_true[11]   43.9    0.04   1.94  39.99  42.63   43.9  45.14  47.72   2000    1.0\n",
      "x_true[12]  46.73    0.04   1.85  43.29  45.44  46.65  47.95  50.54   2000    1.0\n",
      "x_true[13]  51.35    0.04    1.9  47.72  50.06  51.31  52.56  55.25   2000    1.0\n",
      "x_true[14]  55.65    0.04   1.85  52.05  54.39  55.62  56.86  59.42   2000    1.0\n",
      "x_true[15]  53.83    0.04   1.96  50.18  52.46  53.75  55.13  57.96   2000    1.0\n",
      "x_true[16]   59.2    0.04   1.94  55.09  57.91  59.29  60.56  62.81   2000    1.0\n",
      "x_true[17]  59.07    0.04   1.93  54.95  57.89  59.14  60.32  62.85   2000    1.0\n",
      "x_true[18]  57.91    0.04   1.92  54.31  56.59   57.9  59.08   61.8   2000    1.0\n",
      "x_true[19]   62.1    0.07   2.22  57.68   60.6  62.16  63.58  66.54    881    1.0\n",
      "s_Y         60.81    1.11  20.01  27.19  46.78  59.28  73.05 102.47    327   1.01\n",
      "lp__        -96.7    0.31   4.89 -106.2 -99.91 -96.82 -93.66 -87.17    251   1.02\n",
      "\n",
      "Samples were drawn using NUTS at Wed Apr 19 15:46:50 2017.\n",
      "For each parameter, n_eff is a crude measure of effective sample size,\n",
      "and Rhat is the potential scale reduction factor on split chains (at \n",
      "convergence, Rhat=1).\n"
     ]
    }
   ],
   "source": [
    "print(fit_5)"
   ]
  },
  {
   "cell_type": "markdown",
   "metadata": {},
   "source": [
    "## 7.8 打ち切り"
   ]
  },
  {
   "cell_type": "code",
   "execution_count": 50,
   "metadata": {
    "collapsed": false
   },
   "outputs": [
    {
     "data": {
      "text/html": [
       "<div>\n",
       "<table border=\"1\" class=\"dataframe\">\n",
       "  <thead>\n",
       "    <tr style=\"text-align: right;\">\n",
       "      <th></th>\n",
       "      <th>Y</th>\n",
       "    </tr>\n",
       "  </thead>\n",
       "  <tbody>\n",
       "    <tr>\n",
       "      <th>0</th>\n",
       "      <td>&lt;25</td>\n",
       "    </tr>\n",
       "    <tr>\n",
       "      <th>1</th>\n",
       "      <td>32.3</td>\n",
       "    </tr>\n",
       "    <tr>\n",
       "      <th>2</th>\n",
       "      <td>&lt;25</td>\n",
       "    </tr>\n",
       "    <tr>\n",
       "      <th>3</th>\n",
       "      <td>28.3</td>\n",
       "    </tr>\n",
       "    <tr>\n",
       "      <th>4</th>\n",
       "      <td>30.8</td>\n",
       "    </tr>\n",
       "    <tr>\n",
       "      <th>5</th>\n",
       "      <td>35.2</td>\n",
       "    </tr>\n",
       "  </tbody>\n",
       "</table>\n",
       "</div>"
      ],
      "text/plain": [
       "      Y\n",
       "0   <25\n",
       "1  32.3\n",
       "2   <25\n",
       "3  28.3\n",
       "4  30.8\n",
       "5  35.2"
      ]
     },
     "execution_count": 50,
     "metadata": {},
     "output_type": "execute_result"
    }
   ],
   "source": [
    "df_6 = pd.read_csv('input/data-protein.txt')\n",
    "data_6 = df_6.to_dict('list')\n",
    "df_6"
   ]
  },
  {
   "cell_type": "code",
   "execution_count": 51,
   "metadata": {
    "collapsed": false
   },
   "outputs": [],
   "source": [
    "data_6['Y_obs'] = [float(y) for y in data_6['Y'] if not y.startswith('<')]\n",
    "data_6['N_obs'] = len(data_6['Y_obs'])\n",
    "data_6['N_cens'] = len([y for y in data_6['Y'] if y.startswith('<')])\n",
    "data_6['L'] = 25\n",
    "del data_6['Y']"
   ]
  },
  {
   "cell_type": "code",
   "execution_count": 52,
   "metadata": {
    "collapsed": false
   },
   "outputs": [
    {
     "data": {
      "image/png": "[encoded data removed]",
      "text/plain": [
       "<matplotlib.figure.Figure at 0x11e22b748>"
      ]
     },
     "metadata": {},
     "output_type": "display_data"
    }
   ],
   "source": [
    "plt.hist(data_6['Y_obs'], bins=10, alpha=0.5);"
   ]
  },
  {
   "cell_type": "code",
   "execution_count": 53,
   "metadata": {
    "collapsed": false
   },
   "outputs": [],
   "source": [
    "model_6 = \"\"\"\n",
    "data {\n",
    "  int N_obs;\n",
    "  int N_cens;\n",
    "  real Y_obs[N_obs];\n",
    "  real L;\n",
    "}\n",
    "\n",
    "parameters {\n",
    "  real mu;\n",
    "  real<lower=0> s_Y;\n",
    "}\n",
    "\n",
    "model {\n",
    "  for (n in 1:N_obs)\n",
    "    Y_obs[n] ~ normal(mu, s_Y);\n",
    "  target += N_cens * normal_lcdf(L | mu, s_Y);\n",
    "}\n",
    "\"\"\""
   ]
  },
  {
   "cell_type": "code",
   "execution_count": 54,
   "metadata": {
    "collapsed": false
   },
   "outputs": [
    {
     "name": "stderr",
     "output_type": "stream",
     "text": [
      "INFO:pystan:COMPILING THE C++ CODE FOR MODEL anon_model_a91441ec8e91a4096d633b0c21623918 NOW.\n"
     ]
    }
   ],
   "source": [
    "fit_6 = pystan.stan(model_code=model_6, data=data_6, iter=1000, chains=4)"
   ]
  },
  {
   "cell_type": "code",
   "execution_count": 55,
   "metadata": {
    "collapsed": false
   },
   "outputs": [
    {
     "name": "stdout",
     "output_type": "stream",
     "text": [
      "Inference for Stan model: anon_model_a91441ec8e91a4096d633b0c21623918.\n",
      "4 chains, each with iter=1000; warmup=500; thin=1; \n",
      "post-warmup draws per chain=500, total post-warmup draws=2000.\n",
      "\n",
      "       mean se_mean     sd   2.5%    25%    50%    75%  97.5%  n_eff   Rhat\n",
      "mu    12.53   14.28  99.97 -124.0  23.23  27.12  29.68  39.33     49   1.09\n",
      "s_Y   30.82   16.69 115.61   3.95   6.77  10.05  16.45 220.12     48   1.09\n",
      "lp__ -10.56    0.38   2.29 -18.73 -10.91  -9.84  -9.23  -8.84     37   1.12\n",
      "\n",
      "Samples were drawn using NUTS at Wed Apr 19 15:47:13 2017.\n",
      "For each parameter, n_eff is a crude measure of effective sample size,\n",
      "and Rhat is the potential scale reduction factor on split chains (at \n",
      "convergence, Rhat=1).\n"
     ]
    }
   ],
   "source": [
    "print(fit_6)"
   ]
  },
  {
   "cell_type": "code",
   "execution_count": 56,
   "metadata": {
    "collapsed": false
   },
   "outputs": [
    {
     "data": {
      "image/png": "[encoded data removed]",
      "text/plain": [
       "<matplotlib.figure.Figure at 0x11e3ef908>"
      ]
     },
     "metadata": {},
     "output_type": "display_data"
    }
   ],
   "source": [
    "plt.hist((fit_6.extract(permuted=True))['mu'], bins=100, alpha=0.5);"
   ]
  },
  {
   "cell_type": "markdown",
   "metadata": {},
   "source": [
    "## 7.9 外れ値"
   ]
  },
  {
   "cell_type": "code",
   "execution_count": 57,
   "metadata": {
    "collapsed": false
   },
   "outputs": [
    {
     "data": {
      "text/plain": [
       "[<matplotlib.lines.Line2D at 0x11cfcccc0>]"
      ]
     },
     "execution_count": 57,
     "metadata": {},
     "output_type": "execute_result"
    },
    {
     "data": {
      "image/png": "[encoded data removed]",
      "text/plain": [
       "<matplotlib.figure.Figure at 0x11def09b0>"
      ]
     },
     "metadata": {},
     "output_type": "display_data"
    }
   ],
   "source": [
    "df_7 = pd.read_csv('input/data-outlier.txt')\n",
    "data_7 = df_7.to_dict('list')\n",
    "plt.plot(data_7['X'], data_7['Y'], 'o')"
   ]
  },
  {
   "cell_type": "markdown",
   "metadata": {},
   "source": [
    "最初に正規分布でやってみる"
   ]
  },
  {
   "cell_type": "code",
   "execution_count": 58,
   "metadata": {
    "collapsed": true
   },
   "outputs": [],
   "source": [
    "data_7['N'] = len(data_7['X'])\n",
    "data_7['X_new'] = np.linspace(0, 11, 55)\n",
    "data_7['N_new'] = len(data_7['X_new'])"
   ]
  },
  {
   "cell_type": "code",
   "execution_count": 59,
   "metadata": {
    "collapsed": true
   },
   "outputs": [],
   "source": [
    "model_7a = \"\"\"\n",
    "data {\n",
    "  int N;\n",
    "  real X[N];\n",
    "  real Y[N];\n",
    "  int N_new;\n",
    "  real X_new[N_new];\n",
    "}\n",
    "\n",
    "parameters {\n",
    "  real a;\n",
    "  real b;\n",
    "  real<lower=0> sigma;\n",
    "}\n",
    "\n",
    "model {\n",
    "  for (n in 1:N)\n",
    "    Y[n] ~ normal(a + b*X[n], sigma);\n",
    "}\n",
    "\n",
    "generated quantities {\n",
    "  real y_new[N_new];\n",
    "  for (n in 1:N_new)\n",
    "    y_new[n] = normal_rng(a + b*X_new[n], sigma);\n",
    "}\n",
    "\"\"\""
   ]
  },
  {
   "cell_type": "code",
   "execution_count": 60,
   "metadata": {
    "collapsed": false
   },
   "outputs": [
    {
     "name": "stderr",
     "output_type": "stream",
     "text": [
      "INFO:pystan:COMPILING THE C++ CODE FOR MODEL anon_model_9b5686156e474a8f9f0c50009b840a66 NOW.\n"
     ]
    }
   ],
   "source": [
    "fit_7a = pystan.stan(model_code=model_7a, data=data_7, iter=1000, chains=4)"
   ]
  },
  {
   "cell_type": "code",
   "execution_count": 61,
   "metadata": {
    "collapsed": false
   },
   "outputs": [
    {
     "data": {
      "image/png": "[encoded data removed]",
      "text/plain": [
       "<matplotlib.figure.Figure at 0x11df21940>"
      ]
     },
     "metadata": {},
     "output_type": "display_data"
    }
   ],
   "source": [
    "plt.plot(data_7['X'], data_7['Y'], \"o\")\n",
    "plot_pred_range(fit_7a, data_7['X_new'], 'y_new', (2.5, 97.5), 0.25)\n",
    "plot_pred_range(fit_7a, data_7['X_new'], 'y_new', (25, 75), 0.5)\n",
    "plt.show()"
   ]
  },
  {
   "cell_type": "code",
   "execution_count": 62,
   "metadata": {
    "collapsed": true
   },
   "outputs": [],
   "source": [
    "model_7 = \"\"\"\n",
    "data {\n",
    "  int N;\n",
    "  real X[N];\n",
    "  real Y[N];\n",
    "  int N_new;\n",
    "  real X_new[N_new];\n",
    "}\n",
    "\n",
    "parameters {\n",
    "  real a;\n",
    "  real b;\n",
    "  real<lower=0> sigma;\n",
    "}\n",
    "\n",
    "model {\n",
    "  for (n in 1:N)\n",
    "    Y[n] ~ cauchy(a + b*X[n], sigma);\n",
    "}\n",
    "\n",
    "generated quantities {\n",
    "  real y_new[N_new];\n",
    "  for (n in 1:N_new)\n",
    "    y_new[n] = cauchy_rng(a + b*X_new[n], sigma);\n",
    "}\n",
    "\"\"\""
   ]
  },
  {
   "cell_type": "code",
   "execution_count": 63,
   "metadata": {
    "collapsed": false
   },
   "outputs": [
    {
     "name": "stderr",
     "output_type": "stream",
     "text": [
      "INFO:pystan:COMPILING THE C++ CODE FOR MODEL anon_model_e31ca1e60d9a92a263f448ad8763fb24 NOW.\n"
     ]
    }
   ],
   "source": [
    "fit_7 = pystan.stan(model_code=model_7, data=data_7, iter=1000, chains=4)"
   ]
  },
  {
   "cell_type": "code",
   "execution_count": 64,
   "metadata": {
    "collapsed": false
   },
   "outputs": [
    {
     "data": {
      "image/png": "[encoded data removed]",
      "text/plain": [
       "<matplotlib.figure.Figure at 0x11e2614a8>"
      ]
     },
     "metadata": {},
     "output_type": "display_data"
    }
   ],
   "source": [
    "plt.plot(data_7['X'], data_7['Y'], \"o\")\n",
    "plot_pred_range(fit_7, data_7['X_new'], 'y_new', (2.5, 97.5), 0.25)\n",
    "plot_pred_range(fit_7, data_7['X_new'], 'y_new', (25, 75), 0.5)\n",
    "plt.show()"
   ]
  },
  {
   "cell_type": "code",
   "execution_count": null,
   "metadata": {
    "collapsed": true
   },
   "outputs": [],
   "source": []
  }
 ],
 "metadata": {
  "kernelspec": {
   "display_name": "Python 3",
   "language": "python",
   "name": "python3"
  },
  "language_info": {
   "codemirror_mode": {
    "name": "ipython",
    "version": 3
   },
   "file_extension": ".py",
   "mimetype": "text/x-python",
   "name": "python",
   "nbconvert_exporter": "python",
   "pygments_lexer": "ipython3",
   "version": "3.4.4"
  }
 },
 "nbformat": 4,
 "nbformat_minor": 2
}
