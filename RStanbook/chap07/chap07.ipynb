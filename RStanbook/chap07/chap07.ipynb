{
 "cells": [
  {
   "cell_type": "markdown",
   "metadata": {},
   "source": [
    "# Chapter 7. 回帰分析の悩みどころ"
   ]
  },
  {
   "cell_type": "code",
   "execution_count": 1,
   "metadata": {
    "collapsed": false
   },
   "outputs": [
    {
     "name": "stderr",
     "output_type": "stream",
     "text": [
      "/Users/takashi_miyamoto/.pyenv/versions/anaconda3-2.1.0/lib/python3.4/site-packages/matplotlib/__init__.py:913: UserWarning: axes.color_cycle is deprecated and replaced with axes.prop_cycle; please use the latter.\n",
      "  warnings.warn(self.msg_depr % (key, alt_key))\n"
     ]
    }
   ],
   "source": [
    "import pandas as pd\n",
    "import numpy as np\n",
    "import pystan\n",
    "import matplotlib.pyplot as plt\n",
    "import seaborn as sns\n",
    "%matplotlib inline"
   ]
  },
  {
   "cell_type": "markdown",
   "metadata": {},
   "source": [
    "## 7.2 対数をとるか否か"
   ]
  },
  {
   "cell_type": "code",
   "execution_count": 2,
   "metadata": {
    "collapsed": false
   },
   "outputs": [
    {
     "data": {
      "image/png": "[encoded data removed]",
      "text/plain": [
       "<matplotlib.figure.Figure at 0x11a3e96a0>"
      ]
     },
     "metadata": {},
     "output_type": "display_data"
    },
    {
     "data": {
      "image/png": "[encoded data removed]",
      "text/plain": [
       "<matplotlib.figure.Figure at 0x11a45ff60>"
      ]
     },
     "metadata": {},
     "output_type": "display_data"
    }
   ],
   "source": [
    "df_1 = pd.read_csv('input/data-rental.txt')\n",
    "data_1 = df_1.to_dict('list')\n",
    "data_1['N'] = len(df_1)\n",
    "data_1['Area_new'] = np.linspace(5, 120, 115)\n",
    "data_1['N_new'] = len(data_1['Area_new'])\n",
    "plt.plot(df_1['Area'], df_1['Y'], \"o\")\n",
    "plt.xlabel('Area')\n",
    "plt.ylabel('Y')\n",
    "plt.show()\n",
    "plt.plot(df_1['Area'].apply(np.log), df_1['Y'].apply(np.log), \"o\")\n",
    "plt.xlabel('Area')\n",
    "plt.ylabel('Y')\n",
    "plt.xscale('log')\n",
    "plt.yscale('log')\n",
    "plt.show()"
   ]
  },
  {
   "cell_type": "markdown",
   "metadata": {},
   "source": [
    "最初に変数変換しない場合"
   ]
  },
  {
   "cell_type": "code",
   "execution_count": 3,
   "metadata": {
    "collapsed": true
   },
   "outputs": [],
   "source": [
    "model_1 = \"\"\"\n",
    "data {\n",
    "  int N;\n",
    "  int N_new;\n",
    "  real<lower=0> Area[N];\n",
    "  real<lower=0> Area_new[N_new];\n",
    "  real<lower=0> Y[N];\n",
    "}\n",
    "\n",
    "parameters {\n",
    "  real b1;\n",
    "  real b2;\n",
    "  real<lower=0> sigma;\n",
    "}\n",
    "\n",
    "transformed parameters {\n",
    "  real mu[N];\n",
    "  for (n in 1:N)\n",
    "    mu[n] = b1 + b2*Area[n];\n",
    "}\n",
    "\n",
    "model {\n",
    "  for (n in 1:N)\n",
    "    Y[n] ~ normal(mu[n], sigma);\n",
    "}\n",
    "\n",
    "generated quantities {\n",
    "  real y_pred[N];\n",
    "  real e[N];\n",
    "  real Y_new[N_new];\n",
    "  for (n in 1:N) {\n",
    "    y_pred[n] = normal_rng(mu[n], sigma);\n",
    "    e[n] = Y[n] - mu[n];\n",
    "  }\n",
    "  for (n in 1:N_new)\n",
    "    Y_new[n] = normal_rng(b1 + b2*Area_new[n], sigma);\n",
    "}\n",
    "\"\"\""
   ]
  },
  {
   "cell_type": "code",
   "execution_count": 4,
   "metadata": {
    "collapsed": false
   },
   "outputs": [
    {
     "name": "stderr",
     "output_type": "stream",
     "text": [
      "INFO:pystan:COMPILING THE C++ CODE FOR MODEL anon_model_dffa785f8bf96733d0810edf7784b90c NOW.\n"
     ]
    }
   ],
   "source": [
    "fit_1 = pystan.stan(model_code=model_1, data=data_1, iter=1000, chains=4)"
   ]
  },
  {
   "cell_type": "code",
   "execution_count": 5,
   "metadata": {
    "collapsed": false
   },
   "outputs": [
    {
     "name": "stdout",
     "output_type": "stream",
     "text": [
      "Inference for Stan model: anon_model_dffa785f8bf96733d0810edf7784b90c.\n",
      "4 chains, each with iter=1000; warmup=500; thin=1; \n",
      "post-warmup draws per chain=500, total post-warmup draws=2000.\n",
      "\n",
      "             mean se_mean     sd   2.5%    25%    50%    75%  97.5%  n_eff   Rhat\n",
      "b1         -147.5    1.02  29.58 -203.4 -167.8 -148.6 -127.1 -89.91    844    1.0\n",
      "b2          13.99    0.03   0.73  12.57  13.49   14.0  14.49  15.37    781    1.0\n",
      "sigma       130.8    0.27   9.27 114.48 124.05 130.39 136.66 150.18   1144    1.0\n",
      "mu[0]      421.25     0.3  13.49  394.1  412.2 421.23 430.04 448.55   2000    1.0\n",
      "mu[1]      718.95    0.68  22.73  673.3 703.64 718.68 734.58 765.15   1122    1.0\n",
      "mu[2]      623.68    0.52  18.91 586.39 611.09 623.85 636.55 662.86   1328    1.0\n",
      "mu[3]      647.32    0.56  19.81 608.02 634.07 647.44 660.77 688.23   1262    1.0\n",
      "mu[4]      647.32    0.56  19.81 608.02 634.07 647.44 660.77 688.23   1262    1.0\n",
      "mu[5]       69.27    0.64  20.11   31.3  55.27  69.03  82.88 108.61   1000    1.0\n",
      "mu[6]      300.09     0.3  13.53 273.76 290.97 300.04  309.1 327.38   2000    1.0\n",
      "mu[7]      317.02     0.3  13.35 291.28 308.09 317.02  326.1 343.82   2000    1.0\n",
      "mu[8]      745.39    0.72  23.87 696.91 729.47  745.1 761.89 793.13   1086    1.0\n",
      "mu[9]      132.22    0.53  17.76  98.68 119.83 131.99  144.5 167.25   1115    1.0\n",
      "mu[10]     132.22    0.53  17.76  98.68 119.83 131.99  144.5 167.25   1115    1.0\n",
      "mu[11]     1010.9     1.2   36.2 938.89 986.87 1010.5 1034.9 1082.0    912    1.0\n",
      "mu[12]     223.01     0.4   15.0 194.23 212.45 223.08 233.19 252.83   1434    1.0\n",
      "mu[13]      183.0    0.45   16.1  152.5 171.55 182.89 194.05 214.71   1268    1.0\n",
      "mu[14]     166.91    0.48   16.6  135.8 155.27 166.86 178.25 199.93   1212    1.0\n",
      "mu[15]     129.84    0.54  17.85  96.15 117.33 129.64 142.14 164.98   1110    1.0\n",
      "mu[16]     176.15    0.46  16.31 145.39 164.67  176.1 187.25 208.39   1243    1.0\n",
      "mu[17]     133.48    0.53  17.72 100.05 121.08 133.19 145.74 168.45   1118    1.0\n",
      "mu[18]     180.76    0.46  16.17 150.17 169.32 180.62 191.77 212.65   1260    1.0\n",
      "mu[19]     434.12    0.31  13.66 406.59 424.96 434.17 442.99 461.93   2000    1.0\n",
      "mu[20]     467.97    0.32  14.25 439.99 458.42  468.0 477.29  497.0   2000    1.0\n",
      "mu[21]     125.22    0.54  18.01  91.21 112.65 125.04 137.65 160.62   1099    1.0\n",
      "mu[22]     452.44    0.31  13.95 424.57 443.11 452.38 461.62 481.05   2000    1.0\n",
      "mu[23]     595.84    0.47   17.9 560.74 583.62 596.17 607.68 632.76   1421    1.0\n",
      "mu[24]     283.73    0.32  13.76 256.88 274.21 283.61 293.02 311.68   1812    1.0\n",
      "mu[25]     752.52    0.74  24.18 703.31 736.35 752.23 769.12 800.77   1077    1.0\n",
      "mu[26]     179.36    0.46  16.22 148.73 167.92 179.24 190.38 211.37   1255    1.0\n",
      "mu[27]     409.77     0.3  13.37 382.92 400.94 409.89 418.57 436.91   2000    1.0\n",
      "mu[28]     420.41     0.3  13.48 393.29 411.38 420.43 429.23 447.66   2000    1.0\n",
      "mu[29]     278.41    0.33  13.84 251.47 268.82 278.25 287.73 306.54   1773    1.0\n",
      "mu[30]     286.11    0.31  13.72  259.3 276.65 286.03 295.35 313.96   2000    1.0\n",
      "mu[31]     610.39     0.5  18.42 574.12 597.93  610.5 622.84 648.28   1370    1.0\n",
      "mu[32]     1430.7    1.97  57.09 1321.2 1392.3 1430.8 1468.2 1542.6    841    1.0\n",
      "mu[33]     146.21    0.51  17.28 113.67 134.14 146.11 158.19 180.61   1151    1.0\n",
      "mu[34]      70.24    0.63  20.07  32.33   56.3  70.04  83.84 109.51   1001    1.0\n",
      "mu[35]     146.21    0.51  17.28 113.67 134.14 146.11 158.19 180.61   1151    1.0\n",
      "mu[36]     146.21    0.51  17.28 113.67 134.14 146.11 158.19 180.61   1151    1.0\n",
      "mu[37]     371.86    0.29  13.15 345.99  363.0 371.91 380.53  398.4   2000    1.0\n",
      "mu[38]     175.31    0.46  16.34 144.52 163.82 175.27 186.41 207.62   1240    1.0\n",
      "mu[39]     651.24    0.56  19.96 611.55  637.8 651.32 664.76 692.58   1253    1.0\n",
      "mu[40]      320.1     0.3  13.32 294.49 311.22  320.1  329.1 346.94   2000    1.0\n",
      "mu[41]     201.05    0.43  15.58 171.42  190.0 200.94 211.71  232.0   1336    1.0\n",
      "mu[42]      15.26    0.73  22.31 -27.38  -0.25  14.75  30.34  58.72    937    1.0\n",
      "mu[43]     293.94     0.3  13.61 267.46 284.61 293.85  303.1 321.38   2000    1.0\n",
      "mu[44]     349.62    0.29  13.16 324.05 340.73 349.66 358.28 376.41   2000    1.0\n",
      "mu[45]     258.13    0.35  14.21 230.86 248.27 258.11 267.61 286.06   1632    1.0\n",
      "mu[46]     867.52    0.94  29.38 807.65 847.86 867.15 887.09 925.72    977    1.0\n",
      "mu[47]      482.1    0.33  14.54 454.14  472.3 482.12 491.74 511.39   2000    1.0\n",
      "mu[48]     192.37    0.44  15.83 162.45 181.04 192.16  203.2 223.78   1302    1.0\n",
      "mu[49]     146.21    0.51  17.28 113.67 134.14 146.11 158.19 180.61   1151    1.0\n",
      "mu[50]     363.89    0.29  13.14  338.0  355.0 363.91 372.68 390.43   2000    1.0\n",
      "mu[51]     617.38    0.51  18.68 580.76 604.87 617.58 629.96 655.92   1347    1.0\n",
      "mu[52]     340.53    0.29  13.19 314.91 331.65 340.52  349.3 367.04   2000    1.0\n",
      "mu[53]     258.13    0.35  14.21 230.86 248.27 258.11 267.61 286.06   1632    1.0\n",
      "mu[54]     300.09     0.3  13.53 273.76 290.97 300.04  309.1 327.38   2000    1.0\n",
      "mu[55]     112.63    0.56  18.46  77.72  99.67 112.37 125.34 148.77   1073    1.0\n",
      "mu[56]     505.74    0.34  15.11 476.83 495.72 505.82 515.73 536.69   2000    1.0\n",
      "mu[57]     534.42    0.36   15.9 503.87 523.53 534.58 544.77 567.44   2000    1.0\n",
      "mu[58]      217.0     0.4  15.15 187.92 206.32 216.97 227.34 247.12   1405    1.0\n",
      "mu[59]     260.36    0.35  14.16 233.24 250.55 260.32 269.82 288.27   1647    1.0\n",
      "mu[60]     104.24    0.58  18.77  68.71  91.18 103.96 117.05 141.02   1057    1.0\n",
      "mu[61]      90.25     0.6   19.3  53.93  76.75   89.9 103.36 127.91   1032    1.0\n",
      "mu[62]      558.9    0.37  16.65  526.8 547.43 559.13  569.7 593.55   2000    1.0\n",
      "mu[63]     292.82     0.3  13.62 266.33 283.46 292.76 301.99  320.3   2000    1.0\n",
      "mu[64]     107.04    0.57  18.67  71.72  94.02 106.76 119.79 143.62   1062    1.0\n",
      "mu[65]     230.43    0.39  14.82 202.01 220.05 230.48  240.4 259.78   1471    1.0\n",
      "mu[66]     116.83    0.56  18.31  82.13 103.93 116.57 129.45  152.8   1081    1.0\n",
      "mu[67]      570.1    0.38  17.02 537.01 558.56 570.28 581.26 605.31   2000    1.0\n",
      "mu[68]     279.39    0.33  13.83 252.47  269.8 279.25 288.69 307.47   1780    1.0\n",
      "mu[69]     495.39    0.33  14.85 466.94  485.4 495.52 505.22 525.38   2000    1.0\n",
      "mu[70]      88.71     0.6  19.36  52.25  75.11   88.4 101.85 126.49   1030    1.0\n",
      "mu[71]     174.33    0.47  16.37 143.49 162.85 174.31 185.48 206.71   1237    1.0\n",
      "mu[72]     275.47    0.33  13.89 248.48 265.84 275.34 284.77  303.7   1751    1.0\n",
      "mu[73]      151.1     0.5  17.12 118.98 139.12 151.02  162.9 185.28   1164    1.0\n",
      "mu[74]      130.4    0.53  17.83  96.75 117.89 130.18  142.7 165.51   1111    1.0\n",
      "mu[75]     481.96    0.33  14.54 454.01 472.16 481.98  491.6 511.25   2000    1.0\n",
      "mu[76]     992.02    1.16  35.29 921.92  968.6 991.58 1015.4 1061.3    918    1.0\n",
      "mu[77]     387.53     0.3  13.21  361.2  378.7 387.67 396.12  414.1   2000    1.0\n",
      "mu[78]     471.89    0.32  14.33 443.93 462.23 471.92 481.35 501.21   2000    1.0\n",
      "mu[79]      84.79    0.61  19.51  47.95  71.09   84.6  98.07 122.88   1023    1.0\n",
      "mu[80]     807.08    0.83  26.61 752.52 789.42 807.01 824.85 859.54   1021    1.0\n",
      "mu[81]     539.88    0.36  16.06 508.93 528.89 540.08 550.24 573.21   2000    1.0\n",
      "mu[82]     381.38    0.29  13.18 355.18 372.54  381.5 390.01 408.11   2000    1.0\n",
      "mu[83]     170.27    0.47   16.5 139.29 158.71 170.24 181.48 202.97   1223    1.0\n",
      "mu[84]     222.03     0.4  15.02 193.19 211.47 222.08 232.22 251.89   1429    1.0\n",
      "mu[85]     1392.1     1.9  55.14 1286.2 1355.1 1392.0 1428.0 1500.4    844    1.0\n",
      "mu[86]     343.46    0.29  13.17 317.81 334.57 343.44 352.19 370.17   2000    1.0\n",
      "mu[87]     579.19    0.45  17.32  545.4 567.47 579.37 590.51 614.66   1488    1.0\n",
      "mu[88]     181.46    0.45  16.15  150.9 170.04 181.28 192.48  213.3   1262    1.0\n",
      "mu[89]     387.11     0.3   13.2 360.81 378.27 387.25 395.71 413.65   2000    1.0\n",
      "mu[90]     301.49     0.3  13.51 275.13 292.37 301.44 310.44 328.79   2000    1.0\n",
      "mu[91]     314.08     0.3  13.37  288.2  305.1 314.04 323.16 341.02   2000    1.0\n",
      "mu[92]     561.42    0.37  16.73  529.1 549.91 561.62 572.26  596.2   2000    1.0\n",
      "mu[93]     291.14    0.31  13.65 264.62  281.8 291.05 300.28 318.67   2000    1.0\n",
      "mu[94]     202.17    0.42  15.55 172.52 191.12 202.09 212.84 233.09   1340    1.0\n",
      "mu[95]     123.82    0.55  18.06   89.7  111.2 123.64 136.27 159.31   1096    1.0\n",
      "mu[96]     245.12    0.37  14.48 217.34 235.02 245.18 254.78 273.66   1552    1.0\n",
      "mu[97]     687.75    0.63  21.43 644.61 673.07 687.53 702.45  731.2   1175    1.0\n",
      "mu[98]     312.41     0.3  13.39 286.44 303.38 312.33 321.48 339.43   2000    1.0\n",
      "mu[99]      428.8     0.3  13.59  401.5 419.72  428.8  437.7 456.65   2000    1.0\n",
      "y_pred[0]   422.1    2.94 131.54 157.06 335.26 420.02 506.97 684.87   2000    1.0\n",
      "y_pred[1]  722.04    2.98 131.21 466.72 633.88 720.37 810.81 983.25   1943    1.0\n",
      "y_pred[2]  624.09    3.13 134.33  364.0 534.22 624.48 714.86  888.7   1845    1.0\n",
      "y_pred[3]  647.82    3.04 133.29  381.7 559.53 653.71 737.89 900.04   1920    1.0\n",
      "y_pred[4]  647.19    3.02 129.97 392.06 557.28 647.77  731.9 906.55   1854    1.0\n",
      "y_pred[5]   69.31    2.98 131.22 -197.4 -17.26  68.69 157.69 321.66   1938    1.0\n",
      "y_pred[6]  296.98     3.1 130.53  35.72 210.94 295.37 385.54 557.19   1770    1.0\n",
      "y_pred[7]  316.27    3.09 133.72   48.2 229.49 319.46 405.84 578.56   1876    1.0\n",
      "y_pred[8]  744.34    3.35 135.71 489.12  647.0 742.31 834.16 1015.6   1643    1.0\n",
      "y_pred[9]  134.96    3.07 132.46 -126.7  42.42 137.92 226.55  387.7   1861    1.0\n",
      "y_pred[10] 133.36    2.96 132.49 -127.9  43.67 134.31 221.14 397.19   2000    1.0\n",
      "y_pred[11] 1007.6    3.08 134.45 736.86 916.15 1005.6 1098.0 1279.7   1901    1.0\n",
      "y_pred[12] 222.37    2.92 130.72 -33.91 135.03 220.58 313.43 468.73   2000    1.0\n",
      "y_pred[13] 178.27    3.08 133.37 -90.91  90.88 174.54 269.23  445.9   1870    1.0\n",
      "y_pred[14] 166.97    2.92 130.75 -85.09  78.99 166.72 253.81 428.13   2000    1.0\n",
      "y_pred[15] 128.66    2.91 128.49 -122.0   44.2 126.76 213.19  376.7   1951    1.0\n",
      "y_pred[16] 176.14    3.09 133.69 -90.98  84.56 175.84 266.14 439.14   1871    1.0\n",
      "y_pred[17] 129.88    3.03 132.25 -124.5  42.24 128.83 220.66 383.24   1908    1.0\n",
      "y_pred[18]  181.8    2.93 130.83 -73.24  92.92 183.16 269.94 444.04   2000    1.0\n",
      "y_pred[19] 434.04    2.95 132.11 172.99 346.32  433.2 518.92 691.18   2000    1.0\n",
      "y_pred[20]  466.7    2.96 132.35 216.25 377.21 465.36 553.03 725.69   2000    1.0\n",
      "y_pred[21]  122.2    2.98 133.47 -139.8  33.66  123.8 210.94 383.77   2000    1.0\n",
      "y_pred[22] 451.48    2.94  131.3 194.76 365.54 452.48 540.06 702.63   2000    1.0\n",
      "y_pred[23] 596.54    3.16  134.2 338.29 504.68 598.51 689.62 853.76   1807    1.0\n",
      "y_pred[24] 278.62    3.25 133.92  13.03  188.1 282.89 365.89 549.68   1697    1.0\n",
      "y_pred[25] 755.63     3.0 134.32 494.34 664.92 752.45 845.83 1019.6   2000    1.0\n",
      "y_pred[26] 175.71    2.94 131.53 -76.93  84.52  176.7 268.54  434.2   2000    1.0\n",
      "y_pred[27] 411.65    3.12 133.47 147.04 319.53 416.21  499.8 669.34   1832    1.0\n",
      "y_pred[28]  418.9    3.07  134.9 157.71  325.5 418.12 509.46  684.4   1925    1.0\n",
      "y_pred[29] 280.88     3.0 133.98   20.3 187.49 283.37 373.38 543.91   2000    1.0\n",
      "y_pred[30] 282.64    2.98 133.24  26.77 195.11  281.6 372.92 545.28   2000    1.0\n",
      "y_pred[31] 612.28    3.18 133.88 345.18 520.14 614.17 706.86 869.08   1778    1.0\n",
      "y_pred[32] 1429.2    3.54 141.83 1167.6 1332.9 1427.1 1528.3 1705.1   1604    1.0\n",
      "y_pred[33] 142.65    3.06 136.85 -131.4  51.36 142.53 231.14 407.39   2000    1.0\n",
      "y_pred[34]  76.51    2.97 133.04 -191.0  -8.08  79.78  163.2 329.76   2000    1.0\n",
      "y_pred[35] 147.89    3.03 130.86 -106.1  58.69  147.5  234.2 408.27   1860    1.0\n",
      "y_pred[36]  145.1    3.11 132.67 -113.0  56.52 145.17  234.1 396.74   1816    1.0\n",
      "y_pred[37] 377.52    3.01 134.52  109.0 289.35  378.8 471.77 640.25   2000    1.0\n",
      "y_pred[38] 172.06    2.91 130.29  -83.3  87.81 170.59 256.46 429.58   2000    1.0\n",
      "y_pred[39] 651.03    3.04 135.86 390.84 557.16 650.87 744.71 916.52   2000    1.0\n",
      "y_pred[40] 321.88     2.9 129.68  73.23 236.17 322.57 407.46 574.49   2000    1.0\n",
      "y_pred[41] 203.68     3.0  134.2 -67.93 114.19  204.1 289.79 473.22   2000    1.0\n",
      "y_pred[42]  12.77    3.01  134.6 -259.5 -74.79  13.78 101.94 271.66   2000    1.0\n",
      "y_pred[43] 294.43    2.97 132.17  29.03 208.71 293.96 384.44 544.03   1975    1.0\n",
      "y_pred[44] 352.07    3.04 132.48  98.86 262.22 352.62 440.08 616.78   1894    1.0\n",
      "y_pred[45] 253.67    2.93 131.01 -15.07 167.04 256.29 342.31  501.5   2000    1.0\n",
      "y_pred[46] 867.56    3.06 132.58 614.24 779.83 866.97 954.78 1141.3   1871    1.0\n",
      "y_pred[47] 484.14    3.14 129.53 227.87 395.42 486.19 573.81 734.23   1705    1.0\n",
      "y_pred[48] 193.11    2.98 133.01 -60.59 101.97 190.91 284.56 453.44   1988    1.0\n",
      "y_pred[49] 151.27    2.86 127.74 -90.55  62.51 151.81 238.72 397.44   2000    1.0\n",
      "y_pred[50] 362.14    2.95  131.8  98.81 275.82  363.0 451.22 618.37   2000    1.0\n",
      "y_pred[51] 614.26     3.0 131.59 359.43 527.57 618.17 700.12 877.34   1920    1.0\n",
      "y_pred[52] 337.47    2.96 132.25   85.3 250.77  342.1 427.81 593.78   2000    1.0\n",
      "y_pred[53] 256.93    3.14 131.54  -5.46 168.52 256.83 342.01  515.7   1751    1.0\n",
      "y_pred[54] 298.23     2.9  129.7  36.68 210.37 300.09 385.56 541.75   2000    1.0\n",
      "y_pred[55] 111.29    2.99 133.91 -156.7   23.7 112.65 201.87 369.22   2000    1.0\n",
      "y_pred[56] 508.08    3.22 132.78  255.8 417.89 508.15 591.67 771.82   1696    1.0\n",
      "y_pred[57]  539.7    2.97 132.69 277.42  450.3 540.33  627.5 803.66   2000    1.0\n",
      "y_pred[58]  217.9    2.91 130.33 -35.79 128.04  220.4 304.02 466.76   2000    1.0\n",
      "y_pred[59] 255.66    2.92 130.61 -10.04  166.7 259.01  340.2 515.86   2000    1.0\n",
      "y_pred[60] 104.09    2.92 130.44 -145.6  13.14 106.95 192.02 354.47   2000    1.0\n",
      "y_pred[61]  91.93    3.03 135.45 -167.6  -0.21  97.72 184.52 352.15   2000    1.0\n",
      "y_pred[62]  557.7    3.03 135.35 292.38 467.57 557.88 646.18 823.27   2000    1.0\n",
      "y_pred[63] 290.62    3.17  130.8  32.15 205.64 292.37 376.53 553.62   1699    1.0\n",
      "y_pred[64] 109.29    3.02 134.88 -155.9  21.23 107.05 203.07  378.5   2000    1.0\n",
      "y_pred[65] 231.32    2.97 132.97 -32.96 138.99 231.68 323.66  487.3   2000    1.0\n",
      "y_pred[66] 110.51    2.95 131.81 -135.0  21.82 108.71  198.0 369.83   2000    1.0\n",
      "y_pred[67] 564.85    2.93 131.09 304.04 478.55 564.18  649.4 817.41   2000    1.0\n",
      "y_pred[68]  279.4    3.06 135.22  14.33 188.17 280.84  370.0 545.49   1952    1.0\n",
      "y_pred[69] 496.84    2.96 132.32 233.64 405.92 499.66 588.84 748.37   2000    1.0\n",
      "y_pred[70]  93.71     3.0 134.12 -171.9    0.3  91.66 184.38 359.46   2000    1.0\n",
      "y_pred[71] 173.49    2.93 130.82 -93.06  89.96 175.23 261.97 432.17   1996    1.0\n",
      "y_pred[72] 277.63     3.0 131.35  20.69 190.37 275.04 363.15 545.53   1913    1.0\n",
      "y_pred[73] 147.54    3.04 133.28 -109.3  55.83 148.11  233.6  404.8   1927    1.0\n",
      "y_pred[74] 131.44    2.88 128.21 -124.3  42.12 134.06 218.08 372.32   1983    1.0\n",
      "y_pred[75] 480.51    3.03 130.56 223.98 391.96 480.63 571.98 734.92   1860    1.0\n",
      "y_pred[76] 995.45    3.11 133.32 734.08 907.41 994.65 1082.2 1264.4   1842    1.0\n",
      "y_pred[77] 385.43    3.01 134.55 120.52 293.21 385.86 479.24 643.11   2000    1.0\n",
      "y_pred[78] 471.36    2.84 127.23 224.57 383.12 468.55 557.57 717.27   2000    1.0\n",
      "y_pred[79]  85.23    3.02 135.13 -183.5  -6.52  82.03 176.71 350.01   2000    1.0\n",
      "y_pred[80] 806.72     3.0  131.6 537.57 720.16 805.75 895.46 1057.4   1926    1.0\n",
      "y_pred[81] 541.44    2.95 129.14 285.88 456.23 539.41 625.28 803.73   1916    1.0\n",
      "y_pred[82] 383.14    2.93 131.01 126.82 292.57 382.48 468.22 639.74   2000    1.0\n",
      "y_pred[83] 166.74    2.97 127.69 -84.79  78.41  167.2 254.67 416.61   1850    1.0\n",
      "y_pred[84] 223.97    3.17  132.7 -29.44  137.6 218.97 309.98 481.13   1755    1.0\n",
      "y_pred[85] 1391.3    3.52 143.22 1095.7 1301.4 1392.5 1483.6 1666.6   1653    1.0\n",
      "y_pred[86] 346.71    2.95 131.87  86.71 260.26 344.68 433.39 600.22   2000    1.0\n",
      "y_pred[87] 579.64    2.98 133.16 311.96 489.83  583.1 668.89 834.79   2000    1.0\n",
      "y_pred[88] 181.82    2.95  129.9 -77.19  93.79 184.54 269.99 432.67   1933    1.0\n",
      "y_pred[89] 384.47    2.91 130.32 127.19 296.17 383.51 468.68  643.6   2000    1.0\n",
      "y_pred[90]  302.1    2.92 130.46   39.2 216.73  299.0 391.93 561.85   2000    1.0\n",
      "y_pred[91] 317.42    2.99 133.62  49.67 235.07 318.08  401.5  583.5   2000    1.0\n",
      "y_pred[92] 563.38     3.0 134.21 295.82 473.13 564.77 651.93 827.88   2000    1.0\n",
      "y_pred[93]  291.4    2.96 132.27  38.32 205.33 292.28  380.3 559.32   2000    1.0\n",
      "y_pred[94] 206.58    2.91 129.56 -47.54 118.03 202.25 296.97 459.94   1988    1.0\n",
      "y_pred[95] 122.13    3.04 133.58 -149.0  33.44 122.63 208.89  383.4   1930    1.0\n",
      "y_pred[96] 245.73    2.96 132.58 -17.55 157.63 246.35 340.53 492.77   2000    1.0\n",
      "y_pred[97] 687.21    3.03 130.74 430.36 598.81 690.38 768.93 946.33   1860   1.01\n",
      "y_pred[98] 311.34    2.89 129.26  61.12 224.87 309.58 395.18 578.36   2000    1.0\n",
      "y_pred[99] 432.67    2.99 133.79 168.43 341.89 434.98 523.64 694.68   2000    1.0\n",
      "e[0]       -158.1     0.3  13.49 -185.4 -166.9 -158.1 -149.1 -131.0   2000    1.0\n",
      "e[1]       -199.9    0.68  22.73 -246.1 -215.5 -199.6 -184.6 -154.3   1122    1.0\n",
      "e[2]        47.72    0.52  18.91   8.54  34.85  47.55  60.31  85.01   1328    1.0\n",
      "e[3]       -174.2    0.56  19.81 -215.2 -187.7 -174.4 -161.0 -134.9   1262    1.0\n",
      "e[4]       -191.7    0.56  19.81 -232.6 -205.1 -191.8 -178.4 -152.4   1262    1.0\n",
      "e[5]        84.23    0.64  20.11  44.89  70.62  84.47  98.23  122.2   1000    1.0\n",
      "e[6]       -66.09     0.3  13.53 -93.38  -75.1 -66.04 -56.97 -39.76   2000    1.0\n",
      "e[7]       -52.54     0.3  13.35 -79.34 -61.62 -52.54 -43.61  -26.8   2000    1.0\n",
      "e[8]       -95.39    0.72  23.87 -143.1 -111.8  -95.1 -79.47 -46.91   1086    1.0\n",
      "e[9]        90.98    0.53  17.76  55.95   78.7  91.21 103.37 124.52   1115    1.0\n",
      "e[10]       28.58    0.53  17.76  -6.45   16.3  28.81  40.97  62.12   1115    1.0\n",
      "e[11]      -254.9     1.2   36.2 -326.0 -278.9 -254.5 -230.8 -182.8    912    1.0\n",
      "e[12]       -2.11     0.4   15.0 -31.93 -12.29  -2.18   8.45  26.67   1434    1.0\n",
      "e[13]        18.6    0.45   16.1 -13.11   7.55  18.71  30.05   49.1   1268    1.0\n",
      "e[14]       79.09    0.48   16.6  46.07  67.75  79.14  90.73  110.2   1212    1.0\n",
      "e[15]       31.36    0.54  17.85  -3.78  19.06  31.56  43.87  65.05   1110    1.0\n",
      "e[16]       24.05    0.46  16.31  -8.19  12.95   24.1  35.53  54.81   1243    1.0\n",
      "e[17]       62.72    0.53  17.72  27.75  50.46  63.01  75.12  96.15   1118    1.0\n",
      "e[18]        1.54    0.46  16.17 -30.35  -9.47   1.68  12.98  32.13   1260    1.0\n",
      "e[19]       62.38    0.31  13.66  34.57  53.51  62.33  71.54  89.91   2000    1.0\n",
      "e[20]      -176.6    0.32  14.25 -205.6 -185.9 -176.6 -167.0 -148.6   2000    1.0\n",
      "e[21]       32.78    0.54  18.01  -2.62  20.35  32.96  45.35  66.79   1099    1.0\n",
      "e[22]       20.78    0.31  13.95  -7.83   11.6  20.84  30.11  48.65   2000    1.0\n",
      "e[23]       38.56    0.47   17.9   1.64  26.72  38.23  50.78  73.66   1421    1.0\n",
      "e[24]       26.87    0.32  13.76  -1.08  17.58  26.99  36.39  53.72   1812    1.0\n",
      "e[25]      115.48    0.74  24.18  67.23  98.88 115.77 131.65 164.69   1077    1.0\n",
      "e[26]      127.27    0.46  16.22  95.26 116.25 127.39 138.71  157.9   1255    1.0\n",
      "e[27]       24.43     0.3  13.37  -2.71  15.63  24.31  33.26  51.28   2000    1.0\n",
      "e[28]      -148.4     0.3  13.48 -175.6 -157.2 -148.4 -139.3 -121.2   2000    1.0\n",
      "e[29]      -18.91    0.33  13.84 -47.04 -28.23 -18.75  -9.32   8.03   1773    1.0\n",
      "e[30]      -130.5    0.31  13.72 -158.3 -139.7 -130.4 -121.0 -103.7   2000    1.0\n",
      "e[31]      -259.3     0.5  18.42 -297.2 -271.8 -259.5 -246.9 -223.1   1370    1.0\n",
      "e[32]      439.76    1.97  57.09 327.87  402.3 439.66 478.18 549.21    841    1.0\n",
      "e[33]       37.99    0.51  17.28   3.59  26.01  38.09  50.06  70.53   1151    1.0\n",
      "e[34]      109.16    0.63  20.07  69.89  95.56 109.36  123.1 147.07   1001    1.0\n",
      "e[35]       37.99    0.51  17.28   3.59  26.01  38.09  50.06  70.53   1151    1.0\n",
      "e[36]       61.39    0.51  17.28  26.99  49.41  61.49  73.46  93.93   1151    1.0\n",
      "e[37]       -7.36    0.29  13.15  -33.9 -16.03  -7.41    1.5  18.51   2000    1.0\n",
      "e[38]       59.69    0.46  16.34  27.38  48.59  59.73  71.18  90.48   1240    1.0\n",
      "e[39]      -219.2    0.56  19.96 -260.5 -232.7 -219.3 -205.8 -179.5   1253    1.0\n",
      "e[40]      -136.5     0.3  13.32 -163.3 -145.5 -136.5 -127.6 -110.8   2000    1.0\n",
      "e[41]       96.55    0.43  15.58   65.6  85.89  96.66  107.6 126.18   1336    1.0\n",
      "e[42]      109.34    0.73  22.31  65.88  94.26 109.85 124.85 151.98    937    1.0\n",
      "e[43]      -11.72     0.3  13.61 -39.16 -20.88 -11.63  -2.39  14.76   2000    1.0\n",
      "e[44]      -38.02    0.29  13.16 -64.81 -46.68 -38.06 -29.13 -12.45   2000    1.0\n",
      "e[45]      -11.13    0.35  14.21 -39.06 -20.61 -11.11  -1.27  16.14   1632    1.0\n",
      "e[46]      367.28    0.94  29.38 309.08 347.71 367.65 386.94 427.15    977    1.0\n",
      "e[47]       -62.9    0.33  14.54 -92.19 -72.54 -62.92  -53.1 -34.94   2000    1.0\n",
      "e[48]       -6.87    0.44  15.83 -38.28 -17.69  -6.65   4.47  23.05   1302    1.0\n",
      "e[49]       37.99    0.51  17.28   3.59  26.01  38.09  50.06  70.53   1151    1.0\n",
      "e[50]      -16.09    0.29  13.14 -42.63 -24.88 -16.11   -7.2    9.8   2000    1.0\n",
      "e[51]      267.42    0.51  18.68 228.88 254.84 267.22 279.93 304.04   1347    1.0\n",
      "e[52]      112.47    0.29  13.19  85.96  103.7 112.48 121.35 138.09   2000    1.0\n",
      "e[53]      -73.63    0.35  14.21 -101.5 -83.11 -73.61 -63.77 -46.36   1632    1.0\n",
      "e[54]      -66.09     0.3  13.53 -93.38  -75.1 -66.04 -56.97 -39.76   2000    1.0\n",
      "e[55]       78.62    0.56  18.46  42.48  65.91  78.88  91.58 113.53   1073    1.0\n",
      "e[56]      -193.2    0.34  15.11 -224.1 -203.2 -193.3 -183.2 -164.3   2000    1.0\n",
      "e[57]       64.08    0.36   15.9  31.06  53.73  63.92  74.97  94.63   2000    1.0\n",
      "e[58]       101.4     0.4  15.15  71.28  91.06 101.43 112.08 130.48   1405    1.0\n",
      "e[59]      -62.86    0.35  14.16 -90.76 -72.32 -62.82 -53.04 -35.73   1647    1.0\n",
      "e[60]       41.16    0.58  18.77   4.38  28.35  41.44  54.22  76.69   1057    1.0\n",
      "e[61]       57.55     0.6   19.3  19.89  44.44   57.9  71.05  93.87   1032    1.0\n",
      "e[62]        34.7    0.37  16.65   0.05   23.9  34.47  46.17   66.8   2000    1.0\n",
      "e[63]      120.58     0.3  13.62   93.1 111.41 120.64 129.94 147.07   2000    1.0\n",
      "e[64]       69.16    0.57  18.67  32.58  56.41  69.44  82.18 104.48   1062    1.0\n",
      "e[65]       20.17    0.39  14.82  -9.18   10.2  20.12  30.55  48.59   1471    1.0\n",
      "e[66]       77.17    0.56  18.31   41.2  64.55  77.43  90.07 111.87   1081    1.0\n",
      "e[67]      -169.0    0.38  17.02 -204.2 -180.1 -169.1 -157.4 -135.9   2000    1.0\n",
      "e[68]      -51.19    0.33  13.83 -79.27 -60.49 -51.05  -41.6 -24.27   1780    1.0\n",
      "e[69]      -18.57    0.33  14.85 -48.56  -28.4  -18.7  -8.58   9.88   2000    1.0\n",
      "e[70]       57.69     0.6  19.36  19.91  44.55   58.0  71.29  94.15   1030    1.0\n",
      "e[71]      -10.02    0.47  16.37  -42.4 -21.18  -10.0   1.46  20.81   1237    1.0\n",
      "e[72]       -65.4    0.33  13.89 -93.62  -74.7 -65.26 -55.77 -38.41   1751    1.0\n",
      "e[73]        55.9     0.5  17.12  21.72   44.1  55.98  67.88  88.02   1164    1.0\n",
      "e[74]        48.6    0.53  17.83  13.49   36.3  48.82  61.11  82.25   1111    1.0\n",
      "e[75]      -129.5    0.33  14.54 -158.8 -139.2 -129.5 -119.7 -101.6   2000    1.0\n",
      "e[76]       60.98    1.16  35.29  -8.38  37.58  61.42   84.4 131.08    918    1.0\n",
      "e[77]      -127.5     0.3  13.21 -154.1 -136.1 -127.6 -118.7 -101.2   2000    1.0\n",
      "e[78]      -81.89    0.32  14.33 -111.2 -91.35 -81.92 -72.23 -53.93   2000    1.0\n",
      "e[79]       70.07    0.61  19.51  31.98  56.79  70.26  83.77 106.91   1023    1.0\n",
      "e[80]      -170.7    0.83  26.61 -223.2 -188.5 -170.7 -153.1 -116.2   1021    1.0\n",
      "e[81]      -80.68    0.36  16.06 -114.0 -91.04 -80.88 -69.69 -49.73   2000    1.0\n",
      "e[82]      399.82    0.29  13.18 373.09 391.19  399.7 408.66 426.02   2000    1.0\n",
      "e[83]        9.53    0.47   16.5 -23.17  -1.68   9.56  21.09  40.51   1223    1.0\n",
      "e[84]       18.57     0.4  15.02 -11.29   8.38  18.52  29.13  47.41   1429    1.0\n",
      "e[85]      362.37     1.9  55.14 254.04 326.46 362.46 399.38 468.24    844    1.0\n",
      "e[86]      -130.1    0.29  13.17 -156.8 -138.8 -130.1 -121.2 -104.5   2000    1.0\n",
      "e[87]      -75.49    0.45  17.32 -110.9 -86.81 -75.67 -63.77  -41.7   1488    1.0\n",
      "e[88]       13.34    0.45  16.15  -18.5   2.32  13.52  24.76   43.9   1262    1.0\n",
      "e[89]      -169.8     0.3   13.2 -196.3 -178.4 -169.9 -160.9 -143.5   2000    1.0\n",
      "e[90]      -37.49     0.3  13.51 -64.79 -46.44 -37.44 -28.37 -11.13   2000    1.0\n",
      "e[91]      -93.08     0.3  13.37 -120.0 -102.1 -93.04  -84.1  -67.2   2000    1.0\n",
      "e[92]      -280.6    0.37  16.73 -315.4 -291.4 -280.8 -269.1 -248.3   2000    1.0\n",
      "e[93]       98.56    0.31  13.65  71.03  89.42  98.65  107.9 125.08   2000    1.0\n",
      "e[94]       -5.82    0.42  15.55 -36.74 -16.49  -5.74   5.23  23.83   1340    1.0\n",
      "e[95]       85.68    0.55  18.06   50.2  73.24  85.86  98.31 119.81   1096    1.0\n",
      "e[96]      -24.12    0.37  14.48 -52.66 -33.78 -24.18 -14.02   3.66   1552    1.0\n",
      "e[97]      -83.25    0.63  21.43 -126.7 -97.95 -83.03 -68.57 -40.11   1175    1.0\n",
      "e[98]       12.59     0.3  13.39 -14.43   3.52  12.67  21.62  38.56   2000    1.0\n",
      "e[99]        -5.8     0.3  13.59 -33.65  -14.7   -5.8   3.28   21.5   2000    1.0\n",
      "Y_new[0]   -83.02    3.05 133.39 -362.1 -172.0 -81.71  10.02 168.89   1907    1.0\n",
      "Y_new[1]   -70.84    3.09 133.48 -330.9 -160.7 -72.43  17.76 194.75   1870    1.0\n",
      "Y_new[2]   -49.77    3.08 135.21 -313.3 -143.3 -46.65   40.5 217.53   1925    1.0\n",
      "Y_new[3]    -36.9    3.19 132.71 -291.7 -127.7 -34.56  47.53 228.15   1726    1.0\n",
      "Y_new[4]   -22.85    2.93 127.94 -263.5 -108.2 -25.85  64.66 226.18   1906    1.0\n",
      "Y_new[5]     -5.5    3.07  137.3 -273.7  -99.7  -9.29  84.96  273.1   2000    1.0\n",
      "Y_new[6]     8.29    2.81 125.34 -242.7 -73.99   8.83  95.14  255.2   1988    1.0\n",
      "Y_new[7]    20.27    2.95 131.96 -242.7 -66.99  20.39 105.71 278.43   2000    1.0\n",
      "Y_new[8]    38.26    3.19 135.16 -220.9 -50.63  36.51 131.02 313.53   1796    1.0\n",
      "Y_new[9]    49.09    3.08 135.46 -220.7  -40.6  47.83 135.86 324.64   1934    1.0\n",
      "Y_new[10]    64.5    2.95  131.0 -189.2 -23.25  61.25 152.79 326.16   1977    1.0\n",
      "Y_new[11]   76.07    2.97 130.59 -189.3 -12.91  79.47 163.46 337.78   1933    1.0\n",
      "Y_new[12]   93.68    3.02 134.84 -173.3   3.84  97.05 180.73 362.27   2000    1.0\n",
      "Y_new[13]  105.92    3.19 134.99 -151.8  14.29 107.19 201.54  352.7   1795    1.0\n",
      "Y_new[14]  124.47    3.07 132.59 -137.7  33.87 126.81 218.39 375.53   1869    1.0\n",
      "Y_new[15]  138.07    3.15 127.44 -104.5  54.92  136.3 222.51 392.04   1635    1.0\n",
      "Y_new[16]  146.37    2.97 132.96 -113.5  57.05 146.26 238.71 406.49   2000    1.0\n",
      "Y_new[17]  158.47     3.0 131.69 -99.22  71.85 155.38 244.86 418.65   1929    1.0\n",
      "Y_new[18]  173.99    2.96 132.31 -92.46  85.22 175.56 263.25 423.95   2000    1.0\n",
      "Y_new[19]  190.57    3.04 134.24 -70.88 100.75 190.33 277.96 461.53   1955    1.0\n",
      "Y_new[20]  208.35     3.0 133.51  -53.0 118.42 207.07 298.23  468.7   1981    1.0\n",
      "Y_new[21]  216.47    2.94 131.36 -52.61 134.04 214.76 301.51 480.02   2000    1.0\n",
      "Y_new[22]  235.11    3.02 132.41  -9.44 142.84 231.67 326.08 495.51   1928    1.0\n",
      "Y_new[23]  251.19    2.93 131.08   -0.3 162.61 252.09 341.25 507.91   2000    1.0\n",
      "Y_new[24]  259.97    2.94 130.44   3.16 171.98 257.96 346.87 519.69   1968    1.0\n",
      "Y_new[25]  274.11    2.94 131.64  16.08 187.26  275.8  364.4 528.58   2000    1.0\n",
      "Y_new[26]  289.66    2.94 131.52  30.96 201.07 289.21 376.07 546.01   1998    1.0\n",
      "Y_new[27]  307.35    2.99 133.89  48.67 220.12 304.82 398.77 571.39   2000    1.0\n",
      "Y_new[28]  319.38    2.92 130.72  71.45 229.63 317.19 406.52 583.04   2000    1.0\n",
      "Y_new[29]  332.43    2.91 130.31  71.18 246.27 331.16 418.55 585.32   2000    1.0\n",
      "Y_new[30]  346.88    2.97  132.7  93.78 256.68 345.13 438.74 600.46   2000    1.0\n",
      "Y_new[31]  365.04    3.03 130.47  109.4  278.8 366.09 450.51 630.58   1860    1.0\n",
      "Y_new[32]  367.77    3.01 131.27 107.44 277.98 367.15  457.5  628.0   1900    1.0\n",
      "Y_new[33]  389.46    2.99 130.82 127.36 301.85 390.64 477.95 638.57   1912    1.0\n",
      "Y_new[34]   401.7    3.17 130.48 146.03 312.48 399.39 486.54 664.45   1694    1.0\n",
      "Y_new[35]  414.15    2.96 132.26 152.76 325.95 414.84 501.94 675.14   2000    1.0\n",
      "Y_new[36]  426.09    3.08 131.22 161.49  341.9 423.56  515.2 678.69   1816    1.0\n",
      "Y_new[37]  443.59     3.0 132.95 186.35 355.59 440.18  529.9 706.46   1966    1.0\n",
      "Y_new[38]  459.44    3.08 133.72 197.87 366.79 460.51 550.42 722.31   1883    1.0\n",
      "Y_new[39]  474.84    3.01 131.43 215.23 388.25 472.58 564.09 739.72   1902    1.0\n",
      "Y_new[40]  486.54     3.0 134.27 207.29 400.91 488.22 573.76 740.44   2000    1.0\n",
      "Y_new[41]  499.04    3.08 131.55 240.47 414.26 496.03 583.53 765.36   1820    1.0\n",
      "Y_new[42]  517.15    2.99 132.33 259.07 430.13  518.6 602.81 787.01   1962    1.0\n",
      "Y_new[43]   527.6    2.99 130.96 285.16 436.26 522.68 616.15 788.26   1917    1.0\n",
      "Y_new[44]  538.61    2.95 132.12 289.42 448.45 536.66 628.87 800.75   2000    1.0\n",
      "Y_new[45]  555.12    2.94 129.39  307.0 468.52 549.53 641.66 810.65   1938    1.0\n",
      "Y_new[46]  575.44    3.24 135.02 299.17 485.65 577.02 664.52  832.8   1739    1.0\n",
      "Y_new[47]  586.81    2.93 130.54 319.94 499.11 586.67 673.65 845.32   1986    1.0\n",
      "Y_new[48]  597.19    3.23 132.04 341.17 507.42 593.91  685.7  853.2   1671    1.0\n",
      "Y_new[49]  620.95    3.16 135.61 346.38 537.35 618.51 713.28 879.27   1844    1.0\n",
      "Y_new[50]  626.59    3.13 131.17 371.18 540.51 627.05 715.62 875.55   1757    1.0\n",
      "Y_new[51]  642.47    3.09  133.1 385.95 555.68  644.3 734.27 903.36   1859    1.0\n",
      "Y_new[52]  659.82    2.99 132.67 413.78 569.67 657.76 749.46 924.02   1968    1.0\n",
      "Y_new[53]  673.15    2.93 131.19  422.7 586.94 673.86 764.55 923.85   2000    1.0\n",
      "Y_new[54]  687.82    3.16 135.71 418.87 592.42 689.45 780.19 952.51   1848    1.0\n",
      "Y_new[55]  698.45     3.2 136.11 423.71 608.65 701.14  792.5 952.43   1805    1.0\n",
      "Y_new[56]  710.75    3.07 131.15 449.99  619.7 713.15 796.24 962.84   1820    1.0\n",
      "Y_new[57]  728.53    3.08 137.78 452.17 636.69 727.62 822.65 1002.1   2000    1.0\n",
      "Y_new[58]  740.91    3.03 132.49 475.79 652.11 742.51 829.37 997.22   1907    1.0\n",
      "Y_new[59]  753.08     3.0 134.31 489.18  662.5 750.28 843.53 1018.5   2000    1.0\n",
      "Y_new[60]  770.04    3.04 132.36  513.5 682.85 771.83 858.54 1027.1   1890    1.0\n",
      "Y_new[61]  781.57    3.14 135.97 513.06 691.12 783.09 867.69 1052.1   1870    1.0\n",
      "Y_new[62]  797.23    2.96  132.3 543.25 705.62 794.88  884.5 1059.3   2000    1.0\n",
      "Y_new[63]  812.87    3.04 135.94 547.49 717.12 817.53 900.64 1079.9   2000    1.0\n",
      "Y_new[64]   823.5    3.18 134.45 556.25 734.63 824.12 914.86 1092.8   1786    1.0\n",
      "Y_new[65]  840.76    3.02 135.08 574.86 751.45 840.43 930.65 1115.9   2000    1.0\n",
      "Y_new[66]  855.69    3.05 132.45  588.1 770.71 855.03 944.74 1107.7   1886    1.0\n",
      "Y_new[67]  871.55    3.15 138.28 606.32 776.55 868.27 965.75 1146.3   1925    1.0\n",
      "Y_new[68]  881.52    3.06 136.75  606.4 789.15  881.4 973.87 1143.5   2000    1.0\n",
      "Y_new[69]   896.5    3.06  134.2 626.23 808.67 894.55 986.56 1167.9   1919    1.0\n",
      "Y_new[70]  908.04     3.0 132.88 644.19 818.15 907.63 991.16 1170.7   1968    1.0\n",
      "Y_new[71]  925.94    3.08 135.64 657.39 839.98 924.81 1015.2 1191.2   1936    1.0\n",
      "Y_new[72]  938.97    3.06 137.04 666.45 842.31 942.94 1028.9 1204.9   2000    1.0\n",
      "Y_new[73]  945.55    3.23 142.36 666.16 851.25  945.7 1037.8 1230.9   1941    1.0\n",
      "Y_new[74]  967.29    3.52 130.55 719.75 877.82 968.53 1057.8 1226.0   1375    1.0\n",
      "Y_new[75]  979.97    3.05 136.34 710.63 884.11 983.75 1074.6 1239.1   2000    1.0\n",
      "Y_new[76]  994.07    3.13 138.58 722.59 902.64 996.13 1085.9 1268.4   1963    1.0\n",
      "Y_new[77]  1002.8    3.06 134.54 741.99 911.39 1001.9 1095.2 1264.5   1936    1.0\n",
      "Y_new[78]  1023.0    3.12 139.75 749.59 926.18 1023.4 1120.0 1286.4   2000    1.0\n",
      "Y_new[79]  1039.6    3.17 136.35 776.85 947.69 1040.7 1128.1 1317.7   1845    1.0\n",
      "Y_new[80]  1052.3    3.04 135.19 784.33 962.83 1052.1 1147.4 1314.0   1979    1.0\n",
      "Y_new[81]  1058.0    3.26 139.73 782.11 965.03 1063.2 1150.4 1328.5   1832    1.0\n",
      "Y_new[82]  1085.8    3.04 133.75 820.62 998.21 1087.3 1178.5 1343.4   1940    1.0\n",
      "Y_new[83]  1093.8    3.12 136.18 823.91 1003.6 1092.2 1183.3 1359.7   1905    1.0\n",
      "Y_new[84]  1107.3    3.06 137.07 831.15 1016.3 1108.0 1201.1 1368.8   2000    1.0\n",
      "Y_new[85]  1122.7    3.58 136.35 853.79 1034.5 1119.4 1212.2 1392.9   1453    1.0\n",
      "Y_new[86]  1138.0    3.17 136.56 876.99 1043.9 1136.3 1230.1 1409.5   1858    1.0\n",
      "Y_new[87]  1154.3    3.11 134.59 882.89 1063.4 1152.3 1247.0 1418.8   1871    1.0\n",
      "Y_new[88]  1165.7    3.09 138.29 884.88 1079.8 1164.5 1256.7 1434.4   2000    1.0\n",
      "Y_new[89]  1176.4    3.32 136.39 902.91 1086.4 1177.9 1267.2 1440.7   1686    1.0\n",
      "Y_new[90]  1190.7    3.42 134.69 919.42 1098.7 1189.5 1278.3 1458.3   1550    1.0\n",
      "Y_new[91]  1207.2     3.5 138.86 929.34 1115.0 1205.4 1295.4 1491.3   1575    1.0\n",
      "Y_new[92]  1218.5     3.4 143.35 931.95 1123.1 1217.6 1312.9 1501.0   1777    1.0\n",
      "Y_new[93]  1231.1     3.3 138.41 955.51 1139.5 1228.7 1322.5 1510.2   1760    1.0\n",
      "Y_new[94]  1252.2    3.29  139.7 974.88 1156.2 1252.1 1347.7 1536.3   1804    1.0\n",
      "Y_new[95]  1262.9    3.56 139.73 981.91 1171.2 1267.1 1357.1 1531.4   1544    1.0\n",
      "Y_new[96]  1280.8    3.17 138.38 997.39 1189.7 1281.2 1372.7 1551.8   1904    1.0\n",
      "Y_new[97]  1286.9    3.28 137.75 1016.2 1192.9 1287.7 1384.4 1554.7   1767    1.0\n",
      "Y_new[98]  1307.4    3.33 143.01 1032.5 1211.3 1306.7 1404.8 1590.9   1845    1.0\n",
      "Y_new[99]  1317.1    3.18  138.3 1036.1 1225.2 1318.9 1411.6 1577.8   1897    1.0\n",
      "Y_new[100] 1338.8    3.63 137.82 1066.0 1244.8 1341.8 1432.5 1600.2   1445    1.0\n",
      "Y_new[101] 1347.3    3.53 142.68 1060.4 1253.9 1346.6 1445.7 1620.5   1631    1.0\n",
      "Y_new[102] 1365.3    3.49 142.75 1084.3 1270.9 1366.3 1461.6 1643.3   1676    1.0\n",
      "Y_new[103] 1371.5     3.5 142.77 1091.1 1274.4 1372.1 1467.4 1654.5   1668    1.0\n",
      "Y_new[104] 1394.8    3.39 143.37 1113.7 1298.7 1394.3 1484.0 1687.2   1793    1.0\n",
      "Y_new[105] 1408.4    3.55 140.18 1143.7 1308.3 1408.3 1506.4 1677.6   1560    1.0\n",
      "Y_new[106] 1415.2    3.44  141.9 1139.9 1319.8 1410.1 1508.7 1705.4   1702    1.0\n",
      "Y_new[107] 1435.8    3.44  142.4 1161.1 1343.0 1432.4 1528.3 1714.3   1718    1.0\n",
      "Y_new[108] 1444.5    4.13 149.49 1137.5 1347.3 1443.2 1544.6 1734.8   1310    1.0\n",
      "Y_new[109] 1462.8    3.49 147.04 1177.3 1364.9 1459.4 1561.2 1744.5   1773    1.0\n",
      "Y_new[110] 1473.8    3.63 140.19 1195.8 1381.8 1471.4 1564.7 1748.2   1495    1.0\n",
      "Y_new[111] 1496.0     3.7 142.28 1211.8 1403.4 1500.3 1589.2 1773.9   1478    1.0\n",
      "Y_new[112] 1500.2    3.37 143.43 1214.6 1410.4 1501.3 1591.0 1779.6   1810    1.0\n",
      "Y_new[113] 1522.1    3.53 143.42 1237.5 1429.6 1523.0 1617.6 1800.5   1652    1.0\n",
      "Y_new[114] 1532.2    3.34 144.15 1261.1 1433.2 1531.5 1629.4 1809.7   1861    1.0\n",
      "lp__       -531.8    0.04   1.23 -535.1 -532.4 -531.5 -531.0 -530.4    777    1.0\n",
      "\n",
      "Samples were drawn using NUTS at Fri Apr  7 18:41:55 2017.\n",
      "For each parameter, n_eff is a crude measure of effective sample size,\n",
      "and Rhat is the potential scale reduction factor on split chains (at \n",
      "convergence, Rhat=1).\n"
     ]
    }
   ],
   "source": [
    "print(fit_1)"
   ]
  },
  {
   "cell_type": "markdown",
   "metadata": {},
   "source": [
    "予測分布を書く関数"
   ]
  },
  {
   "cell_type": "code",
   "execution_count": 6,
   "metadata": {
    "collapsed": true
   },
   "outputs": [],
   "source": [
    "def plot_pred_range(fit, xs, ys_key, percentiles, alpha):\n",
    "    ys = (fit.extract(permuted=True))[ys_key].T\n",
    "    plt.fill_between( \\\n",
    "        xs, \\\n",
    "        [np.percentile(y, percentiles[0]) for y in ys], \\\n",
    "        [np.percentile(y, percentiles[1]) for y in ys], alpha=alpha)"
   ]
  },
  {
   "cell_type": "markdown",
   "metadata": {},
   "source": [
    "予測分布"
   ]
  },
  {
   "cell_type": "code",
   "execution_count": 7,
   "metadata": {
    "collapsed": false
   },
   "outputs": [
    {
     "data": {
      "image/png": "[encoded data removed]",
      "text/plain": [
       "<matplotlib.figure.Figure at 0x11bb006d8>"
      ]
     },
     "metadata": {},
     "output_type": "display_data"
    }
   ],
   "source": [
    "plt.plot(data_1['Area'], data_1['Y'], \"o\")\n",
    "plot_pred_range(fit_1, data_1['Area_new'], 'Y_new', (10, 90), 0.25)\n",
    "plot_pred_range(fit_1, data_1['Area_new'], 'Y_new', (25, 75), 0.5)\n",
    "plt.show()"
   ]
  },
  {
   "cell_type": "markdown",
   "metadata": {},
   "source": [
    "誤差のヒストグラム"
   ]
  },
  {
   "cell_type": "code",
   "execution_count": 8,
   "metadata": {
    "collapsed": false
   },
   "outputs": [
    {
     "data": {
      "image/png": "[encoded data removed]",
      "text/plain": [
       "<matplotlib.figure.Figure at 0x11a490860>"
      ]
     },
     "metadata": {},
     "output_type": "display_data"
    }
   ],
   "source": [
    "def hist_error(fit):\n",
    "    plt.hist((fit.extract(permuted=True))['e'].flatten(), bins=100, alpha=0.5);\n",
    "hist_error(fit_1)"
   ]
  },
  {
   "cell_type": "markdown",
   "metadata": {},
   "source": [
    "変数変換する場合"
   ]
  },
  {
   "cell_type": "code",
   "execution_count": 9,
   "metadata": {
    "collapsed": true
   },
   "outputs": [],
   "source": [
    "model_1a = \"\"\"\n",
    "data {\n",
    "  int N;\n",
    "  int N_new;\n",
    "  real<lower=0> Area[N];\n",
    "  real<lower=0> Area_new[N_new];\n",
    "  real<lower=0> Y[N];\n",
    "}\n",
    "\n",
    "parameters {\n",
    "  real b1;\n",
    "  real b2;\n",
    "  real<lower=0> sigma;\n",
    "}\n",
    "\n",
    "transformed parameters {\n",
    "  real mu[N];\n",
    "  for (n in 1:N)\n",
    "    mu[n] = b1 + b2*log(Area[n]);\n",
    "}\n",
    "\n",
    "model {\n",
    "  for (n in 1:N)\n",
    "    log(Y[n]) ~ normal(mu[n], sigma);\n",
    "}\n",
    "\n",
    "generated quantities {\n",
    "  real y_pred[N];\n",
    "  real e[N];\n",
    "  real Y_new[N_new];\n",
    "  for (n in 1:N) {\n",
    "    y_pred[n] = exp(normal_rng(mu[n], sigma));\n",
    "    e[n] = log(Y[n]) - mu[n];\n",
    "  }\n",
    "  for (n in 1:N_new)\n",
    "    Y_new[n] = exp(normal_rng(b1 + b2*log(Area_new[n]), sigma));\n",
    "}\n",
    "\"\"\""
   ]
  },
  {
   "cell_type": "code",
   "execution_count": 10,
   "metadata": {
    "collapsed": false
   },
   "outputs": [
    {
     "name": "stderr",
     "output_type": "stream",
     "text": [
      "INFO:pystan:COMPILING THE C++ CODE FOR MODEL anon_model_782ff4b375e8941d35cf9a11725ee848 NOW.\n"
     ]
    }
   ],
   "source": [
    "fit_1a = pystan.stan(model_code=model_1a, data=data_1, iter=1000, chains=4)"
   ]
  },
  {
   "cell_type": "code",
   "execution_count": 11,
   "metadata": {
    "collapsed": false
   },
   "outputs": [
    {
     "name": "stdout",
     "output_type": "stream",
     "text": [
      "Inference for Stan model: anon_model_782ff4b375e8941d35cf9a11725ee848.\n",
      "4 chains, each with iter=1000; warmup=500; thin=1; \n",
      "post-warmup draws per chain=500, total post-warmup draws=2000.\n",
      "\n",
      "             mean se_mean     sd   2.5%    25%    50%    75%  97.5%  n_eff   Rhat\n",
      "b1           1.85  6.6e-3   0.19   1.48   1.72   1.84   1.97    2.2    807    1.0\n",
      "b2           1.11  1.9e-3   0.05   1.01   1.07   1.11   1.14   1.21    798    1.0\n",
      "sigma        0.26  7.4e-4   0.02   0.22   0.24   0.26   0.27    0.3    724   1.01\n",
      "mu[0]        5.94  6.9e-4   0.03   5.89   5.92   5.94   5.96    6.0   1598    1.0\n",
      "mu[1]        6.41  1.3e-3   0.04   6.33   6.38   6.41   6.44   6.49   1053    1.0\n",
      "mu[2]        6.28  1.1e-3   0.04   6.21   6.25   6.28    6.3   6.35   1141    1.0\n",
      "mu[3]        6.31  1.1e-3   0.04   6.24   6.29   6.31   6.34   6.39   1116    1.0\n",
      "mu[4]        6.31  1.1e-3   0.04   6.24   6.29   6.31   6.34   6.39   1116    1.0\n",
      "mu[5]        4.88  1.5e-3   0.05   4.78   4.84   4.88   4.91   4.97    966    1.0\n",
      "mu[6]        5.68  6.1e-4   0.03   5.63   5.66   5.68    5.7   5.73   1788    1.0\n",
      "mu[7]        5.72  5.7e-4   0.03   5.67    5.7   5.72   5.74   5.77   2000    1.0\n",
      "mu[8]        6.44  1.3e-3   0.04   6.36   6.41   6.44   6.47   6.53   1035    1.0\n",
      "mu[9]        5.16  1.1e-3   0.04   5.08   5.13   5.16   5.18   5.23   1099    1.0\n",
      "mu[10]       5.16  1.1e-3   0.04   5.08   5.13   5.16   5.18   5.23   1099    1.0\n",
      "mu[11]       6.73  1.8e-3   0.05   6.63   6.69   6.73   6.77   6.84    936    1.0\n",
      "mu[12]       5.47  7.4e-4   0.03   5.41   5.45   5.47   5.49   5.52   1467    1.0\n",
      "mu[13]       5.34  8.8e-4   0.03   5.28   5.32   5.34   5.36    5.4   1282    1.0\n",
      "mu[14]       5.29  9.5e-4   0.03   5.22   5.27   5.29   5.31   5.35   1215    1.0\n",
      "mu[15]       5.15  1.1e-3   0.04   5.07   5.12   5.15   5.18   5.22   1092    1.0\n",
      "mu[16]       5.32  9.1e-4   0.03   5.26    5.3   5.32   5.34   5.38   1252    1.0\n",
      "mu[17]       5.16  1.1e-3   0.04   5.09   5.14   5.16   5.19   5.24   1102    1.0\n",
      "mu[18]       5.34  8.9e-4   0.03   5.27   5.31   5.34   5.36    5.4   1272    1.0\n",
      "mu[19]       5.97  7.2e-4   0.03   5.91   5.95   5.97   5.99   6.02   1552    1.0\n",
      "mu[20]       6.03  7.8e-4   0.03   5.97   6.01   6.03   6.05   6.09   1442    1.0\n",
      "mu[21]       5.13  1.2e-3   0.04   5.05   5.11   5.13   5.16   5.21   1080    1.0\n",
      "mu[22]        6.0  7.5e-4   0.03   5.95   5.98    6.0   6.02   6.06   1490    1.0\n",
      "mu[23]       6.24  1.0e-3   0.04   6.17   6.21   6.24   6.26   6.31   1176    1.0\n",
      "mu[24]       5.64  6.2e-4   0.03   5.58   5.62   5.64   5.65   5.69   1742    1.0\n",
      "mu[25]       6.45  1.3e-3   0.04   6.37   6.42   6.45   6.48   6.54   1031    1.0\n",
      "mu[26]       5.33  9.0e-4   0.03   5.27   5.31   5.33   5.35   5.39   1266    1.0\n",
      "mu[27]       5.92  6.7e-4   0.03   5.87    5.9   5.92   5.94   5.97   1640    1.0\n",
      "mu[28]       5.94  6.9e-4   0.03   5.89   5.92   5.94   5.96   5.99   1601    1.0\n",
      "mu[29]       5.62  6.3e-4   0.03   5.57   5.61   5.62   5.64   5.67   1723    1.0\n",
      "mu[30]       5.64  6.2e-4   0.03   5.59   5.63   5.64   5.66   5.69   1750    1.0\n",
      "mu[31]       6.26  1.1e-3   0.04   6.19   6.24   6.26   6.28   6.33   1157    1.0\n",
      "mu[32]       7.07  2.3e-3   0.07   6.94   7.02   7.07   7.12   7.21    884    1.0\n",
      "mu[33]       5.21  1.1e-3   0.04   5.14   5.19   5.21   5.24   5.28   1141    1.0\n",
      "mu[34]       4.88  1.5e-3   0.05   4.79   4.85   4.88   4.91   4.97    967    1.0\n",
      "mu[35]       5.21  1.1e-3   0.04   5.14   5.19   5.21   5.24   5.28   1141    1.0\n",
      "mu[36]       5.21  1.1e-3   0.04   5.14   5.19   5.21   5.24   5.28   1141    1.0\n",
      "mu[37]       5.84  6.3e-4   0.03   5.79   5.83   5.84   5.86   5.89   1761    1.0\n",
      "mu[38]       5.32  9.1e-4   0.03   5.25    5.3   5.32   5.34   5.38   1249    1.0\n",
      "mu[39]       6.32  1.1e-3   0.04   6.25   6.29   6.32   6.34   6.39   1112    1.0\n",
      "mu[40]       5.73  5.7e-4   0.03   5.67   5.71   5.73   5.74   5.78   2000    1.0\n",
      "mu[41]        5.4  8.1e-4   0.03   5.34   5.38    5.4   5.42   5.46   1364    1.0\n",
      "mu[42]       4.56  2.0e-3   0.06   4.44   4.52   4.56    4.6   4.68    902    1.0\n",
      "mu[43]       5.66  6.1e-4   0.03   5.61   5.65   5.66   5.68   5.71   1773    1.0\n",
      "mu[44]       5.79  5.8e-4   0.03   5.74   5.78    5.8   5.81   5.84   2000    1.0\n",
      "mu[45]       5.57  6.6e-4   0.03   5.51   5.55   5.57   5.59   5.62   1638    1.0\n",
      "mu[46]       6.58  1.6e-3   0.05   6.49   6.55   6.58   6.62   6.68    977    1.0\n",
      "mu[47]       6.06  8.1e-4   0.03    6.0   6.04   6.06   6.08   6.11   1401    1.0\n",
      "mu[48]       5.37  8.4e-4   0.03   5.31   5.35   5.37   5.39   5.43   1325    1.0\n",
      "mu[49]       5.21  1.1e-3   0.04   5.14   5.19   5.21   5.24   5.28   1141    1.0\n",
      "mu[50]       5.83  6.2e-4   0.03   5.77   5.81   5.83   5.84   5.88   1780    1.0\n",
      "mu[51]       6.27  1.1e-3   0.04    6.2   6.25   6.27    6.3   6.34   1149    1.0\n",
      "mu[52]       5.77  5.8e-4   0.03   5.72   5.76   5.77   5.79   5.82   2000    1.0\n",
      "mu[53]       5.57  6.6e-4   0.03   5.51   5.55   5.57   5.59   5.62   1638    1.0\n",
      "mu[54]       5.68  6.1e-4   0.03   5.63   5.66   5.68    5.7   5.73   1788    1.0\n",
      "mu[55]       5.08  1.2e-3   0.04    5.0   5.05   5.08   5.11   5.16   1048    1.0\n",
      "mu[56]        6.1  8.5e-4   0.03   6.04   6.08    6.1   6.12   6.16   1340    1.0\n",
      "mu[57]       6.14  9.1e-4   0.03   6.08   6.12   6.14   6.17   6.21   1277    1.0\n",
      "mu[58]       5.45  7.6e-4   0.03   5.39   5.43   5.45   5.47   5.51   1438    1.0\n",
      "mu[59]       5.58  6.6e-4   0.03   5.52   5.56   5.58   5.59   5.63   1648    1.0\n",
      "mu[60]       5.04  1.3e-3   0.04   4.96   5.01   5.04   5.07   5.12   1029    1.0\n",
      "mu[61]       4.98  1.4e-3   0.04   4.89   4.95   4.98   5.01   5.06   1001    1.0\n",
      "mu[62]       6.18  9.6e-4   0.03   6.12   6.16   6.18   6.21   6.25   1232    1.0\n",
      "mu[63]       5.66  6.1e-4   0.03   5.61   5.64   5.66   5.68   5.71   1770    1.0\n",
      "mu[64]       5.05  1.3e-3   0.04   4.97   5.03   5.05   5.08   5.13   1035    1.0\n",
      "mu[65]       5.49  7.2e-4   0.03   5.43   5.47   5.49   5.51   5.54   1504    1.0\n",
      "mu[66]        5.1  1.2e-3   0.04   5.02   5.07    5.1   5.12   5.17   1058    1.0\n",
      "mu[67]        6.2  9.8e-4   0.03   6.13   6.18    6.2   6.22   6.27   1214    1.0\n",
      "mu[68]       5.63  6.3e-4   0.03   5.57   5.61   5.63   5.64   5.68   1727    1.0\n",
      "mu[69]       6.08  8.3e-4   0.03   6.02   6.06   6.08    6.1   6.14   1366    1.0\n",
      "mu[70]       4.97  1.4e-3   0.04   4.88   4.94   4.97    5.0   5.06    998    1.0\n",
      "mu[71]       5.31  9.2e-4   0.03   5.25   5.29   5.31   5.34   5.38   1245    1.0\n",
      "mu[72]       5.62  6.3e-4   0.03   5.56    5.6   5.62   5.63   5.67   1712    1.0\n",
      "mu[73]       5.23  1.0e-3   0.03   5.16   5.21   5.23   5.25    5.3   1157    1.0\n",
      "mu[74]       5.15  1.1e-3   0.04   5.07   5.13   5.15   5.18   5.23   1094    1.0\n",
      "mu[75]       6.06  8.1e-4   0.03    6.0   6.03   6.06   6.08   6.11   1402    1.0\n",
      "mu[76]       6.71  1.8e-3   0.05   6.61   6.67   6.71   6.75   6.82    941    1.0\n",
      "mu[77]       5.88  6.4e-4   0.03   5.82   5.86   5.88   5.89   5.93   1719    1.0\n",
      "mu[78]       6.04  7.9e-4   0.03   5.98   6.02   6.04   6.06   6.09   1430    1.0\n",
      "mu[79]       4.95  1.4e-3   0.05   4.86   4.92   4.95   4.98   5.04    991    1.0\n",
      "mu[80]       6.52  1.4e-3   0.05   6.43   6.48   6.52   6.55   6.61   1002    1.0\n",
      "mu[81]       6.15  9.2e-4   0.03   6.09   6.13   6.15   6.17   6.22   1267    1.0\n",
      "mu[82]       5.86  6.4e-4   0.03   5.81   5.85   5.86   5.88   5.91   1737    1.0\n",
      "mu[83]        5.3  9.4e-4   0.03   5.23   5.28    5.3   5.32   5.36   1228    1.0\n",
      "mu[84]       5.47  7.4e-4   0.03   5.41   5.45   5.47   5.49   5.52   1463    1.0\n",
      "mu[85]       7.04  2.3e-3   0.07   6.91    7.0   7.04   7.09   7.18    887    1.0\n",
      "mu[86]       5.78  5.8e-4   0.03   5.73   5.76   5.78    5.8   5.83   2000    1.0\n",
      "mu[87]       6.21  1.0e-3   0.03   6.15   6.19   6.21   6.24   6.28   1200    1.0\n",
      "mu[88]       5.34  8.9e-4   0.03   5.27   5.32   5.34   5.36    5.4   1275    1.0\n",
      "mu[89]       5.87  6.4e-4   0.03   5.82   5.86   5.88   5.89   5.93   1721    1.0\n",
      "mu[90]       5.68  6.1e-4   0.03   5.63   5.66   5.68    5.7   5.73   1791    1.0\n",
      "mu[91]       5.71  5.7e-4   0.03   5.66    5.7   5.71   5.73   5.76   2000    1.0\n",
      "mu[92]       6.19  9.7e-4   0.03   6.12   6.16   6.19   6.21   6.25   1228    1.0\n",
      "mu[93]       5.66  6.2e-4   0.03    5.6   5.64   5.66   5.67   5.71   1765    1.0\n",
      "mu[94]       5.41  8.1e-4   0.03   5.34   5.39   5.41   5.43   5.46   1369    1.0\n",
      "mu[95]       5.12  1.2e-3   0.04   5.05    5.1   5.13   5.15    5.2   1076    1.0\n",
      "mu[96]       5.53  6.9e-4   0.03   5.48   5.52   5.53   5.55   5.59   1576    1.0\n",
      "mu[97]       6.37  1.2e-3   0.04   6.29   6.34   6.37   6.39   6.45   1078    1.0\n",
      "mu[98]       5.71  5.7e-4   0.03   5.66   5.69   5.71   5.73   5.76   2000    1.0\n",
      "mu[99]       5.96  7.1e-4   0.03    5.9   5.94   5.96   5.98   6.01   1571    1.0\n",
      "y_pred[0]  395.39    2.41 106.02 227.41  319.9 384.66 454.11 643.39   1939    1.0\n",
      "y_pred[1]  625.96    3.69 165.18 362.57 510.55 604.61 718.14 1009.6   2000    1.0\n",
      "y_pred[2]  547.12    3.37 148.58 307.54 443.31  530.1 625.33 898.12   1939    1.0\n",
      "y_pred[3]  567.16    3.53 149.96 324.85 462.06 552.01 653.73 892.79   1809    1.0\n",
      "y_pred[4]  570.62    3.78 156.54 339.59 461.21 550.27 652.59 948.32   1713    1.0\n",
      "y_pred[5]  136.19    0.83   36.2   79.1 110.92 131.48 157.09 216.53   1905    1.0\n",
      "y_pred[6]  303.98    1.78  79.68 177.86 246.88 293.99 352.61 481.04   2000    1.0\n",
      "y_pred[7]  317.28    1.97  87.36 184.66 255.23 306.02 363.17 525.72   1967    1.0\n",
      "y_pred[8]  651.26    4.03 171.66 374.01 525.73 636.01 751.96 1047.5   1816    1.0\n",
      "y_pred[9]  180.02     1.1  47.21  106.2 146.12 174.06 208.32 285.26   1851    1.0\n",
      "y_pred[10] 179.66    1.08  46.38 102.68 147.37 174.05 207.64 289.68   1854    1.0\n",
      "y_pred[11] 869.58    5.73 231.21 498.87 702.13 841.82 1006.4 1377.6   1626    1.0\n",
      "y_pred[12] 246.26    1.56  67.37 140.53 200.82 238.55 282.13 398.77   1854    1.0\n",
      "y_pred[13] 217.76     1.3  58.04 124.91 175.54 209.71 252.03 350.28   2000    1.0\n",
      "y_pred[14] 204.85    1.24  55.23 120.32  164.7 196.92 236.54 328.48   2000    1.0\n",
      "y_pred[15] 178.53    1.14  47.93 104.28 145.04 171.59 203.94 290.85   1767    1.0\n",
      "y_pred[16] 208.73    1.24  54.92 124.35 169.41 201.03 239.85 333.62   1958    1.0\n",
      "y_pred[17] 181.04     1.1  48.99 105.23 146.61 174.93 206.38 296.45   1980    1.0\n",
      "y_pred[18]  213.2    1.28  57.35  125.3 173.55 205.63 244.09 342.56   2000    1.0\n",
      "y_pred[19]  405.5    2.45 109.48 238.67 329.43 392.15 463.64 664.18   2000    1.0\n",
      "y_pred[20] 427.13    2.81 115.29 248.98 346.57 410.21 488.09 706.26   1685    1.0\n",
      "y_pred[21] 175.18    1.06  47.43 102.26 140.38 168.82 200.73  284.4   2000    1.0\n",
      "y_pred[22] 416.75    2.48 110.69 233.77 339.07 403.08 482.18 676.72   2000    1.0\n",
      "y_pred[23] 530.87     3.2  141.8 309.07 428.57 510.38 608.41 865.88   1963    1.0\n",
      "y_pred[24] 288.83    1.65  73.59 168.13 236.87 280.05 331.78 457.43   2000    1.0\n",
      "y_pred[25]  662.6    3.97 177.24  381.7 533.38 641.24 757.69 1080.1   1991    1.0\n",
      "y_pred[26] 212.63    1.26  56.16 121.12 172.31 206.14 243.73 344.04   2000    1.0\n",
      "y_pred[27] 380.68    2.32 103.64 222.75 305.82 367.05 440.35 643.46   2000    1.0\n",
      "y_pred[28] 392.45    2.31 103.14 225.27 319.72 379.61  451.9 628.67   2000    1.0\n",
      "y_pred[29] 285.23    1.71  75.74 164.62 232.86 275.48 330.14  466.0   1968    1.0\n",
      "y_pred[30] 293.41    1.76  78.56 171.11 238.26 283.21 335.88 481.49   2000    1.0\n",
      "y_pred[31]  539.9    3.42 145.14 310.67  437.9 518.38 620.85 858.11   1798    1.0\n",
      "y_pred[32] 1240.3    8.24 340.63 704.99 1006.8 1195.3 1427.2 2025.6   1710    1.0\n",
      "y_pred[33] 187.52    1.12  48.33 109.05 153.59  182.5 213.96 296.33   1852    1.0\n",
      "y_pred[34] 137.03    0.86  36.87  77.86  111.2 132.96 157.87 223.08   1854    1.0\n",
      "y_pred[35] 190.42    1.14  50.38 110.41 154.56 183.94 218.03 308.45   1944    1.0\n",
      "y_pred[36] 188.31    1.08  48.18 108.84 154.98 182.65 216.21 297.73   2000    1.0\n",
      "y_pred[37] 357.77    2.11  94.42  214.5 290.66 344.25  409.7 582.29   2000    1.0\n",
      "y_pred[38] 210.99    1.31  57.06 123.16  170.8 203.46 241.67 344.64   1905    1.0\n",
      "y_pred[39] 577.33    3.68 156.96 332.31 468.46 555.21 658.59 956.57   1819    1.0\n",
      "y_pred[40] 315.69    1.88  84.01 180.75 256.38 305.13 363.27 504.87   2000    1.0\n",
      "y_pred[41] 228.06    1.49  61.85 133.57 187.67 219.98 259.62 378.46   1712    1.0\n",
      "y_pred[42] 100.26    0.62  27.23  57.92  80.11   96.3  117.2 161.44   1924    1.0\n",
      "y_pred[43] 297.49    1.87  81.33 171.14 241.37 286.34 340.73 491.99   1888    1.0\n",
      "y_pred[44] 336.41    2.01  89.69 193.76 273.72 325.09 385.97 553.59   2000    1.0\n",
      "y_pred[45] 275.38    1.77  72.01 160.33 225.01 268.74 316.79 440.34   1662    1.0\n",
      "y_pred[46] 754.89    4.62 206.39 428.62 610.12 724.36 866.73 1241.1   2000    1.0\n",
      "y_pred[47] 441.43    2.74 122.34 253.93 353.58 425.19 509.25 735.45   2000    1.0\n",
      "y_pred[48] 225.15    1.31  58.64 132.81 183.59 217.39 260.46 364.48   2000    1.0\n",
      "y_pred[49] 189.07    1.13  50.24 110.42 152.68 182.24 216.33 302.73   1991    1.0\n",
      "y_pred[50] 351.08    2.17  95.62 198.58 283.01  339.2 405.24 565.24   1949    1.0\n",
      "y_pred[51]  548.0    3.51 150.55 319.33 438.75 526.76 632.29 895.62   1839    1.0\n",
      "y_pred[52] 331.33    1.96  87.71 194.66 269.35 320.94 378.83 537.33   2000    1.0\n",
      "y_pred[53] 275.79    1.62  72.41 161.06 223.11 266.87 318.34 438.14   2000    1.0\n",
      "y_pred[54] 301.24    1.73  77.48 175.79 247.55  292.9 343.51 472.77   2000    1.0\n",
      "y_pred[55] 167.55    0.97  43.58  99.51 135.15 160.95 193.48 263.48   2000    1.0\n",
      "y_pred[56] 462.08    3.04 122.93 263.44 375.17 448.43 535.42 746.89   1630    1.0\n",
      "y_pred[57] 477.29    2.83 126.46 275.36 388.82 463.47 545.89 771.39   2000    1.0\n",
      "y_pred[58] 239.83    1.57  65.31 136.91 194.27 232.64 274.92 392.61   1725    1.0\n",
      "y_pred[59] 272.64    1.68  72.16 160.17 220.48 262.68 312.44 442.39   1834    1.0\n",
      "y_pred[60] 160.05    1.08  43.27  92.19 128.86 154.62 184.73 265.07   1605    1.0\n",
      "y_pred[61] 150.35    0.95  39.81  85.51 122.56 144.54  173.7  241.1   1764    1.0\n",
      "y_pred[62] 508.04    3.12 132.32 297.37 416.22 493.83 579.19 806.51   1804    1.0\n",
      "y_pred[63] 299.67    1.82  81.29 176.05 241.21 288.99 343.83 491.58   2000    1.0\n",
      "y_pred[64] 161.78    0.98  42.66  95.76 130.74 156.27 187.16 254.73   1882    1.0\n",
      "y_pred[65] 248.72    1.46  64.37 144.39 203.95 240.19  283.1 400.82   1946    1.0\n",
      "y_pred[66] 169.17     1.0  44.48  99.27 138.79 163.13 193.34 270.11   1978    1.0\n",
      "y_pred[67] 512.38    3.11  137.8 299.71 414.03 492.88 590.85  834.1   1965    1.0\n",
      "y_pred[68] 289.27    1.73  73.15 167.35 237.33 282.11 331.28 458.97   1779    1.0\n",
      "y_pred[69] 453.06    2.63 115.78 270.94  372.0 439.14 517.11 720.07   1936    1.0\n",
      "y_pred[70] 149.04    0.95  40.75  86.94 120.85  142.1  171.7 246.72   1824    1.0\n",
      "y_pred[71] 209.41     1.2  53.71 123.81  173.7 204.15 241.66 330.81   2000    1.0\n",
      "y_pred[72] 285.28    1.75  75.41 167.94 232.75 275.05 329.15 467.61   1859    1.0\n",
      "y_pred[73] 194.58    1.19  53.08 110.56 157.12 188.25 222.49 321.95   2000    1.0\n",
      "y_pred[74] 178.67    1.06  47.22 103.13 144.83 173.94 205.58 285.81   2000    1.0\n",
      "y_pred[75] 447.17    2.65 118.44 260.47 361.21 432.75 513.93 724.86   2000    1.0\n",
      "y_pred[76] 857.77     5.4 230.67 497.43 696.66 826.13 981.81 1390.3   1822    1.0\n",
      "y_pred[77] 368.23    2.23  95.99 212.48 301.18 354.82 421.52 600.22   1849    1.0\n",
      "y_pred[78] 433.23    2.61 116.33 249.11 349.73 420.67 501.65 699.76   1990    1.0\n",
      "y_pred[79] 147.26    0.93  40.72  84.07 117.62 141.47 172.03 241.42   1900    1.0\n",
      "y_pred[80] 696.47    4.27 184.33 404.62 564.52 675.27 803.86 1106.9   1863    1.0\n",
      "y_pred[81] 479.83    2.87 128.53 279.48 387.72 462.74 550.51 784.19   2000    1.0\n",
      "y_pred[82]  363.7    2.18  97.45 210.17 293.61 350.96 418.71 592.23   2000    1.0\n",
      "y_pred[83]  204.1    1.18  52.62 119.76 167.12 197.66 233.74 327.48   2000    1.0\n",
      "y_pred[84] 243.75    1.45  63.63 141.98  198.0 234.95 278.27 384.72   1923    1.0\n",
      "y_pred[85] 1191.0    7.29 313.42 695.84 970.65 1148.6 1386.4 1887.7   1846    1.0\n",
      "y_pred[86]  336.5    1.98  88.62 194.15 272.77 324.83 390.53 537.93   2000    1.0\n",
      "y_pred[87] 518.79    3.54 143.37 299.46 416.74 497.02 597.88 845.54   1640    1.0\n",
      "y_pred[88] 214.04    1.34  57.55 123.36 172.26 206.95 247.35 347.03   1856    1.0\n",
      "y_pred[89] 366.51    2.27   95.4 211.51 301.32 355.51 420.17 574.44   1765    1.0\n",
      "y_pred[90] 303.52    1.77  79.24 178.08 249.25 293.14 349.82 479.35   2000    1.0\n",
      "y_pred[91] 311.26    1.95  83.72 182.97  252.2 301.16 355.31 517.98   1851    1.0\n",
      "y_pred[92] 502.37    2.94 131.63 298.07 410.64 486.31 573.04 805.83   2000    1.0\n",
      "y_pred[93] 295.97    1.71  76.26 176.28 242.49 284.99 340.06 479.85   2000    1.0\n",
      "y_pred[94]  227.8    1.34  59.97 126.21 186.36 220.47 262.06 363.82   2000    1.0\n",
      "y_pred[95] 173.27    1.05  47.11  98.39 140.39  167.2 198.72  275.8   2000    1.0\n",
      "y_pred[96] 262.95    1.59  68.31 153.32 215.22 255.49 300.22 420.64   1844    1.0\n",
      "y_pred[97] 595.26    3.54  158.5 337.81 482.67 577.94 682.55 953.93   2000    1.0\n",
      "y_pred[98] 313.43    1.97  82.14 181.77 256.01 302.95 362.06 500.26   1738    1.0\n",
      "y_pred[99] 399.03    2.23  99.86  236.3 327.05 390.29 455.76 639.93   2000    1.0\n",
      "e[0]        -0.37  6.9e-4   0.03  -0.42  -0.39  -0.37  -0.35  -0.32   1598    1.0\n",
      "e[1]        -0.16  1.3e-3   0.04  -0.24  -0.18  -0.16  -0.13  -0.08   1053    1.0\n",
      "e[2]         0.23  1.1e-3   0.04   0.16    0.2   0.23   0.25    0.3   1141    1.0\n",
      "e[3]        -0.15  1.1e-3   0.04  -0.23  -0.18  -0.15  -0.13  -0.08   1116    1.0\n",
      "e[4]        -0.19  1.1e-3   0.04  -0.27  -0.22  -0.19  -0.17  -0.12   1116    1.0\n",
      "e[5]         0.16  1.5e-3   0.05   0.06   0.12   0.16   0.19   0.25    966    1.0\n",
      "e[6]        -0.22  6.1e-4   0.03  -0.27  -0.24  -0.22  -0.21  -0.17   1788    1.0\n",
      "e[7]        -0.14  5.7e-4   0.03  -0.19  -0.16  -0.14  -0.12  -0.09   2000    1.0\n",
      "e[8]         0.04  1.3e-3   0.04  -0.05 6.1e-3   0.03   0.06   0.12   1035    1.0\n",
      "e[9]         0.25  1.1e-3   0.04   0.18   0.22   0.25   0.27   0.33   1099    1.0\n",
      "e[10]       -0.08  1.1e-3   0.04  -0.15   -0.1  -0.08  -0.05-2.4e-3   1099    1.0\n",
      "e[11]        -0.1  1.8e-3   0.05  -0.21  -0.14   -0.1  -0.06 1.5e-3    936    1.0\n",
      "e[12]       -0.07  7.4e-4   0.03  -0.13  -0.09  -0.07  -0.05  -0.01   1467    1.0\n",
      "e[13]       -0.04  8.8e-4   0.03   -0.1  -0.06  -0.04  -0.02   0.03   1282    1.0\n",
      "e[14]        0.22  9.5e-4   0.03   0.15    0.2   0.22   0.24   0.28   1215    1.0\n",
      "e[15]       -0.07  1.1e-3   0.04  -0.14  -0.09  -0.07  -0.04   0.01   1092    1.0\n",
      "e[16]       -0.02  9.1e-4   0.03  -0.08  -0.04  -0.02 2.2e-4   0.04   1252    1.0\n",
      "e[17]        0.12  1.1e-3   0.04   0.04   0.09   0.12   0.14   0.19   1102    1.0\n",
      "e[18]       -0.13  8.9e-4   0.03  -0.19  -0.15  -0.13  -0.11  -0.07   1272    1.0\n",
      "e[19]        0.24  7.2e-4   0.03   0.19   0.22   0.24   0.26    0.3   1552    1.0\n",
      "e[20]       -0.36  7.8e-4   0.03  -0.41  -0.38  -0.36  -0.34   -0.3   1442    1.0\n",
      "e[21]       -0.07  1.2e-3   0.04  -0.14  -0.09  -0.07  -0.04   0.01   1080    1.0\n",
      "e[22]        0.16  7.5e-4   0.03    0.1   0.14   0.16   0.18   0.21   1490    1.0\n",
      "e[23]        0.21  1.0e-3   0.04   0.14   0.19   0.21   0.24   0.28   1176    1.0\n",
      "e[24]         0.1  6.2e-4   0.03   0.05   0.08    0.1   0.12   0.15   1742    1.0\n",
      "e[25]        0.32  1.3e-3   0.04   0.23   0.29   0.32   0.34    0.4   1031    1.0\n",
      "e[26]        0.39  9.0e-4   0.03   0.33   0.37   0.39   0.42   0.46   1266    1.0\n",
      "e[27]        0.15  6.7e-4   0.03    0.1   0.13   0.15   0.17   0.21   1640    1.0\n",
      "e[28]       -0.34  6.9e-4   0.03  -0.39  -0.35  -0.34  -0.32  -0.28   1601    1.0\n",
      "e[29]       -0.06  6.3e-4   0.03  -0.12  -0.08  -0.07  -0.05  -0.01   1723    1.0\n",
      "e[30]        -0.6  6.2e-4   0.03  -0.65  -0.61   -0.6  -0.58  -0.54   1750    1.0\n",
      "e[31]        -0.4  1.1e-3   0.04  -0.47  -0.42   -0.4  -0.37  -0.33   1157    1.0\n",
      "e[32]        0.46  2.3e-3   0.07   0.32   0.42   0.46   0.51    0.6    884    1.0\n",
      "e[33]      3.6e-3  1.1e-3   0.04  -0.07  -0.02 2.8e-3   0.03   0.08   1141    1.0\n",
      "e[34]        0.31  1.5e-3   0.05   0.21   0.28   0.31   0.34    0.4    967    1.0\n",
      "e[35]      3.6e-3  1.1e-3   0.04  -0.07  -0.02 2.8e-3   0.03   0.08   1141    1.0\n",
      "e[36]        0.12  1.1e-3   0.04   0.05    0.1   0.12   0.15    0.2   1141    1.0\n",
      "e[37]        0.06  6.3e-4   0.03 4.8e-3   0.04   0.06   0.07   0.11   1761    1.0\n",
      "e[38]        0.14  9.1e-4   0.03   0.08   0.12   0.14   0.16   0.21   1249    1.0\n",
      "e[39]       -0.25  1.1e-3   0.04  -0.33  -0.28  -0.25  -0.22  -0.18   1112    1.0\n",
      "e[40]       -0.51  5.7e-4   0.03  -0.56  -0.53  -0.51   -0.5  -0.46   2000    1.0\n",
      "e[41]        0.29  8.1e-4   0.03   0.24   0.27   0.29   0.31   0.36   1364    1.0\n",
      "e[42]        0.27  2.0e-3   0.06   0.15   0.22   0.27   0.31   0.39    902    1.0\n",
      "e[43]       -0.02  6.1e-4   0.03  -0.07  -0.04  -0.02-3.2e-3   0.03   1773    1.0\n",
      "e[44]       -0.05  5.8e-4   0.03   -0.1  -0.07  -0.05  -0.04-2.4e-4   2000    1.0\n",
      "e[45]       -0.06  6.6e-4   0.03  -0.11  -0.08  -0.06  -0.04-4.6e-3   1638    1.0\n",
      "e[46]        0.53  1.6e-3   0.05   0.44    0.5   0.53   0.57   0.63    977    1.0\n",
      "e[47]       -0.02  8.1e-4   0.03  -0.08  -0.04  -0.02 3.1e-3   0.04   1401    1.0\n",
      "e[48]       -0.15  8.4e-4   0.03  -0.21  -0.17  -0.15  -0.13  -0.09   1325    1.0\n",
      "e[49]      3.6e-3  1.1e-3   0.04  -0.07  -0.02 2.8e-3   0.03   0.08   1141    1.0\n",
      "e[50]        0.03  6.2e-4   0.03  -0.02 8.4e-3   0.03   0.04   0.08   1780    1.0\n",
      "e[51]        0.51  1.1e-3   0.04   0.44   0.49   0.51   0.54   0.58   1149    1.0\n",
      "e[52]        0.34  5.8e-4   0.03   0.29   0.32   0.34   0.36   0.39   2000    1.0\n",
      "e[53]       -0.35  6.6e-4   0.03   -0.4  -0.37  -0.35  -0.33   -0.3   1638    1.0\n",
      "e[54]       -0.22  6.1e-4   0.03  -0.27  -0.24  -0.22  -0.21  -0.17   1788    1.0\n",
      "e[55]        0.18  1.2e-3   0.04    0.1   0.15   0.17    0.2   0.26   1048    1.0\n",
      "e[56]       -0.35  8.5e-4   0.03  -0.41  -0.37  -0.35  -0.33  -0.29   1340    1.0\n",
      "e[57]        0.25  9.1e-4   0.03   0.19   0.23   0.25   0.27   0.31   1277    1.0\n",
      "e[58]        0.31  7.6e-4   0.03   0.26   0.29   0.31   0.33   0.37   1438    1.0\n",
      "e[59]       -0.29  6.6e-4   0.03  -0.34  -0.31  -0.29  -0.27  -0.23   1648    1.0\n",
      "e[60]       -0.06  1.3e-3   0.04  -0.14  -0.09  -0.06  -0.03   0.02   1029    1.0\n",
      "e[61]        0.02  1.4e-3   0.04  -0.07  -0.01   0.02   0.05   0.11   1001    1.0\n",
      "e[62]         0.2  9.6e-4   0.03   0.14   0.18    0.2   0.23   0.27   1232    1.0\n",
      "e[63]        0.36  6.1e-4   0.03   0.31   0.35   0.36   0.38   0.42   1770    1.0\n",
      "e[64]        0.12  1.3e-3   0.04   0.04   0.09   0.12   0.14    0.2   1035    1.0\n",
      "e[65]        0.03  7.2e-4   0.03  -0.02   0.01   0.03   0.05   0.09   1504    1.0\n",
      "e[66]        0.17  1.2e-3   0.04   0.09   0.15   0.17    0.2   0.25   1058    1.0\n",
      "e[67]       -0.21  9.8e-4   0.03  -0.27  -0.23  -0.21  -0.18  -0.14   1214    1.0\n",
      "e[68]        -0.2  6.3e-4   0.03  -0.25  -0.21   -0.2  -0.18  -0.14   1727    1.0\n",
      "e[69]        0.09  8.3e-4   0.03   0.03   0.07   0.09   0.11   0.15   1366    1.0\n",
      "e[70]        0.01  1.4e-3   0.04  -0.07  -0.02   0.01   0.04    0.1    998    1.0\n",
      "e[71]       -0.21  9.2e-4   0.03  -0.27  -0.23  -0.21  -0.19  -0.15   1245    1.0\n",
      "e[72]       -0.27  6.3e-4   0.03  -0.32  -0.29  -0.27  -0.25  -0.21   1712    1.0\n",
      "e[73]         0.1  1.0e-3   0.03   0.03   0.08    0.1   0.12   0.17   1157    1.0\n",
      "e[74]        0.04  1.1e-3   0.04  -0.04   0.01   0.04   0.06   0.11   1094    1.0\n",
      "e[75]       -0.19  8.1e-4   0.03  -0.25  -0.21  -0.19  -0.17  -0.13   1402    1.0\n",
      "e[76]        0.25  1.8e-3   0.05   0.14   0.21   0.25   0.28   0.35    941    1.0\n",
      "e[77]       -0.31  6.4e-4   0.03  -0.37  -0.33  -0.32   -0.3  -0.26   1719    1.0\n",
      "e[78]       -0.07  7.9e-4   0.03  -0.13  -0.09  -0.07  -0.05  -0.01   1430    1.0\n",
      "e[79]        0.09  1.4e-3   0.05 1.9e-3   0.06   0.09   0.12   0.18    991    1.0\n",
      "e[80]       -0.06  1.4e-3   0.05  -0.15  -0.09  -0.06  -0.03   0.03   1002    1.0\n",
      "e[81]       -0.02  9.2e-4   0.03  -0.09  -0.05  -0.02-9.4e-4   0.04   1267    1.0\n",
      "e[82]         0.8  6.4e-4   0.03   0.75   0.78    0.8   0.82   0.85   1737    1.0\n",
      "e[83]       -0.11  9.4e-4   0.03  -0.17  -0.13  -0.11  -0.09  -0.04   1228    1.0\n",
      "e[84]        0.02  7.4e-4   0.03  -0.04-2.9e-3   0.02   0.04   0.08   1463    1.0\n",
      "e[85]        0.43  2.3e-3   0.07   0.29   0.38   0.43   0.47   0.56    887    1.0\n",
      "e[86]       -0.42  5.8e-4   0.03  -0.47  -0.44  -0.42   -0.4  -0.37   2000    1.0\n",
      "e[87]      7.8e-3  1.0e-3   0.03  -0.06  -0.02 7.6e-3   0.03   0.07   1200    1.0\n",
      "e[88]       -0.07  8.9e-4   0.03  -0.13  -0.09  -0.07  -0.05-2.6e-3   1275    1.0\n",
      "e[89]       -0.49  6.4e-4   0.03  -0.55  -0.51  -0.49  -0.48  -0.44   1721    1.0\n",
      "e[90]       -0.11  6.1e-4   0.03  -0.16  -0.12  -0.11  -0.09  -0.05   1791    1.0\n",
      "e[91]       -0.31  5.7e-4   0.03  -0.36  -0.33  -0.32   -0.3  -0.26   2000    1.0\n",
      "e[92]       -0.55  9.7e-4   0.03  -0.61  -0.57  -0.55  -0.53  -0.48   1228    1.0\n",
      "e[93]        0.31  6.2e-4   0.03   0.26   0.29   0.31   0.33   0.36   1765    1.0\n",
      "e[94]       -0.13  8.1e-4   0.03  -0.18  -0.15  -0.13  -0.11  -0.06   1369    1.0\n",
      "e[95]        0.22  1.2e-3   0.04   0.14   0.19   0.22   0.25    0.3   1076    1.0\n",
      "e[96]       -0.14  6.9e-4   0.03  -0.19  -0.15  -0.14  -0.12  -0.08   1576    1.0\n",
      "e[97]        0.04  1.2e-3   0.04  -0.04 9.8e-3   0.04   0.06   0.11   1078    1.0\n",
      "e[98]        0.08  5.7e-4   0.03   0.03   0.06   0.07   0.09   0.13   2000    1.0\n",
      "e[99]        0.09  7.1e-4   0.03   0.04   0.07   0.09   0.11   0.15   1571    1.0\n",
      "Y_new[0]    39.02    0.27  11.09  21.49   31.2  37.48   45.0  65.52   1658    1.0\n",
      "Y_new[1]    48.12    0.37  13.45  27.17  38.35  46.35  56.16  80.22   1330    1.0\n",
      "Y_new[2]    56.55    0.39  16.03  31.15   45.3  54.42  65.46  94.53   1721    1.0\n",
      "Y_new[3]    65.02    0.45  17.96  37.74  52.73  62.46  74.97 107.65   1619    1.0\n",
      "Y_new[4]    74.81    0.49  20.11  42.79  60.34   72.3  87.18 119.99   1694    1.0\n",
      "Y_new[5]    83.66    0.57  23.16  48.04  67.59  80.19   96.3 137.07   1658    1.0\n",
      "Y_new[6]    93.34    0.62  25.65   54.1   75.6  90.29 107.69  154.1   1695    1.0\n",
      "Y_new[7]   101.89    0.64  28.17  58.92  81.55  97.56 118.06 166.67   1954    1.0\n",
      "Y_new[8]   112.72     0.7  30.84  63.63  90.58  109.4 131.05 180.56   1939    1.0\n",
      "Y_new[9]   122.01    0.76  32.56  70.57   99.1 118.14 140.21 196.11   1830    1.0\n",
      "Y_new[10]  131.33    0.83  36.92  75.47 105.13  126.7 151.13 218.88   2000    1.0\n",
      "Y_new[11]  141.44    0.88  37.82  79.56 114.66 136.03 162.87 226.06   1859    1.0\n",
      "Y_new[12]   151.5    0.98  40.93  86.95 122.58 145.25  173.5 245.56   1743    1.0\n",
      "Y_new[13]  162.48    0.97  43.26  92.69 132.28 157.99  187.8 262.88   2000    1.0\n",
      "Y_new[14]  170.44    1.02  45.05  99.74 138.18 165.21 195.07  276.3   1950    1.0\n",
      "Y_new[15]  181.87    1.12  49.97 104.82 147.49 175.31 208.59 307.71   2000    1.0\n",
      "Y_new[16]  191.81     1.2  52.24 112.45 154.79 185.39 221.14 307.91   1882    1.0\n",
      "Y_new[17]  200.17    1.29  54.94  115.0 162.08 191.91 230.16 333.76   1824    1.0\n",
      "Y_new[18]  211.82    1.25  55.76 122.39 173.26 205.97 243.98 335.77   2000    1.0\n",
      "Y_new[19]  222.82     1.3  58.06 130.59 182.59 215.43 255.53 358.96   2000    1.0\n",
      "Y_new[20]  234.01     1.4  62.13 134.14 191.82 226.92 269.01 377.72   1956    1.0\n",
      "Y_new[21]  243.97    1.44  64.59 140.01 199.37 236.23 280.17 393.21   2000    1.0\n",
      "Y_new[22]  254.51    1.59  69.66 146.11 204.42 245.09 291.55 424.29   1910    1.0\n",
      "Y_new[23]  261.96    1.56  68.61 151.85 214.33 252.05  301.1  413.8   1938    1.0\n",
      "Y_new[24]  272.67    1.62  72.47 157.85 220.52 264.95 310.08 440.01   2000    1.0\n",
      "Y_new[25]  282.75    1.75  75.03 164.74 229.37 275.05 327.14 460.37   1847    1.0\n",
      "Y_new[26]  297.12    1.75  78.27 173.49 240.88 286.73 342.31 479.01   2000    1.0\n",
      "Y_new[27]   306.3    1.86  78.75 177.21  248.2 297.12 352.21 485.08   1783    1.0\n",
      "Y_new[28]  314.75    1.86  81.89 178.78 254.78 306.06 363.51 502.02   1931    1.0\n",
      "Y_new[29]  325.13    2.02  88.36 185.07  261.9 314.72 373.39 529.96   1920    1.0\n",
      "Y_new[30]   339.0    2.03   88.9 199.73 275.19 329.96 388.54 544.45   1926    1.0\n",
      "Y_new[31]  345.55    2.04  91.13 200.97 283.93 335.11 392.93 551.66   2000    1.0\n",
      "Y_new[32]  356.08     2.1  91.93 208.35 290.99 347.74 411.15  566.6   1925    1.0\n",
      "Y_new[33]  367.65    2.23  99.24 211.05 294.63  352.7 425.48 588.53   1982    1.0\n",
      "Y_new[34]  376.73    2.16  96.46 218.76  306.7 363.62 432.89 599.62   2000    1.0\n",
      "Y_new[35]   386.5    2.42 104.37 226.28 312.75 370.61 445.76  633.1   1866    1.0\n",
      "Y_new[36]  399.81    2.34  104.5 233.59  325.5 389.58 458.45 636.26   2000    1.0\n",
      "Y_new[37]  408.15     2.4 107.45 234.75  334.0 395.99 468.58  647.4   2000    1.0\n",
      "Y_new[38]  419.44     2.5 111.61 239.49 341.13  405.7  482.6 680.55   2000    1.0\n",
      "Y_new[39]  431.54    2.63 116.75 247.37 349.87 415.63 494.76  709.1   1970    1.0\n",
      "Y_new[40]  442.58    2.68  115.2 255.49  361.3  430.0 512.38 712.31   1850    1.0\n",
      "Y_new[41]  453.73    2.74 121.21 266.65 368.88 435.54  521.2 740.05   1959    1.0\n",
      "Y_new[42]  464.89    2.81 125.66 268.96 377.15 448.63 535.16  766.4   2000    1.0\n",
      "Y_new[43]  476.61    2.85 124.51  277.2 384.61 465.19 550.15 761.53   1907    1.0\n",
      "Y_new[44]  489.92    3.05 133.24 290.27 394.82 468.45  557.8 809.82   1909    1.0\n",
      "Y_new[45]  499.04    3.11  129.8 289.64 411.63 483.69 574.52 788.24   1742    1.0\n",
      "Y_new[46]  510.88    3.05 135.49 291.78 413.96 493.22 586.52 823.66   1973    1.0\n",
      "Y_new[47]  518.55     3.0 134.24 310.31 424.82 500.19 592.96 842.52   2000    1.0\n",
      "Y_new[48]  530.26    3.06 136.94 308.48 434.15 516.29 610.35 845.21   2000    1.0\n",
      "Y_new[49]  544.49    3.51 145.56 315.18 440.94 526.41 629.67 883.63   1716    1.0\n",
      "Y_new[50]   562.7     3.4 148.34 331.42 458.48 545.76 644.96 919.54   1901    1.0\n",
      "Y_new[51]  566.16    3.28 146.58 331.51 463.79 547.14 654.76  900.8   2000    1.0\n",
      "Y_new[52]  577.14    3.52 152.21  343.2  469.7 552.13 661.17 948.34   1868    1.0\n",
      "Y_new[53]  584.76    3.38 151.18 349.71 476.07 563.77 674.19 936.89   2000    1.0\n",
      "Y_new[54]  600.55     3.7 164.35 347.04 485.21 578.16 696.76  984.7   1969    1.0\n",
      "Y_new[55]  605.23    3.68 157.43 360.86 494.59 585.34  696.1 967.59   1829    1.0\n",
      "Y_new[56]   623.9    3.63 162.56 367.16 511.69 605.01  713.9 1008.7   2000    1.0\n",
      "Y_new[57]  636.15     3.8 170.08 366.47 517.59 613.13 732.75 1038.2   2000    1.0\n",
      "Y_new[58]  645.74    3.86 172.44 374.08 522.11 621.24 745.11 1040.2   1993    1.0\n",
      "Y_new[59]  662.93     4.1  181.0 386.51 532.71 634.59 762.91 1102.3   1947    1.0\n",
      "Y_new[60]   668.3    4.05 180.45 390.65 537.73  647.4 769.33 1081.7   1988    1.0\n",
      "Y_new[61]  680.92    4.01 179.44 395.77 550.77  658.2 781.36 1084.6   1998    1.0\n",
      "Y_new[62]  692.28    4.25 187.51 398.63 560.05 666.52 798.06 1130.6   1948    1.0\n",
      "Y_new[63]  709.69    4.26 190.48  409.9 569.97 684.13 822.55 1172.7   1998    1.0\n",
      "Y_new[64]  722.84    4.31 190.52 419.77 590.69 703.62 829.35 1176.9   1956    1.0\n",
      "Y_new[65]  718.89    4.35 194.67 416.04 575.05 695.68 828.65 1163.3   2000    1.0\n",
      "Y_new[66]   734.0    4.41 191.15 428.18 599.71 706.75 846.23 1185.5   1877    1.0\n",
      "Y_new[67]  758.05     4.6 205.68 428.71 609.21 732.23 879.51 1236.2   2000    1.0\n",
      "Y_new[68]   758.7    4.63 200.59 438.75 615.28 737.25 872.64 1237.1   1879    1.0\n",
      "Y_new[69]  776.61    4.74 207.33 452.78 631.15 746.36 894.65 1263.9   1912    1.0\n",
      "Y_new[70]  782.57    5.15 217.17  448.1  631.0 746.09 907.86 1290.6   1777    1.0\n",
      "Y_new[71]  801.54    5.55 220.18 457.18 645.09 769.98 930.07 1302.5   1572    1.0\n",
      "Y_new[72]  804.83    4.85 217.03 453.29 649.55 778.77 931.63 1309.5   2000    1.0\n",
      "Y_new[73]  821.57    4.94 220.89  471.4 658.45 794.27 948.83 1327.4   2000    1.0\n",
      "Y_new[74]  830.84    5.13 220.07  478.7 672.35 805.18 967.64 1321.6   1839    1.0\n",
      "Y_new[75]  833.46    5.07  226.6 474.29 668.74 805.77 965.09 1332.4   2000    1.0\n",
      "Y_new[76]  845.91    5.15 230.24 474.14 687.58 818.11 977.71 1378.6   2000    1.0\n",
      "Y_new[77]  864.98    5.75 233.11 493.06 708.35 835.47 995.13 1422.7   1645    1.0\n",
      "Y_new[78]  882.59    5.47 233.56 510.27 719.13 857.32 1021.1 1412.9   1822    1.0\n",
      "Y_new[79]   895.2    5.77 250.52 507.43  721.6 856.45 1028.5 1499.0   1882    1.0\n",
      "Y_new[80]  897.68    5.57 249.07 508.14 719.52 863.98 1034.8 1470.8   2000    1.0\n",
      "Y_new[81]  913.89    5.57 238.99 542.88 747.06 881.93 1043.7 1483.6   1839    1.0\n",
      "Y_new[82]  930.01    5.83 251.15 532.09 755.34  898.7 1074.7 1476.2   1854    1.0\n",
      "Y_new[83]  938.15    5.83 251.21 550.54 762.71 897.25 1084.8 1497.3   1857    1.0\n",
      "Y_new[84]  947.77    5.67 253.78 548.66 759.74 920.21 1100.5 1541.1   2000    1.0\n",
      "Y_new[85]  968.06     6.2 274.44 536.95 772.43 930.16 1129.5 1589.5   1957    1.0\n",
      "Y_new[86]  969.42    6.03 260.16 567.59 783.21 934.69 1118.2 1562.8   1860    1.0\n",
      "Y_new[87]  986.89    6.09 259.64 563.46 807.16 955.23 1133.4 1610.5   1820    1.0\n",
      "Y_new[88]   999.9    6.06 270.81 584.29 809.79 959.28 1159.9 1618.4   2000    1.0\n",
      "Y_new[89]  1011.5     6.6 284.91 567.23 811.03 970.79 1171.2 1684.0   1863    1.0\n",
      "Y_new[90]  1037.4     7.1 294.23 579.86 825.22  998.9 1190.5 1743.7   1719    1.0\n",
      "Y_new[91]  1028.6    6.52 274.83 595.31 827.93 988.17 1192.4 1643.2   1777    1.0\n",
      "Y_new[92]  1034.2    6.58 274.63  596.8  842.3 1001.2 1187.5 1660.6   1743    1.0\n",
      "Y_new[93]  1055.7    6.93 288.57  611.1 850.21 1010.9 1219.1 1772.8   1735    1.0\n",
      "Y_new[94]  1065.5    7.05 297.26  603.7 852.87 1028.9 1229.3 1757.2   1777    1.0\n",
      "Y_new[95]  1074.1    6.68 288.71 622.92 871.17 1035.8 1232.3 1725.3   1867    1.0\n",
      "Y_new[96]  1096.1    6.58 292.53 638.09 890.55 1060.8 1254.1 1783.6   1977    1.0\n",
      "Y_new[97]  1091.6    6.66 290.19  631.4 888.24 1053.8 1258.4 1763.9   1901    1.0\n",
      "Y_new[98]  1103.3    6.84 299.99 640.24 885.05 1070.9 1264.5 1835.6   1925    1.0\n",
      "Y_new[99]  1119.5    6.97 306.92 643.32 894.58 1081.4 1300.2 1837.2   1940    1.0\n",
      "Y_new[100] 1136.6    7.27  310.6 663.77 913.71 1095.8 1321.4 1846.9   1827    1.0\n",
      "Y_new[101] 1145.7    7.61 312.52 640.47 918.86 1111.8 1338.1 1844.2   1685    1.0\n",
      "Y_new[102] 1164.2    7.31 317.48 655.66  945.5 1125.2 1335.3 1918.4   1888    1.0\n",
      "Y_new[103] 1163.4    7.33 316.14 654.36 946.16 1116.5 1326.8 1934.0   1861    1.0\n",
      "Y_new[104] 1197.9    7.65 330.89 675.79  962.2 1151.6 1382.6 1938.1   1872    1.0\n",
      "Y_new[105] 1197.2    8.34 331.55 683.03 959.66 1152.1 1387.2 1959.8   1582    1.0\n",
      "Y_new[106] 1226.4    7.47 334.11 692.76 977.15 1185.7 1428.2 1969.5   2000    1.0\n",
      "Y_new[107] 1237.6     8.0 339.62 705.89 997.76 1191.2 1431.8 2024.5   1804    1.0\n",
      "Y_new[108] 1224.0    8.66 342.99 685.14 980.59 1181.1 1414.5 2032.8   1567    1.0\n",
      "Y_new[109] 1244.1    7.81 337.37 712.91 1003.9 1200.1 1426.5 2022.5   1865    1.0\n",
      "Y_new[110] 1250.5    7.81 335.62 717.25 1012.4 1202.8 1446.0 2033.2   1849    1.0\n",
      "Y_new[111] 1273.5    7.63 339.34 738.24 1028.4 1231.3 1473.2 2007.6   1979    1.0\n",
      "Y_new[112] 1285.0    8.43 353.12 729.91 1033.0 1241.5 1507.5 2043.8   1753    1.0\n",
      "Y_new[113] 1297.8    8.05 359.96  742.3 1040.5 1247.0 1497.8 2112.6   2000    1.0\n",
      "Y_new[114] 1302.0    8.88 362.21 723.53 1039.5 1255.8 1508.1 2169.0   1664    1.0\n",
      "lp__         85.1    0.06   1.26  81.87  84.56  85.42  86.03  86.51    504   1.01\n",
      "\n",
      "Samples were drawn using NUTS at Fri Apr  7 18:42:19 2017.\n",
      "For each parameter, n_eff is a crude measure of effective sample size,\n",
      "and Rhat is the potential scale reduction factor on split chains (at \n",
      "convergence, Rhat=1).\n"
     ]
    }
   ],
   "source": [
    "print(fit_1a)"
   ]
  },
  {
   "cell_type": "code",
   "execution_count": 12,
   "metadata": {
    "collapsed": false
   },
   "outputs": [
    {
     "data": {
      "image/png": "[encoded data removed]",
      "text/plain": [
       "<matplotlib.figure.Figure at 0x11b0d1c88>"
      ]
     },
     "metadata": {},
     "output_type": "display_data"
    }
   ],
   "source": [
    "plt.plot(data_1['Area'], data_1['Y'], \"o\")\n",
    "plot_pred_range(fit_1a, data_1['Area_new'], 'Y_new', (10, 90), 0.25)\n",
    "plot_pred_range(fit_1a, data_1['Area_new'], 'Y_new', (25, 75), 0.5)\n",
    "plt.show()"
   ]
  },
  {
   "cell_type": "markdown",
   "metadata": {},
   "source": [
    "誤差分布は多少左右対称に近づいたと言える。"
   ]
  },
  {
   "cell_type": "code",
   "execution_count": 13,
   "metadata": {
    "collapsed": false
   },
   "outputs": [
    {
     "data": {
      "image/png": "[encoded data removed]",
      "text/plain": [
       "<matplotlib.figure.Figure at 0x11a9cec18>"
      ]
     },
     "metadata": {},
     "output_type": "display_data"
    }
   ],
   "source": [
    "hist_error(fit_1a)"
   ]
  },
  {
   "cell_type": "markdown",
   "metadata": {},
   "source": [
    "## 7.3 非線形の関係"
   ]
  },
  {
   "cell_type": "code",
   "execution_count": 14,
   "metadata": {
    "collapsed": false
   },
   "outputs": [
    {
     "data": {
      "image/png": "[encoded data removed]",
      "text/plain": [
       "<matplotlib.figure.Figure at 0x11a656d30>"
      ]
     },
     "metadata": {},
     "output_type": "display_data"
    }
   ],
   "source": [
    "df_2 = pd.read_csv('input/data-aircon.txt')\n",
    "data_2 = df_2.to_dict('list')\n",
    "data_2['N'] = len(df_2)\n",
    "data_2['X_new'] = np.linspace(-5, 35, 40)\n",
    "data_2['N_new'] = len(data_2['X_new'])\n",
    "plt.plot(df_2['X'], df_2['Y'], \"o\")\n",
    "plt.xlabel('X')\n",
    "plt.ylabel('Y')\n",
    "plt.show()"
   ]
  },
  {
   "cell_type": "code",
   "execution_count": 15,
   "metadata": {
    "collapsed": true
   },
   "outputs": [],
   "source": [
    "model_2 = \"\"\"\n",
    "data {\n",
    "  int N;\n",
    "  real X[N];\n",
    "  real Y[N];\n",
    "  int N_new;\n",
    "  real X_new[N_new];\n",
    "}\n",
    "\n",
    "parameters {\n",
    "  real a;\n",
    "  real <lower=0> b;\n",
    "  real <lower=0, upper=30> x0;\n",
    "  real <lower=0> s_Y;\n",
    "}\n",
    "\n",
    "model {\n",
    "  for (n in 1:N)\n",
    "    Y[n] ~ normal(a+b*(X[n]-x0)^2, s_Y);\n",
    "}\n",
    "\n",
    "generated quantities {\n",
    "  real y_new[N_new];\n",
    "  real e[N];\n",
    "  for (n in 1:N)\n",
    "    e[n] = Y[n] - (a+b*(X[n]-x0)^2);\n",
    "  for (n in 1:N_new)\n",
    "    y_new[n] = normal_rng(a+b*(X_new[n]-x0)^2, s_Y);\n",
    "}\n",
    "\"\"\""
   ]
  },
  {
   "cell_type": "code",
   "execution_count": 16,
   "metadata": {
    "collapsed": false
   },
   "outputs": [
    {
     "name": "stderr",
     "output_type": "stream",
     "text": [
      "INFO:pystan:COMPILING THE C++ CODE FOR MODEL anon_model_66bddfdc9eac3be7a917ee560c420b40 NOW.\n"
     ]
    }
   ],
   "source": [
    "fit_2 = pystan.stan(model_code=model_2, data=data_2, iter=1000, chains=4)"
   ]
  },
  {
   "cell_type": "code",
   "execution_count": 17,
   "metadata": {
    "collapsed": false
   },
   "outputs": [
    {
     "name": "stdout",
     "output_type": "stream",
     "text": [
      "Inference for Stan model: anon_model_66bddfdc9eac3be7a917ee560c420b40.\n",
      "4 chains, each with iter=1000; warmup=500; thin=1; \n",
      "post-warmup draws per chain=500, total post-warmup draws=2000.\n",
      "\n",
      "            mean se_mean     sd   2.5%    25%    50%    75%  97.5%  n_eff   Rhat\n",
      "a          14.19    0.02   0.57  13.06   13.8  14.16  14.55   15.4   1164    1.0\n",
      "b           0.21  1.9e-4 5.6e-3    0.2   0.21   0.21   0.22   0.23    891    1.0\n",
      "x0         18.28  5.0e-3   0.16  17.97  18.17  18.28  18.39  18.57   1035    1.0\n",
      "s_Y         5.74  7.6e-3   0.31   5.19   5.53   5.72   5.93   6.39   1636    1.0\n",
      "y_new[0]  130.41    0.14   5.83 118.26 126.53 130.42 134.31  141.6   1794    1.0\n",
      "y_new[1]  120.31    0.14   5.89 108.49 116.36 120.42 124.27 131.53   1711    1.0\n",
      "y_new[2]  110.81    0.13    5.9  99.16 106.89 110.92 114.93 121.85   2000    1.0\n",
      "y_new[3]  101.55    0.13   5.93  90.14  97.57 101.59 105.72 112.83   1988    1.0\n",
      "y_new[4]   92.98    0.13   5.95  81.14  89.08  93.05  96.94 104.57   1989    1.0\n",
      "y_new[5]   84.88    0.13   5.75  73.38  81.03  84.92  88.71  96.16   2000    1.0\n",
      "y_new[6]   77.02    0.13   5.79  65.69  73.08  77.14  80.98  88.16   2000    1.0\n",
      "y_new[7]   69.68    0.13   5.83  58.39   65.8  69.46  73.51   81.3   2000    1.0\n",
      "y_new[8]   63.08    0.13   5.81  52.22  59.13  62.96  66.94  74.77   2000    1.0\n",
      "y_new[9]   56.39    0.13   5.61  45.27  52.64  56.43  60.29   67.2   1864    1.0\n",
      "y_new[10]  50.57    0.13   5.66  39.57  46.94  50.64  54.27  61.97   2000    1.0\n",
      "y_new[11]  45.28    0.13   5.75  34.28  41.23  45.18   49.3  56.48   2000    1.0\n",
      "y_new[12]  40.09    0.13   5.74   28.9  36.27  40.12  43.87  51.47   1927    1.0\n",
      "y_new[13]  35.59    0.13   5.66  24.65  31.78  35.69   39.3  46.97   1951    1.0\n",
      "y_new[14]  31.45    0.13   5.86   19.9  27.53  31.33   35.3  42.79   2000    1.0\n",
      "y_new[15]  27.36    0.13   5.89  15.48  23.48  27.34  31.19  38.88   1981    1.0\n",
      "y_new[16]   24.1    0.13   5.81  13.01  20.13  24.16  27.93  35.92   1950    1.0\n",
      "y_new[17]  21.42    0.13   5.76  10.29  17.67  21.47  25.32   33.1   2000    1.0\n",
      "y_new[18]  19.02    0.13    5.8   7.57  15.09  19.02  22.95  30.49   2000    1.0\n",
      "y_new[19]  17.03    0.14    5.9   5.55  13.09  16.88  20.97  28.58   1904    1.0\n",
      "y_new[20]  15.81    0.13   5.84    4.5  11.94  15.88  19.53  27.34   2000    1.0\n",
      "y_new[21]  14.91    0.13   5.84   3.57  10.95  14.89  18.81  26.67   2000    1.0\n",
      "y_new[22]  14.11    0.13    5.8   2.51  10.28   14.2  18.01  25.21   2000    1.0\n",
      "y_new[23]  14.21    0.13   5.62    3.3  10.39   14.1  17.97   25.7   1804    1.0\n",
      "y_new[24]  14.53    0.13    5.7   3.06  10.57  14.64  18.46  25.42   1889    1.0\n",
      "y_new[25]  15.58    0.13   5.79   4.44  11.49  15.47  19.57  26.69   2000    1.0\n",
      "y_new[26]  16.79    0.13    5.8   5.29  12.96  16.87  20.74  27.95   2000    1.0\n",
      "y_new[27]  18.63    0.14   5.84   6.74  14.84  18.56  22.55  30.41   1686    1.0\n",
      "y_new[28]  20.59    0.13   5.82   9.67  16.58  20.52  24.41  32.52   2000    1.0\n",
      "y_new[29]   23.0    0.13   5.83  11.59  19.05  22.86  26.87  34.73   1891    1.0\n",
      "y_new[30]  26.43    0.13   5.79  15.08  22.66  26.56  30.32   37.7   1977    1.0\n",
      "y_new[31]  29.72    0.13   5.81  18.63  25.87  29.83  33.51  41.49   2000    1.0\n",
      "y_new[32]  33.59    0.13   5.81  21.58  29.76  33.79  37.42  45.04   2000    1.0\n",
      "y_new[33]  38.35    0.14   5.94   26.7  34.43  38.35  42.23  50.16   1918    1.0\n",
      "y_new[34]   42.9    0.13   5.79  31.42  39.08  42.98  46.61  54.56   1913    1.0\n",
      "y_new[35]  48.35    0.14   5.96  37.05  44.32  48.28  52.36  60.42   1918    1.0\n",
      "y_new[36]  54.21    0.13   5.88  43.35  50.01  54.15  58.19   65.7   1946    1.0\n",
      "y_new[37]   60.4    0.14   6.01  48.87  56.26  60.33  64.35  72.34   1926    1.0\n",
      "y_new[38]  66.96    0.15   6.39  54.37  62.69  67.02  71.29  79.31   1923    1.0\n",
      "y_new[39]  74.05    0.15   6.32  61.37  69.96  73.99  78.18  86.74   1709    1.0\n",
      "e[0]       -4.98    0.03   1.26  -7.46  -5.83  -4.99   -4.1  -2.48   1768    1.0\n",
      "e[1]        7.86    0.03   1.23   5.43   7.02   7.85   8.73  10.29   1789    1.0\n",
      "e[2]       -0.93    0.03   1.14  -3.17  -1.71  -0.93  -0.13   1.29   1859    1.0\n",
      "e[3]       -3.67    0.03   1.15  -5.94  -4.46  -3.67  -2.86  -1.42   1847    1.0\n",
      "e[4]       -0.83    0.03   1.14  -3.07  -1.61  -0.83  -0.03   1.39   1859    1.0\n",
      "e[5]       -0.69    0.02   1.07  -2.76  -1.41  -0.68   0.07   1.39   2000    1.0\n",
      "e[6]        7.31    0.02   1.07   5.24   6.59   7.32   8.07   9.39   2000    1.0\n",
      "e[7]        1.27    0.02   1.09  -0.86   0.53   1.27   2.04    3.4   2000    1.0\n",
      "e[8]        5.03    0.02   1.05   2.98   4.32   5.03   5.77   7.08   2000    1.0\n",
      "e[9]       -2.35    0.02   1.03  -4.33  -3.04  -2.36  -1.64  -0.34   2000    1.0\n",
      "e[10]       1.52    0.02   0.96  -0.32   0.87    1.5   2.18    3.4   2000    1.0\n",
      "e[11]      -1.58    0.02   0.96  -3.42  -2.23   -1.6  -0.92    0.3   2000    1.0\n",
      "e[12]       0.88    0.02   0.94  -0.91   0.24   0.86   1.52   2.72   2000    1.0\n",
      "e[13]      -4.95    0.02   0.92  -6.72  -5.58  -4.97  -4.32  -3.12   2000    1.0\n",
      "e[14]      -6.88    0.02   0.91  -8.63  -7.51  -6.91  -6.26  -5.08   2000    1.0\n",
      "e[15]      11.54    0.02   0.85   9.93  10.96  11.52  12.12  13.19   2000    1.0\n",
      "e[16]       4.14    0.02   0.85   2.53   3.56   4.12   4.72   5.79   2000    1.0\n",
      "e[17]      -6.96    0.02   0.89  -8.66  -7.56  -6.98  -6.35  -5.21   2000    1.0\n",
      "e[18]      -2.83    0.02    0.8  -4.35  -3.39  -2.85  -2.28  -1.26   2000    1.0\n",
      "e[19]      -6.36    0.02   0.81  -7.91  -6.93  -6.37   -5.8  -4.78   2000    1.0\n",
      "e[20]      13.17    0.02    0.8  11.65  12.61  13.15  13.72  14.74   2000    1.0\n",
      "e[21]       7.72    0.02   0.78   6.26   7.19    7.7   8.25   9.24   2000    1.0\n",
      "e[22]      -1.38    0.02   0.78  -2.84  -1.91   -1.4  -0.85   0.14   2000    1.0\n",
      "e[23]       3.63    0.02   0.75   2.22   3.11   3.61   4.14   5.12   2000    1.0\n",
      "e[24]      -1.88    0.02   0.73  -3.26  -2.39   -1.9  -1.38  -0.44   2000    1.0\n",
      "e[25]      -2.68    0.02   0.74  -4.07  -3.19  -2.69  -2.17  -1.21   2000    1.0\n",
      "e[26]      -4.43    0.02   0.69  -5.74   -4.9  -4.43  -3.96  -3.08   2000    1.0\n",
      "e[27]      -2.97    0.02   0.68  -4.27  -3.43  -2.97  -2.51  -1.63   2000    1.0\n",
      "e[28]       9.67    0.02   0.69   8.36    9.2   9.67  10.14  11.02   2000    1.0\n",
      "e[29]      -0.42    0.01   0.65  -1.67  -0.86  -0.43   0.02   0.85   2000    1.0\n",
      "e[30]       0.48    0.01   0.65  -0.77   0.04   0.47   0.92   1.75   2000    1.0\n",
      "e[31]       1.51    0.01   0.64   0.28   1.08   1.51   1.94   2.79   2000    1.0\n",
      "e[32]       7.01    0.01   0.62   5.82   6.59   7.01   7.43   8.26   2000    1.0\n",
      "e[33]      -2.76    0.01   0.61  -3.93  -3.19  -2.77  -2.35  -1.52   2000    1.0\n",
      "e[34]      -5.96    0.01   0.61  -7.12  -6.38  -5.96  -5.55  -4.73   2000    1.0\n",
      "e[35]       9.54    0.01    0.6   8.39   9.12   9.54   9.95  10.73   2000    1.0\n",
      "e[36]      -2.87    0.01    0.6  -4.01  -3.28  -2.86  -2.46  -1.68   2000    1.0\n",
      "e[37]      -4.18    0.01   0.59  -5.31  -4.59  -4.17  -3.77  -2.99   2000    1.0\n",
      "e[38]       -7.3    0.01   0.59  -8.41  -7.71  -7.29  -6.89  -6.12   2000    1.0\n",
      "e[39]      -7.44    0.01   0.59  -8.54  -7.84  -7.43  -7.04  -6.29   2000    1.0\n",
      "e[40]      -3.47    0.01   0.58  -4.58  -3.87  -3.46  -3.07  -2.32   2000    1.0\n",
      "e[41]       3.42    0.01   0.58   2.33   3.02   3.42   3.81   4.57   2000    1.0\n",
      "e[42]       6.42    0.01   0.58   5.33   6.02   6.42   6.81   7.57   2000    1.0\n",
      "e[43]       3.63    0.01   0.56   2.55   3.25   3.64   4.02   4.77   1598    1.0\n",
      "e[44]      -2.37    0.01   0.56  -3.45  -2.75  -2.36  -1.98  -1.23   1598    1.0\n",
      "e[45]       0.05    0.01   0.57  -1.03  -0.33   0.05   0.43   1.19   2000    1.0\n",
      "e[46]      -4.47    0.01   0.56  -5.55  -4.85  -4.46  -4.08  -3.33   1598    1.0\n",
      "e[47]      -4.43    0.01   0.56  -5.51  -4.81  -4.44  -4.05   -3.3   1546    1.0\n",
      "e[48]       4.59    0.01   0.56   3.51   4.21   4.58   4.97   5.73   1453    1.0\n",
      "e[49]      -6.31    0.01   0.56  -7.39  -6.69  -6.32  -5.93  -5.17   1453    1.0\n",
      "e[50]      10.85    0.02   0.56   9.78  10.48  10.85  11.24   12.0   1392    1.0\n",
      "e[51]      -0.96    0.02   0.56  -2.05  -1.35  -0.97  -0.58   0.17   1373    1.0\n",
      "e[52]       0.89    0.02   0.56  -0.21    0.5   0.88   1.27   2.03   1338    1.0\n",
      "e[53]      -4.87    0.02   0.57  -5.98  -5.25  -4.87  -4.48  -3.73   1276    1.0\n",
      "e[54]      -3.72    0.02   0.57  -4.83  -4.11  -3.73  -3.33  -2.59   1291    1.0\n",
      "e[55]      -8.09    0.02   0.57   -9.2  -8.47  -8.09  -7.69  -6.95   1224    1.0\n",
      "e[56]      -1.47    0.02   0.57  -2.58  -1.85  -1.47  -1.08  -0.33   1276    1.0\n",
      "e[57]       1.88    0.02   0.57   0.76   1.49   1.87   2.27   3.01   1201    1.0\n",
      "e[58]        1.4    0.02   0.57   0.29   1.02    1.4    1.8   2.55   1191    1.0\n",
      "e[59]      -4.86    0.02   0.58  -5.98  -5.24  -4.86  -4.47  -3.71   1130    1.0\n",
      "e[60]      -5.04    0.02   0.58  -6.18  -5.41  -5.04  -4.65  -3.87   1112    1.0\n",
      "e[61]      -3.34    0.02   0.58  -4.48  -3.71  -3.34  -2.95  -2.17   1112    1.0\n",
      "e[62]       7.96    0.02   0.58   6.82   7.59   7.96   8.36   9.14   1095    1.0\n",
      "e[63]      -6.84    0.02   0.58  -7.99  -7.22  -6.84  -6.45  -5.66   1088    1.0\n",
      "e[64]      -1.65    0.02   0.58   -2.8  -2.03  -1.65  -1.25  -0.47   1081    1.0\n",
      "e[65]      10.34    0.02   0.59   9.18   9.96  10.35  10.75  11.54   1086    1.0\n",
      "e[66]      -1.13    0.02   0.59   -2.3  -1.52  -1.13  -0.72   0.06   1075    1.0\n",
      "e[67]      -8.27    0.02    0.6  -9.45  -8.66  -8.27  -7.86  -7.08   1070    1.0\n",
      "e[68]      -4.53    0.02    0.6  -5.71  -4.92  -4.53  -4.12  -3.33   1056    1.0\n",
      "e[69]        2.0    0.02    0.6   0.81   1.61   2.01   2.42   3.22   1041    1.0\n",
      "e[70]      -2.79    0.02    0.6  -3.97  -3.18  -2.79  -2.37  -1.59   1052    1.0\n",
      "e[71]      -3.87    0.02    0.6  -5.05  -4.26  -3.87  -3.46  -2.68   1060    1.0\n",
      "e[72]      -2.53    0.02   0.61  -3.73  -2.93  -2.52  -2.12  -1.31   1028    1.0\n",
      "e[73]      -0.15    0.02   0.61  -1.35  -0.55  -0.15   0.25   1.06   1034    1.0\n",
      "e[74]       8.47    0.02   0.61   7.27   8.07   8.48   8.88   9.69   1028    1.0\n",
      "e[75]      -1.25    0.02   0.61  -2.46  -1.65  -1.24  -0.83  -0.01   1017    1.0\n",
      "e[76]       5.37    0.02   0.61   4.16   4.97   5.37   5.78    6.6   1019    1.0\n",
      "e[77]       2.87    0.02   0.61   1.66   2.47   2.87   3.28    4.1   1019    1.0\n",
      "e[78]      -1.24    0.02   0.62  -2.44  -1.64  -1.22  -0.82-8.7e-3   1011    1.0\n",
      "e[79]      -9.37    0.02   0.62 -10.58  -9.77  -9.35  -8.95  -8.14   1009    1.0\n",
      "e[80]      -3.65    0.02   0.62  -4.86  -4.05  -3.63  -3.23  -2.42   1007    1.0\n",
      "e[81]       -3.4    0.02   0.62  -4.61  -3.81  -3.38  -2.98  -2.17   1005    1.0\n",
      "e[82]       -0.4    0.02   0.62  -1.61  -0.81  -0.38   0.02   0.83   1005    1.0\n",
      "e[83]       6.74    0.02   0.62   5.53   6.33   6.76   7.16   7.97   1003    1.0\n",
      "e[84]      12.44    0.02   0.62  11.23  12.03  12.46  12.86  13.67   1003    1.0\n",
      "e[85]        8.2    0.02   0.62   6.98   7.79   8.22   8.62   9.43   1003    1.0\n",
      "e[86]      -1.48    0.02   0.62  -2.69  -1.89  -1.45  -1.06  -0.25   1004    1.0\n",
      "e[87]     -10.78    0.02   0.62 -11.99 -11.19 -10.75 -10.36  -9.55   1004    1.0\n",
      "e[88]      -2.88    0.02   0.62  -4.08  -3.29  -2.85  -2.46  -1.66   1005    1.0\n",
      "e[89]      -0.33    0.02   0.62  -1.53  -0.74   -0.3   0.09   0.89   1008    1.0\n",
      "e[90]       4.12    0.02   0.62   2.91   3.71   4.15   4.54   5.34   1010    1.0\n",
      "e[91]       4.79    0.02   0.62   3.57   4.38   4.81   5.21    6.0   1011    1.0\n",
      "e[92]       3.15    0.02   0.62   1.94   2.74   3.18   3.57   4.36   1012    1.0\n",
      "e[93]      -8.65    0.02   0.62  -9.86  -9.06  -8.62  -8.23  -7.44   1012    1.0\n",
      "e[94]       4.14    0.02   0.62   2.93   3.74   4.18   4.56   5.35   1023    1.0\n",
      "e[95]      -3.24    0.02   0.62  -4.45  -3.64   -3.2  -2.82  -2.03   1019    1.0\n",
      "e[96]       0.27    0.02   0.61  -0.95  -0.13   0.31   0.68   1.47   1034    1.0\n",
      "e[97]      -0.33    0.02   0.61  -1.55  -0.73  -0.29   0.08   0.87   1034    1.0\n",
      "e[98]       1.75    0.02   0.61   0.53   1.35   1.79   2.16   2.96   1032    1.0\n",
      "e[99]      -0.55    0.02   0.61  -1.77  -0.95  -0.51  -0.14   0.66   1032    1.0\n",
      "e[100]    -10.32    0.02   0.61 -11.54 -10.72 -10.28  -9.91  -9.12   1037    1.0\n",
      "e[101]      3.49    0.02   0.61   2.26    3.1   3.52    3.9   4.68   1049    1.0\n",
      "e[102]      1.48    0.02    0.6   0.26   1.09   1.52   1.89   2.66   1052    1.0\n",
      "e[103]     -2.33    0.02    0.6  -3.56  -2.72   -2.3  -1.93  -1.16   1056    1.0\n",
      "e[104]     -0.05    0.02    0.6  -1.28  -0.44  -0.02   0.36   1.12   1059    1.0\n",
      "e[105]      0.04    0.02    0.6  -1.19  -0.34   0.07   0.44   1.19   1075    1.0\n",
      "e[106]      0.54    0.02    0.6  -0.69   0.16   0.57   0.94   1.69   1075    1.0\n",
      "e[107]      8.64    0.02    0.6   7.41   8.26   8.67   9.04   9.79   1075    1.0\n",
      "e[108]     -1.94    0.02   0.59  -3.16  -2.32  -1.92  -1.55  -0.79   1094    1.0\n",
      "e[109]      0.23    0.02   0.58  -0.98  -0.13   0.26   0.63   1.36   1122    1.0\n",
      "e[110]      5.98    0.02   0.58   4.76   5.61    6.0   6.37   7.11   1110    1.0\n",
      "e[111]      5.29    0.02   0.58   4.07   4.93   5.31   5.68   6.41   1141    1.0\n",
      "e[112]      5.83    0.02   0.58   4.62   5.47   5.86   6.23   6.96   1122    1.0\n",
      "e[113]      -4.0    0.02   0.57   -5.2  -4.36  -3.97  -3.61  -2.87   1155    1.0\n",
      "e[114]      10.7    0.02   0.57   9.49  10.34  10.72  11.08  11.81   1178    1.0\n",
      "e[115]     -0.32    0.02   0.57  -1.51  -0.68   -0.3   0.06   0.79   1186    1.0\n",
      "e[116]      9.95    0.02   0.56   8.75   9.59   9.96  10.33  11.05   1203    1.0\n",
      "e[117]     -8.35    0.02   0.56  -9.55  -8.71  -8.34  -7.97  -7.25   1203    1.0\n",
      "e[118]     -0.58    0.02   0.56  -1.77  -0.94  -0.56  -0.19   0.52   1212    1.0\n",
      "e[119]      6.46    0.02   0.56   5.26    6.1   6.47   6.84   7.54   1231    1.0\n",
      "e[120]     -4.72    0.02   0.55  -5.89  -5.07   -4.7  -4.34  -3.62   1272    1.0\n",
      "e[121]     -4.96    0.02   0.55  -6.15  -5.32  -4.95  -4.59  -3.87   1261    1.0\n",
      "e[122]     -5.93    0.02   0.55  -7.11  -6.27  -5.91  -5.56  -4.82   1294    1.0\n",
      "e[123]     -6.56    0.02   0.55  -7.74  -6.91  -6.54  -6.19  -5.46   1317    1.0\n",
      "e[124]     -3.05    0.01   0.54  -4.22   -3.4  -3.05  -2.69  -1.99   1393    1.0\n",
      "e[125]      1.31    0.01   0.55   0.13   0.97   1.32   1.68    2.4   1354    1.0\n",
      "e[126]    -12.05    0.01   0.54 -13.21  -12.4 -12.05 -11.69 -10.98   1406    1.0\n",
      "e[127]      0.65    0.01   0.54  -0.51    0.3   0.65   1.01   1.71   1420    1.0\n",
      "e[128]      6.45    0.01   0.54   5.29    6.1   6.45   6.81   7.51   1420    1.0\n",
      "e[129]     11.12    0.01   0.54   9.98  10.76  11.13  11.48  12.18   1461    1.0\n",
      "e[130]      6.98    0.01   0.54   5.87   6.62   6.99   7.34   8.04   1446    1.0\n",
      "e[131]      3.78    0.01   0.54   2.67   3.42   3.79   4.14   4.84   1446    1.0\n",
      "e[132]    -10.36    0.01   0.54 -11.47 -10.72 -10.35  -10.0   -9.3   1457    1.0\n",
      "e[133]     -3.91    0.01   0.55  -5.02  -4.26   -3.9  -3.54  -2.85   1469    1.0\n",
      "e[134]     -2.42    0.01   0.54  -3.53  -2.78  -2.41  -2.06  -1.36   1446    1.0\n",
      "e[135]      3.46    0.01   0.56   2.37    3.1   3.46   3.84   4.54   1602    1.0\n",
      "e[136]     -1.07    0.01   0.55  -2.16  -1.43  -1.06   -0.7-6.3e-3   1500    1.0\n",
      "e[137]      -7.5    0.01   0.56   -8.6  -7.87   -7.5  -7.12  -6.42   1612    1.0\n",
      "e[138]      9.12    0.01   0.58   8.01   8.73   9.11   9.52  10.26   1619    1.0\n",
      "e[139]       4.7    0.01   0.56    3.6   4.33    4.7   5.08   5.78   1612    1.0\n",
      "e[140]      0.91    0.01   0.58   -0.2   0.52    0.9   1.31   2.07   1618    1.0\n",
      "e[141]      6.41    0.01   0.58    5.3   6.02    6.4   6.81   7.57   1618    1.0\n",
      "e[142]     -8.08    0.01   0.58  -9.19  -8.47  -8.09  -7.68  -6.94   1619    1.0\n",
      "e[143]       3.3    0.01   0.58   2.18    2.9   3.29    3.7   4.47   1616    1.0\n",
      "e[144]     -3.32    0.01   0.59  -4.45  -3.72  -3.33  -2.92  -2.13   1613    1.0\n",
      "e[145]      3.57    0.02   0.61   2.39   3.14   3.56   3.97   4.78   1593    1.0\n",
      "e[146]     -0.63    0.02   0.61  -1.81  -1.06  -0.64  -0.23   0.58   1593    1.0\n",
      "e[147]      3.37    0.02   0.64   2.12   2.93   3.37    3.8   4.62   1543    1.0\n",
      "e[148]       7.3    0.02   0.68   5.98   6.84    7.3   7.76   8.64   1491    1.0\n",
      "e[149]     -0.33    0.02   0.64  -1.58  -0.77  -0.33    0.1   0.92   1543    1.0\n",
      "e[150]      5.52    0.02   0.68   4.18   5.05   5.51   5.98   6.86   1479    1.0\n",
      "e[151]     -6.87    0.02   0.69  -8.23  -7.35  -6.87  -6.41  -5.51   1468    1.0\n",
      "e[152]     -4.17    0.02    0.7  -5.54  -4.65  -4.17   -3.7  -2.79   1457    1.0\n",
      "e[153]      8.33    0.02    0.7   6.96   7.85   8.33    8.8   9.71   1457    1.0\n",
      "e[154]      2.02    0.02   0.73   0.59   1.52   2.03    2.5   3.45   1423    1.0\n",
      "e[155]    -12.01    0.02   0.74 -13.46 -12.54  -12.0 -11.52 -10.54   1401    1.0\n",
      "e[156]     -7.88    0.02   0.77  -9.37  -8.43  -7.87  -7.37  -6.35   1368    1.0\n",
      "e[157]     -1.28    0.02   0.77  -2.77  -1.83  -1.27  -0.77   0.25   1368    1.0\n",
      "e[158]      5.06    0.02   0.81   3.48   4.49   5.06    5.6   6.65   1327    1.0\n",
      "e[159]     -0.49    0.02    0.8  -2.05  -1.06  -0.49   0.04   1.09   1337    1.0\n",
      "e[160]      3.63    0.02   0.86   1.96   3.03   3.63    4.2   5.28   1289    1.0\n",
      "e[161]      5.36    0.02   0.83   3.73   4.76   5.36   5.91   6.97   1308    1.0\n",
      "e[162]       9.6    0.02   0.85   7.95    9.0    9.6  10.16  11.23   1298    1.0\n",
      "e[163]      0.36    0.03   0.98  -1.57  -0.33   0.37   1.04   2.21   1209    1.0\n",
      "e[164]     -0.06    0.03    0.9  -1.84   -0.7  -0.06   0.56   1.67   1254    1.0\n",
      "e[165]    -10.03    0.03   0.95  -11.9  -10.7 -10.02  -9.37  -8.21   1223    1.0\n",
      "e[166]      0.76    0.03   0.98  -1.17   0.07   0.77   1.44   2.61   1209    1.0\n",
      "e[167]     -3.34    0.03   0.98  -5.27  -4.03  -3.33  -2.66  -1.49   1209    1.0\n",
      "e[168]     -5.18    0.03   1.02  -7.21   -5.9  -5.17  -4.48  -3.26   1188    1.0\n",
      "e[169]     -0.83    0.03   1.05  -2.91  -1.57  -0.82  -0.11   1.12   1176    1.0\n",
      "e[170]      6.17    0.03   1.05   4.09   5.43   6.18   6.89   8.12   1176    1.0\n",
      "e[171]    -11.14    0.03   1.09 -13.31  -11.9 -11.13 -10.39   -9.1   1158    1.0\n",
      "e[172]     -1.98    0.03   1.11  -4.18  -2.76  -1.97  -1.22   0.09   1153    1.0\n",
      "e[173]      0.78    0.04   1.21  -1.64  -0.05    0.8   1.64   3.07   1119    1.0\n",
      "e[174]     -4.94    0.03   1.15  -7.24  -5.74  -4.93  -4.14  -2.77   1137    1.0\n",
      "e[175]       2.1    0.03   1.17  -0.23   1.29   2.11   2.91    4.3   1133    1.0\n",
      "e[176]      2.61    0.04   1.23   0.14   1.75   2.62   3.47   4.92   1114    1.0\n",
      "e[177]      0.23    0.04   1.26   -2.3  -0.64   0.25   1.12   2.58   1106    1.0\n",
      "e[178]    -13.55    0.04   1.29 -16.16 -14.46 -13.53 -12.64 -11.17   1098    1.0\n",
      "e[179]     15.15    0.04   1.29  12.54  14.24  15.17  16.06  17.53   1098    1.0\n",
      "lp__      -401.7    0.04   1.37 -405.2 -402.3 -401.4 -400.7 -400.0    958    1.0\n",
      "\n",
      "Samples were drawn using NUTS at Fri Apr  7 18:42:45 2017.\n",
      "For each parameter, n_eff is a crude measure of effective sample size,\n",
      "and Rhat is the potential scale reduction factor on split chains (at \n",
      "convergence, Rhat=1).\n"
     ]
    }
   ],
   "source": [
    "print(fit_2)"
   ]
  },
  {
   "cell_type": "code",
   "execution_count": 18,
   "metadata": {
    "collapsed": false
   },
   "outputs": [
    {
     "data": {
      "image/png": "[encoded data removed]",
      "text/plain": [
       "<matplotlib.figure.Figure at 0x1203be5f8>"
      ]
     },
     "metadata": {},
     "output_type": "display_data"
    }
   ],
   "source": [
    "plt.plot(data_2['X'], data_2['Y'], \"o\")\n",
    "plot_pred_range(fit_2, data_2['X_new'], 'y_new', (2.5, 97.5), 0.25)\n",
    "plot_pred_range(fit_2, data_2['X_new'], 'y_new', (25, 75), 0.5)\n",
    "plt.show()"
   ]
  },
  {
   "cell_type": "code",
   "execution_count": 19,
   "metadata": {
    "collapsed": false
   },
   "outputs": [
    {
     "data": {
      "image/png": "[encoded data removed]",
      "text/plain": [
       "<matplotlib.figure.Figure at 0x11a692be0>"
      ]
     },
     "metadata": {},
     "output_type": "display_data"
    }
   ],
   "source": [
    "hist_error(fit_2)"
   ]
  },
  {
   "cell_type": "code",
   "execution_count": 20,
   "metadata": {
    "collapsed": false
   },
   "outputs": [
    {
     "data": {
      "text/html": [
       "<div>\n",
       "<table border=\"1\" class=\"dataframe\">\n",
       "  <thead>\n",
       "    <tr style=\"text-align: right;\">\n",
       "      <th></th>\n",
       "      <th>Time</th>\n",
       "      <th>Y</th>\n",
       "    </tr>\n",
       "  </thead>\n",
       "  <tbody>\n",
       "    <tr>\n",
       "      <th>0</th>\n",
       "      <td>1</td>\n",
       "      <td>2.4</td>\n",
       "    </tr>\n",
       "    <tr>\n",
       "      <th>1</th>\n",
       "      <td>2</td>\n",
       "      <td>5.0</td>\n",
       "    </tr>\n",
       "    <tr>\n",
       "      <th>2</th>\n",
       "      <td>4</td>\n",
       "      <td>7.5</td>\n",
       "    </tr>\n",
       "    <tr>\n",
       "      <th>3</th>\n",
       "      <td>8</td>\n",
       "      <td>11.9</td>\n",
       "    </tr>\n",
       "    <tr>\n",
       "      <th>4</th>\n",
       "      <td>12</td>\n",
       "      <td>12.5</td>\n",
       "    </tr>\n",
       "    <tr>\n",
       "      <th>5</th>\n",
       "      <td>24</td>\n",
       "      <td>12.7</td>\n",
       "    </tr>\n",
       "  </tbody>\n",
       "</table>\n",
       "</div>"
      ],
      "text/plain": [
       "   Time     Y\n",
       "0     1   2.4\n",
       "1     2   5.0\n",
       "2     4   7.5\n",
       "3     8  11.9\n",
       "4    12  12.5\n",
       "5    24  12.7"
      ]
     },
     "execution_count": 20,
     "metadata": {},
     "output_type": "execute_result"
    }
   ],
   "source": [
    "df_3 = pd.read_csv('input/data-conc.txt')\n",
    "df_3"
   ]
  },
  {
   "cell_type": "code",
   "execution_count": 21,
   "metadata": {
    "collapsed": false
   },
   "outputs": [
    {
     "data": {
      "image/png": "[encoded data removed]",
      "text/plain": [
       "<matplotlib.figure.Figure at 0x120326828>"
      ]
     },
     "metadata": {},
     "output_type": "display_data"
    }
   ],
   "source": [
    "data_3 = df_3.to_dict('list')\n",
    "data_3['T'] = len(df_3)\n",
    "data_3['Time_new'] = [np.power(10,x)*24 for x in np.linspace(-2, 0, 40)]\n",
    "data_3['T_new'] = len(data_3['Time_new'])\n",
    "plt.plot(df_3['Time'], df_3['Y'], \"o-\")\n",
    "plt.xlabel('Time')\n",
    "plt.ylabel('Y')\n",
    "#plt.xscale('log')\n",
    "plt.show()"
   ]
  },
  {
   "cell_type": "code",
   "execution_count": 22,
   "metadata": {
    "collapsed": true
   },
   "outputs": [],
   "source": [
    "model_3 = \"\"\"\n",
    "data {\n",
    "  int T;\n",
    "  real Time[T];\n",
    "  real Y[T];\n",
    "  int T_new;\n",
    "  real Time_new[T_new];\n",
    "}\n",
    "\n",
    "parameters {\n",
    "  real<lower=0, upper=100> a;\n",
    "  real<lower=0, upper=5> b;\n",
    "  real<lower=0> s_Y;\n",
    "}\n",
    "\n",
    "model {\n",
    "  for (t in 1:T)\n",
    "    Y[t] ~ normal(a*(1-exp(-b*Time[t])), s_Y);\n",
    "}\n",
    "\n",
    "generated quantities {\n",
    "  real y_new[T_new];\n",
    "  for (t in 1:T_new)\n",
    "    y_new[t] = normal_rng(a*(1-exp(-b*Time_new[t])), s_Y);\n",
    "}\n",
    "\"\"\""
   ]
  },
  {
   "cell_type": "code",
   "execution_count": 23,
   "metadata": {
    "collapsed": false
   },
   "outputs": [
    {
     "name": "stderr",
     "output_type": "stream",
     "text": [
      "INFO:pystan:COMPILING THE C++ CODE FOR MODEL anon_model_47132d80a244d8a280377ac5bfc34675 NOW.\n"
     ]
    }
   ],
   "source": [
    "fit_3 = pystan.stan(model_code=model_3, data=data_3, iter=1000, chains=4)"
   ]
  },
  {
   "cell_type": "code",
   "execution_count": 24,
   "metadata": {
    "collapsed": false
   },
   "outputs": [
    {
     "name": "stdout",
     "output_type": "stream",
     "text": [
      "Inference for Stan model: anon_model_47132d80a244d8a280377ac5bfc34675.\n",
      "4 chains, each with iter=1000; warmup=500; thin=1; \n",
      "post-warmup draws per chain=500, total post-warmup draws=2000.\n",
      "\n",
      "            mean se_mean     sd   2.5%    25%    50%    75%  97.5%  n_eff   Rhat\n",
      "a          13.18    0.06   1.02  11.61  12.73  13.12  13.53  14.85    281   1.02\n",
      "b           0.24  2.1e-3   0.05   0.16   0.22   0.24   0.26   0.35    548   1.01\n",
      "s_Y         0.88    0.04   0.69   0.34   0.53   0.69   0.98   2.56    240   1.02\n",
      "y_new[0]    0.73    0.03   1.16  -1.34   0.27   0.74   1.22   2.66   1636    1.0\n",
      "y_new[1]     0.8    0.03   1.17  -1.31   0.33   0.81   1.28   2.82   1635    1.0\n",
      "y_new[2]    0.93    0.03    1.1  -1.04   0.44   0.91   1.41    2.9   1834    1.0\n",
      "y_new[3]    1.05    0.02   1.08  -1.02   0.58   1.01   1.48   3.25   2000    1.0\n",
      "y_new[4]    1.15    0.03    1.2  -0.92   0.69   1.14   1.64   3.25   2000    1.0\n",
      "y_new[5]    1.28    0.03   1.13  -0.96    0.8    1.3   1.76   3.28   1576    1.0\n",
      "y_new[6]    1.47    0.03   1.19  -0.59   0.95   1.44   1.96   3.82   1983    1.0\n",
      "y_new[7]    1.61    0.03   1.18  -0.39   1.12   1.58   2.08   3.79   2000    1.0\n",
      "y_new[8]    1.84    0.03   1.17  -0.28   1.35   1.83    2.3   4.13   2000    1.0\n",
      "y_new[9]    2.04    0.03   1.15  -0.06   1.54    2.0    2.5   4.39   1935    1.0\n",
      "y_new[10]   2.26    0.03   1.17   0.16   1.77   2.25   2.74   4.45   1872    1.0\n",
      "y_new[11]   2.48    0.04   1.21   0.51   1.97   2.49    3.0   4.71   1161    1.0\n",
      "y_new[12]   2.74    0.03   1.14   0.53   2.26   2.78   3.27   4.86   1786    1.0\n",
      "y_new[13]   3.08    0.03   1.17   0.84   2.55   3.05   3.56   5.39   1457    1.0\n",
      "y_new[14]   3.41    0.03   1.24   1.02    2.9   3.44   3.96   5.63   2000    1.0\n",
      "y_new[15]   3.77    0.03    1.2   1.79   3.23   3.73   4.26   5.95   1510    1.0\n",
      "y_new[16]   4.16    0.03   1.22   1.86   3.63   4.16   4.67   6.53   1401    1.0\n",
      "y_new[17]   4.55    0.03   1.28   2.33   4.02   4.53   5.09   6.89   1994    1.0\n",
      "y_new[18]   5.04    0.03   1.18   2.92   4.47   5.01   5.54   7.33   2000    1.0\n",
      "y_new[19]   5.47    0.04   1.26   3.24    4.9   5.44   5.98   7.99   1050    1.0\n",
      "y_new[20]   5.95    0.03   1.33   3.46   5.37   5.97   6.53   8.37   1892    1.0\n",
      "y_new[21]   6.48    0.03   1.34   4.13   5.93   6.47   7.03    8.9   2000    1.0\n",
      "y_new[22]   7.01    0.03   1.25   4.62   6.47   6.99   7.52   9.44   2000    1.0\n",
      "y_new[23]   7.54    0.04   1.32    5.2   6.99   7.55   8.08   9.95   1384    1.0\n",
      "y_new[24]   8.12    0.03   1.21   5.92   7.54   8.13    8.7  10.47   2000    1.0\n",
      "y_new[25]   8.67    0.03   1.26   6.16   8.11   8.67   9.25  11.16   2000    1.0\n",
      "y_new[26]   9.22    0.03   1.31   6.76   8.68   9.25   9.76   11.6   1850    1.0\n",
      "y_new[27]   9.77    0.03    1.2   7.51   9.22    9.8  10.36  12.06   2000    1.0\n",
      "y_new[28]   10.3    0.04    1.3   7.91   9.77  10.31  10.86  12.76   1370    1.0\n",
      "y_new[29]   10.8    0.03   1.23   8.35  10.27  10.83  11.38  13.28   2000    1.0\n",
      "y_new[30]   11.2    0.03   1.21   8.52  10.68  11.19  11.75  13.55   1800    1.0\n",
      "y_new[31]  11.66    0.03   1.25   9.21  11.12  11.67  12.21  13.96   2000    1.0\n",
      "y_new[32]  12.01    0.03   1.36   9.68  11.51  12.04  12.58  14.31   2000    1.0\n",
      "y_new[33]  12.27    0.03   1.22    9.8  11.75  12.31  12.84  14.39   1290    1.0\n",
      "y_new[34]  12.51    0.03   1.29  10.02  11.99  12.51  13.09   14.7   2000    1.0\n",
      "y_new[35]  12.73    0.05   1.41   10.3  12.15  12.77  13.29  15.07    816    1.0\n",
      "y_new[36]  12.86    0.04   1.35  10.42  12.28  12.88  13.43  15.31    942    1.0\n",
      "y_new[37]  12.95    0.03   1.25  10.29  12.33  12.98  13.56  15.21   1522    1.0\n",
      "y_new[38]  13.07    0.05   1.34  10.61  12.46  13.06  13.68  15.47    820    1.0\n",
      "y_new[39]   13.1    0.06   1.54   10.4  12.49  13.08  13.68  15.82    773   1.01\n",
      "lp__       -0.23    0.15   2.01   -5.8  -1.08   0.32   1.21   1.99    172   1.02\n",
      "\n",
      "Samples were drawn using NUTS at Fri Apr  7 18:43:09 2017.\n",
      "For each parameter, n_eff is a crude measure of effective sample size,\n",
      "and Rhat is the potential scale reduction factor on split chains (at \n",
      "convergence, Rhat=1).\n"
     ]
    }
   ],
   "source": [
    "print(fit_3)"
   ]
  },
  {
   "cell_type": "code",
   "execution_count": 25,
   "metadata": {
    "collapsed": false
   },
   "outputs": [
    {
     "data": {
      "image/png": "[encoded data removed]",
      "text/plain": [
       "<matplotlib.figure.Figure at 0x12156f208>"
      ]
     },
     "metadata": {},
     "output_type": "display_data"
    }
   ],
   "source": [
    "plt.plot(data_3['Time'], data_3['Y'], \"o\")\n",
    "plot_pred_range(fit_3, data_3['Time_new'], 'y_new', (2.5, 97.5), 0.25)\n",
    "plot_pred_range(fit_3, data_3['Time_new'], 'y_new', (25, 75), 0.5)\n",
    "#plt.xscale('log')\n",
    "plt.show()"
   ]
  },
  {
   "cell_type": "markdown",
   "metadata": {},
   "source": [
    "## 7.5 交絡"
   ]
  },
  {
   "cell_type": "code",
   "execution_count": 26,
   "metadata": {
    "collapsed": false
   },
   "outputs": [
    {
     "data": {
      "text/html": [
       "<div>\n",
       "<table border=\"1\" class=\"dataframe\">\n",
       "  <thead>\n",
       "    <tr style=\"text-align: right;\">\n",
       "      <th></th>\n",
       "      <th>Y</th>\n",
       "      <th>Weight</th>\n",
       "      <th>Age</th>\n",
       "    </tr>\n",
       "  </thead>\n",
       "  <tbody>\n",
       "    <tr>\n",
       "      <th>0</th>\n",
       "      <td>2.46</td>\n",
       "      <td>16.6</td>\n",
       "      <td>7</td>\n",
       "    </tr>\n",
       "    <tr>\n",
       "      <th>1</th>\n",
       "      <td>3.02</td>\n",
       "      <td>21.4</td>\n",
       "      <td>7</td>\n",
       "    </tr>\n",
       "    <tr>\n",
       "      <th>2</th>\n",
       "      <td>2.91</td>\n",
       "      <td>24.0</td>\n",
       "      <td>7</td>\n",
       "    </tr>\n",
       "    <tr>\n",
       "      <th>3</th>\n",
       "      <td>3.05</td>\n",
       "      <td>13.0</td>\n",
       "      <td>7</td>\n",
       "    </tr>\n",
       "    <tr>\n",
       "      <th>4</th>\n",
       "      <td>2.60</td>\n",
       "      <td>21.9</td>\n",
       "      <td>7</td>\n",
       "    </tr>\n",
       "  </tbody>\n",
       "</table>\n",
       "</div>"
      ],
      "text/plain": [
       "      Y  Weight  Age\n",
       "0  2.46    16.6    7\n",
       "1  3.02    21.4    7\n",
       "2  2.91    24.0    7\n",
       "3  3.05    13.0    7\n",
       "4  2.60    21.9    7"
      ]
     },
     "execution_count": 26,
     "metadata": {},
     "output_type": "execute_result"
    }
   ],
   "source": [
    "df_4 = pd.read_csv('input/data-50m.txt')\n",
    "df_4.head()"
   ]
  },
  {
   "cell_type": "markdown",
   "metadata": {},
   "source": [
    "年齢を考慮しないと、WeightとYには正の相関がある。"
   ]
  },
  {
   "cell_type": "code",
   "execution_count": 27,
   "metadata": {
    "collapsed": false
   },
   "outputs": [
    {
     "data": {
      "text/plain": [
       "[<matplotlib.lines.Line2D at 0x1213c18d0>]"
      ]
     },
     "execution_count": 27,
     "metadata": {},
     "output_type": "execute_result"
    },
    {
     "data": {
      "image/png": "[encoded data removed]",
      "text/plain": [
       "<matplotlib.figure.Figure at 0x11c686080>"
      ]
     },
     "metadata": {},
     "output_type": "display_data"
    }
   ],
   "source": [
    "plt.plot(df_4['Weight'], df_4['Y'], \"o\")"
   ]
  },
  {
   "cell_type": "markdown",
   "metadata": {},
   "source": [
    "Ageで層別すると、WeightとYには負の相関。"
   ]
  },
  {
   "cell_type": "code",
   "execution_count": 28,
   "metadata": {
    "collapsed": false
   },
   "outputs": [
    {
     "data": {
      "image/png": "[encoded data removed]",
      "text/plain": [
       "<matplotlib.figure.Figure at 0x11c691550>"
      ]
     },
     "metadata": {},
     "output_type": "display_data"
    }
   ],
   "source": [
    "clrs = ['b', 'g', 'r', 'c', 'm', 'y']\n",
    "syms = ['bp', 'go', 'r^', 'cs', 'mD', 'yv']\n",
    "for x in range(7, 13):\n",
    "    df = df_4[df_4['Age'] == x]\n",
    "    plt.plot(df['Weight'], df['Y'], syms[x-7])\n",
    "plt.show()"
   ]
  },
  {
   "cell_type": "code",
   "execution_count": 29,
   "metadata": {
    "collapsed": false
   },
   "outputs": [],
   "source": [
    "data_4 = df_4.to_dict('list')\n",
    "data_4['N'] = len(df_4)\n",
    "data_4['Weight_new'] = np.linspace(10, 50, 40)\n",
    "data_4['N_new'] = len(data_4['Weight_new'])"
   ]
  },
  {
   "cell_type": "code",
   "execution_count": 30,
   "metadata": {
    "collapsed": true
   },
   "outputs": [],
   "source": [
    "model_4 = \"\"\"\n",
    "data {\n",
    "  int N;\n",
    "  real Weight[N];\n",
    "  real Y[N];\n",
    "  int Age[N];\n",
    "  int N_new;\n",
    "  real Weight_new[N_new];\n",
    "}\n",
    "\n",
    "parameters {\n",
    "  real c1;\n",
    "  real c2;\n",
    "  real<lower=0> sigma_W;\n",
    "  real b1;\n",
    "  real b2;\n",
    "  real b3;\n",
    "  real<lower=0> sigma_Y;\n",
    "}\n",
    "\n",
    "transformed parameters {\n",
    "  real mu_Weight[N];\n",
    "  real mu_Y[N];\n",
    "  for (n in 1:N) {\n",
    "    mu_Weight[n] = c1 + c2*Age[n];\n",
    "    mu_Y[n] = b1 + b2*Age[n] + b3*Weight[n];\n",
    "  }\n",
    "}\n",
    "\n",
    "model {\n",
    "  for (n in 1:N) {\n",
    "    Weight[n] ~ normal(mu_Weight[n], sigma_W);\n",
    "    Y[n] ~ normal(mu_Y[n], sigma_Y);\n",
    "  }\n",
    "}\n",
    "\n",
    "generated quantities {\n",
    "  real y7_new[N_new];\n",
    "  real y8_new[N_new];\n",
    "  real y9_new[N_new];\n",
    "  real y10_new[N_new];\n",
    "  real y11_new[N_new];\n",
    "  real y12_new[N_new];\n",
    "  for (n in 1:N_new) {\n",
    "    y7_new[n] = normal_rng(b1+b2*7+b3*Weight_new[n], sigma_Y);\n",
    "    y8_new[n] = normal_rng(b1+b2*8+b3*Weight_new[n], sigma_Y);\n",
    "    y9_new[n] = normal_rng(b1+b2*9+b3*Weight_new[n], sigma_Y);\n",
    "    y10_new[n] = normal_rng(b1+b2*10+b3*Weight_new[n], sigma_Y);\n",
    "    y11_new[n] = normal_rng(b1+b2*11+b3*Weight_new[n], sigma_Y);\n",
    "    y12_new[n] = normal_rng(b1+b2*12+b3*Weight_new[n], sigma_Y);\n",
    "  }\n",
    "}\n",
    "\"\"\""
   ]
  },
  {
   "cell_type": "code",
   "execution_count": 31,
   "metadata": {
    "collapsed": false
   },
   "outputs": [
    {
     "name": "stderr",
     "output_type": "stream",
     "text": [
      "INFO:pystan:COMPILING THE C++ CODE FOR MODEL anon_model_5c7ad1414e2e98f8456729f2f6594b40 NOW.\n"
     ]
    }
   ],
   "source": [
    "fit_4 = pystan.stan(model_code=model_4, data=data_4, iter=1000, chains=4)"
   ]
  },
  {
   "cell_type": "code",
   "execution_count": 32,
   "metadata": {
    "collapsed": false
   },
   "outputs": [
    {
     "name": "stdout",
     "output_type": "stream",
     "text": [
      "Inference for Stan model: anon_model_5c7ad1414e2e98f8456729f2f6594b40.\n",
      "4 chains, each with iter=1000; warmup=500; thin=1; \n",
      "post-warmup draws per chain=500, total post-warmup draws=2000.\n",
      "\n",
      "                mean se_mean     sd   2.5%    25%    50%    75%  97.5%  n_eff   Rhat\n",
      "c1             -8.67    0.08   2.42 -13.49 -10.24  -8.62  -7.07  -3.84    895    1.0\n",
      "c2              3.96  8.5e-3   0.25   3.47    3.8   3.96   4.13   4.48    878    1.0\n",
      "sigma_W         3.31  7.4e-3   0.31   2.76   3.09   3.29   3.49    4.0   1773    1.0\n",
      "b1             -0.72  6.1e-3   0.22  -1.15  -0.87  -0.73  -0.56  -0.26   1357    1.0\n",
      "b2              0.59  1.5e-3   0.05   0.49   0.56   0.59   0.62   0.68   1042    1.0\n",
      "b3             -0.04  3.1e-4   0.01  -0.06  -0.04  -0.03  -0.03  -0.01   1176    1.0\n",
      "sigma_Y         0.27  6.1e-4   0.02   0.23   0.25   0.27   0.29   0.32   1565    1.0\n",
      "mu_Weight[0]   19.08    0.02   0.75  17.61   18.6  19.08  19.57  20.58   1139    1.0\n",
      "mu_Weight[1]   19.08    0.02   0.75  17.61   18.6  19.08  19.57  20.58   1139    1.0\n",
      "mu_Weight[2]   19.08    0.02   0.75  17.61   18.6  19.08  19.57  20.58   1139    1.0\n",
      "mu_Weight[3]   19.08    0.02   0.75  17.61   18.6  19.08  19.57  20.58   1139    1.0\n",
      "mu_Weight[4]   19.08    0.02   0.75  17.61   18.6  19.08  19.57  20.58   1139    1.0\n",
      "mu_Weight[5]   19.08    0.02   0.75  17.61   18.6  19.08  19.57  20.58   1139    1.0\n",
      "mu_Weight[6]   19.08    0.02   0.75  17.61   18.6  19.08  19.57  20.58   1139    1.0\n",
      "mu_Weight[7]   19.08    0.02   0.75  17.61   18.6  19.08  19.57  20.58   1139    1.0\n",
      "mu_Weight[8]   19.08    0.02   0.75  17.61   18.6  19.08  19.57  20.58   1139    1.0\n",
      "mu_Weight[9]   23.04    0.02   0.55  21.96  22.68  23.05   23.4  24.16   1339    1.0\n",
      "mu_Weight[10]  23.04    0.02   0.55  21.96  22.68  23.05   23.4  24.16   1339    1.0\n",
      "mu_Weight[11]  23.04    0.02   0.55  21.96  22.68  23.05   23.4  24.16   1339    1.0\n",
      "mu_Weight[12]  23.04    0.02   0.55  21.96  22.68  23.05   23.4  24.16   1339    1.0\n",
      "mu_Weight[13]  23.04    0.02   0.55  21.96  22.68  23.05   23.4  24.16   1339    1.0\n",
      "mu_Weight[14]  23.04    0.02   0.55  21.96  22.68  23.05   23.4  24.16   1339    1.0\n",
      "mu_Weight[15]  23.04    0.02   0.55  21.96  22.68  23.05   23.4  24.16   1339    1.0\n",
      "mu_Weight[16]  23.04    0.02   0.55  21.96  22.68  23.05   23.4  24.16   1339    1.0\n",
      "mu_Weight[17]  23.04    0.02   0.55  21.96  22.68  23.05   23.4  24.16   1339    1.0\n",
      "mu_Weight[18]  23.04    0.02   0.55  21.96  22.68  23.05   23.4  24.16   1339    1.0\n",
      "mu_Weight[19]  23.04    0.02   0.55  21.96  22.68  23.05   23.4  24.16   1339    1.0\n",
      "mu_Weight[20]  23.04    0.02   0.55  21.96  22.68  23.05   23.4  24.16   1339    1.0\n",
      "mu_Weight[21]  27.01  9.9e-3   0.43  26.17  26.72  27.01  27.29  27.88   1867    1.0\n",
      "mu_Weight[22]  27.01  9.9e-3   0.43  26.17  26.72  27.01  27.29  27.88   1867    1.0\n",
      "mu_Weight[23]  27.01  9.9e-3   0.43  26.17  26.72  27.01  27.29  27.88   1867    1.0\n",
      "mu_Weight[24]  27.01  9.9e-3   0.43  26.17  26.72  27.01  27.29  27.88   1867    1.0\n",
      "mu_Weight[25]  27.01  9.9e-3   0.43  26.17  26.72  27.01  27.29  27.88   1867    1.0\n",
      "mu_Weight[26]  27.01  9.9e-3   0.43  26.17  26.72  27.01  27.29  27.88   1867    1.0\n",
      "mu_Weight[27]  27.01  9.9e-3   0.43  26.17  26.72  27.01  27.29  27.88   1867    1.0\n",
      "mu_Weight[28]  27.01  9.9e-3   0.43  26.17  26.72  27.01  27.29  27.88   1867    1.0\n",
      "mu_Weight[29]  27.01  9.9e-3   0.43  26.17  26.72  27.01  27.29  27.88   1867    1.0\n",
      "mu_Weight[30]  27.01  9.9e-3   0.43  26.17  26.72  27.01  27.29  27.88   1867    1.0\n",
      "mu_Weight[31]  30.97  9.6e-3   0.43  30.14  30.69  30.96  31.26   31.8   2000    1.0\n",
      "mu_Weight[32]  30.97  9.6e-3   0.43  30.14  30.69  30.96  31.26   31.8   2000    1.0\n",
      "mu_Weight[33]  30.97  9.6e-3   0.43  30.14  30.69  30.96  31.26   31.8   2000    1.0\n",
      "mu_Weight[34]  30.97  9.6e-3   0.43  30.14  30.69  30.96  31.26   31.8   2000    1.0\n",
      "mu_Weight[35]  30.97  9.6e-3   0.43  30.14  30.69  30.96  31.26   31.8   2000    1.0\n",
      "mu_Weight[36]  30.97  9.6e-3   0.43  30.14  30.69  30.96  31.26   31.8   2000    1.0\n",
      "mu_Weight[37]  30.97  9.6e-3   0.43  30.14  30.69  30.96  31.26   31.8   2000    1.0\n",
      "mu_Weight[38]  30.97  9.6e-3   0.43  30.14  30.69  30.96  31.26   31.8   2000    1.0\n",
      "mu_Weight[39]  30.97  9.6e-3   0.43  30.14  30.69  30.96  31.26   31.8   2000    1.0\n",
      "mu_Weight[40]  30.97  9.6e-3   0.43  30.14  30.69  30.96  31.26   31.8   2000    1.0\n",
      "mu_Weight[41]  30.97  9.6e-3   0.43  30.14  30.69  30.96  31.26   31.8   2000    1.0\n",
      "mu_Weight[42]  30.97  9.6e-3   0.43  30.14  30.69  30.96  31.26   31.8   2000    1.0\n",
      "mu_Weight[43]  30.97  9.6e-3   0.43  30.14  30.69  30.96  31.26   31.8   2000    1.0\n",
      "mu_Weight[44]  30.97  9.6e-3   0.43  30.14  30.69  30.96  31.26   31.8   2000    1.0\n",
      "mu_Weight[45]  30.97  9.6e-3   0.43  30.14  30.69  30.96  31.26   31.8   2000    1.0\n",
      "mu_Weight[46]  34.93    0.02   0.56   33.9  34.55  34.92  35.31  36.04   1352    1.0\n",
      "mu_Weight[47]  34.93    0.02   0.56   33.9  34.55  34.92  35.31  36.04   1352    1.0\n",
      "mu_Weight[48]  34.93    0.02   0.56   33.9  34.55  34.92  35.31  36.04   1352    1.0\n",
      "mu_Weight[49]  34.93    0.02   0.56   33.9  34.55  34.92  35.31  36.04   1352    1.0\n",
      "mu_Weight[50]  34.93    0.02   0.56   33.9  34.55  34.92  35.31  36.04   1352    1.0\n",
      "mu_Weight[51]  34.93    0.02   0.56   33.9  34.55  34.92  35.31  36.04   1352    1.0\n",
      "mu_Weight[52]  34.93    0.02   0.56   33.9  34.55  34.92  35.31  36.04   1352    1.0\n",
      "mu_Weight[53]  34.93    0.02   0.56   33.9  34.55  34.92  35.31  36.04   1352    1.0\n",
      "mu_Weight[54]  34.93    0.02   0.56   33.9  34.55  34.92  35.31  36.04   1352    1.0\n",
      "mu_Weight[55]  34.93    0.02   0.56   33.9  34.55  34.92  35.31  36.04   1352    1.0\n",
      "mu_Weight[56]  34.93    0.02   0.56   33.9  34.55  34.92  35.31  36.04   1352    1.0\n",
      "mu_Weight[57]  34.93    0.02   0.56   33.9  34.55  34.92  35.31  36.04   1352    1.0\n",
      "mu_Weight[58]   38.9    0.02   0.75  37.53  38.38  38.89   39.4  40.42   1112    1.0\n",
      "mu_Weight[59]   38.9    0.02   0.75  37.53  38.38  38.89   39.4  40.42   1112    1.0\n",
      "mu_Weight[60]   38.9    0.02   0.75  37.53  38.38  38.89   39.4  40.42   1112    1.0\n",
      "mu_Weight[61]   38.9    0.02   0.75  37.53  38.38  38.89   39.4  40.42   1112    1.0\n",
      "mu_Weight[62]   38.9    0.02   0.75  37.53  38.38  38.89   39.4  40.42   1112    1.0\n",
      "mu_Weight[63]   38.9    0.02   0.75  37.53  38.38  38.89   39.4  40.42   1112    1.0\n",
      "mu_Weight[64]   38.9    0.02   0.75  37.53  38.38  38.89   39.4  40.42   1112    1.0\n",
      "mu_Weight[65]   38.9    0.02   0.75  37.53  38.38  38.89   39.4  40.42   1112    1.0\n",
      "mu_Y[0]         2.82  1.5e-3   0.07   2.69   2.77   2.82   2.87   2.96   2000    1.0\n",
      "mu_Y[1]         2.65  1.8e-3   0.07   2.52   2.61   2.65    2.7   2.79   1420    1.0\n",
      "mu_Y[2]         2.56  2.5e-3   0.08    2.4   2.51   2.56   2.62   2.73   1151    1.0\n",
      "mu_Y[3]         2.95  2.0e-3   0.09   2.77   2.88   2.95   3.01   3.13   2000    1.0\n",
      "mu_Y[4]         2.64  1.9e-3   0.07    2.5   2.59   2.63   2.68   2.78   1342    1.0\n",
      "mu_Y[5]         2.63  2.0e-3   0.07   2.49   2.58   2.63   2.68   2.77   1315    1.0\n",
      "mu_Y[6]         2.75  1.4e-3   0.06   2.63    2.7   2.75   2.79   2.88   2000    1.0\n",
      "mu_Y[7]         2.74  1.4e-3   0.06   2.62    2.7   2.74   2.79   2.87   2000    1.0\n",
      "mu_Y[8]         2.75  1.4e-3   0.06   2.63    2.7   2.75   2.79   2.88   2000    1.0\n",
      "mu_Y[9]         3.24  1.1e-3   0.05   3.14    3.2   3.24   3.27   3.34   2000    1.0\n",
      "mu_Y[10]        3.19  1.1e-3   0.05   3.11   3.16   3.19   3.23   3.29   2000    1.0\n",
      "mu_Y[11]        3.25  1.1e-3   0.05   3.16   3.22   3.25   3.29   3.35   2000    1.0\n",
      "mu_Y[12]        3.23  1.1e-3   0.05   3.14   3.19   3.23   3.26   3.32   2000    1.0\n",
      "mu_Y[13]        3.13  1.3e-3   0.05   3.04    3.1   3.13   3.17   3.24   1507    1.0\n",
      "mu_Y[14]        3.03  2.0e-3   0.07    2.9   2.99   3.03   3.08   3.16   1143    1.0\n",
      "mu_Y[15]        3.16  1.2e-3   0.05   3.07   3.12   3.15   3.19   3.25   1680    1.0\n",
      "mu_Y[16]         3.2  1.1e-3   0.05   3.11   3.16    3.2   3.23   3.29   2000    1.0\n",
      "mu_Y[17]        3.24  1.1e-3   0.05   3.15   3.21   3.24   3.28   3.34   2000    1.0\n",
      "mu_Y[18]        3.24  1.1e-3   0.05   3.14    3.2   3.23   3.27   3.33   2000    1.0\n",
      "mu_Y[19]        2.87  3.3e-3   0.11   2.66    2.8   2.87   2.94   3.09   1078    1.0\n",
      "mu_Y[20]        3.13  1.3e-3   0.05   3.03   3.09   3.13   3.16   3.23   1459    1.0\n",
      "mu_Y[21]        3.65  8.0e-4   0.04   3.59   3.63   3.65   3.68   3.73   2000    1.0\n",
      "mu_Y[22]        3.65  8.0e-4   0.04   3.58   3.62   3.65   3.67   3.72   2000    1.0\n",
      "mu_Y[23]        3.54  1.3e-3   0.05   3.46   3.51   3.55   3.58   3.63   1327    1.0\n",
      "mu_Y[24]        3.67  8.3e-4   0.04    3.6   3.65   3.67    3.7   3.75   2000    1.0\n",
      "mu_Y[25]        3.76  1.1e-3   0.05   3.66   3.72   3.76   3.79   3.86   2000    1.0\n",
      "mu_Y[26]        3.53  1.3e-3   0.05   3.44    3.5   3.53   3.57   3.63   1295    1.0\n",
      "mu_Y[27]        3.71  9.4e-4   0.04   3.63   3.68   3.71   3.74    3.8   2000    1.0\n",
      "mu_Y[28]         3.6  9.4e-4   0.04   3.53   3.57    3.6   3.62   3.67   1622    1.0\n",
      "mu_Y[29]         3.7  9.1e-4   0.04   3.62   3.67    3.7   3.73   3.79   2000    1.0\n",
      "mu_Y[30]        3.47  1.8e-3   0.06   3.35   3.43   3.48   3.52    3.6   1196    1.0\n",
      "mu_Y[31]        4.11  8.0e-4   0.04   4.04   4.08   4.11   4.13   4.18   1933    1.0\n",
      "mu_Y[32]        4.13  8.8e-4   0.04   4.06   4.11   4.13   4.16   4.21   1795    1.0\n",
      "mu_Y[33]        4.11  8.1e-4   0.04   4.04   4.08   4.11   4.13   4.18   1922    1.0\n",
      "mu_Y[34]        4.24  1.5e-3   0.06   4.12    4.2   4.23   4.27   4.34   1401    1.0\n",
      "mu_Y[35]        4.18  1.1e-3   0.04    4.1   4.15   4.18   4.21   4.27   1547    1.0\n",
      "mu_Y[36]         4.3  2.0e-3   0.07   4.15   4.25    4.3   4.35   4.44   1283    1.0\n",
      "mu_Y[37]         4.2  1.3e-3   0.05   4.11   4.17    4.2   4.24    4.3   1476    1.0\n",
      "mu_Y[38]        4.08  7.9e-4   0.04   4.02   4.06   4.08   4.11   4.15   1968    1.0\n",
      "mu_Y[39]        4.11  8.0e-4   0.04   4.04   4.08   4.11   4.13   4.18   1933    1.0\n",
      "mu_Y[40]        3.89  1.9e-3   0.07   3.75   3.85   3.89   3.94   4.03   1394    1.0\n",
      "mu_Y[41]        4.17  1.1e-3   0.04   4.09   4.14   4.17    4.2   4.26   1591    1.0\n",
      "mu_Y[42]        4.15  9.4e-4   0.04   4.07   4.12   4.15   4.17   4.23   1715    1.0\n",
      "mu_Y[43]        4.08  7.9e-4   0.04   4.02   4.06   4.08   4.11   4.15   1968    1.0\n",
      "mu_Y[44]        4.17  1.0e-3   0.04   4.08   4.14   4.17   4.19   4.25   1624    1.0\n",
      "mu_Y[45]        4.16  1.0e-3   0.04   4.08   4.13   4.16   4.19   4.24   1641    1.0\n",
      "mu_Y[46]        4.63  1.4e-3   0.05   4.53    4.6   4.63   4.67   4.74   1456    1.0\n",
      "mu_Y[47]        4.65  1.5e-3   0.06   4.54   4.61   4.65   4.69   4.76   1355    1.0\n",
      "mu_Y[48]        4.57  1.1e-3   0.05   4.48   4.54   4.57    4.6   4.66   1812    1.0\n",
      "mu_Y[49]        4.57  1.1e-3   0.05   4.47   4.53   4.56    4.6   4.66   1834    1.0\n",
      "mu_Y[50]        4.71  2.0e-3   0.07   4.57   4.67   4.71   4.76   4.85   1212    1.0\n",
      "mu_Y[51]        4.58  1.1e-3   0.05   4.48   4.54   4.57   4.61   4.67   1771    1.0\n",
      "mu_Y[52]        4.63  1.4e-3   0.05   4.53    4.6   4.63   4.67   4.74   1456    1.0\n",
      "mu_Y[53]        4.62  1.3e-3   0.05   4.52   4.59   4.62   4.66   4.72   1503    1.0\n",
      "mu_Y[54]        4.53  1.0e-3   0.05   4.44    4.5   4.53   4.56   4.62   2000    1.0\n",
      "mu_Y[55]        4.45  1.2e-3   0.05   4.34   4.41   4.44   4.48   4.55   2000    1.0\n",
      "mu_Y[56]        4.32  2.0e-3   0.08   4.16   4.27   4.32   4.38   4.48   1678    1.0\n",
      "mu_Y[57]         4.6  1.2e-3   0.05    4.5   4.56    4.6   4.63   4.69   1638    1.0\n",
      "mu_Y[58]        4.79  2.0e-3   0.09   4.61   4.73   4.78   4.85   4.96   2000    1.0\n",
      "mu_Y[59]        5.09  1.8e-3   0.07   4.95   5.05    5.1   5.14   5.23   1406    1.0\n",
      "mu_Y[60]        4.89  1.6e-3   0.07   4.75   4.84   4.89   4.94   5.03   2000    1.0\n",
      "mu_Y[61]        4.68  2.7e-3   0.12   4.44   4.61   4.68   4.75    4.9   1776    1.0\n",
      "mu_Y[62]        4.97  1.4e-3   0.06   4.84   4.93   4.97   5.01   5.09   2000    1.0\n",
      "mu_Y[63]        5.04  1.5e-3   0.06   4.91    5.0   5.04   5.08   5.16   1746    1.0\n",
      "mu_Y[64]        4.97  1.4e-3   0.06   4.84   4.92   4.96   5.01   5.09   2000    1.0\n",
      "mu_Y[65]        4.77  2.1e-3   0.09   4.58   4.71   4.76   4.83   4.95   2000    1.0\n",
      "y7_new[0]       3.06  6.7e-3    0.3   2.47   2.85   3.06   3.26   3.63   2000    1.0\n",
      "y7_new[1]       3.01  6.6e-3    0.3   2.45   2.82   3.01   3.21   3.59   2000    1.0\n",
      "y7_new[2]       2.98  6.4e-3   0.28   2.43   2.79   2.98   3.16   3.54   2000    1.0\n",
      "y7_new[3]       2.93  6.5e-3   0.29   2.32   2.74   2.94   3.12   3.47   2000    1.0\n",
      "y7_new[4]       2.91  6.8e-3   0.29   2.35   2.72   2.91    3.1   3.46   1836    1.0\n",
      "y7_new[5]       2.86  6.3e-3   0.28   2.29   2.67   2.87   3.05   3.39   1939    1.0\n",
      "y7_new[6]       2.84  6.3e-3   0.28   2.31   2.65   2.84   3.03   3.37   2000    1.0\n",
      "y7_new[7]       2.81  6.4e-3   0.28   2.25   2.62    2.8   2.99   3.38   1901    1.0\n",
      "y7_new[8]       2.76  6.3e-3   0.28   2.18   2.58   2.77   2.95   3.32   2000    1.0\n",
      "y7_new[9]       2.73  6.4e-3   0.28   2.18   2.54   2.73   2.92    3.3   2000    1.0\n",
      "y7_new[10]      2.69  6.3e-3   0.28   2.13   2.49   2.69   2.88   3.26   2000    1.0\n",
      "y7_new[11]      2.66  6.4e-3   0.28   2.13   2.47   2.65   2.84   3.21   1880    1.0\n",
      "y7_new[12]      2.63  6.4e-3   0.29   2.06   2.44   2.63   2.82   3.18   2000    1.0\n",
      "y7_new[13]      2.59  6.4e-3   0.28   2.03   2.41   2.59   2.78   3.13   1905    1.0\n",
      "y7_new[14]      2.53  6.7e-3   0.29   1.99   2.34   2.53   2.72    3.1   1843    1.0\n",
      "y7_new[15]      2.51  7.0e-3   0.29   1.94   2.32   2.53   2.71   3.05   1663    1.0\n",
      "y7_new[16]      2.48  7.0e-3   0.29   1.89   2.29   2.49   2.67   3.05   1752    1.0\n",
      "y7_new[17]      2.45  7.3e-3    0.3   1.85   2.25   2.45   2.64   3.07   1750    1.0\n",
      "y7_new[18]      2.41  7.2e-3    0.3   1.83   2.22   2.42   2.61   3.03   1715    1.0\n",
      "y7_new[19]      2.36  7.5e-3   0.31   1.77   2.16   2.36   2.56   2.99   1671    1.0\n",
      "y7_new[20]      2.33  7.7e-3   0.31   1.72   2.13   2.35   2.53   2.93   1589    1.0\n",
      "y7_new[21]      2.31  7.5e-3   0.31    1.7   2.11   2.31   2.52   2.93   1675    1.0\n",
      "y7_new[22]      2.27  8.3e-3   0.32   1.65   2.06   2.26   2.49   2.88   1496    1.0\n",
      "y7_new[23]      2.24  7.9e-3   0.32   1.62   2.02   2.24   2.45   2.84   1608    1.0\n",
      "y7_new[24]       2.2  8.2e-3   0.31   1.58   1.99    2.2   2.39   2.82   1464    1.0\n",
      "y7_new[25]      2.16  8.6e-3   0.33   1.51   1.94   2.17   2.38   2.78   1464    1.0\n",
      "y7_new[26]      2.12  9.1e-3   0.34   1.44    1.9   2.13   2.34   2.79   1356    1.0\n",
      "y7_new[27]      2.08  8.8e-3   0.33   1.45   1.86   2.08    2.3   2.77   1450    1.0\n",
      "y7_new[28]      2.04  9.4e-3   0.36   1.34    1.8   2.04   2.28   2.76   1454    1.0\n",
      "y7_new[29]      2.01  9.2e-3   0.35   1.33   1.78   2.01   2.25    2.7   1433    1.0\n",
      "y7_new[30]      1.96 10.0e-3   0.37   1.25   1.71   1.96   2.21   2.68   1335    1.0\n",
      "y7_new[31]      1.94  9.9e-3   0.37   1.21   1.69   1.93   2.18   2.68   1431    1.0\n",
      "y7_new[32]      1.91    0.01   0.38   1.13   1.65    1.9   2.16   2.64   1458    1.0\n",
      "y7_new[33]      1.86  9.9e-3   0.38   1.11    1.6   1.86   2.12    2.6   1514    1.0\n",
      "y7_new[34]      1.83    0.01   0.39   1.07   1.55   1.84    2.1    2.6   1424    1.0\n",
      "y7_new[35]       1.8    0.01    0.4   0.98   1.53   1.81   2.07   2.58   1283    1.0\n",
      "y7_new[36]      1.77    0.01   0.41   0.96    1.5   1.77   2.05   2.56   1347    1.0\n",
      "y7_new[37]      1.73    0.01   0.41   0.93   1.46   1.74    2.0   2.51   1408    1.0\n",
      "y7_new[38]      1.69    0.01   0.43   0.85   1.41    1.7   1.99   2.51   1366    1.0\n",
      "y7_new[39]      1.65    0.01   0.43   0.77   1.37   1.65   1.94   2.49   1160    1.0\n",
      "y8_new[0]       3.65  6.9e-3   0.31   3.03   3.44   3.65   3.85   4.25   2000    1.0\n",
      "y8_new[1]        3.6  6.7e-3    0.3   3.01   3.41    3.6    3.8   4.21   2000    1.0\n",
      "y8_new[2]       3.57  7.1e-3    0.3   2.99   3.36   3.57   3.77   4.21   1781    1.0\n",
      "y8_new[3]       3.54  6.6e-3    0.3   2.94   3.34   3.53   3.74   4.15   2000    1.0\n",
      "y8_new[4]       3.51  6.8e-3   0.29   2.94   3.31    3.5    3.7   4.08   1779    1.0\n",
      "y8_new[5]       3.45  6.4e-3   0.28   2.87   3.26   3.45   3.64   4.01   2000    1.0\n",
      "y8_new[6]       3.42  6.5e-3   0.29   2.85   3.21   3.42   3.61   3.97   2000    1.0\n",
      "y8_new[7]        3.4  6.3e-3   0.28   2.84   3.21    3.4   3.59   3.96   2000    1.0\n",
      "y8_new[8]       3.36  6.2e-3   0.28   2.81   3.18   3.36   3.55    3.9   2000    1.0\n",
      "y8_new[9]       3.31  6.2e-3   0.28   2.77   3.13   3.31    3.5   3.86   2000    1.0\n",
      "y8_new[10]      3.28  6.3e-3   0.28   2.72   3.09   3.28   3.46   3.83   2000    1.0\n",
      "y8_new[11]      3.24  6.2e-3   0.28   2.67   3.06   3.24   3.44   3.78   2000    1.0\n",
      "y8_new[12]      3.21  6.6e-3   0.27   2.68   3.03   3.21   3.39   3.74   1699    1.0\n",
      "y8_new[13]      3.16  6.1e-3   0.27   2.64   2.96   3.16   3.34   3.72   2000    1.0\n",
      "y8_new[14]      3.15  6.1e-3   0.27   2.61   2.96   3.15   3.33   3.68   2000    1.0\n",
      "y8_new[15]      3.11  6.3e-3   0.28   2.57   2.92    3.1   3.29   3.65   1971    1.0\n",
      "y8_new[16]      3.07  6.7e-3   0.28   2.51   2.88   3.08   3.26   3.63   1779    1.0\n",
      "y8_new[17]      3.04  6.2e-3   0.28    2.5   2.85   3.04   3.23   3.58   2000    1.0\n",
      "y8_new[18]      2.98  6.4e-3   0.28   2.45   2.79   2.98   3.18   3.51   1860    1.0\n",
      "y8_new[19]      2.96  6.5e-3   0.28   2.41   2.77   2.96   3.14   3.52   1885    1.0\n",
      "y8_new[20]      2.92  6.6e-3    0.3    2.3   2.73   2.92   3.11    3.5   2000    1.0\n",
      "y8_new[21]      2.89  7.1e-3   0.29   2.28   2.71   2.89   3.08   3.46   1725    1.0\n",
      "y8_new[22]      2.86  7.0e-3    0.3   2.28   2.66   2.85   3.06   3.45   1815    1.0\n",
      "y8_new[23]      2.82  7.0e-3    0.3   2.24   2.62   2.82   3.02    3.4   1810    1.0\n",
      "y8_new[24]      2.77  7.1e-3    0.3   2.18   2.57   2.77   2.97   3.37   1847    1.0\n",
      "y8_new[25]      2.74  7.3e-3    0.3   2.13   2.55   2.74   2.94   3.33   1719    1.0\n",
      "y8_new[26]      2.71  7.8e-3   0.32   2.08   2.49   2.71   2.92   3.33   1688    1.0\n",
      "y8_new[27]      2.67  7.9e-3   0.32   2.05   2.44   2.67   2.88   3.29   1651    1.0\n",
      "y8_new[28]      2.63  8.1e-3   0.32    2.0   2.41   2.64   2.85   3.24   1529    1.0\n",
      "y8_new[29]      2.59  8.3e-3   0.33   1.93   2.37   2.59   2.81   3.24   1608    1.0\n",
      "y8_new[30]      2.56  8.3e-3   0.33   1.92   2.34   2.56   2.78   3.22   1555    1.0\n",
      "y8_new[31]      2.53  8.7e-3   0.35   1.87    2.3   2.52   2.75   3.23   1578    1.0\n",
      "y8_new[32]      2.49  9.2e-3   0.35   1.81   2.27    2.5   2.73   3.17   1454    1.0\n",
      "y8_new[33]      2.45  9.8e-3   0.37    1.7   2.21   2.45    2.7   3.16   1404    1.0\n",
      "y8_new[34]      2.41  9.5e-3   0.37   1.69   2.17   2.41   2.67   3.15   1522    1.0\n",
      "y8_new[35]      2.38  9.4e-3   0.36    1.7   2.13   2.37   2.62   3.15   1489    1.0\n",
      "y8_new[36]      2.35  9.9e-3   0.38   1.58   2.11   2.35   2.61   3.08   1438    1.0\n",
      "y8_new[37]      2.31    0.01   0.38   1.54   2.05   2.31   2.58   3.02   1373    1.0\n",
      "y8_new[38]      2.28    0.01    0.4   1.46   2.01   2.28   2.54   3.07   1329    1.0\n",
      "y8_new[39]      2.24    0.01   0.39   1.45    2.0   2.25    2.5   3.01   1425    1.0\n",
      "y9_new[0]       4.23  8.0e-3   0.33   3.59   4.02   4.24   4.44   4.89   1692    1.0\n",
      "y9_new[1]       4.19  8.1e-3   0.32   3.56   3.98   4.19   4.41   4.81   1531    1.0\n",
      "y9_new[2]       4.17  7.6e-3   0.32   3.55   3.95   4.17   4.39   4.81   1780    1.0\n",
      "y9_new[3]       4.12  7.4e-3   0.31   3.52   3.91   4.11   4.32   4.73   1789    1.0\n",
      "y9_new[4]       4.09  7.1e-3   0.31   3.47   3.89   4.09    4.3   4.71   1913    1.0\n",
      "y9_new[5]       4.05  7.4e-3   0.31   3.44   3.85   4.05   4.26    4.7   1827    1.0\n",
      "y9_new[6]       4.02  7.7e-3    0.3   3.43   3.82   4.03   4.23    4.6   1515    1.0\n",
      "y9_new[7]       3.98  6.8e-3   0.29   3.44   3.78   3.97   4.17   4.58   1814    1.0\n",
      "y9_new[8]       3.94  6.8e-3   0.29   3.38   3.75   3.95   4.14   4.49   1787    1.0\n",
      "y9_new[9]       3.91  6.3e-3   0.28   3.34   3.73   3.92   4.11   4.47   2000    1.0\n",
      "y9_new[10]      3.87  6.5e-3   0.29   3.34   3.69   3.88   4.06   4.42   1919    1.0\n",
      "y9_new[11]      3.84  6.4e-3   0.27   3.29   3.65   3.84   4.02   4.35   1801    1.0\n",
      "y9_new[12]       3.8  6.6e-3   0.28   3.24   3.62    3.8   3.98   4.36   1814    1.0\n",
      "y9_new[13]      3.75  6.2e-3   0.28   3.19   3.57   3.75   3.94    4.3   2000    1.0\n",
      "y9_new[14]      3.72  6.3e-3   0.28   3.14   3.55   3.73   3.91   4.27   2000    1.0\n",
      "y9_new[15]       3.7  6.3e-3   0.28   3.15   3.51   3.69   3.88   4.25   1972    1.0\n",
      "y9_new[16]      3.67  6.5e-3   0.28    3.1   3.48   3.67   3.85   4.23   1910    1.0\n",
      "y9_new[17]      3.61  6.2e-3   0.27   3.08   3.43   3.61   3.79   4.12   1826    1.0\n",
      "y9_new[18]      3.59  6.1e-3   0.27   3.03    3.4   3.59   3.76   4.13   2000    1.0\n",
      "y9_new[19]      3.55  6.1e-3   0.27   2.99   3.36   3.55   3.73   4.09   2000    1.0\n",
      "y9_new[20]      3.51  6.4e-3   0.28   2.93   3.32   3.51    3.7   4.06   2000    1.0\n",
      "y9_new[21]      3.47  6.3e-3   0.28   2.92   3.29   3.47   3.66   3.99   1965    1.0\n",
      "y9_new[22]      3.44  6.4e-3   0.28   2.89   3.25   3.44   3.63   3.98   1932    1.0\n",
      "y9_new[23]       3.4  6.4e-3   0.28   2.86   3.21   3.39   3.59   3.95   1884    1.0\n",
      "y9_new[24]      3.36  6.6e-3   0.28   2.79   3.18   3.36   3.55   3.93   1831    1.0\n",
      "y9_new[25]      3.34  6.6e-3   0.29   2.77   3.14   3.34   3.53   3.91   1922    1.0\n",
      "y9_new[26]      3.29  6.6e-3   0.29   2.74    3.1   3.29   3.49   3.86   1859    1.0\n",
      "y9_new[27]      3.26  8.0e-3    0.3   2.65   3.06   3.25   3.45   3.88   1449    1.0\n",
      "y9_new[28]      3.21  7.8e-3    0.3   2.62   3.01   3.21   3.42   3.78   1476    1.0\n",
      "y9_new[29]      3.19  7.5e-3   0.31   2.62   2.99   3.19    3.4   3.81   1659    1.0\n",
      "y9_new[30]      3.16  8.0e-3   0.32   2.53   2.94   3.16   3.38   3.77   1554    1.0\n",
      "y9_new[31]      3.11  7.5e-3   0.32   2.48   2.91   3.11   3.32   3.73   1795    1.0\n",
      "y9_new[32]      3.08  7.6e-3   0.32   2.45   2.87   3.09    3.3   3.71   1751    1.0\n",
      "y9_new[33]      3.04  8.1e-3   0.33   2.36   2.82   3.04   3.26   3.69   1683    1.0\n",
      "y9_new[34]       3.0  8.8e-3   0.34   2.31   2.79   2.99   3.23   3.67   1509    1.0\n",
      "y9_new[35]      2.97  9.6e-3   0.34    2.3   2.74   2.97   3.19   3.65   1260    1.0\n",
      "y9_new[36]      2.94  9.0e-3   0.35   2.25    2.7   2.94   3.18   3.63   1550    1.0\n",
      "y9_new[37]       2.9  8.9e-3   0.35    2.2   2.67    2.9   3.13   3.59   1586    1.0\n",
      "y9_new[38]      2.87  9.4e-3   0.36   2.16   2.62   2.86    3.1   3.62   1514    1.0\n",
      "y9_new[39]      2.83  9.5e-3   0.37   2.08   2.59   2.83   3.08   3.55   1523    1.0\n",
      "y10_new[0]      4.82  8.8e-3   0.35   4.15   4.59   4.83   5.05    5.5   1601    1.0\n",
      "y10_new[1]      4.79  9.8e-3   0.34   4.09   4.57   4.79   5.02   5.48   1239    1.0\n",
      "y10_new[2]      4.75  8.1e-3   0.33   4.11   4.53   4.76   4.97   5.38   1654    1.0\n",
      "y10_new[3]      4.71  8.5e-3   0.33   4.05   4.48   4.71   4.94   5.39   1558    1.0\n",
      "y10_new[4]      4.68  8.1e-3   0.33   4.05   4.45   4.68   4.89   5.35   1625    1.0\n",
      "y10_new[5]      4.65  8.2e-3   0.33   4.01   4.44   4.65   4.87   5.27   1578    1.0\n",
      "y10_new[6]       4.6  7.7e-3   0.32   3.97    4.4    4.6    4.8   5.23   1677    1.0\n",
      "y10_new[7]      4.57  7.6e-3    0.3   3.97   4.37   4.57   4.77   5.15   1602    1.0\n",
      "y10_new[8]      4.53  7.5e-3   0.31    3.9   4.33   4.54   4.74   5.13   1736    1.0\n",
      "y10_new[9]      4.49  6.7e-3   0.29   3.94    4.3   4.49   4.68    5.1   1891    1.0\n",
      "y10_new[10]     4.47  7.1e-3    0.3    3.9   4.26   4.46   4.68   5.09   1796    1.0\n",
      "y10_new[11]     4.42  6.7e-3   0.29   3.86   4.22   4.41   4.62   4.97   1817    1.0\n",
      "y10_new[12]     4.39  6.8e-3   0.28   3.81   4.21   4.38   4.58   4.93   1714    1.0\n",
      "y10_new[13]     4.36  6.6e-3   0.29   3.79   4.16   4.36   4.55   4.94   2000    1.0\n",
      "y10_new[14]     4.32  6.4e-3   0.27   3.78   4.13   4.33   4.49   4.85   1844    1.0\n",
      "y10_new[15]     4.28  6.7e-3   0.28   3.73   4.09   4.27   4.47   4.81   1784    1.0\n",
      "y10_new[16]     4.25  6.2e-3   0.28   3.71   4.06   4.25   4.43   4.79   2000    1.0\n",
      "y10_new[17]     4.21  6.4e-3   0.27   3.68   4.03   4.21   4.39   4.78   1847    1.0\n",
      "y10_new[18]     4.17  6.2e-3   0.28   3.62   3.97   4.17   4.35   4.71   2000    1.0\n",
      "y10_new[19]     4.13  5.9e-3   0.26   3.62   3.96   4.13   4.32   4.66   2000    1.0\n",
      "y10_new[20]     4.09  6.2e-3   0.28   3.54   3.92    4.1   4.27   4.64   2000    1.0\n",
      "y10_new[21]     4.07  6.0e-3   0.27   3.54   3.89   4.07   4.26    4.6   2000    1.0\n",
      "y10_new[22]     4.03  6.2e-3   0.28    3.5   3.84   4.02   4.21   4.58   2000    1.0\n",
      "y10_new[23]     3.99  6.2e-3   0.28   3.41   3.81   3.99   4.18   4.53   2000    1.0\n",
      "y10_new[24]     3.95  6.3e-3   0.28    3.4   3.76   3.95   4.14   4.48   1920    1.0\n",
      "y10_new[25]     3.92  6.2e-3   0.28   3.38   3.72   3.92    4.1   4.45   2000    1.0\n",
      "y10_new[26]     3.89  6.7e-3   0.28   3.32    3.7   3.88   4.08   4.43   1788    1.0\n",
      "y10_new[27]     3.85  6.5e-3   0.29   3.28   3.66   3.85   4.04    4.4   1953    1.0\n",
      "y10_new[28]     3.81  6.5e-3   0.29   3.23   3.61   3.81   4.01   4.38   2000    1.0\n",
      "y10_new[29]     3.79  6.9e-3    0.3   3.18   3.59   3.78   3.99   4.39   1837    1.0\n",
      "y10_new[30]     3.74  6.9e-3   0.29   3.13   3.55   3.75   3.94   4.31   1819    1.0\n",
      "y10_new[31]     3.71  6.9e-3    0.3   3.12    3.5    3.7    3.9   4.27   1865    1.0\n",
      "y10_new[32]     3.67  7.6e-3   0.31   3.06   3.48   3.67   3.88   4.26   1629    1.0\n",
      "y10_new[33]     3.64  7.6e-3   0.31   3.03   3.43   3.62   3.84   4.27   1713    1.0\n",
      "y10_new[34]     3.59  8.0e-3   0.32   2.95   3.38   3.59   3.79   4.23   1578    1.0\n",
      "y10_new[35]     3.56  7.6e-3   0.32   2.91   3.34   3.56   3.77   4.19   1782    1.0\n",
      "y10_new[36]     3.52  8.1e-3   0.33   2.88   3.31   3.52   3.74   4.17   1618    1.0\n",
      "y10_new[37]      3.5  8.1e-3   0.32   2.89   3.27   3.49   3.72    4.1   1567    1.0\n",
      "y10_new[38]     3.45  8.3e-3   0.34   2.77   3.22   3.45   3.67   4.12   1660    1.0\n",
      "y10_new[39]     3.41  8.5e-3   0.34   2.73   3.18   3.41   3.65    4.1   1593    1.0\n",
      "y11_new[0]       5.4    0.01   0.38   4.66   5.14   5.39   5.65   6.15   1437    1.0\n",
      "y11_new[1]      5.37  9.8e-3   0.37   4.64   5.12   5.37   5.62   6.13   1460    1.0\n",
      "y11_new[2]      5.35  9.2e-3   0.37   4.66    5.1   5.35   5.58   6.11   1590    1.0\n",
      "y11_new[3]       5.3  9.5e-3   0.36   4.61   5.06   5.31   5.54   5.98   1415    1.0\n",
      "y11_new[4]      5.26  8.6e-3   0.34   4.57   5.03   5.25   5.49   5.94   1614    1.0\n",
      "y11_new[5]      5.23  9.1e-3   0.35   4.52    5.0   5.22   5.46   5.89   1493    1.0\n",
      "y11_new[6]      5.19  8.2e-3   0.33   4.54   4.96   5.19   5.42    5.8   1640    1.0\n",
      "y11_new[7]      5.16  8.0e-3   0.33   4.48   4.93   5.16   5.38   5.79   1738    1.0\n",
      "y11_new[8]      5.12  8.0e-3   0.32   4.49   4.91   5.12   5.34   5.75   1626    1.0\n",
      "y11_new[9]      5.08  7.7e-3   0.32   4.46   4.87   5.08   5.29   5.71   1725    1.0\n",
      "y11_new[10]     5.05  7.5e-3   0.31   4.42   4.84   5.05   5.27   5.66   1709    1.0\n",
      "y11_new[11]     5.01  7.4e-3   0.31    4.4    4.8   5.01    5.2   5.64   1729    1.0\n",
      "y11_new[12]     4.98  6.7e-3    0.3   4.37   4.78   4.98   5.18   5.57   2000    1.0\n",
      "y11_new[13]     4.94  7.7e-3   0.29   4.37   4.75   4.94   5.13   5.53   1472    1.0\n",
      "y11_new[14]     4.91  7.3e-3    0.3   4.34   4.71   4.92   5.11   5.51   1645    1.0\n",
      "y11_new[15]     4.87  7.7e-3    0.3   4.29   4.67   4.87   5.06   5.46   1465    1.0\n",
      "y11_new[16]     4.84  6.9e-3   0.28   4.28   4.64   4.84   5.03   5.38   1714    1.0\n",
      "y11_new[17]      4.8  7.0e-3   0.29   4.24   4.61    4.8   4.99   5.37   1708    1.0\n",
      "y11_new[18]     4.76  6.7e-3   0.29   4.19   4.57   4.76   4.95   5.32   1868    1.0\n",
      "y11_new[19]     4.72  6.6e-3   0.28   4.16   4.52   4.73    4.9   5.28   1845    1.0\n",
      "y11_new[20]     4.69  6.2e-3   0.27   4.16   4.51   4.69   4.87   5.22   1944    1.0\n",
      "y11_new[21]     4.65  6.4e-3   0.28    4.1   4.46   4.64   4.83   5.22   1947    1.0\n",
      "y11_new[22]     4.62  6.6e-3   0.28   4.09   4.42   4.62   4.81   5.17   1800    1.0\n",
      "y11_new[23]     4.59  6.2e-3   0.27   4.05   4.41   4.59   4.77   5.11   1883    1.0\n",
      "y11_new[24]     4.55  6.2e-3   0.28   4.02   4.35   4.55   4.74    5.1   2000    1.0\n",
      "y11_new[25]     4.51  6.3e-3   0.28   3.94   4.32   4.52    4.7   5.08   2000    1.0\n",
      "y11_new[26]     4.47  6.2e-3   0.28   3.92   4.28   4.48   4.64   5.01   2000    1.0\n",
      "y11_new[27]     4.44  6.1e-3   0.27   3.88   4.25   4.44   4.62   4.97   2000    1.0\n",
      "y11_new[28]      4.4  6.2e-3   0.28   3.86   4.21   4.41    4.6   4.94   2000    1.0\n",
      "y11_new[29]     4.37  6.2e-3   0.28   3.79   4.18   4.36   4.56   4.92   2000    1.0\n",
      "y11_new[30]     4.34  6.9e-3   0.29   3.74   4.15   4.34   4.53   4.91   1788    1.0\n",
      "y11_new[31]      4.3  6.3e-3   0.28   3.75   4.11    4.3    4.5   4.85   2000    1.0\n",
      "y11_new[32]     4.27  6.8e-3   0.28   3.72   4.08   4.27   4.46   4.82   1749    1.0\n",
      "y11_new[33]     4.22  7.2e-3   0.29   3.66   4.03   4.22   4.42    4.8   1644    1.0\n",
      "y11_new[34]     4.18  7.0e-3    0.3   3.62   3.99   4.18   4.37   4.78   1799    1.0\n",
      "y11_new[35]     4.16  7.5e-3   0.31   3.57   3.97   4.15   4.37   4.78   1681    1.0\n",
      "y11_new[36]     4.12  6.9e-3   0.31   3.53   3.91   4.11   4.33   4.72   1967    1.0\n",
      "y11_new[37]     4.08  7.4e-3   0.31   3.48   3.88   4.08   4.28   4.66   1743    1.0\n",
      "y11_new[38]     4.05  8.2e-3   0.32   3.43   3.83   4.05   4.27   4.71   1552    1.0\n",
      "y11_new[39]     4.01  7.4e-3   0.32   3.38   3.79   4.01   4.21   4.64   1871    1.0\n",
      "y12_new[0]       6.0    0.01   0.42   5.17   5.71   5.99   6.28   6.83   1438    1.0\n",
      "y12_new[1]      5.96    0.01   0.41   5.17    5.7   5.96   6.21   6.78   1249    1.0\n",
      "y12_new[2]      5.92    0.01   0.39   5.15   5.66   5.93   6.18    6.7   1370    1.0\n",
      "y12_new[3]      5.89  9.9e-3   0.39   5.14   5.63   5.89   6.16   6.66   1526    1.0\n",
      "y12_new[4]      5.85    0.01   0.38    5.1    5.6   5.84    6.1   6.61   1419    1.0\n",
      "y12_new[5]      5.82  9.5e-3   0.37   5.08   5.57   5.84   6.06   6.53   1523    1.0\n",
      "y12_new[6]      5.79 10.0e-3   0.36   5.08   5.55   5.79   6.03   6.49   1320    1.0\n",
      "y12_new[7]      5.75  9.1e-3   0.36   5.06   5.51   5.75   5.99   6.47   1534    1.0\n",
      "y12_new[8]      5.73  9.0e-3   0.35   5.02   5.48   5.73   5.96   6.41   1528    1.0\n",
      "y12_new[9]      5.67  9.2e-3   0.35   4.98   5.44   5.68   5.91   6.36   1458    1.0\n",
      "y12_new[10]     5.64  9.0e-3   0.34   4.97   5.41   5.62   5.86    6.3   1383    1.0\n",
      "y12_new[11]      5.6  8.9e-3   0.34   4.93   5.37   5.61   5.83   6.27   1447    1.0\n",
      "y12_new[12]     5.57  9.1e-3   0.33   4.95   5.35   5.57   5.79   6.21   1299    1.0\n",
      "y12_new[13]     5.53  8.3e-3   0.33    4.9    5.3   5.53   5.75   6.18   1613    1.0\n",
      "y12_new[14]     5.51  8.2e-3   0.32   4.91    5.3    5.5   5.71   6.13   1476    1.0\n",
      "y12_new[15]     5.46  7.4e-3   0.31   4.83   5.24   5.46   5.67   6.08   1784    1.0\n",
      "y12_new[16]     5.42  7.3e-3   0.31   4.81    5.2   5.42   5.62   6.03   1847    1.0\n",
      "y12_new[17]     5.38  6.9e-3   0.31   4.75   5.18   5.38   5.58    6.0   1967    1.0\n",
      "y12_new[18]     5.36  7.3e-3    0.3   4.75   5.16   5.36   5.55   5.93   1655    1.0\n",
      "y12_new[19]     5.31  7.0e-3    0.3   4.72   5.11   5.32   5.52   5.88   1803    1.0\n",
      "y12_new[20]     5.28  6.6e-3   0.29   4.74   5.08   5.28   5.47   5.85   1890    1.0\n",
      "y12_new[21]     5.22  6.6e-3    0.3   4.62   5.02   5.23   5.41   5.81   2000    1.0\n",
      "y12_new[22]     5.21  6.5e-3   0.29   4.64   5.02   5.21    5.4   5.76   1946    1.0\n",
      "y12_new[23]     5.17  6.3e-3   0.28   4.61   4.98   5.18   5.36   5.69   1962    1.0\n",
      "y12_new[24]     5.14  6.3e-3   0.28   4.61   4.95   5.14   5.33   5.71   1918    1.0\n",
      "y12_new[25]      5.1  6.3e-3   0.28   4.52   4.91    5.1   5.29   5.63   2000    1.0\n",
      "y12_new[26]     5.07  6.1e-3   0.27   4.52   4.89   5.07   5.25   5.59   2000    1.0\n",
      "y12_new[27]     5.03  6.3e-3   0.28   4.48   4.84   5.04   5.22   5.57   2000    1.0\n",
      "y12_new[28]      5.0  6.8e-3   0.28   4.43   4.81   5.01   5.19   5.54   1727    1.0\n",
      "y12_new[29]     4.97  6.2e-3   0.28    4.4   4.78   4.96   5.15   5.51   2000    1.0\n",
      "y12_new[30]     4.92  6.3e-3   0.28   4.34   4.73   4.92   5.11   5.46   1982    1.0\n",
      "y12_new[31]     4.89  6.4e-3   0.29   4.32   4.68   4.89   5.07   5.46   2000    1.0\n",
      "y12_new[32]     4.85  6.5e-3   0.29   4.28   4.65   4.84   5.04   5.42   2000    1.0\n",
      "y12_new[33]     4.81  6.4e-3   0.29   4.24   4.61   4.81   5.01   5.37   2000    1.0\n",
      "y12_new[34]     4.78  6.6e-3   0.29   4.17   4.59   4.78   4.98   5.34   2000    1.0\n",
      "y12_new[35]     4.74  6.7e-3   0.29   4.18   4.54   4.73   4.93    5.3   1881    1.0\n",
      "y12_new[36]     4.71  6.4e-3   0.29   4.14   4.52   4.71    4.9   5.28   2000    1.0\n",
      "y12_new[37]     4.68  6.6e-3    0.3   4.12   4.48   4.68   4.88   5.26   2000    1.0\n",
      "y12_new[38]     4.63  6.6e-3    0.3   4.06   4.43   4.63   4.83   5.22   2000    1.0\n",
      "y12_new[39]     4.61  6.9e-3    0.3   4.03   4.41   4.61   4.81    5.2   1906    1.0\n",
      "lp__           -57.3    0.07   1.98 -62.11 -58.28 -56.98 -55.87 -54.61    818   1.01\n",
      "\n",
      "Samples were drawn using NUTS at Fri Apr  7 18:43:34 2017.\n",
      "For each parameter, n_eff is a crude measure of effective sample size,\n",
      "and Rhat is the potential scale reduction factor on split chains (at \n",
      "convergence, Rhat=1).\n"
     ]
    }
   ],
   "source": [
    "print(fit_4)"
   ]
  },
  {
   "cell_type": "markdown",
   "metadata": {},
   "source": [
    "年齢別の50%予測区間を、年齢別に分けたプロットに重ねてみる"
   ]
  },
  {
   "cell_type": "code",
   "execution_count": 33,
   "metadata": {
    "collapsed": false
   },
   "outputs": [
    {
     "data": {
      "image/png": "[encoded data removed]",
      "text/plain": [
       "<matplotlib.figure.Figure at 0x11c691780>"
      ]
     },
     "metadata": {},
     "output_type": "display_data"
    }
   ],
   "source": [
    "def f_fill(ys_key, c):\n",
    "    ys = (fit_4.extract(permuted=True))[ys_key].T\n",
    "    plt.fill_between( \\\n",
    "        data_4['Weight_new'], \\\n",
    "        [np.percentile(y, 25) for y in ys], \\\n",
    "        [np.percentile(y, 75) for y in ys], color=c, alpha=0.25)\n",
    "for x in range(7, 13):\n",
    "    df = df_4[df_4['Age'] == x]\n",
    "    plt.plot(df['Weight'], df['Y'], syms[x-7])\n",
    "f_fill('y7_new', clrs[0])\n",
    "f_fill('y8_new', clrs[1])\n",
    "f_fill('y9_new', clrs[2])\n",
    "f_fill('y10_new', clrs[3])\n",
    "f_fill('y11_new', clrs[4])\n",
    "f_fill('y12_new', clrs[5])\n",
    "plt.show()"
   ]
  },
  {
   "cell_type": "markdown",
   "metadata": {},
   "source": [
    "## 7.7 説明変数にノイズを含む"
   ]
  },
  {
   "cell_type": "code",
   "execution_count": 34,
   "metadata": {
    "collapsed": false
   },
   "outputs": [
    {
     "data": {
      "text/html": [
       "<div>\n",
       "<table border=\"1\" class=\"dataframe\">\n",
       "  <thead>\n",
       "    <tr style=\"text-align: right;\">\n",
       "      <th></th>\n",
       "      <th>X</th>\n",
       "      <th>Y</th>\n",
       "    </tr>\n",
       "  </thead>\n",
       "  <tbody>\n",
       "    <tr>\n",
       "      <th>0</th>\n",
       "      <td>24</td>\n",
       "      <td>472</td>\n",
       "    </tr>\n",
       "    <tr>\n",
       "      <th>1</th>\n",
       "      <td>24</td>\n",
       "      <td>403</td>\n",
       "    </tr>\n",
       "    <tr>\n",
       "      <th>2</th>\n",
       "      <td>26</td>\n",
       "      <td>454</td>\n",
       "    </tr>\n",
       "    <tr>\n",
       "      <th>3</th>\n",
       "      <td>32</td>\n",
       "      <td>575</td>\n",
       "    </tr>\n",
       "    <tr>\n",
       "      <th>4</th>\n",
       "      <td>33</td>\n",
       "      <td>546</td>\n",
       "    </tr>\n",
       "  </tbody>\n",
       "</table>\n",
       "</div>"
      ],
      "text/plain": [
       "    X    Y\n",
       "0  24  472\n",
       "1  24  403\n",
       "2  26  454\n",
       "3  32  575\n",
       "4  33  546"
      ]
     },
     "execution_count": 34,
     "metadata": {},
     "output_type": "execute_result"
    }
   ],
   "source": [
    "df_5 = pd.read_csv('../Chap04/input/data-salary.txt')\n",
    "df_5.head()"
   ]
  },
  {
   "cell_type": "code",
   "execution_count": 35,
   "metadata": {
    "collapsed": true
   },
   "outputs": [],
   "source": [
    "data_5 = df_5.to_dict('list')\n",
    "data_5['N'] = len(df_5)"
   ]
  },
  {
   "cell_type": "code",
   "execution_count": 36,
   "metadata": {
    "collapsed": true
   },
   "outputs": [],
   "source": [
    "model_5 = \"\"\"\n",
    "data {\n",
    "  int N;\n",
    "  real X[N];\n",
    "  real Y[N];\n",
    "}\n",
    "\n",
    "parameters {\n",
    "  real a;\n",
    "  real b;\n",
    "  real x_true[N];\n",
    "  real<lower=0> s_Y;\n",
    "}\n",
    "\n",
    "model {\n",
    "  for (n in 1:N) {\n",
    "    X[n] ~ normal(x_true[n], 2.5);\n",
    "    Y[n] ~ normal(a + b*x_true[n], s_Y);\n",
    "  }\n",
    "}\n",
    "\"\"\""
   ]
  },
  {
   "cell_type": "code",
   "execution_count": 37,
   "metadata": {
    "collapsed": false
   },
   "outputs": [
    {
     "name": "stderr",
     "output_type": "stream",
     "text": [
      "INFO:pystan:COMPILING THE C++ CODE FOR MODEL anon_model_18e207b9d7765370c2018955b5d65f95 NOW.\n"
     ]
    }
   ],
   "source": [
    "fit_5 = pystan.stan(model_code=model_5, data=data_5, iter=1000, chains=4)"
   ]
  },
  {
   "cell_type": "code",
   "execution_count": 38,
   "metadata": {
    "collapsed": false
   },
   "outputs": [
    {
     "name": "stdout",
     "output_type": "stream",
     "text": [
      "Inference for Stan model: anon_model_18e207b9d7765370c2018955b5d65f95.\n",
      "4 chains, each with iter=1000; warmup=500; thin=1; \n",
      "post-warmup draws per chain=500, total post-warmup draws=2000.\n",
      "\n",
      "             mean se_mean     sd   2.5%    25%    50%    75%  97.5%  n_eff   Rhat\n",
      "a          -121.2    2.25  70.28 -262.2 -166.5 -118.4 -77.88  20.54    979    1.0\n",
      "b           21.95    0.05   1.58   18.8   21.0  21.89  22.93  25.25    958    1.0\n",
      "x_true[0]   25.52    0.04   1.92  21.53  24.27  25.61  26.81  29.07   2000    1.0\n",
      "x_true[1]   23.87    0.04   2.01  19.98  22.48  23.79  25.27  27.75   2000    1.0\n",
      "x_true[2]   26.15    0.04   1.88  22.35  24.94  26.18  27.41  29.95   2000    1.0\n",
      "x_true[3]   31.89    0.04   1.83  28.28  30.76  31.85  33.04  35.57   2000    1.0\n",
      "x_true[4]   31.77    0.04   1.91  28.19  30.46  31.72  32.94  35.78   2000    1.0\n",
      "x_true[5]   38.02    0.05   2.11  33.51  36.75  38.16  39.52  41.58   2000   1.01\n",
      "x_true[6]   38.87    0.04   1.96   34.7   37.6  38.92  40.25  42.47   2000   1.01\n",
      "x_true[7]   36.53    0.12   2.15   32.6  34.98   36.5  37.93  41.01    327   1.01\n",
      "x_true[8]   41.27    0.04   1.96  37.18  39.97  41.36  42.62  44.95   2000    1.0\n",
      "x_true[9]   42.34    0.04   1.86  38.69  41.07  42.23  43.56  46.11   2000    1.0\n",
      "x_true[10]  41.29    0.04   1.87  37.79  39.99  41.21  42.55  45.16   2000    1.0\n",
      "x_true[11]  43.87    0.04   1.79  40.42  42.75  43.83  44.99  47.39   2000    1.0\n",
      "x_true[12]   46.6    0.04   1.87  43.07  45.37  46.55  47.81  50.59   2000    1.0\n",
      "x_true[13]  51.24    0.04   1.83  47.75  49.99  51.12  52.51  54.89   2000    1.0\n",
      "x_true[14]  55.59    0.04   1.89  51.82  54.35  55.56  56.84   59.5   2000    1.0\n",
      "x_true[15]  53.77    0.05   2.08  49.85  52.34  53.67  55.14  58.03   2000    1.0\n",
      "x_true[16]  59.32    0.11   2.03  55.14   58.0  59.43  60.75  62.89    370   1.01\n",
      "x_true[17]  59.07    0.04   1.99  55.08  57.74   59.2  60.47  62.88   2000    1.0\n",
      "x_true[18]  57.95    0.04   1.95  54.16  56.65   57.8  59.24  62.01   2000    1.0\n",
      "x_true[19]  62.14    0.09   2.14  57.77  60.72  62.17  63.68   65.9    565   1.01\n",
      "s_Y         59.71    1.66  20.62  25.08  45.05  57.61  73.03 103.26    155   1.03\n",
      "lp__       -96.59    0.46   5.19 -106.6 -100.1 -96.71 -93.29 -85.42    130   1.04\n",
      "\n",
      "Samples were drawn using NUTS at Fri Apr  7 18:43:58 2017.\n",
      "For each parameter, n_eff is a crude measure of effective sample size,\n",
      "and Rhat is the potential scale reduction factor on split chains (at \n",
      "convergence, Rhat=1).\n"
     ]
    }
   ],
   "source": [
    "print(fit_5)"
   ]
  },
  {
   "cell_type": "markdown",
   "metadata": {},
   "source": [
    "## 7.8 打ち切り"
   ]
  },
  {
   "cell_type": "code",
   "execution_count": 39,
   "metadata": {
    "collapsed": false
   },
   "outputs": [
    {
     "data": {
      "text/html": [
       "<div>\n",
       "<table border=\"1\" class=\"dataframe\">\n",
       "  <thead>\n",
       "    <tr style=\"text-align: right;\">\n",
       "      <th></th>\n",
       "      <th>Y</th>\n",
       "    </tr>\n",
       "  </thead>\n",
       "  <tbody>\n",
       "    <tr>\n",
       "      <th>0</th>\n",
       "      <td>&lt;25</td>\n",
       "    </tr>\n",
       "    <tr>\n",
       "      <th>1</th>\n",
       "      <td>32.3</td>\n",
       "    </tr>\n",
       "    <tr>\n",
       "      <th>2</th>\n",
       "      <td>&lt;25</td>\n",
       "    </tr>\n",
       "    <tr>\n",
       "      <th>3</th>\n",
       "      <td>28.3</td>\n",
       "    </tr>\n",
       "    <tr>\n",
       "      <th>4</th>\n",
       "      <td>30.8</td>\n",
       "    </tr>\n",
       "    <tr>\n",
       "      <th>5</th>\n",
       "      <td>35.2</td>\n",
       "    </tr>\n",
       "  </tbody>\n",
       "</table>\n",
       "</div>"
      ],
      "text/plain": [
       "      Y\n",
       "0   <25\n",
       "1  32.3\n",
       "2   <25\n",
       "3  28.3\n",
       "4  30.8\n",
       "5  35.2"
      ]
     },
     "execution_count": 39,
     "metadata": {},
     "output_type": "execute_result"
    }
   ],
   "source": [
    "df_6 = pd.read_csv('input/data-protein.txt')\n",
    "data_6 = df_6.to_dict('list')\n",
    "df_6"
   ]
  },
  {
   "cell_type": "code",
   "execution_count": 40,
   "metadata": {
    "collapsed": false
   },
   "outputs": [],
   "source": [
    "data_6['Y_obs'] = [float(y) for y in data_6['Y'] if not y.startswith('<')]\n",
    "data_6['N_obs'] = len(data_6['Y_obs'])\n",
    "data_6['N_cens'] = len([y for y in data_6['Y'] if y.startswith('<')])\n",
    "data_6['L'] = 25\n",
    "del data_6['Y']"
   ]
  },
  {
   "cell_type": "code",
   "execution_count": 41,
   "metadata": {
    "collapsed": false
   },
   "outputs": [
    {
     "data": {
      "image/png": "[encoded data removed]",
      "text/plain": [
       "<matplotlib.figure.Figure at 0x123ec0630>"
      ]
     },
     "metadata": {},
     "output_type": "display_data"
    }
   ],
   "source": [
    "plt.hist(data_6['Y_obs'], bins=10, alpha=0.5);"
   ]
  },
  {
   "cell_type": "code",
   "execution_count": 42,
   "metadata": {
    "collapsed": false
   },
   "outputs": [],
   "source": [
    "model_6 = \"\"\"\n",
    "data {\n",
    "  int N_obs;\n",
    "  int N_cens;\n",
    "  real Y_obs[N_obs];\n",
    "  real L;\n",
    "}\n",
    "\n",
    "parameters {\n",
    "  real mu;\n",
    "  real<lower=0> s_Y;\n",
    "}\n",
    "\n",
    "model {\n",
    "  for (n in 1:N_obs)\n",
    "    Y_obs[n] ~ normal(mu, s_Y);\n",
    "  target += N_cens * normal_lcdf(L | mu, s_Y);\n",
    "}\n",
    "\"\"\""
   ]
  },
  {
   "cell_type": "code",
   "execution_count": 43,
   "metadata": {
    "collapsed": false
   },
   "outputs": [
    {
     "name": "stderr",
     "output_type": "stream",
     "text": [
      "INFO:pystan:COMPILING THE C++ CODE FOR MODEL anon_model_a91441ec8e91a4096d633b0c21623918 NOW.\n"
     ]
    }
   ],
   "source": [
    "fit_6 = pystan.stan(model_code=model_6, data=data_6, iter=1000, chains=4)"
   ]
  },
  {
   "cell_type": "code",
   "execution_count": 44,
   "metadata": {
    "collapsed": false
   },
   "outputs": [
    {
     "name": "stdout",
     "output_type": "stream",
     "text": [
      "Inference for Stan model: anon_model_a91441ec8e91a4096d633b0c21623918.\n",
      "4 chains, each with iter=1000; warmup=500; thin=1; \n",
      "post-warmup draws per chain=500, total post-warmup draws=2000.\n",
      "\n",
      "       mean se_mean     sd   2.5%    25%    50%    75%  97.5%  n_eff   Rhat\n",
      "mu    25.95    0.64   9.08   8.71  23.72  27.39  29.76  37.47    201   1.01\n",
      "s_Y   13.42    0.89  14.55   3.81   6.31   9.31  14.87  50.59    270   1.01\n",
      "lp__ -10.18    0.08   1.34 -13.83 -10.81  -9.77  -9.19  -8.84    280   1.01\n",
      "\n",
      "Samples were drawn using NUTS at Fri Apr  7 18:44:21 2017.\n",
      "For each parameter, n_eff is a crude measure of effective sample size,\n",
      "and Rhat is the potential scale reduction factor on split chains (at \n",
      "convergence, Rhat=1).\n"
     ]
    }
   ],
   "source": [
    "print(fit_6)"
   ]
  },
  {
   "cell_type": "code",
   "execution_count": 45,
   "metadata": {
    "collapsed": false
   },
   "outputs": [
    {
     "data": {
      "image/png": "[encoded data removed]",
      "text/plain": [
       "<matplotlib.figure.Figure at 0x123f07eb8>"
      ]
     },
     "metadata": {},
     "output_type": "display_data"
    }
   ],
   "source": [
    "plt.hist((fit_6.extract(permuted=True))['mu'], bins=100, alpha=0.5);"
   ]
  },
  {
   "cell_type": "markdown",
   "metadata": {},
   "source": [
    "## 7.9 外れ値"
   ]
  },
  {
   "cell_type": "code",
   "execution_count": 46,
   "metadata": {
    "collapsed": false
   },
   "outputs": [
    {
     "data": {
      "text/plain": [
       "[<matplotlib.lines.Line2D at 0x1243b9c50>]"
      ]
     },
     "execution_count": 46,
     "metadata": {},
     "output_type": "execute_result"
    },
    {
     "data": {
      "image/png": "[encoded data removed]",
      "text/plain": [
       "<matplotlib.figure.Figure at 0x12435e4e0>"
      ]
     },
     "metadata": {},
     "output_type": "display_data"
    }
   ],
   "source": [
    "df_7 = pd.read_csv('input/data-outlier.txt')\n",
    "data_7 = df_7.to_dict('list')\n",
    "plt.plot(data_7['X'], data_7['Y'], 'o')"
   ]
  },
  {
   "cell_type": "markdown",
   "metadata": {},
   "source": [
    "最初に正規分布でやってみる"
   ]
  },
  {
   "cell_type": "code",
   "execution_count": 47,
   "metadata": {
    "collapsed": true
   },
   "outputs": [],
   "source": [
    "data_7['N'] = len(data_7['X'])\n",
    "data_7['X_new'] = np.linspace(0, 11, 55)\n",
    "data_7['N_new'] = len(data_7['X_new'])"
   ]
  },
  {
   "cell_type": "code",
   "execution_count": 48,
   "metadata": {
    "collapsed": true
   },
   "outputs": [],
   "source": [
    "model_7a = \"\"\"\n",
    "data {\n",
    "  int N;\n",
    "  real X[N];\n",
    "  real Y[N];\n",
    "  int N_new;\n",
    "  real X_new[N_new];\n",
    "}\n",
    "\n",
    "parameters {\n",
    "  real a;\n",
    "  real b;\n",
    "  real<lower=0> sigma;\n",
    "}\n",
    "\n",
    "model {\n",
    "  for (n in 1:N)\n",
    "    Y[n] ~ normal(a + b*X[n], sigma);\n",
    "}\n",
    "\n",
    "generated quantities {\n",
    "  real y_new[N_new];\n",
    "  for (n in 1:N_new)\n",
    "    y_new[n] = normal_rng(a + b*X_new[n], sigma);\n",
    "}\n",
    "\"\"\""
   ]
  },
  {
   "cell_type": "code",
   "execution_count": 49,
   "metadata": {
    "collapsed": false
   },
   "outputs": [
    {
     "name": "stderr",
     "output_type": "stream",
     "text": [
      "INFO:pystan:COMPILING THE C++ CODE FOR MODEL anon_model_9b5686156e474a8f9f0c50009b840a66 NOW.\n"
     ]
    }
   ],
   "source": [
    "fit_7a = pystan.stan(model_code=model_7a, data=data_7, iter=1000, chains=4)"
   ]
  },
  {
   "cell_type": "code",
   "execution_count": 50,
   "metadata": {
    "collapsed": false
   },
   "outputs": [
    {
     "data": {
      "image/png": "[encoded data removed]",
      "text/plain": [
       "<matplotlib.figure.Figure at 0x11c501d68>"
      ]
     },
     "metadata": {},
     "output_type": "display_data"
    }
   ],
   "source": [
    "plt.plot(data_7['X'], data_7['Y'], \"o\")\n",
    "plot_pred_range(fit_7a, data_7['X_new'], 'y_new', (2.5, 97.5), 0.25)\n",
    "plot_pred_range(fit_7a, data_7['X_new'], 'y_new', (25, 75), 0.5)\n",
    "plt.show()"
   ]
  },
  {
   "cell_type": "code",
   "execution_count": 51,
   "metadata": {
    "collapsed": true
   },
   "outputs": [],
   "source": [
    "model_7 = \"\"\"\n",
    "data {\n",
    "  int N;\n",
    "  real X[N];\n",
    "  real Y[N];\n",
    "  int N_new;\n",
    "  real X_new[N_new];\n",
    "}\n",
    "\n",
    "parameters {\n",
    "  real a;\n",
    "  real b;\n",
    "  real<lower=0> sigma;\n",
    "}\n",
    "\n",
    "model {\n",
    "  for (n in 1:N)\n",
    "    Y[n] ~ cauchy(a + b*X[n], sigma);\n",
    "}\n",
    "\n",
    "generated quantities {\n",
    "  real y_new[N_new];\n",
    "  for (n in 1:N_new)\n",
    "    y_new[n] = cauchy_rng(a + b*X_new[n], sigma);\n",
    "}\n",
    "\"\"\""
   ]
  },
  {
   "cell_type": "code",
   "execution_count": 52,
   "metadata": {
    "collapsed": false
   },
   "outputs": [
    {
     "name": "stderr",
     "output_type": "stream",
     "text": [
      "INFO:pystan:COMPILING THE C++ CODE FOR MODEL anon_model_e31ca1e60d9a92a263f448ad8763fb24 NOW.\n"
     ]
    }
   ],
   "source": [
    "fit_7 = pystan.stan(model_code=model_7, data=data_7, iter=1000, chains=4)"
   ]
  },
  {
   "cell_type": "code",
   "execution_count": 53,
   "metadata": {
    "collapsed": false
   },
   "outputs": [
    {
     "data": {
      "image/png": "[encoded data removed]",
      "text/plain": [
       "<matplotlib.figure.Figure at 0x1251309b0>"
      ]
     },
     "metadata": {},
     "output_type": "display_data"
    }
   ],
   "source": [
    "plt.plot(data_7['X'], data_7['Y'], \"o\")\n",
    "plot_pred_range(fit_7, data_7['X_new'], 'y_new', (2.5, 97.5), 0.25)\n",
    "plot_pred_range(fit_7, data_7['X_new'], 'y_new', (25, 75), 0.5)\n",
    "plt.show()"
   ]
  },
  {
   "cell_type": "code",
   "execution_count": null,
   "metadata": {
    "collapsed": true
   },
   "outputs": [],
   "source": []
  }
 ],
 "metadata": {
  "kernelspec": {
   "display_name": "Python 3",
   "language": "python",
   "name": "python3"
  },
  "language_info": {
   "codemirror_mode": {
    "name": "ipython",
    "version": 3
   },
   "file_extension": ".py",
   "mimetype": "text/x-python",
   "name": "python",
   "nbconvert_exporter": "python",
   "pygments_lexer": "ipython3",
   "version": "3.4.4"
  }
 },
 "nbformat": 4,
 "nbformat_minor": 2
}
