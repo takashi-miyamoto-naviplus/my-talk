{
 "cells": [
  {
   "cell_type": "markdown",
   "metadata": {},
   "source": [
    "# Chapter.1 章末問題3"
   ]
  },
  {
   "cell_type": "markdown",
   "metadata": {},
   "source": [
    "\\begin{align*}\n",
    "p(x|m,s) &= \\frac1{\\sqrt{2\\pi}} \\exp\\left\\{-\\frac{s}{2}x^2 + msx - \\left(\\frac{m^2s}{2}-\\frac12\\log s\\right) \\right\\} \\\\\n",
    "&= v(x) \\exp\\left( f(w) \\cdot g(x)\\right) \\\\\n",
    "v(x) &= \\frac1{\\sqrt{2\\pi}} \\\\\n",
    "f(w) &= \\left(-\\frac{s}{2}, \\; ms, \\; -\\frac{m^2s}{2}+\\frac12\\log s \\right) \\\\\n",
    "g(x) &= \\left(x^2, \\; x, \\; 1 \\right) \\;\\; \\Rightarrow \\phi=(\\phi_1, \\phi_2, \\phi3) \\text{で置き換える}\n",
    "\\end{align*}"
   ]
  },
  {
   "cell_type": "markdown",
   "metadata": {},
   "source": [
    "\\begin{align*}\n",
    "\\varphi(m,s|\\phi) &= \\frac1{z(\\phi)} \\exp\\left\\{-\\frac{s}{2}\\phi_1 + ms\\phi_2 - \\left(\\frac{m^2s}{2}-\\frac12\\log s\\right)\\phi_3 \\right\\} \\\\\n",
    "&= \\frac1{z(\\phi)} s^{\\frac{\\phi_3}2}\\exp\\left\\{-\\frac{s}{2}\\phi_1 + ms\\phi_2 - \\frac{m^2s}{2}\\phi_3 \\right\\} \n",
    "\\end{align*}"
   ]
  },
  {
   "cell_type": "markdown",
   "metadata": {},
   "source": [
    "これは、\n",
    "* $m$ に関しては正規分布\n",
    "* $s$ に関してはガンマ分布($\\propto s^{\\phi_3/2} e^{-s/\\alpha} = \\text{Gamma}(\\frac{\\phi_3}2, \\alpha)$)\n",
    "の形をしている。\n",
    "\\begin{align*}\n",
    "z(\\phi) &= \\int s^{\\frac{\\phi_3}2} ds \\int \\exp\\left\\{-\\frac{s}{2}\\phi_1 + ms\\phi_2 - \\frac{m^2s}{2}\\phi_3 \\right\\} dm \\;\\; \\Rightarrow \\text{先に}m\\text{に関するガウス積分を実行} \\\\\n",
    "&= \\int s^{\\frac{\\phi_3}2} ds \\int \n",
    "\\exp\\left\\{-\\frac{s\\phi_3}2 \\left(m^2 - 2 \\frac{\\phi_2}{\\phi_3}m \\right) -\\frac{s\\phi_1}2\\right\\} dm \\\\\n",
    "&= \\int s^{\\frac{\\phi_3}2} ds \\int \n",
    "\\exp\\left\\{-\\frac{s\\phi_3}2 \\left(m - \\frac{\\phi_2}{\\phi_3}m\\right)^2 + \\frac{s\\phi_3}2\\frac{\\phi_2^2}{\\phi_3^2} -\\frac{s\\phi_1}2\\right\\} dm \\\\\n",
    "&= \\int s^{\\frac{\\phi_3}2} \\exp\\left\\{ \\frac{s\\phi_3}2\\frac{\\phi_2^2}{\\phi_3^2} -\\frac{s\\phi_1}2 \\right\\} ds\n",
    "\\underbrace{\\int \\exp\\left\\{-\\frac{s\\phi_3}2 \\left(m - \\frac{\\phi_2}{\\phi_3}m\\right)^2 \\right\\} dm}_{\\sqrt{2\\pi/(s\\phi_3)}} \\\\\n",
    "&= \\sqrt{\\frac{2\\pi}{\\phi_3}} \\int s^{\\frac{\\phi_3-1}2} \\exp\\left\\{-\\frac{\\phi_1\\phi_3-\\phi_2^2}{2\\phi_3}s\\right\\} ds\n",
    "\\end{align*}"
   ]
  },
  {
   "cell_type": "markdown",
   "metadata": {},
   "source": [
    "ここでガンマ分布が\n",
    "\\begin{align*}\n",
    "\\text{Gamma}(x|k,\\theta) &= \\frac{x^{k-1}e^{-\\frac{x}\\theta}}{\\Gamma(k)\\theta^k}\n",
    "\\end{align*}\n",
    "を用いると $\\int s^{k-1} \\exp\\{-\\frac{s}\\theta\\}ds = \\Gamma(k)\\theta^k$ ゆえ"
   ]
  },
  {
   "cell_type": "markdown",
   "metadata": {},
   "source": [
    "\\begin{align*}\n",
    "z(\\phi) &= \\sqrt{\\frac{2\\pi}{\\phi_3}} \\left(\\frac{2\\phi_3}{\\phi_1\\phi_3-\\phi_2^2}\\right)^{\\frac{\\phi_3+1}{2}} \\Gamma(\\frac{\\phi_3+1}{2})\n",
    "\\end{align*}"
   ]
  },
  {
   "cell_type": "code",
   "execution_count": null,
   "metadata": {
    "collapsed": true
   },
   "outputs": [],
   "source": []
  }
 ],
 "metadata": {
  "kernelspec": {
   "display_name": "Python 3",
   "language": "python",
   "name": "python3"
  },
  "language_info": {
   "codemirror_mode": {
    "name": "ipython",
    "version": 3
   },
   "file_extension": ".py",
   "mimetype": "text/x-python",
   "name": "python",
   "nbconvert_exporter": "python",
   "pygments_lexer": "ipython3",
   "version": "3.4.4"
  }
 },
 "nbformat": 4,
 "nbformat_minor": 2
}
