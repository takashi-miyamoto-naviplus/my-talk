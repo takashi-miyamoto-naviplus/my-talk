{
 "cells": [
  {
   "cell_type": "markdown",
   "metadata": {},
   "source": [
    "# Chapter.1 p.15\n",
    "\n",
    "## 例1 (p.14)\n",
    "\n",
    "\\begin{align*}\n",
    "p(x|m) &= \\frac1{\\sqrt{2\\pi\\sigma^2}}\\exp\\left(-\\frac1{2\\sigma^2}(x-m)^2\\right) \\\\\n",
    "&= \\frac1{\\sqrt{2\\pi\\sigma^2}}\\exp\\left(-\\frac{x^2}{2\\sigma^2}\\right) \\exp\\left(\\frac{m}{\\sigma^2}x - \\frac{m^2}{2\\sigma^2}\\right) \\\\\n",
    "&= v(x) \\exp\\left( f(w) \\cdot g(x) \\right).\n",
    "\\end{align*}"
   ]
  },
  {
   "cell_type": "markdown",
   "metadata": {},
   "source": [
    "よって\n",
    "\\begin{align*}\n",
    "v(x) &= \\frac1{\\sqrt{2\\pi\\sigma^2}}\\exp\\left(-\\frac{x^2}{2\\sigma^2}\\right) \\\\\n",
    "f(w) &= \\left( \\frac{m}{\\sigma^2}, -\\frac{m^2}{2\\sigma^2}\\right)  \\\\\n",
    "g(x) &= \\left(x, 1\\right) \\;\\; \\Rightarrow \\phi=\\left(\\phi_1, \\phi_2\\right) \\; \\text{と置き換えると共役分布}\n",
    "\\end{align*}"
   ]
  },
  {
   "cell_type": "markdown",
   "metadata": {},
   "source": [
    "\\begin{align*}\n",
    "\\varphi(m|\\phi) &= \\frac1{z(\\phi)} \\exp\\left( \\frac{m}{\\sigma^2}\\phi_1 - \\frac{m^2}{2\\sigma^2}\\phi_2 \\right) \\;\\; \\Rightarrow m\\text{について平方完成} \\\\\n",
    "&= \\frac1{z(\\phi)} \\exp\\left\\{ -\\frac{\\phi_2}{2\\sigma^2}\\left(m-\\frac{\\phi_1}{\\phi_2}\\right)^2 + \\frac{\\phi_1^2}{2\\phi_2\\sigma^2}\\right\\} \\\\\n",
    "\\end{align*}\n",
    "これは$m$に関して正規分布。また積分して$1$であるから、"
   ]
  },
  {
   "cell_type": "markdown",
   "metadata": {},
   "source": [
    "\\begin{align*}\n",
    "z(\\phi) &= \\int \\exp\\left\\{ -\\frac{\\phi_2}{2\\sigma^2}\\left(m-\\frac{\\phi_1}{\\phi_2}\\right)^2 + \\frac{\\phi_1^2}{2\\phi_2\\sigma^2}\\right\\} dm \\\\\n",
    "&= \\exp\\left(\\frac{\\phi_1^2}{2\\phi_2\\sigma^2}\\right) \\int \\exp\\left\\{ -\\frac{\\phi_2}{2\\sigma^2}\\left(m-\\frac{\\phi_1}{\\phi_2}\\right)^2\\right\\} dm \\\\\n",
    "&= \\exp\\left(\\frac{\\phi_1^2}{2\\phi_2\\sigma^2}\\right) \\sqrt{\\frac{2\\pi\\sigma^2}{\\phi_2}}\n",
    "\\end{align*}"
   ]
  },
  {
   "cell_type": "markdown",
   "metadata": {},
   "source": [
    "p.13の1行目の式\n",
    "\\begin{align*}\n",
    "\\hat{\\phi} &= \\phi + \\sum_i \\beta g(X_i)\n",
    "\\end{align*}\n",
    "を用いると、\n",
    "\\begin{align*}\n",
    "\\hat{\\phi_1} &= \\phi + \\sum_i \\beta X_i \\\\\n",
    "\\hat{\\phi_2} &= \\phi + \\beta n \\\\\n",
    "\\end{align*}\n"
   ]
  },
  {
   "cell_type": "markdown",
   "metadata": {},
   "source": [
    "予測分布式(1.24)より\n",
    "\\begin{align*}\n",
    "p(x|X^n) &= v(x) \\frac{z(\\hat{\\phi}+g(x))}{z(\\hat{\\phi})} \\propto v(x) z(\\hat{\\phi}+g(x)) \\;\\; \\Rightarrow x\\text{依存性のみ残す} \\\\\n",
    "&\\propto \\exp\\left(-\\frac{x^2}{2\\sigma^2}\\right) \\exp\\left( \\frac{(\\hat{\\phi_1}+x)^2}{2\\sigma^2(\\hat{\\phi_2}+1)} \\right) \\\\\n",
    "&= \\frac1{2\\sigma^2}\\frac{\\hat{\\phi_2}}{\\hat{\\phi_2}+1} \\left\\{ -x^2 + 2\\frac{\\hat{\\phi_1}}{\\hat{\\phi_2}}x + \\text{const.}\\right\\} \\;\\; \\Rightarrow \\{\\dots\\} \\text{を平方完成する}\\\\\n",
    "&\\propto \\exp\\left\\{-\\frac1{2\\hat{\\sigma^2}}\\left(x-\\frac{\\hat{\\phi_1}}{\\hat{\\phi_2}}\\right)^2\\right\\} \\\\\n",
    "&= \\frac1{\\sqrt{2\\pi\\hat{\\sigma^2}}} \\exp\\left\\{-\\frac1{2\\hat{\\sigma^2}}\\left(x - \\frac{\\phi_1 + \\beta \\sum X_i}{\\phi_2+\\beta n}\\right)^2\\right\\}\\;\\; \\text{ただし} \\\\\n",
    "\\hat{\\sigma^2} &= \\frac{\\hat{\\phi_2}+1}{\\hat{\\phi_2}}\\sigma^2 = \\frac{\\phi_2 + n \\beta + 1}{\\phi_2 + n\\beta} \\sigma^2\n",
    "\\end{align*}"
   ]
  },
  {
   "cell_type": "code",
   "execution_count": null,
   "metadata": {
    "collapsed": true
   },
   "outputs": [],
   "source": []
  }
 ],
 "metadata": {
  "kernelspec": {
   "display_name": "Python 3",
   "language": "python",
   "name": "python3"
  },
  "language_info": {
   "codemirror_mode": {
    "name": "ipython",
    "version": 3
   },
   "file_extension": ".py",
   "mimetype": "text/x-python",
   "name": "python",
   "nbconvert_exporter": "python",
   "pygments_lexer": "ipython3",
   "version": "3.4.4"
  }
 },
 "nbformat": 4,
 "nbformat_minor": 2
}
