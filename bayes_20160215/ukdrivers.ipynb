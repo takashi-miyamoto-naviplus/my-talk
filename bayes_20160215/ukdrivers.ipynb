{
 "cells": [
  {
   "cell_type": "markdown",
   "metadata": {},
   "source": [
    "# UKdrivers\n",
    "\n",
    "注意：こちらは応用編です。最初に [8school.ipynb](8school.ipynb)をご覧ください。\n",
    "\n",
    "StunでUKdriversデータを扱うのに関しては、こちらの[Rstanでの記事](https://github.com/sinhrks/stan-statespace)を参考にしました。\n",
    "\n",
    "## データの入手方法\n",
    "\n",
    "状態空間モデルの例として、\n",
    "[\"An Introduction to State Space Time Series Analysis\" サポートページ](http://www.ssfpack.com/CKbook.html)から、\n",
    "ファイル [http://staff.feweb.vu.nl/koopman/projects/ckbook/OxCodeAll.zip](http://staff.feweb.vu.nl/koopman/projects/ckbook/OxCodeAll.zip) をダウンロードして解凍します。\n",
    "解凍して得られるフォルダの `Chapter_7` ディレクトリ下にある `UKdriversKSI.txt`, `logUKpetroprice.txt`を、このjupyter notebookのあるディレクトリにコピーします。(データの入手は各自で行ってください。このリポジトリには含まれていません)\n",
    "\n",
    "なお、この教科書は「状態空間時系列分析入門」という邦題で翻訳書が発売されています。状態空間モデルを用いた時系列分析に関するお勧めの教科書です。"
   ]
  },
  {
   "cell_type": "code",
   "execution_count": null,
   "metadata": {
    "collapsed": true
   },
   "outputs": [],
   "source": [
    "%matplotlib inline\n",
    "import numpy as np\n",
    "import matplotlib.pyplot as plt\n",
    "plt.style.use('ggplot')\n",
    "import pandas as pd\n",
    "import statsmodels.api as sm\n",
    "import pystan"
   ]
  },
  {
   "cell_type": "markdown",
   "metadata": {},
   "source": [
    "## データの説明\n",
    "\n",
    "`UKdriversKSI.txt` は \"monthly UK drivers KSI 1969-1984\" つまり 1969-1984 年の月次の英国ドライバーの死傷者数のデータ$\\{y_t\\}$です。今回の目的はこれを解析することです。\n",
    "\n",
    "`logUKpetroprice.txt` は \"monthly UK log(petrol price) 1969-1984\" であり、同じ期間の石油価格の対数です。死傷者数の説明変数に石油価格$\\{x_t\\}$を追加します。"
   ]
  },
  {
   "cell_type": "code",
   "execution_count": null,
   "metadata": {
    "collapsed": false
   },
   "outputs": [],
   "source": [
    "df_driver = pd.read_table('UKdriversKSI.txt', skiprows=1, header=None, names=['v'])\n",
    "df_petrol = pd.read_table('logUKpetrolprice.txt', skiprows=1, header=None, names=['v'])"
   ]
  },
  {
   "cell_type": "markdown",
   "metadata": {},
   "source": [
    "また、英国では 1983/2 からシートベルト法が施行されたため、1983/2 ($t=169$) 以後は法律の影響があるはずです。これも後ほど、説明変数に$\\{w_t\\}$として取り込みます。 \n",
    "\n",
    "シートベルト法制化前を$0$、法制化後を$1$として、法制化の効果を考えることにします。"
   ]
  },
  {
   "cell_type": "code",
   "execution_count": null,
   "metadata": {
    "collapsed": true
   },
   "outputs": [],
   "source": [
    "seats=np.concatenate((np.zeros((1982-1968)*12+1), np.ones((1984 - 1982)*12-1)))"
   ]
  },
  {
   "cell_type": "markdown",
   "metadata": {},
   "source": [
    "死傷者数は対数変換したほうが適切と考えるので対数変換します。\n",
    "\n",
    "簡単にグラフを書いてみます。\n",
    "* 死傷者数の増減 (赤線のタイミングで法改正)\n",
    "* 石油価格の増減\n",
    "* X=石油価格、Y=死傷者数、の散布図"
   ]
  },
  {
   "cell_type": "code",
   "execution_count": null,
   "metadata": {
    "collapsed": false
   },
   "outputs": [],
   "source": [
    "xps = np.linspace(0,191,192) # x座標\n",
    "rawdrivers = [float(v) for v in df_driver['v'].values] # 生の死傷者数\n",
    "drivers = [np.log(v) for v in rawdrivers] # 対数変換した死傷者数\n",
    "petrols = [float(v) for v in df_petrol['v'].values] # 対数変換した石油価格\n",
    "\n",
    "plt.subplot(2,1,1)\n",
    "plt.plot(xps, drivers, \"b\")\n",
    "plt.plot([169,169], [6.8, 7.8], \"r\")\n",
    "plt.title('log(UKdriversKSI)')\n",
    "plt.show()\n",
    "plt.subplot(2,1,2)\n",
    "plt.plot(xps, petrols, \"b\")\n",
    "plt.title('log(petrol price)')\n",
    "plt.show()\n",
    "plt.scatter(petrols, drivers)\n",
    "plt.xlabel('log(petrol)')\n",
    "plt.ylabel('log(drivers)')\n",
    "plt.show()"
   ]
  },
  {
   "cell_type": "markdown",
   "metadata": {},
   "source": [
    "グラフをみて解ることは\n",
    "* 法改正で死傷者数が減っている\n",
    "* 石油価格と死傷者数には負の相関がありそう\n",
    "* 12ヶ月周期の変動が見える\n",
    "\n",
    "12ヶ月周期があることを確認するため、自己相関係数をみます。"
   ]
  },
  {
   "cell_type": "code",
   "execution_count": null,
   "metadata": {
    "collapsed": false
   },
   "outputs": [],
   "source": [
    "sm.graphics.tsa.plot_acf(drivers, lags=25)"
   ]
  },
  {
   "cell_type": "markdown",
   "metadata": {},
   "source": [
    "## 単なる線形モデル\n",
    "\n",
    "状態空間モデルの前に、単なる線形モデルで解析してみます。\n",
    "\n",
    "$$\\begin{eqnarray}\n",
    "x_t &=& \\log(\\text{石油価格}) \\\\\n",
    "w_t &=& 0 \\text{(法改正前) あるいは} 1 \\text{(法改正後)} \\\\\n",
    "y_t &=& \\log(\\text{死傷者数}) \\sim \\mathcal{N}(\\mu + \\beta x_t + \\lambda w_t + s_t, \\; \\sigma_{\\mathrm{obs}})\n",
    "\\end{eqnarray}$$\n",
    "ただしパラメータは、下記のようなものです。\n",
    "$$\\begin{eqnarray}\n",
    "\\mu &=& \\log(\\text{死傷者数})\\text{の平均} \\\\\n",
    "\\beta &=& x_t \\text{の重み} \\\\\n",
    "\\lambda &=& w_t \\text{の重み} \\\\\n",
    "s_t &=& \\text{季節変動項}, \\;\\; \\sum_{t=i}^{i+11}s_t = 0\n",
    "\\end{eqnarray}$$\n"
   ]
  },
  {
   "cell_type": "markdown",
   "metadata": {},
   "source": [
    "モデルを表現します。\n",
    "\n",
    "季節項の独立なパラメータは $s_t \\; (t=0\\sim 10)$ の11個だけで、$t \\geq 11$ に関しては\n",
    "$$s_t = -\\sum_{i=t-11}^{t-1} s_i$$\n",
    "で求められることに注意してください。"
   ]
  },
  {
   "cell_type": "code",
   "execution_count": null,
   "metadata": {
    "collapsed": true
   },
   "outputs": [],
   "source": [
    "model_code = \"\"\"\n",
    "data {\n",
    "  int<lower=1> N;\n",
    "  vector[N] Y; # driver\n",
    "  vector[N] X; # petrol\n",
    "  vector[N] W; # seatbelt\n",
    "}\n",
    "parameters {\n",
    "  real mu; # level\n",
    "  vector[11] seas; # seasonal term\n",
    "  real beta; # reg. param\n",
    "  real lambda; # coeff.\n",
    "  real<lower=0> sigma_obs; # obs. error\n",
    "}\n",
    "transformed parameters {\n",
    "  vector[N] s;\n",
    "  for(t in 1:11) {\n",
    "    s[t] = seas[t];\n",
    "  }\n",
    "  for(t in 12:N) {\n",
    "    s[t] = -s[t-11]-s[t-10]-s[t-9]-s[t-8]-s[t-7]-s[t-6]-s[t-5]-s[t-4]-s[t-3]-s[t-2]-s[t-1];\n",
    "  }\n",
    "}\n",
    "model {\n",
    "  for(t in 1:N) {\n",
    "    Y[t] ~ normal(mu + beta*X[t] + lambda*W[t] + s[t], sigma_obs);\n",
    "  }\n",
    "}\n",
    "\"\"\""
   ]
  },
  {
   "cell_type": "markdown",
   "metadata": {},
   "source": [
    "与えるデータは下記の通りになります。"
   ]
  },
  {
   "cell_type": "code",
   "execution_count": null,
   "metadata": {
    "collapsed": true
   },
   "outputs": [],
   "source": [
    "data = {'N': 192, 'Y': drivers, 'X': petrols, 'W': seats }"
   ]
  },
  {
   "cell_type": "markdown",
   "metadata": {},
   "source": [
    "stanを実行します。興味のある方は各自`iter`などを調整してみてもよいでしょう。"
   ]
  },
  {
   "cell_type": "code",
   "execution_count": null,
   "metadata": {
    "collapsed": false
   },
   "outputs": [],
   "source": [
    "%time fit = pystan.stan(model_code=model_code, data=data, iter=1000, chains=4)"
   ]
  },
  {
   "cell_type": "code",
   "execution_count": null,
   "metadata": {
    "collapsed": false
   },
   "outputs": [],
   "source": [
    "print(fit)"
   ]
  },
  {
   "cell_type": "markdown",
   "metadata": {},
   "source": [
    "スカラー値とベクトル値の平均値を求める関数を定義"
   ]
  },
  {
   "cell_type": "code",
   "execution_count": null,
   "metadata": {
    "collapsed": true
   },
   "outputs": [],
   "source": [
    "def ave_s(la, vname):\n",
    "    return np.average(la[vname])\n",
    "def ave_v(la, vname):\n",
    "    n = len(la[vname])\n",
    "    acc = np.zeros(192)\n",
    "    for i in range(0, n):\n",
    "        acc = acc + la[vname][i]\n",
    "    return (acc/n)"
   ]
  },
  {
   "cell_type": "markdown",
   "metadata": {},
   "source": [
    "fitから値を取り出す関数を定義"
   ]
  },
  {
   "cell_type": "code",
   "execution_count": null,
   "metadata": {
    "collapsed": true
   },
   "outputs": [],
   "source": [
    "def calc_term_lin(fit):\n",
    "    la = fit.extract(permuted=True)\n",
    "    term_mu = np.ones(192)*ave_s(la, 'mu') # 平均値 mu\n",
    "    term_beta = np.array(petrols)*ave_s(la, 'beta') # 石油の影響\n",
    "    term_lambda = seats*ave_s(la, 'lambda') # 法改正の影響 \n",
    "    term_seasonal = ave_v(la, 's')\n",
    "    term_res = drivers-(term_mu+term_lambda+term_beta+term_seasonal)\n",
    "    print(\"mu={0}\\nbeta={1}\\nlambda={2}\".format(ave_s(la, 'mu'), ave_s(la, 'beta'), ave_s(la, 'lambda')))\n",
    "    print(\"sigma_obs={0}\".format(ave_s(la, 'sigma_obs')))\n",
    "    return (term_mu, term_beta, term_lambda, term_seasonal, term_res)"
   ]
  },
  {
   "cell_type": "markdown",
   "metadata": {},
   "source": [
    "グラフをプロットする関数を定義"
   ]
  },
  {
   "cell_type": "code",
   "execution_count": null,
   "metadata": {
    "collapsed": false
   },
   "outputs": [],
   "source": [
    "def do_plot(terms):\n",
    "    term_mu, term_beta, term_lambda, term_seasonal, term_res = terms\n",
    "\n",
    "    plt.figure(figsize=(6, 4))\n",
    "    plt.plot(xps, term_mu+term_lambda+term_beta, \"g\", label='without seasonal')\n",
    "    plt.plot(xps, term_mu+term_lambda+term_beta+term_seasonal, \"r\", label='with seasonal')\n",
    "    plt.plot(xps, drivers, \"b\", label='real data')\n",
    "    plt.legend()\n",
    "    plt.show()\n",
    "\n",
    "    plt.figure(figsize=(6, 4))\n",
    "    plt.plot(xps, term_mu+term_lambda+term_beta, \"r\", label='fit without seasonal')\n",
    "    plt.plot(xps, drivers-term_seasonal, \"b\", label='real data without seasonal')\n",
    "    plt.legend()\n",
    "    plt.show()\n",
    "\n",
    "    plt.figure(figsize=(6, 10))\n",
    "    plt.subplot(5,1,1)\n",
    "    plt.plot(xps, term_mu, \"b\", label='$\\mu_t$')\n",
    "    plt.title('mu_t')\n",
    "    plt.subplot(5,1,2)\n",
    "    plt.plot(xps, term_lambda, \"b\", label='$\\lambda w_t$')\n",
    "    plt.title('lambda w_t')\n",
    "    plt.subplot(5,1,3)\n",
    "    plt.plot(xps, term_beta, \"b\", label='$\\beta x_t$')\n",
    "    plt.title('beta x_t')\n",
    "    plt.subplot(5,1,4)\n",
    "    plt.plot(xps, term_seasonal, \"b\", label='seasonal')\n",
    "    plt.title('s_t')\n",
    "    plt.subplot(5,1,5)\n",
    "    plt.plot(xps, term_res, \"b\", label='residue')\n",
    "    plt.title('residual')\n",
    "    plt.show()\n",
    "    sm.graphics.tsa.plot_acf(drivers-(term_mu+term_lambda+term_beta+term_seasonal), lags=25)"
   ]
  },
  {
   "cell_type": "markdown",
   "metadata": {},
   "source": [
    "結果を表示します\n",
    "\n",
    "残差にはなめらかな変化が残っているように見えます。それは自己相関をプロットしてみてもわかります。平均値が一定であるという仮定に無理がありそうです。"
   ]
  },
  {
   "cell_type": "code",
   "execution_count": null,
   "metadata": {
    "collapsed": false
   },
   "outputs": [],
   "source": [
    "do_plot(calc_term_lin(fit))"
   ]
  },
  {
   "cell_type": "markdown",
   "metadata": {},
   "source": [
    "## 状態空間モデル\n",
    "\n",
    "平均値 $\\mu$ は不変ではなく、ほぼ直前の値 $x_{t-1}$ と等しいが揺らぎ $\\sigma_\\mu$ を持っている、という仮定を入れます。$y_t$ は真の値 $\\mu_t$ に測定誤差 $\\sigma_{\\text{obs}}$ を含んだものとして観測されます。\n",
    "このようなモデルを状態空間モデル（一階のトレンドモデル）と呼びます。\n",
    "\n",
    "さらに季節項にも変動 $\\sigma_s$ を許します。\n",
    "\n",
    "$$\\begin{eqnarray}\n",
    "\\mu_t & \\sim & \\mathcal{N}(\\mu_{t-1}, \\sigma_\\mu) \\\\\n",
    "s_t & \\sim & \\mathcal{N}(-\\sum_{i=1}^{11}s_{t-i}, \\; \\sigma_s) \\\\\n",
    "y_t & \\sim & \\mathcal{N}(\\mu_t + \\beta x_t + \\lambda w_t + s_t, \\; \\sigma_{\\mathrm{obs}})\n",
    "\\end{eqnarray}$$"
   ]
  },
  {
   "cell_type": "markdown",
   "metadata": {},
   "source": [
    "今回はMCMC収束の都合上、 $\\sigma_\\mu, \\; \\sigma_s, \\; \\sigma_{\\text{obs}}$ については事前分布を与えています。\n",
    "また、$\\mu_t$ についても $y_t$ の値から上限下限を定めています。"
   ]
  },
  {
   "cell_type": "code",
   "execution_count": null,
   "metadata": {
    "collapsed": true
   },
   "outputs": [],
   "source": [
    "model_code = \"\"\"\n",
    "data {\n",
    "  int<lower=1> N;\n",
    "  vector[N] Y; # driver\n",
    "  vector[N] X; # petrol\n",
    "  vector[N] W; # seatbelt\n",
    "}\n",
    "parameters {\n",
    "  vector<lower=mean(Y)-3*sd(Y), upper=mean(Y)+3*sd(Y)>[N] mu;\n",
    "  vector[N] s; # seasonal term\n",
    "  real beta; # reg. param\n",
    "  real lambda; # coeff.\n",
    "  real<lower=0> sigma_mu; # mu error\n",
    "  real<lower=0> sigma_s; # seas error\n",
    "  real<lower=0> sigma_obs; # obs. error\n",
    "}\n",
    "model {\n",
    "  for(t in 12:N) {\n",
    "    s[t] ~ normal(-s[t-11]-s[t-10]-s[t-9]-s[t-8]-s[t-7]-s[t-6]-s[t-5]-s[t-4]-s[t-3]-s[t-2]-s[t-1], sigma_s);\n",
    "  }\n",
    "  for(t in 2:N)\n",
    "    mu[t] ~ normal(mu[t-1], sigma_mu);\n",
    "  for(t in 1:N)\n",
    "    Y[t] ~ normal(mu[t] + beta*X[t] + lambda*W[t] + s[t], sigma_obs);\n",
    "\n",
    "  sigma_mu ~ inv_gamma(0.001, 0.001);\n",
    "  sigma_s ~ inv_gamma(0.001, 0.001);\n",
    "  sigma_obs ~ inv_gamma(0.001, 0.001);}\n",
    "\"\"\""
   ]
  },
  {
   "cell_type": "code",
   "execution_count": null,
   "metadata": {
    "collapsed": false
   },
   "outputs": [],
   "source": [
    "%time fit = pystan.stan(model_code=model_code, data=data, iter=2000, chains=4)"
   ]
  },
  {
   "cell_type": "code",
   "execution_count": null,
   "metadata": {
    "collapsed": false
   },
   "outputs": [],
   "source": [
    "print(fit)"
   ]
  },
  {
   "cell_type": "markdown",
   "metadata": {},
   "source": [
    "Rhatの値が悪いと思う場合は、MCMCの条件を色々変えてみてください。\n",
    "\n",
    "結果の取り出しと表示を行います。\n",
    "* $\\sigma_\\mu < \\sigma_{\\text{obs}}$ と期待する結果(測定の誤差は大きいが真の値の揺らぎは小さいという仮定)にあった結果が得られた。\n",
    "* 2番目のグラフを見るとわかりやすいが、変動のトレンドを綺麗に捉えているように見える。\n",
    "* 自己相関も消えている\n",
    "* ただし、$\\mu_t$ の変化には滑らかさが少ない。"
   ]
  },
  {
   "cell_type": "code",
   "execution_count": null,
   "metadata": {
    "collapsed": false
   },
   "outputs": [],
   "source": [
    "def calc_term_trend(fit):\n",
    "    la = fit.extract(permuted=True)\n",
    "    term_mu = ave_v(la,'mu') # 平均値 mu\n",
    "    term_beta = np.array(petrols)*ave_s(la,'beta') # 石油の影響\n",
    "    term_lambda = seats*ave_s(la,'lambda') # 法改正の影響 \n",
    "    term_seasonal = ave_v(la,'s')\n",
    "    term_res = drivers-(term_mu+term_lambda+term_beta+term_seasonal)\n",
    "    print(\"beta={0}\\nlambda={1}\".format(ave_s(la, 'beta'), ave_s(la, 'lambda')))\n",
    "    print(\"sigma_mu={0}\\nsigma_s={1}\\nsigma_obs={2}\".format( \\\n",
    "        ave_s(la, 'sigma_mu'), ave_s(la, 'sigma_s'), ave_s(la, 'sigma_obs')))\n",
    "    return (term_mu, term_beta, term_lambda, term_seasonal, term_res)\n",
    "\n",
    "do_plot(calc_term_trend(fit))"
   ]
  },
  {
   "cell_type": "markdown",
   "metadata": {},
   "source": [
    "### 2階のトレンドモデル\n",
    "\n",
    "$\\mu_t$ の滑らかな変化を得るために、値の連続性ではなく傾きの連続性を条件に入れます。つまり\n",
    "$$\\mu_t - \\mu_{t-1} = \\mu_{t-1} - \\mu_{t-2} + \\epsilon_t$$\n",
    "より\n",
    "$$\\mu_t \\sim \\mathcal{N}(2\\mu_{t-1} - \\mu_{t-2}, \\sigma_\\mu)$$\n",
    "と変更します。"
   ]
  },
  {
   "cell_type": "code",
   "execution_count": null,
   "metadata": {
    "collapsed": true
   },
   "outputs": [],
   "source": [
    "model_code = \"\"\"\n",
    "data {\n",
    "  int<lower=1> N;\n",
    "  vector[N] Y; # driver\n",
    "  vector[N] X; # petrol\n",
    "  vector[N] W; # seatbelt\n",
    "}\n",
    "parameters {\n",
    "  vector<lower=mean(Y)-3*sd(Y), upper=mean(Y)+3*sd(Y)>[N] mu;\n",
    "  vector[N] s; # seasonal term\n",
    "  real beta; # reg. param\n",
    "  real lambda; # coeff.\n",
    "  real<lower=0> sigma_mu; # mu error\n",
    "  real<lower=0> sigma_s; # seas error\n",
    "  real<lower=0> sigma_obs; # obs. error\n",
    "}\n",
    "model {\n",
    "  for(t in 12:N) {\n",
    "    s[t] ~ normal(-s[t-11]-s[t-10]-s[t-9]-s[t-8]-s[t-7]-s[t-6]-s[t-5]-s[t-4]-s[t-3]-s[t-2]-s[t-1], sigma_s);\n",
    "  }\n",
    "  for(t in 3:N)\n",
    "    mu[t] ~ normal(2*mu[t-1]-mu[t-2], sigma_mu);\n",
    "  for(t in 1:N)\n",
    "    Y[t] ~ normal(mu[t] + beta*X[t] + lambda*W[t] + s[t], sigma_obs);\n",
    "\n",
    "  sigma_mu ~ inv_gamma(0.001, 0.001);\n",
    "  sigma_s ~ inv_gamma(0.001, 0.001);\n",
    "  sigma_obs ~ inv_gamma(0.001, 0.001);}\n",
    "\"\"\""
   ]
  },
  {
   "cell_type": "code",
   "execution_count": null,
   "metadata": {
    "collapsed": false
   },
   "outputs": [],
   "source": [
    "%time fit = pystan.stan(model_code=model_code, data=data, iter=2000, chains=4)"
   ]
  },
  {
   "cell_type": "code",
   "execution_count": null,
   "metadata": {
    "collapsed": false
   },
   "outputs": [],
   "source": [
    "print(fit)"
   ]
  },
  {
   "cell_type": "markdown",
   "metadata": {},
   "source": [
    "Rhatの値が悪いと思う場合は、MCMCの条件を色々変えてみてください。\n",
    "\n",
    "結果の取り出しと表示を行います。\n",
    "* $\\mu_t$ の変化がより滑らかになった。"
   ]
  },
  {
   "cell_type": "code",
   "execution_count": null,
   "metadata": {
    "collapsed": false
   },
   "outputs": [],
   "source": [
    "do_plot(calc_term_trend(fit))"
   ]
  },
  {
   "cell_type": "code",
   "execution_count": null,
   "metadata": {
    "collapsed": true
   },
   "outputs": [],
   "source": []
  }
 ],
 "metadata": {
  "kernelspec": {
   "display_name": "Python 3",
   "language": "python",
   "name": "python3"
  },
  "language_info": {
   "codemirror_mode": {
    "name": "ipython",
    "version": 3
   },
   "file_extension": ".py",
   "mimetype": "text/x-python",
   "name": "python",
   "nbconvert_exporter": "python",
   "pygments_lexer": "ipython3",
   "version": "3.4.4"
  }
 },
 "nbformat": 4,
 "nbformat_minor": 0
}
