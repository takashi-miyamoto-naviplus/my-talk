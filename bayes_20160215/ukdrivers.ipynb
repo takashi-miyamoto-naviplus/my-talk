{
 "cells": [
  {
   "cell_type": "markdown",
   "metadata": {},
   "source": [
    "# UKdrivers\n",
    "\n",
    "こちらの[Rstanでの記事](https://github.com/sinhrks/stan-statespace)を参考にしました。\n",
    "\n",
    "## データの入手方法\n",
    "\n",
    "状態空間モデルの例として、\n",
    "[\"An Introduction to State Space Time Series Analysis\" サポートページ](http://www.ssfpack.com/CKbook.html)から、\n",
    "ファイル [http://staff.feweb.vu.nl/koopman/projects/ckbook/OxCodeAll.zip](http://staff.feweb.vu.nl/koopman/projects/ckbook/OxCodeAll.zip) をダウンロードして解凍します。\n",
    "解凍して得られるフォルダの `Chapter_7` ディレクトリ下にある `UKdriversKSI.txt`, `logUKpetroprice.txt`を、このjupyter notebookのあるディレクトリにコピーします。\n",
    "\n",
    "なお、この教科書は「状態空間時系列分析入門」という邦題で翻訳書が発売されています。状態空間モデルを用いた時系列分析に関するお勧めの教科書です。"
   ]
  },
  {
   "cell_type": "code",
   "execution_count": null,
   "metadata": {
    "collapsed": true
   },
   "outputs": [],
   "source": [
    "%matplotlib inline\n",
    "import numpy as np\n",
    "import matplotlib.pyplot as plt\n",
    "plt.style.use('ggplot')\n",
    "import pandas as pd\n",
    "import statsmodels.api as sm\n",
    "import pystan"
   ]
  },
  {
   "cell_type": "markdown",
   "metadata": {},
   "source": [
    "## データの説明\n",
    "\n",
    "`UKdriversKSI.txt` は \"monthly UK drivers KSI 1969-1984\" つまり 1969-1984 年の月次の英国ドライバーの死傷者数のデータ$\\{y_t\\}$です。今回の目的はこれを解析することです。\n",
    "\n",
    "`logUKpetroprice.txt` は \"monthly UK log(petrol price) 1969-1984\" であり、同じ期間の石油価格の対数です。死傷者数の説明変数に石油価格$\\{x_t\\}$を追加します。\n",
    "\n",
    "また、英国では 1983/2 からシートベルト法が施行されたため、1983/2 ($t=169$) 以後は法律の影響があるはずです。これも後ほど、説明変数に$\\{w_t\\}$として取り込みます。 "
   ]
  },
  {
   "cell_type": "code",
   "execution_count": null,
   "metadata": {
    "collapsed": false
   },
   "outputs": [],
   "source": [
    "df_driver = pd.read_table('UKdriversKSI.txt', skiprows=1, header=None, names=['v'])\n",
    "df_petrol = pd.read_table('logUKpetrolprice.txt', skiprows=1, header=None, names=['v'])\n",
    "print(df_driver.shape)\n",
    "#df_driver.head()"
   ]
  },
  {
   "cell_type": "markdown",
   "metadata": {},
   "source": [
    "シートベルト法制化前を$0$、法制化後を$1$として、法制化の効果を考えることにします。"
   ]
  },
  {
   "cell_type": "code",
   "execution_count": null,
   "metadata": {
    "collapsed": true
   },
   "outputs": [],
   "source": [
    "seats=np.concatenate((np.zeros((1982-1968)*12+1), np.ones((1984 - 1982)*12-1)))"
   ]
  },
  {
   "cell_type": "markdown",
   "metadata": {},
   "source": [
    "死傷者数は対数変換したほうが適切と考えるので対数変換します。\n",
    "\n",
    "簡単にグラフを書いてみます。"
   ]
  },
  {
   "cell_type": "code",
   "execution_count": null,
   "metadata": {
    "collapsed": false
   },
   "outputs": [],
   "source": [
    "xps = np.linspace(0,191,192) # x座標\n",
    "rawdrivers = [float(v) for v in df_driver['v'].values] # 生の死傷者数\n",
    "drivers = [np.log(v) for v in rawdrivers] # 対数変換した死傷者数\n",
    "petrols = [float(v) for v in df_petrol['v'].values] # 対数変換した死傷者数\n",
    "\n",
    "plt.plot(xps, rawdrivers, \"b\")\n",
    "plt.plot([169,169], [1000, 2600], \"r\")\n",
    "plt.title('UKdriversKSI')\n",
    "plt.show()\n",
    "plt.plot(xps, drivers, \"b\")\n",
    "plt.plot([169,169], [6.8, 7.8], \"r\")\n",
    "plt.title('log(UKdriversKSI)')\n",
    "plt.show()\n",
    "plt.plot(xps, petrols, \"b\")\n",
    "plt.title('log(petrol price)')\n",
    "plt.show()"
   ]
  },
  {
   "cell_type": "markdown",
   "metadata": {},
   "source": [
    "drivers は(シートベルト法の影響と12ヶ月周期を除けば)値がほぼ一定であるように見えます。\n",
    "\n",
    "12ヶ月周期があることを確認するため、自己相関係数をみます。"
   ]
  },
  {
   "cell_type": "code",
   "execution_count": null,
   "metadata": {
    "collapsed": false
   },
   "outputs": [],
   "source": [
    "sm.graphics.tsa.plot_acf(drivers, lags=25)"
   ]
  },
  {
   "cell_type": "markdown",
   "metadata": {},
   "source": [
    "## 単なる線形モデル\n",
    "\n",
    "データが\n",
    "$$y_t \\sim \\mathcal{N}(\\mu + \\beta x_t + \\lambda w_t + s_t, \\; \\sigma_{\\mathrm{obs}})$$\n",
    "$$\\sum_{i=1}^{12}s_i = 0, \\;\\; \\text{周期12の季節項}$$\n",
    "と表現されると仮定します。"
   ]
  },
  {
   "cell_type": "markdown",
   "metadata": {},
   "source": [
    "モデルを表現します\n",
    "* data\n",
    "   * $n$ : データ数\n",
    "   * $\\{y_t\\}$ : log(運転者死亡数)\n",
    "   * $\\{x_t\\}$ : log(石油価格)\n",
    "   * $\\{w_t\\}$ : シートベルト法制化のダミー変数(0/1=法制化)\n",
    "* parameters\n",
    "   * $\\mu$ : log(運転者死亡数)の平均\n",
    "   * $\\mathrm{seas}_i \\; (i=1 \\sim 11)$ : 周期=12、制約 $\\sum_{i=1}^{12} \\mathrm{seas}_i = 0$\n",
    "   * $\\beta$ : log(石油価格)の係数\n",
    "   * $\\lambda$ : シートベルト法制化の効果\n",
    "   * $\\sigma_{\\mathrm{obs}}$ : 観測誤差\n",
    "* transformed parameters\n",
    "   * $s_t$ : $\\mathrm{seas}_i$ を繰り返したもの\n",
    "   * $\\hat{y}_t = \\mu + \\beta x_t + \\lambda w_t$\n",
    "* model\n",
    "   * $ y_t \\sim \\mathcal{N}(\\hat{y}_t + s_t, \\sigma_{\\mathrm{obs}}) $"
   ]
  },
  {
   "cell_type": "code",
   "execution_count": null,
   "metadata": {
    "collapsed": true
   },
   "outputs": [],
   "source": [
    "model_code = \"\"\"\n",
    "data {\n",
    "  int<lower=1> n;\n",
    "  vector[n] y; # driver\n",
    "  vector[n] x; # petrol\n",
    "  vector[n] w; # seatbelt\n",
    "}\n",
    "parameters {\n",
    "  real mu; # level\n",
    "  vector[11] seas; # seasonal term\n",
    "  real beta; # reg. param\n",
    "  real lambda; # coeff.\n",
    "  real<lower=0> sigma_obs; # obs. error\n",
    "}\n",
    "transformed parameters {\n",
    "  vector[n] s;\n",
    "  vector[n] yhat;\n",
    "  for(t in 1:11) {\n",
    "    s[t] = seas[t];\n",
    "  }\n",
    "  for(t in 12:n) {\n",
    "    s[t] = - s[t-11] - s[t-10] - s[t-9] - s[t-8] - s[t-7] - s[t-6] - s[t-5] - s[t-4] - s[t-3] - s[t-2] - s[t-1];\n",
    "  }\n",
    "  for(t in 1:n) {\n",
    "    yhat[t] = mu + beta * x[t] + lambda * w[t];\n",
    "  }\n",
    "}\n",
    "model {\n",
    "  for(t in 1:n)\n",
    "    y[t] ~ normal(yhat[t] + s[t], sigma_obs);\n",
    "}\n",
    "\"\"\""
   ]
  },
  {
   "cell_type": "code",
   "execution_count": null,
   "metadata": {
    "collapsed": true
   },
   "outputs": [],
   "source": [
    "data = {'n': 192, 'y': drivers, 'x': petrols, 'w': seats }"
   ]
  },
  {
   "cell_type": "code",
   "execution_count": null,
   "metadata": {
    "collapsed": false
   },
   "outputs": [],
   "source": [
    "%time fit = pystan.stan(model_code=model_code, data=data, iter=1000, chains=4)"
   ]
  },
  {
   "cell_type": "code",
   "execution_count": null,
   "metadata": {
    "collapsed": false
   },
   "outputs": [],
   "source": [
    "print(fit)"
   ]
  },
  {
   "cell_type": "code",
   "execution_count": null,
   "metadata": {
    "collapsed": true
   },
   "outputs": [],
   "source": [
    "la = fit.extract(permuted=True)"
   ]
  },
  {
   "cell_type": "code",
   "execution_count": null,
   "metadata": {
    "collapsed": true
   },
   "outputs": [],
   "source": [
    "def ave_s(la, vname):\n",
    "    return np.average(la[vname])\n",
    "def ave_v(la, vname):\n",
    "    n = len(la[vname])\n",
    "    acc = np.zeros(192)\n",
    "    for i in range(0, n):\n",
    "        acc = acc + la[vname][i]\n",
    "    return (acc/n)"
   ]
  },
  {
   "cell_type": "code",
   "execution_count": null,
   "metadata": {
    "collapsed": false
   },
   "outputs": [],
   "source": [
    "term_mu = np.ones(192)*ave_s(la, 'mu') # 平均値 mu\n",
    "term_beta = np.array(petrols)*ave_s(la, 'beta') # 石油の影響\n",
    "term_lambda = seats*ave_s(la, 'lambda') # 法改正の影響 \n",
    "term_seasonal = ave_v(la, 's')\n",
    "print(\"mu={0}, beta={1}, lambda={2}\".format(ave_s(la, 'mu'), ave_s(la, 'beta'), ave_s(la, 'lambda')))\n",
    "print(\"sigma_obs={0}\".format(ave_s(la, 'sigma_obs')))\n",
    "\n",
    "plt.figure(figsize=(10, 8))\n",
    "plt.plot(xps, term_mu+term_lambda+term_beta, \"g\", label='without seasonal')\n",
    "plt.plot(xps, term_mu+term_lambda+term_beta+term_seasonal, \"r\", label='with seasonal')\n",
    "plt.plot(xps, drivers, \"b\", label='real data')\n",
    "plt.legend()\n",
    "plt.show()\n",
    "\n",
    "plt.figure(figsize=(10, 8))\n",
    "plt.plot(xps, term_mu+term_lambda+term_beta, \"r\", label='fit without seasonal')\n",
    "plt.plot(xps, drivers-term_seasonal, \"b\", label='real data without seasonal')\n",
    "plt.legend()\n",
    "plt.show()\n",
    "\n",
    "plt.figure(figsize=(10, 8))\n",
    "plt.subplot(4,1,1)\n",
    "plt.plot(xps, term_mu+term_lambda, \"b\", label='$\\mu + \\lambda w_t$')\n",
    "plt.title('mu + lambda w_t')\n",
    "plt.subplot(4,1,2)\n",
    "plt.plot(xps, term_beta, \"b\", label='$\\beta x_t$')\n",
    "plt.title('beta x_t')\n",
    "plt.subplot(4,1,3)\n",
    "plt.plot(xps, term_seasonal, \"b\", label='seasonal')\n",
    "plt.title('s_t')\n",
    "plt.subplot(4,1,4)\n",
    "plt.plot(xps, drivers-(term_mu+term_lambda+term_beta+term_seasonal), \"b\", label='residual')\n",
    "plt.title('residual')\n",
    "plt.show()"
   ]
  },
  {
   "cell_type": "markdown",
   "metadata": {},
   "source": [
    "季節成分だけを引いたものの自己相関係数をプロットすると、自己相関はなさそうに見えますが、残差にはなめらかな変化が残っているように見えます。平均値が一定であるという仮定に無理がありそうです。"
   ]
  },
  {
   "cell_type": "code",
   "execution_count": null,
   "metadata": {
    "collapsed": false
   },
   "outputs": [],
   "source": [
    "sm.graphics.tsa.plot_acf(drivers-(term_mu+term_lambda+term_beta+term_seasonal), lags=25)"
   ]
  },
  {
   "cell_type": "markdown",
   "metadata": {},
   "source": [
    "## 状態空間モデル\n",
    "\n",
    "ローカルレベルモデル、さらに季節項にも変動を許します。\n",
    "$$y_t \\sim \\mathcal{N}(\\mu_t + \\beta x_t + \\lambda w_t + s_t, \\; \\sigma_{\\mathrm{obs}})$$\n",
    "$$\\mu_t \\sim \\mathcal{N}(\\mu_{t-1}, \\; \\sigma_\\mu)$$\n",
    "$$s_t \\sim \\mathcal{N}(-\\sum_{i=1}^{11}s_{t-i}, \\; \\sigma_s)$$\n"
   ]
  },
  {
   "cell_type": "code",
   "execution_count": null,
   "metadata": {
    "collapsed": true
   },
   "outputs": [],
   "source": [
    "model_code = \"\"\"\n",
    "data {\n",
    "  int<lower=1> n;\n",
    "  vector[n] y; # driver\n",
    "  vector[n] x; # petrol\n",
    "  vector[n] w; # seatbelt\n",
    "}\n",
    "parameters {\n",
    "  vector<lower=mean(y)-3*sd(y), upper=mean(y)+3*sd(y)>[n] mu;\n",
    "  vector[n] s; # seasonal term\n",
    "  real beta; # reg. param\n",
    "  real lambda; # coeff.\n",
    "  real<lower=0> sigma_mu; # mu error\n",
    "  real<lower=0> sigma_s; # seas error\n",
    "  real<lower=0> sigma_obs; # obs. error\n",
    "}\n",
    "transformed parameters {\n",
    "  vector[n] yhat;\n",
    "  for(t in 1:n) {\n",
    "    yhat[t] = mu[t] + beta * x[t] + lambda * w[t];\n",
    "  }\n",
    "}\n",
    "model {\n",
    "  for(t in 12:n) {\n",
    "    s[t] ~ normal(-s[t-11]-s[t-10]-s[t-9]-s[t-8]-s[t-7]-s[t-6]-s[t-5]-s[t-4]-s[t-3]-s[t-2]-s[t-1], sigma_s);\n",
    "  }\n",
    "  for(t in 2:n)\n",
    "    mu[t] ~ normal(mu[t-1], sigma_mu);\n",
    "  for(t in 1:n)\n",
    "    y[t] ~ normal(yhat[t] + s[t], sigma_obs);\n",
    "\n",
    "  sigma_mu ~ inv_gamma(0.001, 0.001);\n",
    "  sigma_s ~ inv_gamma(0.001, 0.001);\n",
    "  sigma_obs ~ inv_gamma(0.001, 0.001);}\n",
    "\"\"\""
   ]
  },
  {
   "cell_type": "code",
   "execution_count": null,
   "metadata": {
    "collapsed": false
   },
   "outputs": [],
   "source": [
    "%time fit = pystan.stan(model_code=model_code, data=data, iter=1000, chains=4)"
   ]
  },
  {
   "cell_type": "code",
   "execution_count": null,
   "metadata": {
    "collapsed": false
   },
   "outputs": [],
   "source": [
    "la = fit.extract(permuted=True)\n",
    "print(fit)"
   ]
  },
  {
   "cell_type": "code",
   "execution_count": null,
   "metadata": {
    "collapsed": false
   },
   "outputs": [],
   "source": [
    "term_mu = ave_v(la,'mu') # 平均値 mu\n",
    "term_beta = np.array(petrols)*ave_s(la,'beta') # 石油の影響\n",
    "term_lambda = seats*ave_s(la,'lambda') # 法改正の影響 \n",
    "term_s = ave_v(la,'s')\n",
    "term_res = drivers-(term_mu+term_lambda+term_beta+term_seasonal)\n",
    "print(\"beta={0}, lambda={1}\".format(ave_s(la, 'beta'), ave_s(la, 'lambda')))\n",
    "print(\"sigma_mu={0}, sigma_s={1}, sigma_obs={2}\".format( \\\n",
    "    ave_s(la, 'sigma_mu'), ave_s(la, 'sigma_s'), ave_s(la, 'sigma_obs')))\n",
    "\n",
    "plt.figure(figsize=(10, 8))\n",
    "plt.plot(xps, term_mu+term_lambda+term_beta, \"g\", label='without seasonal')\n",
    "plt.plot(xps, term_mu+term_lambda+term_beta+term_seasonal, \"r\", label='with seasonal')\n",
    "plt.plot(xps, drivers, \"b\", label='real data')\n",
    "plt.legend()\n",
    "plt.show()\n",
    "\n",
    "plt.figure(figsize=(10, 8))\n",
    "plt.plot(xps, term_mu+term_lambda+term_beta, \"r\", label='fit without seasonal')\n",
    "plt.plot(xps, drivers-term_seasonal, \"b\", label='real data without seasonal')\n",
    "plt.legend()\n",
    "plt.show()\n",
    "\n",
    "plt.figure(figsize=(10, 10))\n",
    "plt.subplot(5,1,1)\n",
    "plt.plot(xps, term_mu, \"b\", label='$\\mu_t$')\n",
    "plt.title('mu_t')\n",
    "plt.subplot(5,1,2)\n",
    "plt.plot(xps, term_lambda, \"b\", label='$\\lambda w_t$')\n",
    "plt.title('lambda w_t')\n",
    "plt.subplot(5,1,3)\n",
    "plt.plot(xps, term_beta, \"b\", label='$\\beta x_t$')\n",
    "plt.title('beta x_t')\n",
    "plt.subplot(5,1,4)\n",
    "plt.plot(xps, term_seasonal, \"b\", label='seasonal')\n",
    "plt.title('s_t')\n",
    "plt.subplot(5,1,5)\n",
    "plt.plot(xps, term_res, \"b\", label='residue')\n",
    "plt.title('residual')\n",
    "plt.show()"
   ]
  },
  {
   "cell_type": "code",
   "execution_count": null,
   "metadata": {
    "collapsed": false
   },
   "outputs": [],
   "source": [
    "sm.graphics.tsa.plot_acf(term_res, lags=25)"
   ]
  },
  {
   "cell_type": "markdown",
   "metadata": {},
   "source": [
    "## トレンドモデル\n",
    "\n",
    "$$\\mu_t - \\mu_{t-1} = \\mu_{t-1} - \\mu_{t-2} + \\epsilon_t$$\n",
    "より\n",
    "$$\\mu_t \\sim \\mathcal{N}(2\\mu_{t-1} - \\mu_{t-2}, \\sigma_\\mu)$$\n"
   ]
  },
  {
   "cell_type": "code",
   "execution_count": null,
   "metadata": {
    "collapsed": true
   },
   "outputs": [],
   "source": [
    "model_code = \"\"\"\n",
    "data {\n",
    "  int<lower=1> n;\n",
    "  vector[n] y; # driver\n",
    "  vector[n] x; # petrol\n",
    "  vector[n] w; # seatbelt\n",
    "}\n",
    "parameters {\n",
    "  vector<lower=mean(y)-3*sd(y), upper=mean(y)+3*sd(y)>[n] mu;\n",
    "  vector[n] s; # seasonal term\n",
    "  real beta; # reg. param\n",
    "  real lambda; # coeff.\n",
    "  real<lower=0> sigma_mu; # mu error\n",
    "  real<lower=0> sigma_s; # seas error\n",
    "  real<lower=0> sigma_obs; # obs. error\n",
    "}\n",
    "transformed parameters {\n",
    "  vector[n] yhat;\n",
    "  for(t in 1:n) {\n",
    "    yhat[t] = mu[t] + beta * x[t] + lambda * w[t];\n",
    "  }\n",
    "}\n",
    "model {\n",
    "  for(t in 12:n) {\n",
    "    s[t] ~ normal(-s[t-11]-s[t-10]-s[t-9]-s[t-8]-s[t-7]-s[t-6]-s[t-5]-s[t-4]-s[t-3]-s[t-2]-s[t-1], sigma_s);\n",
    "  }\n",
    "  for(t in 3:n)\n",
    "    mu[t] ~ normal(2*mu[t-1]-mu[t-2], sigma_mu);\n",
    "  for(t in 1:n)\n",
    "    y[t] ~ normal(yhat[t] + s[t], sigma_obs);\n",
    "\n",
    "  sigma_mu ~ inv_gamma(0.001, 0.001);\n",
    "  sigma_s ~ inv_gamma(0.001, 0.001);\n",
    "  sigma_obs ~ inv_gamma(0.001, 0.001);}\n",
    "\"\"\""
   ]
  },
  {
   "cell_type": "code",
   "execution_count": null,
   "metadata": {
    "collapsed": false
   },
   "outputs": [],
   "source": [
    "%time fit = pystan.stan(model_code=model_code, data=data, iter=1000, chains=4)"
   ]
  },
  {
   "cell_type": "code",
   "execution_count": null,
   "metadata": {
    "collapsed": false
   },
   "outputs": [],
   "source": [
    "la = fit.extract(permuted=True)\n",
    "print(fit)"
   ]
  },
  {
   "cell_type": "code",
   "execution_count": null,
   "metadata": {
    "collapsed": false
   },
   "outputs": [],
   "source": [
    "term_mu = ave_v(la,'mu') # 平均値 mu\n",
    "term_beta = np.array(petrols)*ave_s(la,'beta') # 石油の影響\n",
    "term_lambda = seats*ave_s(la,'lambda') # 法改正の影響 \n",
    "term_s = ave_v(la,'s')\n",
    "term_res = drivers-(term_mu+term_lambda+term_beta+term_seasonal)\n",
    "print(\"beta={0}, lambda={1}\".format(ave_s(la, 'beta'), ave_s(la, 'lambda')))\n",
    "print(\"sigma_mu={0}, sigma_s={1}, sigma_obs={2}\".format( \\\n",
    "    ave_s(la, 'sigma_mu'), ave_s(la, 'sigma_s'), ave_s(la, 'sigma_obs')))\n",
    "\n",
    "plt.figure(figsize=(10, 8))\n",
    "plt.plot(xps, term_mu+term_lambda+term_beta, \"g\", label='without seasonal')\n",
    "plt.plot(xps, term_mu+term_lambda+term_beta+term_seasonal, \"r\", label='with seasonal')\n",
    "plt.plot(xps, drivers, \"b\", label='real data')\n",
    "plt.legend()\n",
    "plt.show()\n",
    "\n",
    "plt.figure(figsize=(10, 8))\n",
    "plt.plot(xps, term_mu+term_lambda+term_beta, \"r\", label='fit without seasonal')\n",
    "plt.plot(xps, drivers-term_seasonal, \"b\", label='real data without seasonal')\n",
    "plt.legend()\n",
    "plt.show()\n",
    "\n",
    "plt.figure(figsize=(10, 10))\n",
    "plt.subplot(5,1,1)\n",
    "plt.plot(xps, term_mu, \"b\", label='$\\mu_t$')\n",
    "plt.title('mu_t')\n",
    "plt.subplot(5,1,2)\n",
    "plt.plot(xps, term_lambda, \"b\", label='$\\lambda w_t$')\n",
    "plt.title('lambda w_t')\n",
    "plt.subplot(5,1,3)\n",
    "plt.plot(xps, term_beta, \"b\", label='$\\beta x_t$')\n",
    "plt.title('beta x_t')\n",
    "plt.subplot(5,1,4)\n",
    "plt.plot(xps, term_seasonal, \"b\", label='seasonal')\n",
    "plt.title('s_t')\n",
    "plt.subplot(5,1,5)\n",
    "plt.plot(xps, term_res, \"b\", label='residue')\n",
    "plt.title('residual')\n",
    "plt.show()"
   ]
  },
  {
   "cell_type": "code",
   "execution_count": null,
   "metadata": {
    "collapsed": false
   },
   "outputs": [],
   "source": [
    "sm.graphics.tsa.plot_acf(term_res, lags=25)"
   ]
  },
  {
   "cell_type": "code",
   "execution_count": null,
   "metadata": {
    "collapsed": true
   },
   "outputs": [],
   "source": []
  }
 ],
 "metadata": {
  "kernelspec": {
   "display_name": "Python 3",
   "language": "python",
   "name": "python3"
  },
  "language_info": {
   "codemirror_mode": {
    "name": "ipython",
    "version": 3
   },
   "file_extension": ".py",
   "mimetype": "text/x-python",
   "name": "python",
   "nbconvert_exporter": "python",
   "pygments_lexer": "ipython3",
   "version": "3.4.4"
  }
 },
 "nbformat": 4,
 "nbformat_minor": 0
}
